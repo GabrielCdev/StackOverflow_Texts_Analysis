{
  "nbformat": 4,
  "nbformat_minor": 0,
  "metadata": {
    "colab": {
      "provenance": [],
      "authorship_tag": "ABX9TyPuskZCxiT1zrv5XdRdW7Zn",
      "include_colab_link": true
    },
    "kernelspec": {
      "name": "python3",
      "display_name": "Python 3"
    },
    "language_info": {
      "name": "python"
    }
  },
  "cells": [
    {
      "cell_type": "markdown",
      "metadata": {
        "id": "view-in-github",
        "colab_type": "text"
      },
      "source": [
        "<a href=\"https://colab.research.google.com/github/GabrielCdev/StackOverflow_Texts_Analysis/blob/main/StackOverflow_Texts_Analysis.ipynb\" target=\"_parent\"><img src=\"https://colab.research.google.com/assets/colab-badge.svg\" alt=\"Open In Colab\"/></a>"
      ]
    },
    {
      "cell_type": "markdown",
      "source": [
        "#Desafio 01 - Classificação de tecnologias do Stack Overflow\n",
        "\n",
        "##....:::: Membros ::::....\n",
        "Gabriel Calheiros\n",
        "\n",
        "Izadora Paim\n",
        "\n",
        "Laianne Protasio"
      ],
      "metadata": {
        "id": "Advnaepegyfi"
      }
    },
    {
      "cell_type": "markdown",
      "source": [
        "#Objetivo\n",
        "\n",
        "A partir da análise de uma base de textos do Stack Overflow, gerar e avaliar um modelo preditivo que seja capaz de, a partir de um breve texto descritivo sobre uma tecnologia, classificá-la entre os rótulos existentes na base de treinamento."
      ],
      "metadata": {
        "id": "2JetdGOVhOHm"
      }
    },
    {
      "cell_type": "markdown",
      "source": [
        "##Rótulos:\n",
        "\n",
        "Linguagens e Frameworks\n",
        "\n",
        "Plataformas\n",
        "\n",
        "Ferramentas"
      ],
      "metadata": {
        "id": "0WEhAwngkedX"
      }
    },
    {
      "cell_type": "markdown",
      "source": [
        "#Importação das bibliotecas necessárias"
      ],
      "metadata": {
        "id": "K-s4x1U9hyra"
      }
    },
    {
      "cell_type": "code",
      "source": [
        "# Bibliotecas principais\n",
        "import numpy as np\n",
        "import pandas as pd\n",
        "\n",
        "# Bibliotecas para visualização\n",
        "import seaborn as sns\n",
        "from pprint import pprint\n",
        "from wordcloud import WordCloud\n",
        "import matplotlib.pyplot as plt\n",
        "\n",
        "# Biblioteca para randomização de dados\n",
        "import random\n",
        "\n",
        "# Bibliotecas para manipulação de textos\n",
        "import re\n",
        "import string\n",
        "\n",
        "# Bibliotecas de linguagem natural\n",
        "import nltk\n",
        "import spacy\n",
        "from nltk import tokenize\n",
        "from nltk.corpus import stopwords\n",
        "from nltk.stem import WordNetLemmatizer\n",
        "\n",
        "# Bibliotecas de aprenizado de máquina\n",
        "from sklearn import svm\n",
        "from sklearn.naive_bayes import MultinomialNB\n",
        "from sklearn.ensemble import RandomForestClassifier\n",
        "from sklearn.feature_selection import chi2, SelectKBest\n",
        "from sklearn.feature_extraction.text import TfidfVectorizer\n",
        "from sklearn.metrics import f1_score, make_scorer, accuracy_score\n",
        "from sklearn.metrics import classification_report, confusion_matrix\n",
        "from sklearn.model_selection import GridSearchCV, RandomizedSearchCV\n",
        "from sklearn.model_selection import train_test_split, ShuffleSplit, cross_validate"
      ],
      "metadata": {
        "id": "wHFeG2YBg8Mt"
      },
      "execution_count": 98,
      "outputs": []
    },
    {
      "cell_type": "markdown",
      "source": [
        "#Download de bibliotecas externas"
      ],
      "metadata": {
        "id": "Z3hrKdBQUzdu"
      }
    },
    {
      "cell_type": "code",
      "source": [
        "# Lista de stopwords\n",
        "nltk.download('stopwords')\n",
        "\n",
        "#Módulos para tokenização, campos semânticos e léxicos, etiquetagem...\n",
        "nltk.download('punkt')\n",
        "nltk.download('wordnet')\n",
        "nltk.download('averaged_perceptron_tagger')\n",
        "nltk.download('omw-1.4')"
      ],
      "metadata": {
        "colab": {
          "base_uri": "https://localhost:8080/"
        },
        "id": "mBci80cxU1AS",
        "outputId": "ac748cbe-6c38-4c50-cf0b-7d902dc9fc5e"
      },
      "execution_count": 2,
      "outputs": [
        {
          "output_type": "stream",
          "name": "stderr",
          "text": [
            "[nltk_data] Downloading package stopwords to /root/nltk_data...\n",
            "[nltk_data]   Package stopwords is already up-to-date!\n",
            "[nltk_data] Downloading package punkt to /root/nltk_data...\n",
            "[nltk_data]   Package punkt is already up-to-date!\n",
            "[nltk_data] Downloading package wordnet to /root/nltk_data...\n",
            "[nltk_data]   Package wordnet is already up-to-date!\n",
            "[nltk_data] Downloading package averaged_perceptron_tagger to\n",
            "[nltk_data]     /root/nltk_data...\n",
            "[nltk_data]   Package averaged_perceptron_tagger is already up-to-\n",
            "[nltk_data]       date!\n",
            "[nltk_data] Downloading package omw-1.4 to /root/nltk_data...\n",
            "[nltk_data]   Package omw-1.4 is already up-to-date!\n"
          ]
        },
        {
          "output_type": "execute_result",
          "data": {
            "text/plain": [
              "True"
            ]
          },
          "metadata": {},
          "execution_count": 2
        }
      ]
    },
    {
      "cell_type": "markdown",
      "source": [
        "# Ajustes visuais (gráficos)"
      ],
      "metadata": {
        "id": "3BEFWW4cV7ZM"
      }
    },
    {
      "cell_type": "code",
      "source": [
        "sns.set_style(\"whitegrid\")"
      ],
      "metadata": {
        "id": "a7oL2MkaV8sX"
      },
      "execution_count": 3,
      "outputs": []
    },
    {
      "cell_type": "markdown",
      "source": [
        "#Carga de dados"
      ],
      "metadata": {
        "id": "ZEVskzJvU1YU"
      }
    },
    {
      "cell_type": "code",
      "execution_count": 4,
      "metadata": {
        "id": "4CuOU7UlgbAU"
      },
      "outputs": [],
      "source": [
        "stack_df = pd.read_csv('https://raw.githubusercontent.com/GabrielCdev/StackOverflow_Texts_Analysis/main/dataset/base_textos_stack.csv')"
      ]
    },
    {
      "cell_type": "markdown",
      "source": [
        "#Análise exploratória"
      ],
      "metadata": {
        "id": "TSJLrkduiqx9"
      }
    },
    {
      "cell_type": "markdown",
      "source": [
        "##Visualização dos dados"
      ],
      "metadata": {
        "id": "SCjnglLEiwlt"
      }
    },
    {
      "cell_type": "code",
      "source": [
        "stack_df.head()"
      ],
      "metadata": {
        "colab": {
          "base_uri": "https://localhost:8080/",
          "height": 206
        },
        "id": "SZUkCEMoipRk",
        "outputId": "f7971d12-4a2b-4d01-f207-fa3834728263"
      },
      "execution_count": 5,
      "outputs": [
        {
          "output_type": "execute_result",
          "data": {
            "text/plain": [
              "                                             excerpt  classification\n",
              "0                  Software-defined networking (SDN)               1\n",
              "1  SPDY is an experimental protocol for multiplex...               1\n",
              "2  ASP.NET SignalR is a library for ASP.NET devel...               0\n",
              "3  Apache Kafka is a publish-subscribe messaging ...               2\n",
              "4  Kubernetes is an open source implementation of...               1"
            ],
            "text/html": [
              "\n",
              "  <div id=\"df-94004955-3586-48d9-8f4a-1769a58b73ff\">\n",
              "    <div class=\"colab-df-container\">\n",
              "      <div>\n",
              "<style scoped>\n",
              "    .dataframe tbody tr th:only-of-type {\n",
              "        vertical-align: middle;\n",
              "    }\n",
              "\n",
              "    .dataframe tbody tr th {\n",
              "        vertical-align: top;\n",
              "    }\n",
              "\n",
              "    .dataframe thead th {\n",
              "        text-align: right;\n",
              "    }\n",
              "</style>\n",
              "<table border=\"1\" class=\"dataframe\">\n",
              "  <thead>\n",
              "    <tr style=\"text-align: right;\">\n",
              "      <th></th>\n",
              "      <th>excerpt</th>\n",
              "      <th>classification</th>\n",
              "    </tr>\n",
              "  </thead>\n",
              "  <tbody>\n",
              "    <tr>\n",
              "      <th>0</th>\n",
              "      <td>Software-defined networking (SDN)</td>\n",
              "      <td>1</td>\n",
              "    </tr>\n",
              "    <tr>\n",
              "      <th>1</th>\n",
              "      <td>SPDY is an experimental protocol for multiplex...</td>\n",
              "      <td>1</td>\n",
              "    </tr>\n",
              "    <tr>\n",
              "      <th>2</th>\n",
              "      <td>ASP.NET SignalR is a library for ASP.NET devel...</td>\n",
              "      <td>0</td>\n",
              "    </tr>\n",
              "    <tr>\n",
              "      <th>3</th>\n",
              "      <td>Apache Kafka is a publish-subscribe messaging ...</td>\n",
              "      <td>2</td>\n",
              "    </tr>\n",
              "    <tr>\n",
              "      <th>4</th>\n",
              "      <td>Kubernetes is an open source implementation of...</td>\n",
              "      <td>1</td>\n",
              "    </tr>\n",
              "  </tbody>\n",
              "</table>\n",
              "</div>\n",
              "      <button class=\"colab-df-convert\" onclick=\"convertToInteractive('df-94004955-3586-48d9-8f4a-1769a58b73ff')\"\n",
              "              title=\"Convert this dataframe to an interactive table.\"\n",
              "              style=\"display:none;\">\n",
              "        \n",
              "  <svg xmlns=\"http://www.w3.org/2000/svg\" height=\"24px\"viewBox=\"0 0 24 24\"\n",
              "       width=\"24px\">\n",
              "    <path d=\"M0 0h24v24H0V0z\" fill=\"none\"/>\n",
              "    <path d=\"M18.56 5.44l.94 2.06.94-2.06 2.06-.94-2.06-.94-.94-2.06-.94 2.06-2.06.94zm-11 1L8.5 8.5l.94-2.06 2.06-.94-2.06-.94L8.5 2.5l-.94 2.06-2.06.94zm10 10l.94 2.06.94-2.06 2.06-.94-2.06-.94-.94-2.06-.94 2.06-2.06.94z\"/><path d=\"M17.41 7.96l-1.37-1.37c-.4-.4-.92-.59-1.43-.59-.52 0-1.04.2-1.43.59L10.3 9.45l-7.72 7.72c-.78.78-.78 2.05 0 2.83L4 21.41c.39.39.9.59 1.41.59.51 0 1.02-.2 1.41-.59l7.78-7.78 2.81-2.81c.8-.78.8-2.07 0-2.86zM5.41 20L4 18.59l7.72-7.72 1.47 1.35L5.41 20z\"/>\n",
              "  </svg>\n",
              "      </button>\n",
              "      \n",
              "  <style>\n",
              "    .colab-df-container {\n",
              "      display:flex;\n",
              "      flex-wrap:wrap;\n",
              "      gap: 12px;\n",
              "    }\n",
              "\n",
              "    .colab-df-convert {\n",
              "      background-color: #E8F0FE;\n",
              "      border: none;\n",
              "      border-radius: 50%;\n",
              "      cursor: pointer;\n",
              "      display: none;\n",
              "      fill: #1967D2;\n",
              "      height: 32px;\n",
              "      padding: 0 0 0 0;\n",
              "      width: 32px;\n",
              "    }\n",
              "\n",
              "    .colab-df-convert:hover {\n",
              "      background-color: #E2EBFA;\n",
              "      box-shadow: 0px 1px 2px rgba(60, 64, 67, 0.3), 0px 1px 3px 1px rgba(60, 64, 67, 0.15);\n",
              "      fill: #174EA6;\n",
              "    }\n",
              "\n",
              "    [theme=dark] .colab-df-convert {\n",
              "      background-color: #3B4455;\n",
              "      fill: #D2E3FC;\n",
              "    }\n",
              "\n",
              "    [theme=dark] .colab-df-convert:hover {\n",
              "      background-color: #434B5C;\n",
              "      box-shadow: 0px 1px 3px 1px rgba(0, 0, 0, 0.15);\n",
              "      filter: drop-shadow(0px 1px 2px rgba(0, 0, 0, 0.3));\n",
              "      fill: #FFFFFF;\n",
              "    }\n",
              "  </style>\n",
              "\n",
              "      <script>\n",
              "        const buttonEl =\n",
              "          document.querySelector('#df-94004955-3586-48d9-8f4a-1769a58b73ff button.colab-df-convert');\n",
              "        buttonEl.style.display =\n",
              "          google.colab.kernel.accessAllowed ? 'block' : 'none';\n",
              "\n",
              "        async function convertToInteractive(key) {\n",
              "          const element = document.querySelector('#df-94004955-3586-48d9-8f4a-1769a58b73ff');\n",
              "          const dataTable =\n",
              "            await google.colab.kernel.invokeFunction('convertToInteractive',\n",
              "                                                     [key], {});\n",
              "          if (!dataTable) return;\n",
              "\n",
              "          const docLinkHtml = 'Like what you see? Visit the ' +\n",
              "            '<a target=\"_blank\" href=https://colab.research.google.com/notebooks/data_table.ipynb>data table notebook</a>'\n",
              "            + ' to learn more about interactive tables.';\n",
              "          element.innerHTML = '';\n",
              "          dataTable['output_type'] = 'display_data';\n",
              "          await google.colab.output.renderOutput(dataTable, element);\n",
              "          const docLink = document.createElement('div');\n",
              "          docLink.innerHTML = docLinkHtml;\n",
              "          element.appendChild(docLink);\n",
              "        }\n",
              "      </script>\n",
              "    </div>\n",
              "  </div>\n",
              "  "
            ]
          },
          "metadata": {},
          "execution_count": 5
        }
      ]
    },
    {
      "cell_type": "code",
      "source": [
        "stack_df.tail()"
      ],
      "metadata": {
        "colab": {
          "base_uri": "https://localhost:8080/",
          "height": 206
        },
        "id": "W0PF3eq3iz0E",
        "outputId": "ee94a5da-05f4-4f5f-8359-d8dd38462434"
      },
      "execution_count": 6,
      "outputs": [
        {
          "output_type": "execute_result",
          "data": {
            "text/plain": [
              "                                               excerpt  classification\n",
              "262  Docker provides a high-level API to containeri...               2\n",
              "263  Axon is a Java application framework for imple...               0\n",
              "264  HTML5 (Hyper Text Markup Language, version 5) ...               0\n",
              "265  C# 4.0 introduced features like dynamic object...               0\n",
              "266  Nancy is a lightweight web framework for the ....               0"
            ],
            "text/html": [
              "\n",
              "  <div id=\"df-e94e29ec-8f80-4081-b9a5-e57f574b6ed4\">\n",
              "    <div class=\"colab-df-container\">\n",
              "      <div>\n",
              "<style scoped>\n",
              "    .dataframe tbody tr th:only-of-type {\n",
              "        vertical-align: middle;\n",
              "    }\n",
              "\n",
              "    .dataframe tbody tr th {\n",
              "        vertical-align: top;\n",
              "    }\n",
              "\n",
              "    .dataframe thead th {\n",
              "        text-align: right;\n",
              "    }\n",
              "</style>\n",
              "<table border=\"1\" class=\"dataframe\">\n",
              "  <thead>\n",
              "    <tr style=\"text-align: right;\">\n",
              "      <th></th>\n",
              "      <th>excerpt</th>\n",
              "      <th>classification</th>\n",
              "    </tr>\n",
              "  </thead>\n",
              "  <tbody>\n",
              "    <tr>\n",
              "      <th>262</th>\n",
              "      <td>Docker provides a high-level API to containeri...</td>\n",
              "      <td>2</td>\n",
              "    </tr>\n",
              "    <tr>\n",
              "      <th>263</th>\n",
              "      <td>Axon is a Java application framework for imple...</td>\n",
              "      <td>0</td>\n",
              "    </tr>\n",
              "    <tr>\n",
              "      <th>264</th>\n",
              "      <td>HTML5 (Hyper Text Markup Language, version 5) ...</td>\n",
              "      <td>0</td>\n",
              "    </tr>\n",
              "    <tr>\n",
              "      <th>265</th>\n",
              "      <td>C# 4.0 introduced features like dynamic object...</td>\n",
              "      <td>0</td>\n",
              "    </tr>\n",
              "    <tr>\n",
              "      <th>266</th>\n",
              "      <td>Nancy is a lightweight web framework for the ....</td>\n",
              "      <td>0</td>\n",
              "    </tr>\n",
              "  </tbody>\n",
              "</table>\n",
              "</div>\n",
              "      <button class=\"colab-df-convert\" onclick=\"convertToInteractive('df-e94e29ec-8f80-4081-b9a5-e57f574b6ed4')\"\n",
              "              title=\"Convert this dataframe to an interactive table.\"\n",
              "              style=\"display:none;\">\n",
              "        \n",
              "  <svg xmlns=\"http://www.w3.org/2000/svg\" height=\"24px\"viewBox=\"0 0 24 24\"\n",
              "       width=\"24px\">\n",
              "    <path d=\"M0 0h24v24H0V0z\" fill=\"none\"/>\n",
              "    <path d=\"M18.56 5.44l.94 2.06.94-2.06 2.06-.94-2.06-.94-.94-2.06-.94 2.06-2.06.94zm-11 1L8.5 8.5l.94-2.06 2.06-.94-2.06-.94L8.5 2.5l-.94 2.06-2.06.94zm10 10l.94 2.06.94-2.06 2.06-.94-2.06-.94-.94-2.06-.94 2.06-2.06.94z\"/><path d=\"M17.41 7.96l-1.37-1.37c-.4-.4-.92-.59-1.43-.59-.52 0-1.04.2-1.43.59L10.3 9.45l-7.72 7.72c-.78.78-.78 2.05 0 2.83L4 21.41c.39.39.9.59 1.41.59.51 0 1.02-.2 1.41-.59l7.78-7.78 2.81-2.81c.8-.78.8-2.07 0-2.86zM5.41 20L4 18.59l7.72-7.72 1.47 1.35L5.41 20z\"/>\n",
              "  </svg>\n",
              "      </button>\n",
              "      \n",
              "  <style>\n",
              "    .colab-df-container {\n",
              "      display:flex;\n",
              "      flex-wrap:wrap;\n",
              "      gap: 12px;\n",
              "    }\n",
              "\n",
              "    .colab-df-convert {\n",
              "      background-color: #E8F0FE;\n",
              "      border: none;\n",
              "      border-radius: 50%;\n",
              "      cursor: pointer;\n",
              "      display: none;\n",
              "      fill: #1967D2;\n",
              "      height: 32px;\n",
              "      padding: 0 0 0 0;\n",
              "      width: 32px;\n",
              "    }\n",
              "\n",
              "    .colab-df-convert:hover {\n",
              "      background-color: #E2EBFA;\n",
              "      box-shadow: 0px 1px 2px rgba(60, 64, 67, 0.3), 0px 1px 3px 1px rgba(60, 64, 67, 0.15);\n",
              "      fill: #174EA6;\n",
              "    }\n",
              "\n",
              "    [theme=dark] .colab-df-convert {\n",
              "      background-color: #3B4455;\n",
              "      fill: #D2E3FC;\n",
              "    }\n",
              "\n",
              "    [theme=dark] .colab-df-convert:hover {\n",
              "      background-color: #434B5C;\n",
              "      box-shadow: 0px 1px 3px 1px rgba(0, 0, 0, 0.15);\n",
              "      filter: drop-shadow(0px 1px 2px rgba(0, 0, 0, 0.3));\n",
              "      fill: #FFFFFF;\n",
              "    }\n",
              "  </style>\n",
              "\n",
              "      <script>\n",
              "        const buttonEl =\n",
              "          document.querySelector('#df-e94e29ec-8f80-4081-b9a5-e57f574b6ed4 button.colab-df-convert');\n",
              "        buttonEl.style.display =\n",
              "          google.colab.kernel.accessAllowed ? 'block' : 'none';\n",
              "\n",
              "        async function convertToInteractive(key) {\n",
              "          const element = document.querySelector('#df-e94e29ec-8f80-4081-b9a5-e57f574b6ed4');\n",
              "          const dataTable =\n",
              "            await google.colab.kernel.invokeFunction('convertToInteractive',\n",
              "                                                     [key], {});\n",
              "          if (!dataTable) return;\n",
              "\n",
              "          const docLinkHtml = 'Like what you see? Visit the ' +\n",
              "            '<a target=\"_blank\" href=https://colab.research.google.com/notebooks/data_table.ipynb>data table notebook</a>'\n",
              "            + ' to learn more about interactive tables.';\n",
              "          element.innerHTML = '';\n",
              "          dataTable['output_type'] = 'display_data';\n",
              "          await google.colab.output.renderOutput(dataTable, element);\n",
              "          const docLink = document.createElement('div');\n",
              "          docLink.innerHTML = docLinkHtml;\n",
              "          element.appendChild(docLink);\n",
              "        }\n",
              "      </script>\n",
              "    </div>\n",
              "  </div>\n",
              "  "
            ]
          },
          "metadata": {},
          "execution_count": 6
        }
      ]
    },
    {
      "cell_type": "code",
      "source": [
        "stack_df.info()"
      ],
      "metadata": {
        "colab": {
          "base_uri": "https://localhost:8080/"
        },
        "id": "9K8Dh7Y_i43D",
        "outputId": "f6e9e325-d263-443e-b10e-7ca0d195a95d"
      },
      "execution_count": 7,
      "outputs": [
        {
          "output_type": "stream",
          "name": "stdout",
          "text": [
            "<class 'pandas.core.frame.DataFrame'>\n",
            "RangeIndex: 267 entries, 0 to 266\n",
            "Data columns (total 2 columns):\n",
            " #   Column          Non-Null Count  Dtype \n",
            "---  ------          --------------  ----- \n",
            " 0   excerpt         267 non-null    object\n",
            " 1   classification  267 non-null    int64 \n",
            "dtypes: int64(1), object(1)\n",
            "memory usage: 4.3+ KB\n"
          ]
        }
      ]
    },
    {
      "cell_type": "markdown",
      "source": [
        "##Verificação de duplicados"
      ],
      "metadata": {
        "id": "y1YMS4EmOfl-"
      }
    },
    {
      "cell_type": "code",
      "source": [
        "stack_df[stack_df.duplicated()]"
      ],
      "metadata": {
        "colab": {
          "base_uri": "https://localhost:8080/",
          "height": 81
        },
        "id": "j2NrYmsuJTyx",
        "outputId": "2ccf9845-54a7-4bfa-c947-a147cf8f06d6"
      },
      "execution_count": 8,
      "outputs": [
        {
          "output_type": "execute_result",
          "data": {
            "text/plain": [
              "                                               excerpt  classification\n",
              "139  F# is a succinct, expressive and efficient fun...               0"
            ],
            "text/html": [
              "\n",
              "  <div id=\"df-a31e1ea1-8e9a-4d36-b495-40621be12c91\">\n",
              "    <div class=\"colab-df-container\">\n",
              "      <div>\n",
              "<style scoped>\n",
              "    .dataframe tbody tr th:only-of-type {\n",
              "        vertical-align: middle;\n",
              "    }\n",
              "\n",
              "    .dataframe tbody tr th {\n",
              "        vertical-align: top;\n",
              "    }\n",
              "\n",
              "    .dataframe thead th {\n",
              "        text-align: right;\n",
              "    }\n",
              "</style>\n",
              "<table border=\"1\" class=\"dataframe\">\n",
              "  <thead>\n",
              "    <tr style=\"text-align: right;\">\n",
              "      <th></th>\n",
              "      <th>excerpt</th>\n",
              "      <th>classification</th>\n",
              "    </tr>\n",
              "  </thead>\n",
              "  <tbody>\n",
              "    <tr>\n",
              "      <th>139</th>\n",
              "      <td>F# is a succinct, expressive and efficient fun...</td>\n",
              "      <td>0</td>\n",
              "    </tr>\n",
              "  </tbody>\n",
              "</table>\n",
              "</div>\n",
              "      <button class=\"colab-df-convert\" onclick=\"convertToInteractive('df-a31e1ea1-8e9a-4d36-b495-40621be12c91')\"\n",
              "              title=\"Convert this dataframe to an interactive table.\"\n",
              "              style=\"display:none;\">\n",
              "        \n",
              "  <svg xmlns=\"http://www.w3.org/2000/svg\" height=\"24px\"viewBox=\"0 0 24 24\"\n",
              "       width=\"24px\">\n",
              "    <path d=\"M0 0h24v24H0V0z\" fill=\"none\"/>\n",
              "    <path d=\"M18.56 5.44l.94 2.06.94-2.06 2.06-.94-2.06-.94-.94-2.06-.94 2.06-2.06.94zm-11 1L8.5 8.5l.94-2.06 2.06-.94-2.06-.94L8.5 2.5l-.94 2.06-2.06.94zm10 10l.94 2.06.94-2.06 2.06-.94-2.06-.94-.94-2.06-.94 2.06-2.06.94z\"/><path d=\"M17.41 7.96l-1.37-1.37c-.4-.4-.92-.59-1.43-.59-.52 0-1.04.2-1.43.59L10.3 9.45l-7.72 7.72c-.78.78-.78 2.05 0 2.83L4 21.41c.39.39.9.59 1.41.59.51 0 1.02-.2 1.41-.59l7.78-7.78 2.81-2.81c.8-.78.8-2.07 0-2.86zM5.41 20L4 18.59l7.72-7.72 1.47 1.35L5.41 20z\"/>\n",
              "  </svg>\n",
              "      </button>\n",
              "      \n",
              "  <style>\n",
              "    .colab-df-container {\n",
              "      display:flex;\n",
              "      flex-wrap:wrap;\n",
              "      gap: 12px;\n",
              "    }\n",
              "\n",
              "    .colab-df-convert {\n",
              "      background-color: #E8F0FE;\n",
              "      border: none;\n",
              "      border-radius: 50%;\n",
              "      cursor: pointer;\n",
              "      display: none;\n",
              "      fill: #1967D2;\n",
              "      height: 32px;\n",
              "      padding: 0 0 0 0;\n",
              "      width: 32px;\n",
              "    }\n",
              "\n",
              "    .colab-df-convert:hover {\n",
              "      background-color: #E2EBFA;\n",
              "      box-shadow: 0px 1px 2px rgba(60, 64, 67, 0.3), 0px 1px 3px 1px rgba(60, 64, 67, 0.15);\n",
              "      fill: #174EA6;\n",
              "    }\n",
              "\n",
              "    [theme=dark] .colab-df-convert {\n",
              "      background-color: #3B4455;\n",
              "      fill: #D2E3FC;\n",
              "    }\n",
              "\n",
              "    [theme=dark] .colab-df-convert:hover {\n",
              "      background-color: #434B5C;\n",
              "      box-shadow: 0px 1px 3px 1px rgba(0, 0, 0, 0.15);\n",
              "      filter: drop-shadow(0px 1px 2px rgba(0, 0, 0, 0.3));\n",
              "      fill: #FFFFFF;\n",
              "    }\n",
              "  </style>\n",
              "\n",
              "      <script>\n",
              "        const buttonEl =\n",
              "          document.querySelector('#df-a31e1ea1-8e9a-4d36-b495-40621be12c91 button.colab-df-convert');\n",
              "        buttonEl.style.display =\n",
              "          google.colab.kernel.accessAllowed ? 'block' : 'none';\n",
              "\n",
              "        async function convertToInteractive(key) {\n",
              "          const element = document.querySelector('#df-a31e1ea1-8e9a-4d36-b495-40621be12c91');\n",
              "          const dataTable =\n",
              "            await google.colab.kernel.invokeFunction('convertToInteractive',\n",
              "                                                     [key], {});\n",
              "          if (!dataTable) return;\n",
              "\n",
              "          const docLinkHtml = 'Like what you see? Visit the ' +\n",
              "            '<a target=\"_blank\" href=https://colab.research.google.com/notebooks/data_table.ipynb>data table notebook</a>'\n",
              "            + ' to learn more about interactive tables.';\n",
              "          element.innerHTML = '';\n",
              "          dataTable['output_type'] = 'display_data';\n",
              "          await google.colab.output.renderOutput(dataTable, element);\n",
              "          const docLink = document.createElement('div');\n",
              "          docLink.innerHTML = docLinkHtml;\n",
              "          element.appendChild(docLink);\n",
              "        }\n",
              "      </script>\n",
              "    </div>\n",
              "  </div>\n",
              "  "
            ]
          },
          "metadata": {},
          "execution_count": 8
        }
      ]
    },
    {
      "cell_type": "markdown",
      "source": [
        "##Remoção de duplicados"
      ],
      "metadata": {
        "id": "e2rmVa__QOCw"
      }
    },
    {
      "cell_type": "code",
      "source": [
        "stack_df = stack_df.drop_duplicates()"
      ],
      "metadata": {
        "id": "O9OxKVOpQQv0"
      },
      "execution_count": 9,
      "outputs": []
    },
    {
      "cell_type": "code",
      "source": [
        "stack_df[stack_df.duplicated()]"
      ],
      "metadata": {
        "colab": {
          "base_uri": "https://localhost:8080/",
          "height": 49
        },
        "id": "8-v-TngPQUG7",
        "outputId": "82996922-2251-4644-9e7d-d63b9c526b2b"
      },
      "execution_count": 10,
      "outputs": [
        {
          "output_type": "execute_result",
          "data": {
            "text/plain": [
              "Empty DataFrame\n",
              "Columns: [excerpt, classification]\n",
              "Index: []"
            ],
            "text/html": [
              "\n",
              "  <div id=\"df-e969843a-bccb-4d26-a5fe-9aeafdce9d72\">\n",
              "    <div class=\"colab-df-container\">\n",
              "      <div>\n",
              "<style scoped>\n",
              "    .dataframe tbody tr th:only-of-type {\n",
              "        vertical-align: middle;\n",
              "    }\n",
              "\n",
              "    .dataframe tbody tr th {\n",
              "        vertical-align: top;\n",
              "    }\n",
              "\n",
              "    .dataframe thead th {\n",
              "        text-align: right;\n",
              "    }\n",
              "</style>\n",
              "<table border=\"1\" class=\"dataframe\">\n",
              "  <thead>\n",
              "    <tr style=\"text-align: right;\">\n",
              "      <th></th>\n",
              "      <th>excerpt</th>\n",
              "      <th>classification</th>\n",
              "    </tr>\n",
              "  </thead>\n",
              "  <tbody>\n",
              "  </tbody>\n",
              "</table>\n",
              "</div>\n",
              "      <button class=\"colab-df-convert\" onclick=\"convertToInteractive('df-e969843a-bccb-4d26-a5fe-9aeafdce9d72')\"\n",
              "              title=\"Convert this dataframe to an interactive table.\"\n",
              "              style=\"display:none;\">\n",
              "        \n",
              "  <svg xmlns=\"http://www.w3.org/2000/svg\" height=\"24px\"viewBox=\"0 0 24 24\"\n",
              "       width=\"24px\">\n",
              "    <path d=\"M0 0h24v24H0V0z\" fill=\"none\"/>\n",
              "    <path d=\"M18.56 5.44l.94 2.06.94-2.06 2.06-.94-2.06-.94-.94-2.06-.94 2.06-2.06.94zm-11 1L8.5 8.5l.94-2.06 2.06-.94-2.06-.94L8.5 2.5l-.94 2.06-2.06.94zm10 10l.94 2.06.94-2.06 2.06-.94-2.06-.94-.94-2.06-.94 2.06-2.06.94z\"/><path d=\"M17.41 7.96l-1.37-1.37c-.4-.4-.92-.59-1.43-.59-.52 0-1.04.2-1.43.59L10.3 9.45l-7.72 7.72c-.78.78-.78 2.05 0 2.83L4 21.41c.39.39.9.59 1.41.59.51 0 1.02-.2 1.41-.59l7.78-7.78 2.81-2.81c.8-.78.8-2.07 0-2.86zM5.41 20L4 18.59l7.72-7.72 1.47 1.35L5.41 20z\"/>\n",
              "  </svg>\n",
              "      </button>\n",
              "      \n",
              "  <style>\n",
              "    .colab-df-container {\n",
              "      display:flex;\n",
              "      flex-wrap:wrap;\n",
              "      gap: 12px;\n",
              "    }\n",
              "\n",
              "    .colab-df-convert {\n",
              "      background-color: #E8F0FE;\n",
              "      border: none;\n",
              "      border-radius: 50%;\n",
              "      cursor: pointer;\n",
              "      display: none;\n",
              "      fill: #1967D2;\n",
              "      height: 32px;\n",
              "      padding: 0 0 0 0;\n",
              "      width: 32px;\n",
              "    }\n",
              "\n",
              "    .colab-df-convert:hover {\n",
              "      background-color: #E2EBFA;\n",
              "      box-shadow: 0px 1px 2px rgba(60, 64, 67, 0.3), 0px 1px 3px 1px rgba(60, 64, 67, 0.15);\n",
              "      fill: #174EA6;\n",
              "    }\n",
              "\n",
              "    [theme=dark] .colab-df-convert {\n",
              "      background-color: #3B4455;\n",
              "      fill: #D2E3FC;\n",
              "    }\n",
              "\n",
              "    [theme=dark] .colab-df-convert:hover {\n",
              "      background-color: #434B5C;\n",
              "      box-shadow: 0px 1px 3px 1px rgba(0, 0, 0, 0.15);\n",
              "      filter: drop-shadow(0px 1px 2px rgba(0, 0, 0, 0.3));\n",
              "      fill: #FFFFFF;\n",
              "    }\n",
              "  </style>\n",
              "\n",
              "      <script>\n",
              "        const buttonEl =\n",
              "          document.querySelector('#df-e969843a-bccb-4d26-a5fe-9aeafdce9d72 button.colab-df-convert');\n",
              "        buttonEl.style.display =\n",
              "          google.colab.kernel.accessAllowed ? 'block' : 'none';\n",
              "\n",
              "        async function convertToInteractive(key) {\n",
              "          const element = document.querySelector('#df-e969843a-bccb-4d26-a5fe-9aeafdce9d72');\n",
              "          const dataTable =\n",
              "            await google.colab.kernel.invokeFunction('convertToInteractive',\n",
              "                                                     [key], {});\n",
              "          if (!dataTable) return;\n",
              "\n",
              "          const docLinkHtml = 'Like what you see? Visit the ' +\n",
              "            '<a target=\"_blank\" href=https://colab.research.google.com/notebooks/data_table.ipynb>data table notebook</a>'\n",
              "            + ' to learn more about interactive tables.';\n",
              "          element.innerHTML = '';\n",
              "          dataTable['output_type'] = 'display_data';\n",
              "          await google.colab.output.renderOutput(dataTable, element);\n",
              "          const docLink = document.createElement('div');\n",
              "          docLink.innerHTML = docLinkHtml;\n",
              "          element.appendChild(docLink);\n",
              "        }\n",
              "      </script>\n",
              "    </div>\n",
              "  </div>\n",
              "  "
            ]
          },
          "metadata": {},
          "execution_count": 10
        }
      ]
    },
    {
      "cell_type": "markdown",
      "source": [
        "##Balanço de dados"
      ],
      "metadata": {
        "id": "_XkbTYJUs6EG"
      }
    },
    {
      "cell_type": "code",
      "source": [
        "# Visualização da quantidade de textos atribuídos a cada classificação\n",
        "stack_df.groupby('classification').count()"
      ],
      "metadata": {
        "colab": {
          "base_uri": "https://localhost:8080/",
          "height": 175
        },
        "id": "2UerP2iMtSiS",
        "outputId": "b4f66603-f6b6-4df1-8b0f-2feff37d87ac"
      },
      "execution_count": 11,
      "outputs": [
        {
          "output_type": "execute_result",
          "data": {
            "text/plain": [
              "                excerpt\n",
              "classification         \n",
              "0                    88\n",
              "1                    89\n",
              "2                    89"
            ],
            "text/html": [
              "\n",
              "  <div id=\"df-0162f5e0-3e6b-4483-9106-8291e49b6739\">\n",
              "    <div class=\"colab-df-container\">\n",
              "      <div>\n",
              "<style scoped>\n",
              "    .dataframe tbody tr th:only-of-type {\n",
              "        vertical-align: middle;\n",
              "    }\n",
              "\n",
              "    .dataframe tbody tr th {\n",
              "        vertical-align: top;\n",
              "    }\n",
              "\n",
              "    .dataframe thead th {\n",
              "        text-align: right;\n",
              "    }\n",
              "</style>\n",
              "<table border=\"1\" class=\"dataframe\">\n",
              "  <thead>\n",
              "    <tr style=\"text-align: right;\">\n",
              "      <th></th>\n",
              "      <th>excerpt</th>\n",
              "    </tr>\n",
              "    <tr>\n",
              "      <th>classification</th>\n",
              "      <th></th>\n",
              "    </tr>\n",
              "  </thead>\n",
              "  <tbody>\n",
              "    <tr>\n",
              "      <th>0</th>\n",
              "      <td>88</td>\n",
              "    </tr>\n",
              "    <tr>\n",
              "      <th>1</th>\n",
              "      <td>89</td>\n",
              "    </tr>\n",
              "    <tr>\n",
              "      <th>2</th>\n",
              "      <td>89</td>\n",
              "    </tr>\n",
              "  </tbody>\n",
              "</table>\n",
              "</div>\n",
              "      <button class=\"colab-df-convert\" onclick=\"convertToInteractive('df-0162f5e0-3e6b-4483-9106-8291e49b6739')\"\n",
              "              title=\"Convert this dataframe to an interactive table.\"\n",
              "              style=\"display:none;\">\n",
              "        \n",
              "  <svg xmlns=\"http://www.w3.org/2000/svg\" height=\"24px\"viewBox=\"0 0 24 24\"\n",
              "       width=\"24px\">\n",
              "    <path d=\"M0 0h24v24H0V0z\" fill=\"none\"/>\n",
              "    <path d=\"M18.56 5.44l.94 2.06.94-2.06 2.06-.94-2.06-.94-.94-2.06-.94 2.06-2.06.94zm-11 1L8.5 8.5l.94-2.06 2.06-.94-2.06-.94L8.5 2.5l-.94 2.06-2.06.94zm10 10l.94 2.06.94-2.06 2.06-.94-2.06-.94-.94-2.06-.94 2.06-2.06.94z\"/><path d=\"M17.41 7.96l-1.37-1.37c-.4-.4-.92-.59-1.43-.59-.52 0-1.04.2-1.43.59L10.3 9.45l-7.72 7.72c-.78.78-.78 2.05 0 2.83L4 21.41c.39.39.9.59 1.41.59.51 0 1.02-.2 1.41-.59l7.78-7.78 2.81-2.81c.8-.78.8-2.07 0-2.86zM5.41 20L4 18.59l7.72-7.72 1.47 1.35L5.41 20z\"/>\n",
              "  </svg>\n",
              "      </button>\n",
              "      \n",
              "  <style>\n",
              "    .colab-df-container {\n",
              "      display:flex;\n",
              "      flex-wrap:wrap;\n",
              "      gap: 12px;\n",
              "    }\n",
              "\n",
              "    .colab-df-convert {\n",
              "      background-color: #E8F0FE;\n",
              "      border: none;\n",
              "      border-radius: 50%;\n",
              "      cursor: pointer;\n",
              "      display: none;\n",
              "      fill: #1967D2;\n",
              "      height: 32px;\n",
              "      padding: 0 0 0 0;\n",
              "      width: 32px;\n",
              "    }\n",
              "\n",
              "    .colab-df-convert:hover {\n",
              "      background-color: #E2EBFA;\n",
              "      box-shadow: 0px 1px 2px rgba(60, 64, 67, 0.3), 0px 1px 3px 1px rgba(60, 64, 67, 0.15);\n",
              "      fill: #174EA6;\n",
              "    }\n",
              "\n",
              "    [theme=dark] .colab-df-convert {\n",
              "      background-color: #3B4455;\n",
              "      fill: #D2E3FC;\n",
              "    }\n",
              "\n",
              "    [theme=dark] .colab-df-convert:hover {\n",
              "      background-color: #434B5C;\n",
              "      box-shadow: 0px 1px 3px 1px rgba(0, 0, 0, 0.15);\n",
              "      filter: drop-shadow(0px 1px 2px rgba(0, 0, 0, 0.3));\n",
              "      fill: #FFFFFF;\n",
              "    }\n",
              "  </style>\n",
              "\n",
              "      <script>\n",
              "        const buttonEl =\n",
              "          document.querySelector('#df-0162f5e0-3e6b-4483-9106-8291e49b6739 button.colab-df-convert');\n",
              "        buttonEl.style.display =\n",
              "          google.colab.kernel.accessAllowed ? 'block' : 'none';\n",
              "\n",
              "        async function convertToInteractive(key) {\n",
              "          const element = document.querySelector('#df-0162f5e0-3e6b-4483-9106-8291e49b6739');\n",
              "          const dataTable =\n",
              "            await google.colab.kernel.invokeFunction('convertToInteractive',\n",
              "                                                     [key], {});\n",
              "          if (!dataTable) return;\n",
              "\n",
              "          const docLinkHtml = 'Like what you see? Visit the ' +\n",
              "            '<a target=\"_blank\" href=https://colab.research.google.com/notebooks/data_table.ipynb>data table notebook</a>'\n",
              "            + ' to learn more about interactive tables.';\n",
              "          element.innerHTML = '';\n",
              "          dataTable['output_type'] = 'display_data';\n",
              "          await google.colab.output.renderOutput(dataTable, element);\n",
              "          const docLink = document.createElement('div');\n",
              "          docLink.innerHTML = docLinkHtml;\n",
              "          element.appendChild(docLink);\n",
              "        }\n",
              "      </script>\n",
              "    </div>\n",
              "  </div>\n",
              "  "
            ]
          },
          "metadata": {},
          "execution_count": 11
        }
      ]
    },
    {
      "cell_type": "markdown",
      "source": [
        "A partir da tabela acima, pode-se inferir que o dataset encontra-se bem balanceado, com a **mesma** quantidade de dados para cada classificação."
      ],
      "metadata": {
        "id": "6qF7ZNNk09Zl"
      }
    },
    {
      "cell_type": "markdown",
      "source": [
        "##Tamanho dos excertos (fragmentos de texto) do dataset"
      ],
      "metadata": {
        "id": "Rl9p3jTz3iud"
      }
    },
    {
      "cell_type": "code",
      "source": [
        "sns.histplot([len(sentence.split()) for sentence in stack_df['excerpt']], \n",
        "             kde=True, stat='density').set_title('Excerpt length distribution');"
      ],
      "metadata": {
        "colab": {
          "base_uri": "https://localhost:8080/",
          "height": 281
        },
        "id": "Eb3Jr4H8T1vd",
        "outputId": "dc54c821-19aa-4740-c996-b3d6460a4fd8"
      },
      "execution_count": 12,
      "outputs": [
        {
          "output_type": "display_data",
          "data": {
            "text/plain": [
              "<Figure size 432x288 with 1 Axes>"
            ],
            "image/png": "[encoded data removed]"
          },
          "metadata": {}
        }
      ]
    },
    {
      "cell_type": "markdown",
      "source": [
        "Conforme o gráfico pode-se observar que a maioria dos excertos possuem de 10 a 40 palavras."
      ],
      "metadata": {
        "id": "eo5zA7nm6kM8"
      }
    },
    {
      "cell_type": "markdown",
      "source": [
        "##Limpeza de dados"
      ],
      "metadata": {
        "id": "qvvsF1gO73to"
      }
    },
    {
      "cell_type": "code",
      "source": [
        "# Verificando os sinais de pontuação que existem no dataset\n",
        "def find_punctuation_chars(dataset: pd.DataFrame, column: str) -> None:\n",
        "  punctuation_chars = set(string.punctuation) # Conjunto de caracteres de pontuação advindos da biblioteca string\n",
        "  punctuation_found = set() # Conjunto vazio que receberá os caracteres de pontuação encontrados\n",
        "\n",
        "  for excerpt in dataset[column]:\n",
        "    for char in excerpt:\n",
        "      if char in punctuation_chars:\n",
        "        punctuation_found.add(char)\n",
        "\n",
        "  if punctuation_found == set():\n",
        "    print('Não foram econtrados caracteres de pontuação!')\n",
        "  else:\n",
        "    print(\"Os caracteres encontrados foram: \", punctuation_found)"
      ],
      "metadata": {
        "id": "oYJnOR7E9ZSX"
      },
      "execution_count": 13,
      "outputs": []
    },
    {
      "cell_type": "code",
      "source": [
        "find_punctuation_chars(stack_df, 'excerpt')"
      ],
      "metadata": {
        "colab": {
          "base_uri": "https://localhost:8080/"
        },
        "id": "LzRsW7acA2f_",
        "outputId": "a22712f2-b4bb-4c4c-80df-a00c0e1951f9"
      },
      "execution_count": 14,
      "outputs": [
        {
          "output_type": "stream",
          "name": "stdout",
          "text": [
            "Os caracteres encontrados foram:  {')', ';', ':', '/', '.', ',', '&', '?', '=', '\"', '-', \"'\", '[', '#', '*', '+', '!', '(', ']', '~', '`', '$', '|'}\n"
          ]
        }
      ]
    },
    {
      "cell_type": "markdown",
      "source": [
        "###Caracteres especiais:\n",
        "\n",
        "*   \\r = *Carriage return*\n",
        "*   \\n = Quebra de linha\n",
        "*   Pronomes possessivos  \\ 's (government's = government\\'s)\n"
      ],
      "metadata": {
        "id": "HR5ON-9_8EjT"
      }
    },
    {
      "cell_type": "code",
      "source": [
        "stack_df['excerpt'] = stack_df['excerpt'].str.replace(\"\\r\", \" \")\n",
        "stack_df['excerpt'] = stack_df['excerpt'].str.replace(\"\\'s\", \"\")\n",
        "stack_df['excerpt'] = stack_df['excerpt'].str.replace(\"\\n\", \" \")\n",
        "\n",
        "# Linhas adicionadas pois houveram erros de espaçamento\n",
        "stack_df['excerpt'] = stack_df['excerpt'].str.replace(\"-\", \" \")\n",
        "stack_df['excerpt'] = stack_df['excerpt'].str.replace(\"/\", \" \")"
      ],
      "metadata": {
        "id": "dFGGjlJn9CTG"
      },
      "execution_count": 15,
      "outputs": []
    },
    {
      "cell_type": "markdown",
      "source": [
        "###Sinais de pontuação\n",
        "*   Sinais (? , ! . -)"
      ],
      "metadata": {
        "id": "3zHLOOBH_gek"
      }
    },
    {
      "cell_type": "code",
      "source": [
        "punctuation = re.compile(r'[^A-Za-z0-9]+') # Qualquer caractere que não seja uma letra ou um dígito"
      ],
      "metadata": {
        "id": "ZbFbnvPP_0pH"
      },
      "execution_count": 16,
      "outputs": []
    },
    {
      "cell_type": "code",
      "source": [
        "# Substituir os caracteres de pontuação e dígitos por '', a partir do mapeamento da função punctuation\n",
        "stack_df['excerpt'] = [content.translate(str.maketrans('','', string.punctuation)) for content in stack_df['excerpt']]\n",
        "stack_df['excerpt'] = [content.translate(str.maketrans('','', string.digits)) for content in stack_df['excerpt']]"
      ],
      "metadata": {
        "id": "_3EXTbB6ADa4"
      },
      "execution_count": 17,
      "outputs": []
    },
    {
      "cell_type": "code",
      "source": [
        "# Confirmar limpezas\n",
        "find_punctuation_chars(stack_df, 'excerpt')"
      ],
      "metadata": {
        "colab": {
          "base_uri": "https://localhost:8080/"
        },
        "id": "1IbUcVovAG4D",
        "outputId": "052c0382-494a-4a55-a6c6-f41900df6c76"
      },
      "execution_count": 18,
      "outputs": [
        {
          "output_type": "stream",
          "name": "stdout",
          "text": [
            "Não foram econtrados caracteres de pontuação!\n"
          ]
        }
      ]
    },
    {
      "cell_type": "markdown",
      "source": [
        "###Stopwords"
      ],
      "metadata": {
        "id": "DbEgczZIRLg2"
      }
    },
    {
      "cell_type": "code",
      "source": [
        "# Carregando as stopwords\n",
        "stop_words = list(stopwords.words('english'))"
      ],
      "metadata": {
        "id": "wSNHvNggR4RB"
      },
      "execution_count": 19,
      "outputs": []
    },
    {
      "cell_type": "code",
      "metadata": {
        "id": "9sNdfRq8YCum",
        "colab": {
          "base_uri": "https://localhost:8080/"
        },
        "outputId": "072f4b14-6e9e-4aff-c620-c353a9816858"
      },
      "source": [
        "for stop_word in stop_words:\n",
        "  regex_stopword = r\"\\b\" + stop_word + r\"\\b\"\n",
        "  stack_df['excerpt'] = stack_df['excerpt'].str.replace(regex_stopword, '')"
      ],
      "execution_count": 20,
      "outputs": [
        {
          "output_type": "stream",
          "name": "stderr",
          "text": [
            "<ipython-input-20-d88b1945f4f8>:3: FutureWarning: The default value of regex will change from True to False in a future version.\n",
            "  stack_df['excerpt'] = stack_df['excerpt'].str.replace(regex_stopword, '')\n"
          ]
        }
      ]
    },
    {
      "cell_type": "markdown",
      "source": [
        "###Múltiplos espaços em branco"
      ],
      "metadata": {
        "id": "rmsNPtI5Conj"
      }
    },
    {
      "cell_type": "code",
      "source": [
        "# Função para encontrar múltiplos espaços em branco consecutivos no dataframe\n",
        "def check_multiple_whitespaces(dataset: pd.DataFrame, column: str):\n",
        "  for text in dataset[column]:\n",
        "    match = re.search(r'\\s{2,}', text) # Procura por 2 ou mais espaços consecutivos\n",
        "    \n",
        "    if match:\n",
        "      print(f\"Múltiplos espaços em branco encontrados em: {text}\")"
      ],
      "metadata": {
        "id": "fodpSaZNC3g9"
      },
      "execution_count": 21,
      "outputs": []
    },
    {
      "cell_type": "code",
      "source": [
        "check_multiple_whitespaces(stack_df, 'excerpt')"
      ],
      "metadata": {
        "colab": {
          "base_uri": "https://localhost:8080/"
        },
        "id": "iHW12ewxC5n-",
        "outputId": "6f678ac9-0a7d-4e45-c7dc-d240807da242"
      },
      "execution_count": 22,
      "outputs": [
        {
          "output_type": "stream",
          "name": "stdout",
          "text": [
            "Múltiplos espaços em branco encontrados em: SPDY   experimental protocol  multiplexing multiple concurrent streams typically HTTP request response streams   single TCP connection\n",
            "Múltiplos espaços em branco encontrados em: ASPNET SignalR   library  ASPNET developers  makes  incredibly simple  add real time web functionality   applications What  real time web functionality It  ability    server side code push content   connected clients   happens  real time\n",
            "Múltiplos espaços em branco encontrados em: Apache Kafka   publish subscribe messaging framework  Java designed  distributed high throughput systems\n",
            "Múltiplos espaços em branco encontrados em: Kubernetes   open source implementation  container cluster management\n",
            "Múltiplos espaços em branco encontrados em: OWASP Zed Attack Proxy ZAPhttps  wwwowasporg indexphp ZAP\n",
            "Múltiplos espaços em branco encontrados em: Apache Camel   powerful open source integration framework based  known Enterprise Integration Patterns  powerful Bean Integration\n",
            "Múltiplos espaços em branco encontrados em: Graphite   highly scalable real time graphing system specifically built  visualize numeric time series data The data   visualized  graphite web interfaces Graphite  Apache  Licensed  written  Python http  graphitewikidotcom \n",
            "Múltiplos espaços em branco encontrados em: Open Web Interface  NET  describes  components   HTTP pipeline  communicate\n",
            "Múltiplos espaços em branco encontrados em: Zipkin   open source distributed tracing system created  Twitter\n",
            "Múltiplos espaços em branco encontrados em: A triplestore   purpose built database   storage  retrieval  Resource Description Framework RDF metadata    http  enwikipediaorg wiki Triplestore RDF stores simple statements   three elements subject predicate  object   hence triple\n",
            "Múltiplos espaços em branco encontrados em: AWS Lambda allows users  run code  response  events  also managing  infrastructure necessary  execute  code within milliseconds   event\n",
            "Múltiplos espaços em branco encontrados em: Nashorn   open source JVM based JavaScript engine It replaced  Rhino JavaScript engine starting  Java \n",
            "Múltiplos espaços em branco encontrados em: KVM  Kernel based Virtual Machine   full virtualization solution  Linux  x hardware containing virtualization extensions Intel VT  AMD V\n",
            "Múltiplos espaços em branco encontrados em: Bluebird   fully featured promise library  client  server JavaScript  focus  innovative features  performance\n",
            "Múltiplos espaços em branco encontrados em: Google App Engine   cloud computing technology  hosting web applications  Google managed data centers Google App Engine   Platform   Service PaaS offering  Java Python Go  PHP\n",
            "Múltiplos espaços em branco encontrados em: Swift   application  systems programming language developed  Apple  distributed  open source Use  tag   questions   specific  Swift language features    require code   language\n",
            "Múltiplos espaços em branco encontrados em: MariaDB   open source database server  offers drop  replacement functionality  MySQL\n",
            "Múltiplos espaços em branco encontrados em: OpenID Connect   REST friendly protocol   possibly cross domain exchange  user identity built  top   OAuth   JWT specifications\n",
            "Múltiplos espaços em branco encontrados em: Akka   open source toolkit  runtime simplifying  construction  concurrent  distributed applications   JVM It implements  actor model known  Erlang\n",
            "Múltiplos espaços em branco encontrados em: Ceph   distributed object store  file system designed  provide excellent performance reliability  scalability\n",
            "Múltiplos espaços em branco encontrados em: A web service   software system designed  support interoperable machine  machine interaction   World Wide Web\n",
            "Múltiplos espaços em branco encontrados em: The ASPNET MVC Framework   open source web application framework  tooling  implements  version   model view controller MVC pattern tailored towards web applications  built upon  ASPNET technology foundation\n",
            "Múltiplos espaços em branco encontrados em: The Rackspace Cloud   set  cloud computing products  services billed   utility computing basis   US based company Rackspace Offerings include web application hosting  platform   service Cloud Sites Cloud Storage Cloud Files virtual private server Cloud Servers load balancers databases backup  monitoring\n",
            "Múltiplos espaços em branco encontrados em: Internet Explorer  IE   old version  Internet Explorer It  shipped  Windows XP  Windows Server  Internet Explorer    longer supported  Microsoft\n",
            "Múltiplos espaços em branco encontrados em: SonarQube formerly Sonar   quality management platform focusing  continuous analysis  source code quality It provides source code quality metrics   duplicated code coding standards unit tests code coverage complex code potential bugs comments  design  architecture\n",
            "Múltiplos espaços em branco encontrados em: An open source BSD licensed  memory data structure store used  database cache  message broker Supports data structures   strings hashes lists sets sorted sets  range queries bitmaps hyperloglogs  geospatial indexes  radius queries Has built  replication Lua scripting LRU eviction transactions  different levels   disk persistence high availability via Redis Sentinel  automatic partitioning  Redis Cluster\n",
            "Múltiplos espaços em branco encontrados em: Data visualization   study   visual representation  data Maps  charts    common types  data visualization    many \n",
            "Múltiplos espaços em branco encontrados em: The Java Virtual Machine JVM enables  set  computer software programs  data structures  use  virtual machine model   execution   computer programs  scripts Use  tag  questions dealing  tools provided   JVM    works   specific scenario\n",
            "Múltiplos espaços em branco encontrados em: Meteor   modular platform  developing web  mobile applications  JavaScript based   NodeJS platform\n",
            "Múltiplos espaços em branco encontrados em: A next generation JavaScript client framework  leverages simple conventions  empower  creativity\n",
            "Múltiplos espaços em branco encontrados em: Enlive   Clojure library  HTML XML extraction transformation  templating\n",
            "Múltiplos espaços em branco encontrados em: Retrofit   type safe REST client  Android  Java  Square Inc\n",
            "Múltiplos espaços em branco encontrados em: A ClojureScript interface  Facebook React\n",
            "Múltiplos espaços em branco encontrados em: NoSQL sometimes expanded    SQL   broad class  database management systems  differ   classic model   relational database management system RDBMS   significant ways\n",
            "Múltiplos espaços em branco encontrados em: In  distributed environment failure   given service  inevitable Hystrix   library designed  control  interactions   distributed services providing greater latency  fault tolerance\n",
            "Múltiplos espaços em branco encontrados em: Mercurial   fast open source DVCS Distributed Version Control System\n",
            "Múltiplos espaços em branco encontrados em: F   succinct expressive  efficient functional  object oriented language  NET  helps  write simple code  solve complex problems\n",
            "Múltiplos espaços em branco encontrados em: The Qjs JavaScript promise library Q catches errors  uses   technique  handle JavaScript callbacks  exceptions Do  use  Angular q use angular promise instead\n",
            "Múltiplos espaços em branco encontrados em: Mapbox   mapping platform  includes custom base maps directions geocoding  mobile SDKs\n",
            "Múltiplos espaços em branco encontrados em: New Relic   web application performance monitoring service  Ruby Java NET PHP Python Nodejs Android  iOS apps\n",
            "Múltiplos espaços em branco encontrados em: Alamofire   HTTP networking library written  Swift\n",
            "Múltiplos espaços em branco encontrados em: Client server side PDF printing  pure JavaScript\n",
            "Múltiplos espaços em branco encontrados em: GPGPU   acronym   field  computer science known  General Purpose computing   Graphics Processing Unit GPU\n",
            "Múltiplos espaços em branco encontrados em: Google BigQuery   web service  lets   interactive analysis  massive datasets—  billions  rows Scalable  easy  use BigQuery lets developers  businesses tap  powerful data analytics  demand\n",
            "Múltiplos espaços em branco encontrados em: Play Framework    major revision  Play  Ruby  Rails like framework   Java platform Version  introduces features    use  Scala language Akka actors Scala templates   build system SBT\n",
            "Múltiplos espaços em branco encontrados em: Lua   powerful fast lightweight embeddable scripting language It dynamically typed runs  interpreting bytecode   automatic garbage collection Its speed  one   main reasons It  widely used   machine learning community It  often referred    extensible extension language\n",
            "Múltiplos espaços em branco encontrados em: Emberjs   MVC application framework written  JavaScript\n",
            "Múltiplos espaços em branco encontrados em: Neoj   open source transactional graph database well suited  connected data You  use    variety  use cases directly   JVM languages  via  language drivers via  HTTP APIs\n",
            "Múltiplos espaços em branco encontrados em: PIT   fast bytecode based mutation testing system  Java\n",
            "Múltiplos espaços em branco encontrados em: Nodejs   event based non blocking asynchronous I O framework  uses Google V JavaScript engine  libuv library It  used  developing applications  make heavy use   ability  run JavaScript    client  well   server side  therefore benefit    usability  code   lack  context switching\n",
            "Múltiplos espaços em branco encontrados em: HTTP Strict Transport Security HSTS   web security policy mechanism whereby  web server declares  complying user agents   interact   using  secure HTTPS connections\n",
            "Múltiplos espaços em branco encontrados em: GitHub   web based hosting service  software development projects  use Git  version control\n",
            "Múltiplos espaços em branco encontrados em: spray   open source toolkit  building REST HTTP based integration layers  top  Scala  Akka\n",
            "Múltiplos espaços em branco encontrados em: Frege   Haskell   JVM Like  Haskell   purely functional enjoys  strong static type system  global type inference  non strict   also known  lazy   evaluation\n",
            "Múltiplos espaços em branco encontrados em: Yeoman   command line tool  frontend web development As  web application boilerplate  main features include project scaffolding  build process based  part  Gruntjs  package management  updating project dependencies\n",
            "Múltiplos espaços em branco encontrados em: A powerful  flexible toolkit  building Web APIs Django   high level Python Web framework  encourages rapid development  clean pragmatic design Built  experienced developers  takes care  much   hassle  Web development    focus  writing  app without needing  reinvent  wheel It’ free  open source\n",
            "Múltiplos espaços em branco encontrados em: Elixir   open source dynamic compiled general purpose functional programming language It  designed   fully compatible   Erlang platform   well suited  writing fault tolerant distributed applications  soft real time guarantees   ability  hot code swapping\n",
            "Múltiplos espaços em branco encontrados em: RequireJS   JavaScript file  module loader It  optimized   browser use     used   JavaScript environments like Rhino  Node If   using  require call  comes bundled  Nodejs    NOT using RequireJS Please   use  tag   cases Use  require tag instead\n",
            "Múltiplos espaços em branco encontrados em: A Sinatra based framework  building dashboards  simple way  uses premade widgets  fully create    scss html  coffeescript\n",
            "Múltiplos espaços em branco encontrados em: Fastly   CDN provider\n",
            "Múltiplos espaços em branco encontrados em: NuGet   free open source developer focused package management system   NET platform\n",
            "Múltiplos espaços em branco encontrados em: Microsoft Azure formerly Windows Azure   Platform   Service PaaS  Infrastructure   Service IaaS cloud computing platform  Microsoft Users   platform  deploy  applications onto cloud hosting benefiting   demand service elastic scale   highly managed environment   pay   go basis\n",
            "Múltiplos espaços em branco encontrados em: Backbonejs   JavaScript framework   RESTful JSON interface   based   model–view–presenter MVP application design paradigm\n",
            "Múltiplos espaços em branco encontrados em: Hadoop  represents  second generation    popular open source distributed platform Apache Hadoop\n",
            "Múltiplos espaços em branco encontrados em: Elasticsearch   Open Source Apache  Distributed RESTful Search Engine built  top  Lucene\n",
            "Múltiplos espaços em branco encontrados em: Cloudera Impala   open source Massively Parallel Processing MPP query engine  runs natively  Apache Hadoop\n",
            "Múltiplos espaços em branco encontrados em: CoffeeScript   language  compiles  JavaScript Underneath    embarrassing braces  semicolons JavaScript  always   gorgeous object model   heart CoffeeScript   attempt  expose  good parts  JavaScript   simple way\n",
            "Múltiplos espaços em branco encontrados em: Ansible   model driven configuration management multi node deployment orchestration  remote task execution system Uses SSH  default     special software   installed   nodes  manage Ansible   extended   language\n",
            "Múltiplos espaços em branco encontrados em: Swagger   specification  framework implementation  describing producing consuming  visualizing RESTful web services\n",
            "Múltiplos espaços em branco encontrados em: Cucumber   Behavior Driven Development BDD tool  executes functional descriptions written  plain text structured   simple Gherkin language  automated tests\n",
            "Múltiplos espaços em branco encontrados em: Heroku   cloud platform  Ruby Nodejs Python Go PHP  JVM based applications It features Git based GitHub  API deployment strategies  large number  services offered  add ons   full API\n",
            "Múltiplos espaços em branco encontrados em: Zucchini   visual iOS testing framework built  Ruby CoffeeScript  JavaScript\n",
            "Múltiplos espaços em branco encontrados em: Frank allows   write structured text test acceptance tests requirements using Cucumber    execute   iOS application\n",
            "Múltiplos espaços em branco encontrados em: Use  programming  development questions related  Android Google OS  digital devices Phones Tablets Autos TVs Wear Glass Please use Android specific tags   android intent  intent For questions  general use  development  programming use http  androidstackexchangecom\n",
            "Múltiplos espaços em branco encontrados em: Locust   python load testing framework\n",
            "Múltiplos espaços em branco encontrados em: Immutablejs provides Persistent Immutable List Stack Map OrderedMap Set OrderedSet  Record They  highly efficient  modern JavaScript VMs browser  nodejs  using structural sharing via hash maps tries  vector tries  popularized  Clojure  Scala minimizing  need  copy  cache data\n",
            "Múltiplos espaços em branco encontrados em: RDFa Resource Description Framework  Attributes   technique  allows  express structured data  markup languages It provides  set  attributes  augment  visual information   Web  machine readable hints\n",
            "Múltiplos espaços em branco encontrados em: GraphQL   data querying language  describe  complex nested data dependencies  modern web applications It   created  Facebook\n",
            "Múltiplos espaços em branco encontrados em: GWT formerly  Google Web Toolkit   development toolkit  building  optimizing complex browser based applications Its goal   enable productive development  high performance web applications without requiring  developer    expert  browser quirks XMLHttpRequest  JavaScript GWT  used  many products  Google including  new versions  AdWords  Groups It open source  completely free Apache  licensed\n",
            "Múltiplos espaços em branco encontrados em: Sass Syntactically Awesome Style Sheets   extension  CSS adding features like nested rules variables mixins  class extensions This enables developers  write structured manageable  reusable CSS Sass  compiled  standard CSS\n",
            "Múltiplos espaços em branco encontrados em: React Native enables   build mobile apps using JavaScript  React based declarative UI components  get translated  platform native views The focus  React Native   developer efficiency across   platforms  care    learn  write anywhere \n",
            "Múltiplos espaços em branco encontrados em: Java  refers  version  internal number    Java platform released   March \n",
            "Múltiplos espaços em branco encontrados em: TypeScript   typed superset  JavaScript created  Microsoft  adds optional types classes interfaces  modules  compiles  plain JavaScript TypeScript includes advanced features   generic types type inference lambda functions string templates interpolation destructuring   \n",
            "Múltiplos espaços em branco encontrados em: Composer   tool  dependency management  PHP It allows   declare  project dependencies   install     See http  getcomposerorg\n",
            "Múltiplos espaços em branco encontrados em: AngularJS   open source JavaScript framework Its goal   augment browser based applications  Model–View–WhateverMV capability  reduce  amount  JavaScript needed  make web applications functional These types  apps  also frequently known  Single Page Applications\n",
            "Múltiplos espaços em branco encontrados em: Redux   predictable state container  JavaScript applications based   Flux design pattern\n",
            "Múltiplos espaços em branco encontrados em: You  get Apigee product related answers  support   Apigee Community  http  communityapigeecom Apigee   company  produces  sells  API Management Platform Products include  API communications gateway  backend   service App Services   REST accessible JSON store Use  tag  questions  Apigee products  also indicate  Apigee product   API Dashboard  Edge\n",
            "Múltiplos espaços em branco encontrados em: JavaServer Faces JSF   model view presenter framework typically used  create HTML form based web applications Using  standard components  render kit stateful HTML views   defined using Facelets  JSP tags  wired  model data  application logic via backing beans\n",
            "Múltiplos espaços em branco encontrados em: Apache Spark   open source cluster computing system  large scale data analytics computing\n",
            "Múltiplos espaços em branco encontrados em: Julia   high level high performance dynamic programming language  technical computing  syntax   familiar  users   technical computing environments\n",
            "Múltiplos espaços em branco encontrados em: In HTML hardware agnostic events  devices like  mouse pen  touchscreen In CSS  property specifying   particular graphic element  become  target  mouse events\n",
            "Múltiplos espaços em branco encontrados em: Sensu   open source monitoring framework written  ruby\n",
            "Múltiplos espaços em branco encontrados em: Google Chrome   web browser available  mobile TV  desktop platforms Developed  Google  uses  Blink layout engine  application framework  V JavaScript engine \n",
            "Múltiplos espaços em branco encontrados em: Mashery   commercial API management service  deploying documenting  monitoring API services   cloud   premise \n",
            "Múltiplos espaços em branco encontrados em: OAuth Open Authorization   specification  client applications  access protected resources  behalf   user It  developed   alternative  users handing   login credentials  third party applications\n",
            "Múltiplos espaços em branco encontrados em: Mobile Website refers   design  implementation  web content aimed  clients using mobile devices   phones  tablets\n",
            "Múltiplos espaços em branco encontrados em: Go   Continuous Delivery server  automating  build test release cycle It  open source\n",
            "Múltiplos espaços em branco encontrados em: Scratch   graphical drag  drop language developed  MIT\n",
            "Múltiplos espaços em branco encontrados em: HAML   markup language ’ used  cleanly  simply describe  HTML   web document without  use  inline code It   used   standalone HTML generation tool    template rendering engine   web framework   Ruby  Rails  Ramaze\n",
            "Múltiplos espaços em branco encontrados em: Couchbase Server   distributed database engineered  performance scalability availability  flexible query It enables developers  build applications easier  faster  leveraging  power  SQL   flexibility  JSON Couchbase  built  three core principles Simple Fast Elastic\n",
            "Múltiplos espaços em branco encontrados em: Riak   key value data store written  Erlang It implements principles  Amazon Dynamo paper \n",
            "Múltiplos espaços em branco encontrados em: Cloud Foundry   open platform   service providing  choice  clouds developer frameworks  application services It   open source project   available   variety  private cloud distributions  public cloud instances including CloudFoundrycom\n",
            "Múltiplos espaços em branco encontrados em: Storm   distributed realtime computation system Similar   Hadoop provides  set  general primitives   batch processing Storm provides  set  general primitives   realtime computation Storm  simple   used   programming language \n",
            "Múltiplos espaços em branco encontrados em: ALTNET describes  coalescing community  like minded individuals within  larger world   Microsoft NET Framework  felt  growing frustration  Microsoft tooling guidance  NET culture  large   reflect  support  important set  core values One   common topics   ALT NET event  closing gaps  requirements testing  code\n",
            "Múltiplos espaços em branco encontrados em: Wolfram Language   knowledge based multi paradigm programming language In  first approximation  Wolfram Language  Mathematica  WolframAlpha  Cloud   It compatible  Mathematica    significant evolution including knowledge deployment  many new ideas\n",
            "Múltiplos espaços em branco encontrados em: Groovy   object oriented programming language   Java platform It   dynamic language  features similar    Python Ruby Perl  Smalltalk It   used   scripting language   Java platform\n",
            "Múltiplos espaços em branco encontrados em: BIRT Business Intelligence Reporting Tool   open source Eclipse based reporting system  integrates   Java Java EE application  produce compelling reports\n",
            "Múltiplos espaços em branco encontrados em: Amazon S simple storage service   online storage service  Amazon Web Services \n",
            "Múltiplos espaços em branco encontrados em: Realm   mobile database replacement  SQLite  Core Data It  available  Xamarin Java Objective C React Native  Swift\n",
            "Múltiplos espaços em branco encontrados em: ReactiveCocoa RAC   Objective C framework  Functional Reactive Programming It provides APIs  composing  transforming streams  values\n",
            "Múltiplos espaços em branco encontrados em: Domain Specific Language   programming language intended   particular application domain \n",
            "Múltiplos espaços em branco encontrados em: HO    memory platform  machine learning based  Java  Apache technologies like Hadoop It aims  parallelized processing  provides interfaces  many languages like R  Python It   open source project maintained  xdata\n",
            "Múltiplos espaços em branco encontrados em: Java   general purpose object oriented programming language designed   used  conjunction   Java Virtual Machine JVM Java platform   name   computing system   installed tools  developing  running Java programs Use  tag  questions referring  Java programming language  Java platform tools Note  Java     confused  JavaScript \n",
            "Múltiplos espaços em branco encontrados em: Windows Phone  Microsoft mobile operating system  software development platform Use  tag  questions specific  Version x \n",
            "Múltiplos espaços em branco encontrados em: Spring Boot makes  easy  create Spring powered production grade applications  services  absolute minimum fuss It takes  opinionated view   Spring platform   new  existing users  quickly get   bits  need\n",
            "Múltiplos espaços em branco encontrados em: An open source project  gives system administrators  power  easily automate repetitive tasks quickly deploy applications  proactively manage servers  premises    cloud\n",
            "Múltiplos espaços em branco encontrados em: PostgreSQL   open source object relational database management system ORDBMS available   major platforms including Linux UNIX Windows  OS X Please mention  exact version  Postgres  asking questions Questions concerning administration  advanced features  best directed  dbastackexchangecom\n",
            "Múltiplos espaços em branco encontrados em: Leaflet   open source JavaScript library  displaying interactive maps\n",
            "Múltiplos espaços em branco encontrados em: Gradle   project build automation tool  uses  Groovy DSL Gradle build scripts support Maven  Ivy repositories  well  plain file system  dependency management\n",
            "Múltiplos espaços em branco encontrados em: CoreOS provides  new server operating system  running thousands  servers \n",
            "Múltiplos espaços em branco encontrados em: A Time series   sequence  data points  values measured  successive times either  continuous time   discrete time periods Time series analysis exploits  natural temporal ordering  extract meaning  trends   underlying data\n",
            "Múltiplos espaços em branco encontrados em: Ionic   front end framework  developing native feeling hybrid mobile apps  HTML using Sass  AngularJS By default  runs  top  Cordova though   also choose  use PhoneGap\n",
            "Múltiplos espaços em branco encontrados em: Origami   prototyping tool  designing user interfaces It  developed  Facebook  released  December  Related questions    tool     use  Quartz Composer  visual programming language developed  Apple Inc\n",
            "Múltiplos espaços em branco encontrados em: The Apache Jackrabbit™ content repository   fully conforming implementation   Content Repository  Java Technology API JCR specified  JSR    A content repository   hierarchical content store  support  structured  unstructured content full text search versioning transactions observation  \n",
            "Múltiplos espaços em branco encontrados em: TotallyLazy   functional library  Java  tries    lazy  possible  like Clojure collection library \n",
            "Múltiplos espaços em branco encontrados em: Packer   tool  creating identical machine images  multiple platforms   single source configuration \n",
            "Múltiplos espaços em branco encontrados em: Bootstrap   front end framework designed  kick start development  Web apps  sites For questions related   version  Bootstrap also use  specific version tag  twitter bootstrap  twitter bootstrap   twitter bootstrap  tags\n",
            "Múltiplos espaços em branco encontrados em: Elm   functional programming language  writing web applications   fully replace  interoperate  HTML CSS JavaScript \n",
            "Múltiplos espaços em branco encontrados em: OpenStack http  openstackorg   collection  open source projects  enables  open scalable cloud infrastructure The core  OpenStack  meant  provide consistent APIs  interfaces   variety  potential back ends\n",
            "Múltiplos espaços em branco encontrados em: The WCF Web API project allows WCF developers  expose  APIs via HTTP Under ASPNET MVC WCF Web API  become ASPNET Web API\n",
            "Múltiplos espaços em branco encontrados em: AppArmor   Linux Security Module LSM  Linux kernels It implements Mandatory Access Control  confine programs within  limited set  resources\n",
            "Múltiplos espaços em branco encontrados em: RSpec   behavior driven development BDD framework   Ruby programming language inspired  JBehave It contains   fully integrated mocking framework based upon JMock The framework   considered  domain specific language DSL  resembles  natural language specification \n",
            "Múltiplos espaços em branco encontrados em: Linux containers LXC   operating system–level virtualization method  running multiple isolated Linux systems containers   single control host\n",
            "Múltiplos espaços em branco encontrados em: Ruby   multi platform open source dynamic object oriented interpreted language created  Yukihiro Matsumoto Matz  \n",
            "Múltiplos espaços em branco encontrados em: CoreCLR  new NET Core runtime It   execution engine  NET apps performing functions   IL byte code loading compilation  machine code  garbage collection \n",
            "Múltiplos espaços em branco encontrados em: Flight   lightweight component based JavaScript framework  maps behavior  DOM nodes Twitter uses    web applications\n",
            "Múltiplos espaços em branco encontrados em: Knockoutjs   open source JavaScript library  dynamic HTML UIs using  Model View View Model MVVM pattern\n",
            "Múltiplos espaços em branco encontrados em: Dropwizard   Java framework  developing ops friendly high performance RESTful web services\n",
            "Múltiplos espaços em branco encontrados em: Splunk   tool  collecting monitoring visualizing  analyzing machine data   source You may receive faster responses  answerssplunkcom   actively monitored  Splunk employees\n",
            "Múltiplos espaços em branco encontrados em: Alice   innovative D programming environment  makes  easy  create  animation  telling  story playing  interactive game   video  share   web\n",
            "Múltiplos espaços em branco encontrados em: paas  short  Platform   service  category  cloud centric services\n",
            "Múltiplos espaços em branco encontrados em: TLA   language  toolchain  specifications based  TLA  Temporal Logic  Actions The TLA Toolbox includes  translator  PlusCal  TLA  TLC model checker   IDE\n",
            "Múltiplos espaços em branco encontrados em: Djs   small open source JavaScript data visualization library  manipulating HTML SVG  CSS documents based  data\n",
            "Múltiplos espaços em branco encontrados em: Packetbeat   Open Source solution  monitoring Distributed Applications Think   like  distributed real time Wireshark   lot  analytics features Packetbeat agents sniff  traffic   application processes parse   fly protocols like HTTP MySQL Postgresql Redis  Thrift  correlate  messages  transactions Tagpacketbeat TWPacketbeat StASSESS\n",
            "Múltiplos espaços em branco encontrados em: Squid   open source HTTP caching proxy server\n",
            "Múltiplos espaços em branco encontrados em: Robolectric   unit test framework  allows  test driven development  Android apps Tests run inside  JVM   workstation \n",
            "Múltiplos espaços em branco encontrados em: HTML Hyper Text Markup Language   standard markup language used  structuring web pages  formatting content HTML describes  structure   website semantically along  cues  presentation making   markup language rather   programming language The  recent revision   HTML specification  HTML\n",
            "Múltiplos espaços em branco encontrados em: Flyway  Boxfuse   open source database migration tool It strongly favors simplicity  convention  configuration It  simple focused  powerful\n",
            "Múltiplos espaços em branco encontrados em: AppCode   IDE  JetBrains  building apps  iOS OSX \n",
            "Múltiplos espaços em branco encontrados em: Vagrant   command line tool  provisioning virtualized environments  top  various providers including VirtualBox VMWare  AWS \n",
            "Múltiplos espaços em branco encontrados em: An open source Platform   Service inspired  Heroku  built  CoreOS  Docker\n",
            "Múltiplos espaços em branco encontrados em: Windows Internet Explorer    web browser developed  Microsoft released   March   Windows XP Windows Server  Windows Vista Windows Server   Windows  \n",
            "Múltiplos espaços em branco encontrados em: Dagger   dependency injection library  Java  Android\n",
            "Múltiplos espaços em branco encontrados em: An automated acceptance testing framework  Android  iOS Calabash enables   write  execute automated acceptance tests  mobile apps Calabash  cross platform supporting Android  iOS native apps\n",
            "Múltiplos espaços em branco encontrados em: Java based data integration framework   used  transform map manipulate data  various formats CSVFIXLENXMLXBASECOBOLLOTUS etc   used standalone  embeddedas  library Connects  RDBMS JMS SOAP LDAP S HTTP FTP ZIP TAR\n",
            "Múltiplos espaços em branco encontrados em: CoAP   application protocol designed  constrained devices designed  easily translate  HTTP\n",
            "Múltiplos espaços em branco encontrados em: Go   open source programming language initially developed  Google It   statically typed language  syntax loosely derived  C adding automatic memory management type safety  dynamic typing capabilities additional built  types   variable length arrays  key value maps   large standard library Tag go TWGo language StADOPT\n",
            "Múltiplos espaços em branco encontrados em: Atom   XML based news feed format\n",
            "Múltiplos espaços em branco encontrados em: Amazon EC stands  Amazon Elastic Compute Cloud It   part  Amazon Web Services AWS  allows users  rent virtual machine instances   hour You  create instances launch  manage    central interface   web API    console\n",
            "Múltiplos espaços em branco encontrados em: Apache Ant formerly Jakarta Ant   declarative XML based build tool created originally  Java projects It provides  rich set  standard tasks  performing  common build operations   compiling Java source building archives  running tests Ant functionality   extended  custom tasks  macros\n",
            "Múltiplos espaços em branco encontrados em: REST Assured   Java based test library  REST services\n",
            "Múltiplos espaços em branco encontrados em: Highcharts   Javascript charting library  uses HTML SVG  VML The editor offers  open source nonprofit  commercial editions   product\n",
            "Múltiplos espaços em branco encontrados em: The Rackspace Cloud   set  cloud computing products  services billed   utility computing basis   US based company Rackspace Offerings include web application hosting  platform   service Cloud Sites Cloud Storage Cloud Files virtual private server Cloud Servers load balancers databases backup  monitoring \n",
            "Múltiplos espaços em branco encontrados em: Apache Mesos   cluster manager  provides efficient resource isolation  sharing across distributed applications  frameworks \n",
            "Múltiplos espaços em branco encontrados em: Carthage   decentralized dependency manager  Cocoa projects\n",
            "Múltiplos espaços em branco encontrados em: psake pronounced sah kay   Japanese rice wine   build automation tool implemented  Windows PowerShell\n",
            "Múltiplos espaços em branco encontrados em: An open source distributed Analytical Engine  eBay  provide SQL interface  multi dimensional analysis OLAP  Hadoop  support TB  PB size analysis\n",
            "Múltiplos espaços em branco encontrados em: Genymotion   relatively fast Android emulator  comes  pre configured Android x  OpenGL hardware acceleration images suitable  application testing The project  evolved   old BuildDroid project  AndroVM  comes   new player design installer  \n",
            "Múltiplos espaços em branco encontrados em: OpenSocial   public specification  defines  component hosting environment container   set  common APIs  web based applications\n",
            "Múltiplos espaços em branco encontrados em: Related   browser sync Nodejs module used  synchronize URLs interactions  code changes across multiple devices \n",
            "Múltiplos espaços em branco encontrados em: Open Source tool  Java  draw UML Diagrams \n",
            "Múltiplos espaços em branco encontrados em: webpack   module bundler webpack takes modules  dependencies  generates static assets representing  modules \n",
            "Múltiplos espaços em branco encontrados em: Amazon Web Services AWS   collection  commercial services centered around virtualized commodity  clustered computing networking database  storage  well  supporting tools   offered  infrastructure   service IaaS\n",
            "Múltiplos espaços em branco encontrados em: jQuery Mobile   touch optimized web framework  smartphones  tablets It provides  unified user interface system across  popular mobile device platforms built  jQuery \n",
            "Múltiplos espaços em branco encontrados em: FIDO Universal nd Factor UF  rapidly growing open authentication standard allows greater user account login security \n",
            "Múltiplos espaços em branco encontrados em: Apache Maven   software project management  comprehension tool This tag   questions  dont relate   specific Maven version Use  gradle tag instead  questions relating  Gradle \n",
            "Múltiplos espaços em branco encontrados em: Haskell   advanced functional programming language featuring strong static typing lazy evaluation extensive parallelism  concurrency support  unique abstraction capabilities\n",
            "Múltiplos espaços em branco encontrados em: React Components  Implement Google Material Design http  material uicom \n",
            "Múltiplos espaços em branco encontrados em: TensorFlow   open source library  machine learning  machine intelligence It  developed  Google  became open source  Nov  \n",
            "Múltiplos espaços em branco encontrados em: Datomic   database  flexible time based facts supporting queries  joins  elastic scalability  ACID transactions \n",
            "Múltiplos espaços em branco encontrados em: Team Foundation Server   complete Application Lifecycle Management ALM suite offered  Microsoft\n",
            "Múltiplos espaços em branco encontrados em: Google Wave   open source real time collaboration web application provided  Google extensible  developers via robots  gadgets\n",
            "Múltiplos espaços em branco encontrados em: indexedDB provides  way  store data   browser using Javascript Unlike relational databases indexedDB uses  key value store   conceptually similar  HTML local storage However indexedDB  better  local storage  storing large amounts  data   querying data  quickly indexedDB  supported  IE Chrome  Firefox although support  specific features varies\n",
            "Múltiplos espaços em branco encontrados em: Jaspersoft Studio   free open source eclipse based report designer  JasperReports  JasperReports Server Create  sophisticated layouts containing charts images subreports crosstabs  much  Access  data  JDBC TableModels JavaBeans XML Hibernate CSV  custom sources Then publish  reports  PDF RTF XML XLS CSV HTML XHTML text DOCX  OpenOffice\n",
            "Múltiplos espaços em branco encontrados em: This refers  tablet personal computers These  mobile computing devices characterised  touchscreen interfaces\n",
            "Múltiplos espaços em branco encontrados em: Visual Studio   integrated development environment IDE  Microsoft Do  use  tag unless    specific question  Visual Studio       coding issue \n",
            "Múltiplos espaços em branco encontrados em: Firefox   free open source  cross platform web browser created  Mozilla \n",
            "Múltiplos espaços em branco encontrados em: Polly   NET          PCL Profile  library  allows developers  express transient exception handling policies   Retry Retry Forever Wait  Retry  Circuit Breaker   fluent manner\n",
            "Múltiplos espaços em branco encontrados em: DigitalOcean   cloud hosting provider  deploying  SSD cloud server\n",
            "Múltiplos espaços em branco encontrados em: CloudStack  open source cloud computing software  creating managing  deploying infrastructure cloud services It uses existing hypervisors   Oracle VM KVM vSphere  XenServer  virtualization In addition    API CloudStack  also implementing  Amazon EC  S APIs  well   vCloud API \n",
            "Múltiplos espaços em branco encontrados em: SpagoBI   Open Source Business Intelligence suite covering analytical areas  Business Intelligence projects like reporting multidimensional analysis OLAP interactive cockpits data mining network analysis \n",
            "Múltiplos espaços em branco encontrados em: Xamarin   software company acquired  Microsoft  February    created   engineers behind Mono XamariniOS formerly called MonoTouch XamarinAndroid formerly called Mono  Android XamarinMac   open source MonoMac  Xamarin Studio   open source MonoDevelop\n",
            "Múltiplos espaços em branco encontrados em: React   JavaScript library  building user interfaces It uses  declarative paradigm  aims    efficient  flexible\n",
            "Múltiplos espaços em branco encontrados em: bootdocker   lightweight Linux distribution based  Tiny Core Linux made specifically  run Docker containers It runs completely  RAM weighs MB  boots   YMMV\n",
            "Múltiplos espaços em branco encontrados em: RubyMotion   commercial system  building native iOS  Android apps using Ruby \n",
            "Múltiplos espaços em branco encontrados em: Hive   data warehouse system  Hadoop  facilitates easy data summarization ad hoc queries   analysis  large datasets stored  Hadoop compatible file systems Hive provides  mechanism  project structure onto  data  query  data using  SQL like language called HiveQL \n",
            "Múltiplos espaços em branco encontrados em: Scala   general purpose programming language principally targeting  Java Virtual Machine Designed  express common programming patterns   concise elegant  type safe way  fuses  imperative  functional programming styles Its key features areadvanced static type system  type inference function types pattern matching implicit parameters  conversions operator overloading full interoperability  Java concurrency \n",
            "Múltiplos espaços em branco encontrados em: Ruby build utility similar  make  build commands defined  pure Ruby\n",
            "Múltiplos espaços em branco encontrados em: Docker provides  high level API  containerize unix processes  applications   degree  isolation  repeatability across servers \n",
            "Múltiplos espaços em branco encontrados em: Python   dynamic  strongly typed programming language designed  emphasize usability Two similar  incompatible versions  Python   widespread use    If    version specific Python question consider using  python   python x tags  addition   python tag \n",
            "Múltiplos espaços em branco encontrados em: iBeacons  Bluetooth Low Energy BLE also known  Bluetooth Smart transmitters  notify nearby receivers    smart phone   presence   purposes  proximity sensing A unique identifier allows   receiver  take specific action   displaying  notification message  configuring   use  smart device    lamp smart switch   sensor \n",
            "Múltiplos espaços em branco encontrados em: NaCl pronounced salt   high speed software library  network communication encryption decryption signatures   Not   confused  google nativeclient\n",
            "Múltiplos espaços em branco encontrados em: Presto   open source distributed SQL query engine  running interactive analytic queries  data sources   sizes ranging  gigabytes  petabytes\n",
            "Múltiplos espaços em branco encontrados em: Vertx   event driven application framework  runs   JVM allowing  development  asynchronous web applications  Java Javascript CoffeeScript Ruby Python Clojure Ceylon  Groovy \n",
            "Múltiplos espaços em branco encontrados em: Jekyll   blog aware static site generator written  Ruby\n",
            "Múltiplos espaços em branco encontrados em: Cordova formerly PhoneGap   open source cross device mobile development platform  allows developers  create mobile applications using standard web technologies like HTML JavaScript  CSS    deployed   device rather  programming   device native language\n",
            "Múltiplos espaços em branco encontrados em: REST Client  Chrome Browser Tagpostman TWPostman StTRIAL\n",
            "Múltiplos espaços em branco encontrados em: The OSGi framework   module system  service platform   Java programming language  implements  complete  dynamic component model Tag osgi TW OSGi St HOLD\n",
            "Múltiplos espaços em branco encontrados em: Apache Pig   platform  analyzing large data sets  consists   high level language  expressing data analysis programs coupled  infrastructure  evaluating  programs The salient property  Pig programs    structure  amenable  substantial parallelization  enables   handle  large data setsTagapache pig TWApache Pig StTRIAL\n",
            "Múltiplos espaços em branco encontrados em: Espresso   library   used  write Android UI tests Known also  Google Testing Tools For Android\n",
            "Múltiplos espaços em branco encontrados em: Less   open source stylesheet preprocessor  extends CSS  dynamic behavior   variables mixins operations  functions It also  unix command  display  file \n",
            "Múltiplos espaços em branco encontrados em: Selenium   popular open source tool  automating web browsers When using  tag also include  tags   specific components   using eg selenium webdriver   language bindings selenium ide selenium grid etc\n",
            "Múltiplos espaços em branco encontrados em: An icon font   font containing glyphs   used  icons   web page  application Use  tag  questions involving fonts used specifically   way including various methods  practices  using glyphs  icons   creating fonts  contain  glyphs \n",
            "Múltiplos espaços em branco encontrados em: An HTTPSPDYProguard client  Android  Java applications\n",
            "Múltiplos espaços em branco encontrados em: Cursive   plug   IntelliJ  writing Clojure  ClojureScript code\n",
            "Múltiplos espaços em branco encontrados em: Sinatra   Domain Specific Language DSL  quickly creating web applications  Ruby  minimal effort It   alternative   Ruby web application frameworks   Ruby  Rails Nitro Camping  Rango\n",
            "Múltiplos espaços em branco encontrados em: GitLab   Open Source Git repository manager  issue tracking  wiki  well  continuous integration features \n",
            "Múltiplos espaços em branco encontrados em: Talend   open source integration vendor  provides software  data integration data quality master data management big data business process management  service oriented architecture \n",
            "Múltiplos espaços em branco encontrados em: MemSQL   high performance distributed relational database  uses  MySQL protocol \n",
            "Múltiplos espaços em branco encontrados em: Clojure   modern Lisp dialect   Java Virtual Machine  versions   CLR  JavaScript More  merely  implementation  Lisp  Java Clojure provides access  Java classes  ecosystem\n",
            "Múltiplos espaços em branco encontrados em: Gremlin   graph traversal language  Apache TinkerPop \n",
            "Múltiplos espaços em branco encontrados em: Dapper   micro ORM  NET developed  used   Stack Overflow team focusing  raw performance   primary aim\n",
            "Múltiplos espaços em branco encontrados em: OpenAM   open source access management entitlements  federation server platform \n",
            "Múltiplos espaços em branco encontrados em: DO NOT use  tag unless   addressing Apple iPhone   iPod touch specifically For questions  dependent  hardware use  tag iOS Another tag  consider  cocoa touch   cocoa Please refrain  questions regarding  iTunes App Store   iTunes Connect If using C tag  mono \n",
            "Múltiplos espaços em branco encontrados em: An annotation based Android view injection framework aimed  reducing boilerplate \n",
            "Múltiplos espaços em branco encontrados em: Cloud computing   hardware based services involving computing network  storage capacities These services  provided  demand hosted   cloud provider   easily scale   \n",
            "Múltiplos espaços em branco encontrados em: PowerShell   component  Microsoft Windows   command line shell   scripting environment Many Windows components  Microsoft products expose management interfaces  PowerShell making  particularly suited  system administration  automation tasks It   modern day successor  VBScript  batch files\n",
            "Múltiplos espaços em branco encontrados em: A version   C  VB compilers   written  managed code \n",
            "Múltiplos espaços em branco encontrados em: Serverspec provides ruby RSpec tests  checking  servers  configured correctly It tests  servers actual state  executing commands locally via SSH WinRM  Docker API \n",
            "Múltiplos espaços em branco encontrados em: An enterprise service bus ESB   software architecture construct  provides fundamental services  complex architectures via  event driven  standards based messaging engine  bus Developers typically implement  ESB using technologies found   category  middleware infrastructure products usually based  recognized standards \n",
            "Múltiplos espaços em branco encontrados em: npm   official package manager  Nodejs  non blocking asynchronous I O framework  uses Google V JavaScript engine It   used  install  publish CommonJS modules jQuery plugins reusable javascript code libraries  JavaScript based CLI programs\n",
            "Múltiplos espaços em branco encontrados em: Cylonjs   JavaScript framework  robotics physical computing   Internet  Things It makes  incredibly easy  command robots  devices\n",
            "Múltiplos espaços em branco encontrados em: ASPNET Web API   framework  building HTTP services  clients like browsers  mobile devices It  based   Microsoft NET Framework  ideal choice  building RESTful services\n",
            "Múltiplos espaços em branco encontrados em: Consul   tool  discovering  configuring services   infrastructure\n",
            "Múltiplos espaços em branco encontrados em: Facebook Platform lets developers integrate  apps directly   Facebook social networking service Use  tag  questions  may arise  developing FOR Facebook This tag  NOT  support questions  using  Facebook website   official Facebook app It  also NOT  questions    I want  implement  feature similar   Facebook   variety \n",
            "Múltiplos espaços em branco encontrados em: Zeptojs   minimalist JavaScript framework  modern browsers   jQuery compatible syntax\n",
            "Múltiplos espaços em branco encontrados em: Gulp   JavaScript build system nodejs based task runner like Grunt Gulp uses streams  code  configuration   simpler   intuitive build process \n",
            "Múltiplos espaços em branco encontrados em: NEventStore aka JOliver EventStore  disambiguate   geteventstorecom  launched later   persistence library used  abstract different storage implementations  using event sourcing   storage mechanism Event sourcing   closely associated   concept known  CQRS \n",
            "Múltiplos espaços em branco encontrados em: ECMAScript   name   Ecma International Standard  It  based   scripting language JavaScript   delivered  Netscape  Ecma  standardization The th Edition   update   rd edition specification   cancellation   th edition It adds new features including strict mode getters  setters  JSON object  new methods  Object Array Date  Function prototypes \n",
            "Múltiplos espaços em branco encontrados em: Grunt   task based command line build tool  task runner  JavaScript projects \n",
            "Múltiplos espaços em branco encontrados em: LambdaJ   library  manipulate  collections without  iterations\n",
            "Múltiplos espaços em branco encontrados em: Rancher   open source project  provides  complete platform  operating Docker  production \n",
            "Múltiplos espaços em branco encontrados em: A clojure clojurescript library  asynchronous programming \n",
            "Múltiplos espaços em branco encontrados em: Puppet   ruby based Configuration Management system incorporating  model driven DSL Its purpose   provide configuration file enforcement service state monitoring package installation   server side management \n",
            "Múltiplos espaços em branco encontrados em: ESP   highly integrated chip designed   needs   increasingly connected world It offers  complete  self contained Wi Fi networking solution allowing   either host applications  offload  Wi Fi networking functions  another application processor The  important aspect   price   chip \n",
            "Múltiplos espaços em branco encontrados em: R   free open source programming language  software environment  statistical computing bioinformatics  graphics Please supplement  question   minimal reproducible example For statistical questions please use http  statsstackexchangecom\n",
            "Múltiplos espaços em branco encontrados em: JavaScript    confused  Java   dynamic weakly typed language used  client side  well  server side scripting Use  tag  questions regarding ECMAScript   various dialects implementations excluding ActionScript  Google Apps Script Unless another tag   framework library  also included  pure JavaScript answer  expected \n",
            "Múltiplos espaços em branco encontrados em: The Pentaho BI Suite   open source Business Intelligence suite  integrated reporting dashboard data mining workflow  ETL capabilities It  primarily written  Java\n",
            "Múltiplos espaços em branco encontrados em: Functional Java    open source library  learn  implement functional programming concepts  Java \n",
            "Múltiplos espaços em branco encontrados em: Dart   class based optionally typed programming language  building web  command line applications Dart compiles  modern JavaScript  run   client  runs natively   Dart VM  server side apps \n",
            "Múltiplos espaços em branco encontrados em: Git   open source distributed version control system DVCS \n",
            "Múltiplos espaços em branco encontrados em: MongoDB   scalable high performance open source document oriented NOSQL database It supports  large number  languages  application development platforms Questions  server administration   asked  http  dbastackexchangecom\n",
            "Múltiplos espaços em branco encontrados em: A rich Internet application RIA   Web application   many   characteristics  desktop application software typically delivered  way   site specific browser  browser plug   independent sandbox extensive use  JavaScript   virtual machine\n",
            "Múltiplos espaços em branco encontrados em: Chef   open source systems integration framework  Chef formerly Opscode  allows   describe  configuration  systems  infrastructure  code It brings  benefits  configuration management   entire infrastructure \n",
            "Múltiplos espaços em branco encontrados em: AppHarbor   cloud application platform  NET Applications   deployed  AppHarbor using Git Mercurial Subversion  TFS A large number  services relational   sql databases email error logging  offered  add ons \n",
            "Múltiplos espaços em branco encontrados em: JRuby   open source Java implementation   Ruby programming language It  Ruby   JVM Using idiomatic Ruby syntax JRuby  consume Java classes  libraries  ease\n",
            "Múltiplos espaços em branco encontrados em: Rust   systems programming language focused  three goalssafety speed  concurrency It maintains  goals without needing  garbage collector making   useful language   number  use cases  languages arent good atembedding   languages programs  specific space  time requirements  writing low level code like device drivers  operating systems \n",
            "Múltiplos espaços em branco encontrados em: Docker provides  high level API  containerize unix processes  applications   degree  isolation  repeatability across servers \n",
            "Múltiplos espaços em branco encontrados em: Axon   Java application framework  implementing software using  CQRS principles \n",
            "Múltiplos espaços em branco encontrados em: HTML Hyper Text Markup Language version    umbrella term  recent web technologies It  also  latest iteration  HTML It became  WC Recommendation  October  introducing new elements  APIs  \n",
            "Múltiplos espaços em branco encontrados em: C  introduced features like dynamic objects COM interoperability improvements generic co   contra variance optional  named parameters \n",
            "Múltiplos espaços em branco encontrados em: Nancy   lightweight web framework   Net platform inspired  Sinatra Nancy aims  deliver  low ceremony approach  building light fast web applications\n"
          ]
        }
      ]
    },
    {
      "cell_type": "code",
      "source": [
        "# Remove os espaços consecutivos\n",
        "stack_df['excerpt'] = stack_df['excerpt'].apply(lambda x: re.sub(r'\\s{2,}', ' ', x))"
      ],
      "metadata": {
        "id": "rh032nUFEIwD"
      },
      "execution_count": 23,
      "outputs": []
    },
    {
      "cell_type": "code",
      "source": [
        "check_multiple_whitespaces(stack_df, 'excerpt')"
      ],
      "metadata": {
        "id": "yIY205HMEjSC"
      },
      "execution_count": 24,
      "outputs": []
    },
    {
      "cell_type": "markdown",
      "source": [
        "##Padronizar os textos em letras minúsculas"
      ],
      "metadata": {
        "id": "o1KeGv2cHjks"
      }
    },
    {
      "cell_type": "code",
      "source": [
        "stack_df['excerpt'] = stack_df['excerpt'].str.lower()"
      ],
      "metadata": {
        "id": "pfuHemI4IS9h"
      },
      "execution_count": 25,
      "outputs": []
    },
    {
      "cell_type": "code",
      "source": [
        "stack_df"
      ],
      "metadata": {
        "colab": {
          "base_uri": "https://localhost:8080/",
          "height": 424
        },
        "id": "F-pJYI_wSz8Y",
        "outputId": "52b3df47-d7e9-4753-baa4-44d5ff926c8c"
      },
      "execution_count": 26,
      "outputs": [
        {
          "output_type": "execute_result",
          "data": {
            "text/plain": [
              "                                               excerpt  classification\n",
              "0                      software defined networking sdn               1\n",
              "1    spdy experimental protocol multiplexing multip...               1\n",
              "2    aspnet signalr library aspnet developers makes...               0\n",
              "3    apache kafka publish subscribe messaging frame...               2\n",
              "4    kubernetes open source implementation containe...               1\n",
              "..                                                 ...             ...\n",
              "262  docker provides high level api containerize un...               2\n",
              "263  axon java application framework implementing s...               0\n",
              "264  html hyper text markup language version umbrel...               0\n",
              "265  c introduced features like dynamic objects com...               0\n",
              "266  nancy lightweight web framework net platform i...               0\n",
              "\n",
              "[266 rows x 2 columns]"
            ],
            "text/html": [
              "\n",
              "  <div id=\"df-829ffca9-8b76-4e69-87fd-e595c3065f74\">\n",
              "    <div class=\"colab-df-container\">\n",
              "      <div>\n",
              "<style scoped>\n",
              "    .dataframe tbody tr th:only-of-type {\n",
              "        vertical-align: middle;\n",
              "    }\n",
              "\n",
              "    .dataframe tbody tr th {\n",
              "        vertical-align: top;\n",
              "    }\n",
              "\n",
              "    .dataframe thead th {\n",
              "        text-align: right;\n",
              "    }\n",
              "</style>\n",
              "<table border=\"1\" class=\"dataframe\">\n",
              "  <thead>\n",
              "    <tr style=\"text-align: right;\">\n",
              "      <th></th>\n",
              "      <th>excerpt</th>\n",
              "      <th>classification</th>\n",
              "    </tr>\n",
              "  </thead>\n",
              "  <tbody>\n",
              "    <tr>\n",
              "      <th>0</th>\n",
              "      <td>software defined networking sdn</td>\n",
              "      <td>1</td>\n",
              "    </tr>\n",
              "    <tr>\n",
              "      <th>1</th>\n",
              "      <td>spdy experimental protocol multiplexing multip...</td>\n",
              "      <td>1</td>\n",
              "    </tr>\n",
              "    <tr>\n",
              "      <th>2</th>\n",
              "      <td>aspnet signalr library aspnet developers makes...</td>\n",
              "      <td>0</td>\n",
              "    </tr>\n",
              "    <tr>\n",
              "      <th>3</th>\n",
              "      <td>apache kafka publish subscribe messaging frame...</td>\n",
              "      <td>2</td>\n",
              "    </tr>\n",
              "    <tr>\n",
              "      <th>4</th>\n",
              "      <td>kubernetes open source implementation containe...</td>\n",
              "      <td>1</td>\n",
              "    </tr>\n",
              "    <tr>\n",
              "      <th>...</th>\n",
              "      <td>...</td>\n",
              "      <td>...</td>\n",
              "    </tr>\n",
              "    <tr>\n",
              "      <th>262</th>\n",
              "      <td>docker provides high level api containerize un...</td>\n",
              "      <td>2</td>\n",
              "    </tr>\n",
              "    <tr>\n",
              "      <th>263</th>\n",
              "      <td>axon java application framework implementing s...</td>\n",
              "      <td>0</td>\n",
              "    </tr>\n",
              "    <tr>\n",
              "      <th>264</th>\n",
              "      <td>html hyper text markup language version umbrel...</td>\n",
              "      <td>0</td>\n",
              "    </tr>\n",
              "    <tr>\n",
              "      <th>265</th>\n",
              "      <td>c introduced features like dynamic objects com...</td>\n",
              "      <td>0</td>\n",
              "    </tr>\n",
              "    <tr>\n",
              "      <th>266</th>\n",
              "      <td>nancy lightweight web framework net platform i...</td>\n",
              "      <td>0</td>\n",
              "    </tr>\n",
              "  </tbody>\n",
              "</table>\n",
              "<p>266 rows × 2 columns</p>\n",
              "</div>\n",
              "      <button class=\"colab-df-convert\" onclick=\"convertToInteractive('df-829ffca9-8b76-4e69-87fd-e595c3065f74')\"\n",
              "              title=\"Convert this dataframe to an interactive table.\"\n",
              "              style=\"display:none;\">\n",
              "        \n",
              "  <svg xmlns=\"http://www.w3.org/2000/svg\" height=\"24px\"viewBox=\"0 0 24 24\"\n",
              "       width=\"24px\">\n",
              "    <path d=\"M0 0h24v24H0V0z\" fill=\"none\"/>\n",
              "    <path d=\"M18.56 5.44l.94 2.06.94-2.06 2.06-.94-2.06-.94-.94-2.06-.94 2.06-2.06.94zm-11 1L8.5 8.5l.94-2.06 2.06-.94-2.06-.94L8.5 2.5l-.94 2.06-2.06.94zm10 10l.94 2.06.94-2.06 2.06-.94-2.06-.94-.94-2.06-.94 2.06-2.06.94z\"/><path d=\"M17.41 7.96l-1.37-1.37c-.4-.4-.92-.59-1.43-.59-.52 0-1.04.2-1.43.59L10.3 9.45l-7.72 7.72c-.78.78-.78 2.05 0 2.83L4 21.41c.39.39.9.59 1.41.59.51 0 1.02-.2 1.41-.59l7.78-7.78 2.81-2.81c.8-.78.8-2.07 0-2.86zM5.41 20L4 18.59l7.72-7.72 1.47 1.35L5.41 20z\"/>\n",
              "  </svg>\n",
              "      </button>\n",
              "      \n",
              "  <style>\n",
              "    .colab-df-container {\n",
              "      display:flex;\n",
              "      flex-wrap:wrap;\n",
              "      gap: 12px;\n",
              "    }\n",
              "\n",
              "    .colab-df-convert {\n",
              "      background-color: #E8F0FE;\n",
              "      border: none;\n",
              "      border-radius: 50%;\n",
              "      cursor: pointer;\n",
              "      display: none;\n",
              "      fill: #1967D2;\n",
              "      height: 32px;\n",
              "      padding: 0 0 0 0;\n",
              "      width: 32px;\n",
              "    }\n",
              "\n",
              "    .colab-df-convert:hover {\n",
              "      background-color: #E2EBFA;\n",
              "      box-shadow: 0px 1px 2px rgba(60, 64, 67, 0.3), 0px 1px 3px 1px rgba(60, 64, 67, 0.15);\n",
              "      fill: #174EA6;\n",
              "    }\n",
              "\n",
              "    [theme=dark] .colab-df-convert {\n",
              "      background-color: #3B4455;\n",
              "      fill: #D2E3FC;\n",
              "    }\n",
              "\n",
              "    [theme=dark] .colab-df-convert:hover {\n",
              "      background-color: #434B5C;\n",
              "      box-shadow: 0px 1px 3px 1px rgba(0, 0, 0, 0.15);\n",
              "      filter: drop-shadow(0px 1px 2px rgba(0, 0, 0, 0.3));\n",
              "      fill: #FFFFFF;\n",
              "    }\n",
              "  </style>\n",
              "\n",
              "      <script>\n",
              "        const buttonEl =\n",
              "          document.querySelector('#df-829ffca9-8b76-4e69-87fd-e595c3065f74 button.colab-df-convert');\n",
              "        buttonEl.style.display =\n",
              "          google.colab.kernel.accessAllowed ? 'block' : 'none';\n",
              "\n",
              "        async function convertToInteractive(key) {\n",
              "          const element = document.querySelector('#df-829ffca9-8b76-4e69-87fd-e595c3065f74');\n",
              "          const dataTable =\n",
              "            await google.colab.kernel.invokeFunction('convertToInteractive',\n",
              "                                                     [key], {});\n",
              "          if (!dataTable) return;\n",
              "\n",
              "          const docLinkHtml = 'Like what you see? Visit the ' +\n",
              "            '<a target=\"_blank\" href=https://colab.research.google.com/notebooks/data_table.ipynb>data table notebook</a>'\n",
              "            + ' to learn more about interactive tables.';\n",
              "          element.innerHTML = '';\n",
              "          dataTable['output_type'] = 'display_data';\n",
              "          await google.colab.output.renderOutput(dataTable, element);\n",
              "          const docLink = document.createElement('div');\n",
              "          docLink.innerHTML = docLinkHtml;\n",
              "          element.appendChild(docLink);\n",
              "        }\n",
              "      </script>\n",
              "    </div>\n",
              "  </div>\n",
              "  "
            ]
          },
          "metadata": {},
          "execution_count": 26
        }
      ]
    },
    {
      "cell_type": "markdown",
      "source": [
        "##Lematização"
      ],
      "metadata": {
        "id": "bF8gITyEUqrL"
      }
    },
    {
      "cell_type": "code",
      "source": [
        "wnl = WordNetLemmatizer()\n",
        "nlp = spacy.load(\"en_core_web_sm\")"
      ],
      "metadata": {
        "id": "UnMM-CrEYQZR"
      },
      "execution_count": 27,
      "outputs": []
    },
    {
      "cell_type": "code",
      "source": [
        "stack_df['excerpt'] = stack_df['excerpt'].apply(lambda x: \" \".join([w.lemma_ for w in nlp(x) if w.lemma_ not in stop_words]))"
      ],
      "metadata": {
        "id": "_wfu-RZnVik-"
      },
      "execution_count": 28,
      "outputs": []
    },
    {
      "cell_type": "code",
      "source": [
        "stack_df"
      ],
      "metadata": {
        "colab": {
          "base_uri": "https://localhost:8080/",
          "height": 424
        },
        "id": "hBCvUSK4YufQ",
        "outputId": "66cc37e7-5cdf-42ac-fc17-f5ce2373f527"
      },
      "execution_count": 29,
      "outputs": [
        {
          "output_type": "execute_result",
          "data": {
            "text/plain": [
              "                                               excerpt  classification\n",
              "0                       software define networking sdn               1\n",
              "1    spdy experimental protocol multiplexe multiple...               1\n",
              "2    aspnet signalr library aspnet developer make i...               0\n",
              "3    apache kafka publish subscribe message framewo...               2\n",
              "4    kubernete open source implementation container...               1\n",
              "..                                                 ...             ...\n",
              "262  docker provide high level api containerize uni...               2\n",
              "263  axon java application framework implement soft...               0\n",
              "264  html hyper text markup language version umbrel...               0\n",
              "265  c introduce feature like dynamic object com in...               0\n",
              "266  nancy lightweight web framework net platform i...               0\n",
              "\n",
              "[266 rows x 2 columns]"
            ],
            "text/html": [
              "\n",
              "  <div id=\"df-95a4c140-36be-40f1-8904-1283945ddf7a\">\n",
              "    <div class=\"colab-df-container\">\n",
              "      <div>\n",
              "<style scoped>\n",
              "    .dataframe tbody tr th:only-of-type {\n",
              "        vertical-align: middle;\n",
              "    }\n",
              "\n",
              "    .dataframe tbody tr th {\n",
              "        vertical-align: top;\n",
              "    }\n",
              "\n",
              "    .dataframe thead th {\n",
              "        text-align: right;\n",
              "    }\n",
              "</style>\n",
              "<table border=\"1\" class=\"dataframe\">\n",
              "  <thead>\n",
              "    <tr style=\"text-align: right;\">\n",
              "      <th></th>\n",
              "      <th>excerpt</th>\n",
              "      <th>classification</th>\n",
              "    </tr>\n",
              "  </thead>\n",
              "  <tbody>\n",
              "    <tr>\n",
              "      <th>0</th>\n",
              "      <td>software define networking sdn</td>\n",
              "      <td>1</td>\n",
              "    </tr>\n",
              "    <tr>\n",
              "      <th>1</th>\n",
              "      <td>spdy experimental protocol multiplexe multiple...</td>\n",
              "      <td>1</td>\n",
              "    </tr>\n",
              "    <tr>\n",
              "      <th>2</th>\n",
              "      <td>aspnet signalr library aspnet developer make i...</td>\n",
              "      <td>0</td>\n",
              "    </tr>\n",
              "    <tr>\n",
              "      <th>3</th>\n",
              "      <td>apache kafka publish subscribe message framewo...</td>\n",
              "      <td>2</td>\n",
              "    </tr>\n",
              "    <tr>\n",
              "      <th>4</th>\n",
              "      <td>kubernete open source implementation container...</td>\n",
              "      <td>1</td>\n",
              "    </tr>\n",
              "    <tr>\n",
              "      <th>...</th>\n",
              "      <td>...</td>\n",
              "      <td>...</td>\n",
              "    </tr>\n",
              "    <tr>\n",
              "      <th>262</th>\n",
              "      <td>docker provide high level api containerize uni...</td>\n",
              "      <td>2</td>\n",
              "    </tr>\n",
              "    <tr>\n",
              "      <th>263</th>\n",
              "      <td>axon java application framework implement soft...</td>\n",
              "      <td>0</td>\n",
              "    </tr>\n",
              "    <tr>\n",
              "      <th>264</th>\n",
              "      <td>html hyper text markup language version umbrel...</td>\n",
              "      <td>0</td>\n",
              "    </tr>\n",
              "    <tr>\n",
              "      <th>265</th>\n",
              "      <td>c introduce feature like dynamic object com in...</td>\n",
              "      <td>0</td>\n",
              "    </tr>\n",
              "    <tr>\n",
              "      <th>266</th>\n",
              "      <td>nancy lightweight web framework net platform i...</td>\n",
              "      <td>0</td>\n",
              "    </tr>\n",
              "  </tbody>\n",
              "</table>\n",
              "<p>266 rows × 2 columns</p>\n",
              "</div>\n",
              "      <button class=\"colab-df-convert\" onclick=\"convertToInteractive('df-95a4c140-36be-40f1-8904-1283945ddf7a')\"\n",
              "              title=\"Convert this dataframe to an interactive table.\"\n",
              "              style=\"display:none;\">\n",
              "        \n",
              "  <svg xmlns=\"http://www.w3.org/2000/svg\" height=\"24px\"viewBox=\"0 0 24 24\"\n",
              "       width=\"24px\">\n",
              "    <path d=\"M0 0h24v24H0V0z\" fill=\"none\"/>\n",
              "    <path d=\"M18.56 5.44l.94 2.06.94-2.06 2.06-.94-2.06-.94-.94-2.06-.94 2.06-2.06.94zm-11 1L8.5 8.5l.94-2.06 2.06-.94-2.06-.94L8.5 2.5l-.94 2.06-2.06.94zm10 10l.94 2.06.94-2.06 2.06-.94-2.06-.94-.94-2.06-.94 2.06-2.06.94z\"/><path d=\"M17.41 7.96l-1.37-1.37c-.4-.4-.92-.59-1.43-.59-.52 0-1.04.2-1.43.59L10.3 9.45l-7.72 7.72c-.78.78-.78 2.05 0 2.83L4 21.41c.39.39.9.59 1.41.59.51 0 1.02-.2 1.41-.59l7.78-7.78 2.81-2.81c.8-.78.8-2.07 0-2.86zM5.41 20L4 18.59l7.72-7.72 1.47 1.35L5.41 20z\"/>\n",
              "  </svg>\n",
              "      </button>\n",
              "      \n",
              "  <style>\n",
              "    .colab-df-container {\n",
              "      display:flex;\n",
              "      flex-wrap:wrap;\n",
              "      gap: 12px;\n",
              "    }\n",
              "\n",
              "    .colab-df-convert {\n",
              "      background-color: #E8F0FE;\n",
              "      border: none;\n",
              "      border-radius: 50%;\n",
              "      cursor: pointer;\n",
              "      display: none;\n",
              "      fill: #1967D2;\n",
              "      height: 32px;\n",
              "      padding: 0 0 0 0;\n",
              "      width: 32px;\n",
              "    }\n",
              "\n",
              "    .colab-df-convert:hover {\n",
              "      background-color: #E2EBFA;\n",
              "      box-shadow: 0px 1px 2px rgba(60, 64, 67, 0.3), 0px 1px 3px 1px rgba(60, 64, 67, 0.15);\n",
              "      fill: #174EA6;\n",
              "    }\n",
              "\n",
              "    [theme=dark] .colab-df-convert {\n",
              "      background-color: #3B4455;\n",
              "      fill: #D2E3FC;\n",
              "    }\n",
              "\n",
              "    [theme=dark] .colab-df-convert:hover {\n",
              "      background-color: #434B5C;\n",
              "      box-shadow: 0px 1px 3px 1px rgba(0, 0, 0, 0.15);\n",
              "      filter: drop-shadow(0px 1px 2px rgba(0, 0, 0, 0.3));\n",
              "      fill: #FFFFFF;\n",
              "    }\n",
              "  </style>\n",
              "\n",
              "      <script>\n",
              "        const buttonEl =\n",
              "          document.querySelector('#df-95a4c140-36be-40f1-8904-1283945ddf7a button.colab-df-convert');\n",
              "        buttonEl.style.display =\n",
              "          google.colab.kernel.accessAllowed ? 'block' : 'none';\n",
              "\n",
              "        async function convertToInteractive(key) {\n",
              "          const element = document.querySelector('#df-95a4c140-36be-40f1-8904-1283945ddf7a');\n",
              "          const dataTable =\n",
              "            await google.colab.kernel.invokeFunction('convertToInteractive',\n",
              "                                                     [key], {});\n",
              "          if (!dataTable) return;\n",
              "\n",
              "          const docLinkHtml = 'Like what you see? Visit the ' +\n",
              "            '<a target=\"_blank\" href=https://colab.research.google.com/notebooks/data_table.ipynb>data table notebook</a>'\n",
              "            + ' to learn more about interactive tables.';\n",
              "          element.innerHTML = '';\n",
              "          dataTable['output_type'] = 'display_data';\n",
              "          await google.colab.output.renderOutput(dataTable, element);\n",
              "          const docLink = document.createElement('div');\n",
              "          docLink.innerHTML = docLinkHtml;\n",
              "          element.appendChild(docLink);\n",
              "        }\n",
              "      </script>\n",
              "    </div>\n",
              "  </div>\n",
              "  "
            ]
          },
          "metadata": {},
          "execution_count": 29
        }
      ]
    },
    {
      "cell_type": "markdown",
      "source": [
        "##Classificação do dataset"
      ],
      "metadata": {
        "id": "Tdgc824xkGAq"
      }
    },
    {
      "cell_type": "markdown",
      "source": [
        "###Selecionando índices de forma aleatória"
      ],
      "metadata": {
        "id": "3YBif4gAZRmm"
      }
    },
    {
      "cell_type": "code",
      "source": [
        "def random_sample(df: pd.DataFrame, qtd: int):\n",
        "  list_samples = random.sample(list(df.index), qtd)\n",
        "\n",
        "  for i in list_samples:\n",
        "    print(f\"stack_df.loc[{i}]['excerpt']\")\n",
        "    \n",
        "  return list_samples"
      ],
      "metadata": {
        "id": "L1XJpXcfZQbf"
      },
      "execution_count": 109,
      "outputs": []
    },
    {
      "cell_type": "code",
      "source": [
        "list_samples = random_sample(stack_df, 5)"
      ],
      "metadata": {
        "colab": {
          "base_uri": "https://localhost:8080/"
        },
        "id": "-mzweJaUZlgp",
        "outputId": "f53673d7-9943-4936-d4ca-a34d1da04347"
      },
      "execution_count": 110,
      "outputs": [
        {
          "output_type": "stream",
          "name": "stdout",
          "text": [
            "stack_df.loc[170]['excerpt']\n",
            "stack_df.loc[242]['excerpt']\n",
            "stack_df.loc[51]['excerpt']\n",
            "stack_df.loc[182]['excerpt']\n",
            "stack_df.loc[223]['excerpt']\n"
          ]
        }
      ]
    },
    {
      "cell_type": "markdown",
      "source": [
        "###Aplicação dos rótulos"
      ],
      "metadata": {
        "id": "spjX44IUZBXt"
      }
    },
    {
      "cell_type": "code",
      "source": [
        "# Primeiro entender o assunto tratado em cada texto e classificá-los de acordo com os rótulos\n",
        "stack_df.loc[198]['excerpt']"
      ],
      "metadata": {
        "colab": {
          "base_uri": "https://localhost:8080/",
          "height": 35
        },
        "id": "3hxQ_OASrbFT",
        "outputId": "3a92e903-031a-44da-e1ea-73f838d62edc"
      },
      "execution_count": 100,
      "outputs": [
        {
          "output_type": "execute_result",
          "data": {
            "text/plain": [
              "'bootdocker lightweight linux distribution base tiny core linux make specifically run docker container run completely ram weigh mb boot ymmv'"
            ],
            "application/vnd.google.colaboratory.intrinsic+json": {
              "type": "string"
            }
          },
          "metadata": {},
          "execution_count": 100
        }
      ]
    },
    {
      "cell_type": "code",
      "source": [
        "stack_df.loc[168]['classification']"
      ],
      "metadata": {
        "colab": {
          "base_uri": "https://localhost:8080/"
        },
        "id": "OjC_EwKmreQo",
        "outputId": "1ccc6000-7444-40db-8208-f48eae96257d"
      },
      "execution_count": 102,
      "outputs": [
        {
          "output_type": "execute_result",
          "data": {
            "text/plain": [
              "2"
            ]
          },
          "metadata": {},
          "execution_count": 102
        }
      ]
    },
    {
      "cell_type": "code",
      "source": [
        "stack_df.loc[16]['excerpt']"
      ],
      "metadata": {
        "colab": {
          "base_uri": "https://localhost:8080/",
          "height": 35
        },
        "id": "_Q2p0jMDkPJ_",
        "outputId": "344b68d7-0140-409e-884f-4b3f76424059"
      },
      "execution_count": 32,
      "outputs": [
        {
          "output_type": "execute_result",
          "data": {
            "text/plain": [
              "'swift application system programming language develop apple distribute open source use tag question specific swift language feature require code language'"
            ],
            "application/vnd.google.colaboratory.intrinsic+json": {
              "type": "string"
            }
          },
          "metadata": {},
          "execution_count": 32
        }
      ]
    },
    {
      "cell_type": "code",
      "source": [
        "stack_df.loc[16]['classification']"
      ],
      "metadata": {
        "colab": {
          "base_uri": "https://localhost:8080/"
        },
        "id": "SyH9KEeQk6yV",
        "outputId": "61de8c6b-4126-4dc1-d054-16d27b5e6a47"
      },
      "execution_count": 33,
      "outputs": [
        {
          "output_type": "execute_result",
          "data": {
            "text/plain": [
              "0"
            ]
          },
          "metadata": {},
          "execution_count": 33
        }
      ]
    },
    {
      "cell_type": "code",
      "source": [
        "stack_df.loc[263]['excerpt']"
      ],
      "metadata": {
        "colab": {
          "base_uri": "https://localhost:8080/",
          "height": 35
        },
        "id": "7acEV0JVkveM",
        "outputId": "a4ef8539-00b8-45c2-bf98-ac2d4819c289"
      },
      "execution_count": 34,
      "outputs": [
        {
          "output_type": "execute_result",
          "data": {
            "text/plain": [
              "'axon java application framework implement software use cqrs principle'"
            ],
            "application/vnd.google.colaboratory.intrinsic+json": {
              "type": "string"
            }
          },
          "metadata": {},
          "execution_count": 34
        }
      ]
    },
    {
      "cell_type": "code",
      "source": [
        "stack_df.loc[263]['classification']"
      ],
      "metadata": {
        "colab": {
          "base_uri": "https://localhost:8080/"
        },
        "id": "adt56R6UlbL8",
        "outputId": "159cd438-8577-4b75-b824-a16a77328654"
      },
      "execution_count": 35,
      "outputs": [
        {
          "output_type": "execute_result",
          "data": {
            "text/plain": [
              "0"
            ]
          },
          "metadata": {},
          "execution_count": 35
        }
      ]
    },
    {
      "cell_type": "code",
      "source": [
        "stack_df.loc[197]['excerpt']"
      ],
      "metadata": {
        "colab": {
          "base_uri": "https://localhost:8080/",
          "height": 35
        },
        "id": "W_yoejVokx7R",
        "outputId": "d1e5c4cc-cb1b-4165-8969-082ee5f87729"
      },
      "execution_count": 36,
      "outputs": [
        {
          "output_type": "execute_result",
          "data": {
            "text/plain": [
              "'powershell unit testing framework'"
            ],
            "application/vnd.google.colaboratory.intrinsic+json": {
              "type": "string"
            }
          },
          "metadata": {},
          "execution_count": 36
        }
      ]
    },
    {
      "cell_type": "code",
      "source": [
        "stack_df.loc[197]['classification']"
      ],
      "metadata": {
        "colab": {
          "base_uri": "https://localhost:8080/"
        },
        "id": "X791C15Hlgr2",
        "outputId": "753495c2-9121-419b-dda2-36313785ee33"
      },
      "execution_count": 37,
      "outputs": [
        {
          "output_type": "execute_result",
          "data": {
            "text/plain": [
              "0"
            ]
          },
          "metadata": {},
          "execution_count": 37
        }
      ]
    },
    {
      "cell_type": "code",
      "source": [
        "stack_df.loc[200]['excerpt']"
      ],
      "metadata": {
        "colab": {
          "base_uri": "https://localhost:8080/",
          "height": 53
        },
        "id": "wqDGGrqZkxpl",
        "outputId": "d1d2897b-5983-4679-a770-f66218d3c7e1"
      },
      "execution_count": 38,
      "outputs": [
        {
          "output_type": "execute_result",
          "data": {
            "text/plain": [
              "'hive data warehouse system hadoop facilitate easy datum summarization ad hoc query analysis large dataset store hadoop compatible file system hive provide mechanism project structure onto datum query datum use sql like language call hiveql'"
            ],
            "application/vnd.google.colaboratory.intrinsic+json": {
              "type": "string"
            }
          },
          "metadata": {},
          "execution_count": 38
        }
      ]
    },
    {
      "cell_type": "code",
      "source": [
        "category = {\n",
        "    0: 'Ferramentas',\n",
        "    1: 'Plataformas',\n",
        "    2: 'Linguagens e Frameworks'\n",
        "}"
      ],
      "metadata": {
        "id": "N_Iaq3cj5DNL"
      },
      "execution_count": 39,
      "outputs": []
    },
    {
      "cell_type": "code",
      "source": [
        "# Mapeamento das categorias\n",
        "stack_df['category'] = stack_df['classification']\n",
        "stack_df = stack_df.replace({'category':category})"
      ],
      "metadata": {
        "id": "jRkGzr--5D5a"
      },
      "execution_count": 40,
      "outputs": []
    },
    {
      "cell_type": "markdown",
      "source": [
        "##Divisão do conjunto em treino e teste"
      ],
      "metadata": {
        "id": "nEJjQGOMZGH4"
      }
    },
    {
      "cell_type": "code",
      "source": [
        "X_train, X_test, y_train, y_test = train_test_split(stack_df['excerpt'], \n",
        "                                                    stack_df['classification'], \n",
        "                                                    test_size=0.3, \n",
        "                                                    random_state=1)"
      ],
      "metadata": {
        "id": "hE4A0ZhtZWl-"
      },
      "execution_count": 41,
      "outputs": []
    },
    {
      "cell_type": "code",
      "source": [
        "X_train"
      ],
      "metadata": {
        "colab": {
          "base_uri": "https://localhost:8080/"
        },
        "id": "EKbGecuo2OYC",
        "outputId": "d4704dbf-9ece-4f99-83f9-cc004fc6aa7d"
      },
      "execution_count": 42,
      "outputs": [
        {
          "output_type": "execute_result",
          "data": {
            "text/plain": [
              "248    puppet ruby base configuration management syst...\n",
              "119    leaflet open source javascript library display...\n",
              "120    gradle project build automation tool use groov...\n",
              "189    visual studio integrate development environmen...\n",
              "207    presto open source distribute sql query engine...\n",
              "                             ...                        \n",
              "204    python dynamic strongly type programming langu...\n",
              "256    mongodb scalable high performance open source ...\n",
              "72     zucchini visual ios testing framework build ru...\n",
              "236    cylonj javascript framework robotic physical c...\n",
              "37     f succinct expressive efficient functional obj...\n",
              "Name: excerpt, Length: 186, dtype: object"
            ]
          },
          "metadata": {},
          "execution_count": 42
        }
      ]
    },
    {
      "cell_type": "markdown",
      "source": [
        "##Transformação dos dados"
      ],
      "metadata": {
        "id": "b7-SoDuY4vzp"
      }
    },
    {
      "cell_type": "markdown",
      "source": [
        "###TF-IDF"
      ],
      "metadata": {
        "id": "E071BgFRv-v2"
      }
    },
    {
      "cell_type": "code",
      "source": [
        "ngram_range = (1,2)\n",
        "min_df = 5\n",
        "max_df = 27"
      ],
      "metadata": {
        "id": "Gnq1YY0K0a9t"
      },
      "execution_count": 43,
      "outputs": []
    },
    {
      "cell_type": "code",
      "source": [
        "tfidf = TfidfVectorizer(ngram_range=ngram_range,\n",
        "                        stop_words=stop_words,\n",
        "                        max_df=max_df,\n",
        "                        min_df=min_df,\n",
        "                        sublinear_tf=True)\n",
        "                        \n",
        "features_train = tfidf.fit_transform(X_train).toarray()\n",
        "labels_train = y_train\n",
        "print(features_train.shape)\n",
        "\n",
        "features_test = tfidf.transform(X_test).toarray()\n",
        "labels_test = y_test\n",
        "print(features_test.shape)"
      ],
      "metadata": {
        "colab": {
          "base_uri": "https://localhost:8080/"
        },
        "id": "AXh1TVTv1L94",
        "outputId": "d43d62fe-3d14-423b-d66a-8313c9e7f985"
      },
      "execution_count": 44,
      "outputs": [
        {
          "output_type": "stream",
          "name": "stdout",
          "text": [
            "(186, 126)\n",
            "(80, 126)\n"
          ]
        }
      ]
    },
    {
      "cell_type": "code",
      "source": [
        "for Product, classification in sorted(category.items()):\n",
        "  features_chi2 = chi2(features_train, labels_train == classification)\n",
        "  indices = np.argsort(features_chi2[0])\n",
        "  feature_names = np.array(tfidf.get_feature_names_out())[indices]\n",
        "  unigrams = [v for v in feature_names if len(v.split(' ')) == 1]\n",
        "  bigrams = [v for v in feature_names if len(v.split(' ')) == 2]\n",
        "  print(\"# '{}' category:\".format(Product))\n",
        "  print(\"  . Most correlated unigrams:\\n. {}\".format('\\n. '.join(unigrams[-5:])))\n",
        "  print(\"  . Most correlated bigrams:\\n. {}\".format('\\n. '.join(bigrams[-2:])))\n",
        "  print(\"\")"
      ],
      "metadata": {
        "colab": {
          "base_uri": "https://localhost:8080/"
        },
        "id": "Z6_gDaw32y9m",
        "outputId": "c1ba65fc-ef5c-44b1-c011-8de08310483e"
      },
      "execution_count": 45,
      "outputs": [
        {
          "output_type": "stream",
          "name": "stdout",
          "text": [
            "# '0' category:\n",
            "  . Most correlated unigrams:\n",
            ". distribute\n",
            ". device\n",
            ". development\n",
            ". developer\n",
            ". write\n",
            "  . Most correlated bigrams:\n",
            ". server side\n",
            ". functional programming\n",
            "\n",
            "# '1' category:\n",
            "  . Most correlated unigrams:\n",
            ". distribute\n",
            ". device\n",
            ". development\n",
            ". developer\n",
            ". write\n",
            "  . Most correlated bigrams:\n",
            ". server side\n",
            ". functional programming\n",
            "\n",
            "# '2' category:\n",
            "  . Most correlated unigrams:\n",
            ". distribute\n",
            ". device\n",
            ". development\n",
            ". developer\n",
            ". write\n",
            "  . Most correlated bigrams:\n",
            ". server side\n",
            ". functional programming\n",
            "\n"
          ]
        }
      ]
    },
    {
      "cell_type": "markdown",
      "source": [
        "###COMPLEMENTO: Nuvem de palavras"
      ],
      "metadata": {
        "id": "y3Wh1-748eTS"
      }
    },
    {
      "cell_type": "code",
      "source": [
        "all_words = ' '.join([text for text in stack_df.excerpt])\n",
        "\n",
        "word_cloud = WordCloud(width=800,\n",
        "                       height=500,\n",
        "                       max_font_size = 80,\n",
        "                       collocations = False).generate(all_words)\n",
        "\n",
        "plt.figure(figsize=(10,7))\n",
        "plt.imshow(word_cloud, interpolation='bilinear')\n",
        "plt.axis(\"off\")\n",
        "plt.show()"
      ],
      "metadata": {
        "colab": {
          "base_uri": "https://localhost:8080/",
          "height": 380
        },
        "id": "r851-tQl8bmj",
        "outputId": "863b5d86-85fe-4cca-f146-a4dfea51063c"
      },
      "execution_count": 46,
      "outputs": [
        {
          "output_type": "display_data",
          "data": {
            "text/plain": [
              "<Figure size 720x504 with 1 Axes>"
            ],
            "image/png": "[encoded data removed]"
          },
          "metadata": {}
        }
      ]
    },
    {
      "cell_type": "markdown",
      "source": [
        "###COMPLEMENTO: Frequência de palavras"
      ],
      "metadata": {
        "id": "55N2GeTj9jzP"
      }
    },
    {
      "cell_type": "code",
      "source": [
        "white_space_token = tokenize.WhitespaceTokenizer()\n",
        "token_phrase = white_space_token.tokenize(all_words)\n",
        "frequency = nltk.FreqDist(token_phrase)\n",
        "\n",
        "frequency_df = pd.DataFrame({\"Palavra\": list(frequency.keys()),\n",
        "                             \"Frequência\": list(frequency.values())})"
      ],
      "metadata": {
        "id": "Kyw9HBNy9ndM"
      },
      "execution_count": 47,
      "outputs": []
    },
    {
      "cell_type": "code",
      "source": [
        "frequency_df.nlargest(columns = \"Frequência\", n = 15).reset_index(drop=True)"
      ],
      "metadata": {
        "colab": {
          "base_uri": "https://localhost:8080/",
          "height": 520
        },
        "id": "uolFb0LJ-Gvr",
        "outputId": "8ac495fd-f426-4c6f-80e4-b6bdbf40651d"
      },
      "execution_count": 48,
      "outputs": [
        {
          "output_type": "execute_result",
          "data": {
            "text/plain": [
              "        Palavra  Frequência\n",
              "0           use          99\n",
              "1        source          74\n",
              "2          open          70\n",
              "3   application          66\n",
              "4      language          66\n",
              "5           web          63\n",
              "6     framework          51\n",
              "7    javascript          51\n",
              "8          java          47\n",
              "9          base          47\n",
              "10      service          47\n",
              "11     platform          45\n",
              "12       system          39\n",
              "13        datum          38\n",
              "14        cloud          33"
            ],
            "text/html": [
              "\n",
              "  <div id=\"df-65a47eee-1e1b-4ae6-8200-cec78822a6d8\">\n",
              "    <div class=\"colab-df-container\">\n",
              "      <div>\n",
              "<style scoped>\n",
              "    .dataframe tbody tr th:only-of-type {\n",
              "        vertical-align: middle;\n",
              "    }\n",
              "\n",
              "    .dataframe tbody tr th {\n",
              "        vertical-align: top;\n",
              "    }\n",
              "\n",
              "    .dataframe thead th {\n",
              "        text-align: right;\n",
              "    }\n",
              "</style>\n",
              "<table border=\"1\" class=\"dataframe\">\n",
              "  <thead>\n",
              "    <tr style=\"text-align: right;\">\n",
              "      <th></th>\n",
              "      <th>Palavra</th>\n",
              "      <th>Frequência</th>\n",
              "    </tr>\n",
              "  </thead>\n",
              "  <tbody>\n",
              "    <tr>\n",
              "      <th>0</th>\n",
              "      <td>use</td>\n",
              "      <td>99</td>\n",
              "    </tr>\n",
              "    <tr>\n",
              "      <th>1</th>\n",
              "      <td>source</td>\n",
              "      <td>74</td>\n",
              "    </tr>\n",
              "    <tr>\n",
              "      <th>2</th>\n",
              "      <td>open</td>\n",
              "      <td>70</td>\n",
              "    </tr>\n",
              "    <tr>\n",
              "      <th>3</th>\n",
              "      <td>application</td>\n",
              "      <td>66</td>\n",
              "    </tr>\n",
              "    <tr>\n",
              "      <th>4</th>\n",
              "      <td>language</td>\n",
              "      <td>66</td>\n",
              "    </tr>\n",
              "    <tr>\n",
              "      <th>5</th>\n",
              "      <td>web</td>\n",
              "      <td>63</td>\n",
              "    </tr>\n",
              "    <tr>\n",
              "      <th>6</th>\n",
              "      <td>framework</td>\n",
              "      <td>51</td>\n",
              "    </tr>\n",
              "    <tr>\n",
              "      <th>7</th>\n",
              "      <td>javascript</td>\n",
              "      <td>51</td>\n",
              "    </tr>\n",
              "    <tr>\n",
              "      <th>8</th>\n",
              "      <td>java</td>\n",
              "      <td>47</td>\n",
              "    </tr>\n",
              "    <tr>\n",
              "      <th>9</th>\n",
              "      <td>base</td>\n",
              "      <td>47</td>\n",
              "    </tr>\n",
              "    <tr>\n",
              "      <th>10</th>\n",
              "      <td>service</td>\n",
              "      <td>47</td>\n",
              "    </tr>\n",
              "    <tr>\n",
              "      <th>11</th>\n",
              "      <td>platform</td>\n",
              "      <td>45</td>\n",
              "    </tr>\n",
              "    <tr>\n",
              "      <th>12</th>\n",
              "      <td>system</td>\n",
              "      <td>39</td>\n",
              "    </tr>\n",
              "    <tr>\n",
              "      <th>13</th>\n",
              "      <td>datum</td>\n",
              "      <td>38</td>\n",
              "    </tr>\n",
              "    <tr>\n",
              "      <th>14</th>\n",
              "      <td>cloud</td>\n",
              "      <td>33</td>\n",
              "    </tr>\n",
              "  </tbody>\n",
              "</table>\n",
              "</div>\n",
              "      <button class=\"colab-df-convert\" onclick=\"convertToInteractive('df-65a47eee-1e1b-4ae6-8200-cec78822a6d8')\"\n",
              "              title=\"Convert this dataframe to an interactive table.\"\n",
              "              style=\"display:none;\">\n",
              "        \n",
              "  <svg xmlns=\"http://www.w3.org/2000/svg\" height=\"24px\"viewBox=\"0 0 24 24\"\n",
              "       width=\"24px\">\n",
              "    <path d=\"M0 0h24v24H0V0z\" fill=\"none\"/>\n",
              "    <path d=\"M18.56 5.44l.94 2.06.94-2.06 2.06-.94-2.06-.94-.94-2.06-.94 2.06-2.06.94zm-11 1L8.5 8.5l.94-2.06 2.06-.94-2.06-.94L8.5 2.5l-.94 2.06-2.06.94zm10 10l.94 2.06.94-2.06 2.06-.94-2.06-.94-.94-2.06-.94 2.06-2.06.94z\"/><path d=\"M17.41 7.96l-1.37-1.37c-.4-.4-.92-.59-1.43-.59-.52 0-1.04.2-1.43.59L10.3 9.45l-7.72 7.72c-.78.78-.78 2.05 0 2.83L4 21.41c.39.39.9.59 1.41.59.51 0 1.02-.2 1.41-.59l7.78-7.78 2.81-2.81c.8-.78.8-2.07 0-2.86zM5.41 20L4 18.59l7.72-7.72 1.47 1.35L5.41 20z\"/>\n",
              "  </svg>\n",
              "      </button>\n",
              "      \n",
              "  <style>\n",
              "    .colab-df-container {\n",
              "      display:flex;\n",
              "      flex-wrap:wrap;\n",
              "      gap: 12px;\n",
              "    }\n",
              "\n",
              "    .colab-df-convert {\n",
              "      background-color: #E8F0FE;\n",
              "      border: none;\n",
              "      border-radius: 50%;\n",
              "      cursor: pointer;\n",
              "      display: none;\n",
              "      fill: #1967D2;\n",
              "      height: 32px;\n",
              "      padding: 0 0 0 0;\n",
              "      width: 32px;\n",
              "    }\n",
              "\n",
              "    .colab-df-convert:hover {\n",
              "      background-color: #E2EBFA;\n",
              "      box-shadow: 0px 1px 2px rgba(60, 64, 67, 0.3), 0px 1px 3px 1px rgba(60, 64, 67, 0.15);\n",
              "      fill: #174EA6;\n",
              "    }\n",
              "\n",
              "    [theme=dark] .colab-df-convert {\n",
              "      background-color: #3B4455;\n",
              "      fill: #D2E3FC;\n",
              "    }\n",
              "\n",
              "    [theme=dark] .colab-df-convert:hover {\n",
              "      background-color: #434B5C;\n",
              "      box-shadow: 0px 1px 3px 1px rgba(0, 0, 0, 0.15);\n",
              "      filter: drop-shadow(0px 1px 2px rgba(0, 0, 0, 0.3));\n",
              "      fill: #FFFFFF;\n",
              "    }\n",
              "  </style>\n",
              "\n",
              "      <script>\n",
              "        const buttonEl =\n",
              "          document.querySelector('#df-65a47eee-1e1b-4ae6-8200-cec78822a6d8 button.colab-df-convert');\n",
              "        buttonEl.style.display =\n",
              "          google.colab.kernel.accessAllowed ? 'block' : 'none';\n",
              "\n",
              "        async function convertToInteractive(key) {\n",
              "          const element = document.querySelector('#df-65a47eee-1e1b-4ae6-8200-cec78822a6d8');\n",
              "          const dataTable =\n",
              "            await google.colab.kernel.invokeFunction('convertToInteractive',\n",
              "                                                     [key], {});\n",
              "          if (!dataTable) return;\n",
              "\n",
              "          const docLinkHtml = 'Like what you see? Visit the ' +\n",
              "            '<a target=\"_blank\" href=https://colab.research.google.com/notebooks/data_table.ipynb>data table notebook</a>'\n",
              "            + ' to learn more about interactive tables.';\n",
              "          element.innerHTML = '';\n",
              "          dataTable['output_type'] = 'display_data';\n",
              "          await google.colab.output.renderOutput(dataTable, element);\n",
              "          const docLink = document.createElement('div');\n",
              "          docLink.innerHTML = docLinkHtml;\n",
              "          element.appendChild(docLink);\n",
              "        }\n",
              "      </script>\n",
              "    </div>\n",
              "  </div>\n",
              "  "
            ]
          },
          "metadata": {},
          "execution_count": 48
        }
      ]
    },
    {
      "cell_type": "markdown",
      "source": [
        "####Gráfico de frequência de palavras"
      ],
      "metadata": {
        "id": "BD7KOsnK--wj"
      }
    },
    {
      "cell_type": "code",
      "source": [
        "def pareto(dataframe: pd.DataFrame, dataframe_column: str, quantity: int):\n",
        "    all_words = ' '.join([dataframe for dataframe in stack_df.excerpt])\n",
        "    token_phrase = white_space_token.tokenize(all_words)\n",
        "    frequency = nltk.FreqDist(token_phrase)\n",
        "    \n",
        "    frequency_df = pd.DataFrame({\"Palavra\": list(frequency.keys()),\n",
        "                                 \"Frequência\": list(frequency.values())})\n",
        "    \n",
        "    frequency_df = frequency_df.nlargest(columns = \"Frequência\", n = quantity)\n",
        "    \n",
        "    plt.figure(figsize=(12,8))\n",
        "    ax = sns.barplot(data = frequency_df, x = \"Palavra\", y = \"Frequência\", color = 'gray')\n",
        "    ax.set(ylabel = \"Contagem\")\n",
        "    \n",
        "    plt.show()"
      ],
      "metadata": {
        "id": "DcWsfLoi-9ah"
      },
      "execution_count": 49,
      "outputs": []
    },
    {
      "cell_type": "code",
      "source": [
        "pareto(stack_df, \"excerpt\", 15)"
      ],
      "metadata": {
        "colab": {
          "base_uri": "https://localhost:8080/",
          "height": 497
        },
        "id": "EdqMlrVU_gfa",
        "outputId": "76613045-a63e-44ab-9e85-bae3ab7b72c0"
      },
      "execution_count": 50,
      "outputs": [
        {
          "output_type": "display_data",
          "data": {
            "text/plain": [
              "<Figure size 864x576 with 1 Axes>"
            ],
            "image/png": "[encoded data removed]"
          },
          "metadata": {}
        }
      ]
    },
    {
      "cell_type": "markdown",
      "source": [
        "##Seleção de atributos"
      ],
      "metadata": {
        "id": "YZovgU-8CgH2"
      }
    },
    {
      "cell_type": "code",
      "source": [
        "selector = SelectKBest(chi2, k=80)\n",
        "features_train = selector.fit_transform(features_train, labels_train)\n",
        "features_test = selector.transform(features_test)\n",
        "\n",
        "print(features_train.shape)\n",
        "print(features_test.shape)"
      ],
      "metadata": {
        "colab": {
          "base_uri": "https://localhost:8080/"
        },
        "id": "GcH6tDx0JedP",
        "outputId": "46c16f09-db49-41aa-d1d7-2e93a0a1dac8"
      },
      "execution_count": 51,
      "outputs": [
        {
          "output_type": "stream",
          "name": "stdout",
          "text": [
            "(186, 80)\n",
            "(80, 80)\n"
          ]
        }
      ]
    },
    {
      "cell_type": "code",
      "source": [
        "features_test"
      ],
      "metadata": {
        "colab": {
          "base_uri": "https://localhost:8080/"
        },
        "id": "vSrZmJATJwwF",
        "outputId": "ec2cf5f3-df7e-4d00-8e73-f23bae31e421"
      },
      "execution_count": 52,
      "outputs": [
        {
          "output_type": "execute_result",
          "data": {
            "text/plain": [
              "array([[0., 0., 0., ..., 0., 0., 0.],\n",
              "       [0., 0., 0., ..., 0., 0., 0.],\n",
              "       [0., 0., 0., ..., 0., 0., 0.],\n",
              "       ...,\n",
              "       [0., 0., 0., ..., 0., 0., 0.],\n",
              "       [0., 0., 0., ..., 0., 0., 0.],\n",
              "       [0., 0., 0., ..., 0., 0., 0.]])"
            ]
          },
          "metadata": {},
          "execution_count": 52
        }
      ]
    },
    {
      "cell_type": "markdown",
      "source": [
        "##Criação do modelo"
      ],
      "metadata": {
        "id": "LXrfZPOECus4"
      }
    },
    {
      "cell_type": "code",
      "source": [
        "score_metrics = {'F1': 'f1_macro', 'Accuracy': make_scorer(accuracy_score)}\n",
        "\n",
        "df_estimators_scores = pd.DataFrame(columns=['Estimator', 'Cross-validation Scores', 'Test Set Scores'])\n",
        "df_estimators_scores"
      ],
      "metadata": {
        "colab": {
          "base_uri": "https://localhost:8080/",
          "height": 49
        },
        "id": "taCIw9I5C3g6",
        "outputId": "1d03f794-cc8c-4daa-db71-fa34bc88691b"
      },
      "execution_count": 53,
      "outputs": [
        {
          "output_type": "execute_result",
          "data": {
            "text/plain": [
              "Empty DataFrame\n",
              "Columns: [Estimator, Cross-validation Scores, Test Set Scores]\n",
              "Index: []"
            ],
            "text/html": [
              "\n",
              "  <div id=\"df-b395e0f3-2789-4284-8af4-9eaf02c1946d\">\n",
              "    <div class=\"colab-df-container\">\n",
              "      <div>\n",
              "<style scoped>\n",
              "    .dataframe tbody tr th:only-of-type {\n",
              "        vertical-align: middle;\n",
              "    }\n",
              "\n",
              "    .dataframe tbody tr th {\n",
              "        vertical-align: top;\n",
              "    }\n",
              "\n",
              "    .dataframe thead th {\n",
              "        text-align: right;\n",
              "    }\n",
              "</style>\n",
              "<table border=\"1\" class=\"dataframe\">\n",
              "  <thead>\n",
              "    <tr style=\"text-align: right;\">\n",
              "      <th></th>\n",
              "      <th>Estimator</th>\n",
              "      <th>Cross-validation Scores</th>\n",
              "      <th>Test Set Scores</th>\n",
              "    </tr>\n",
              "  </thead>\n",
              "  <tbody>\n",
              "  </tbody>\n",
              "</table>\n",
              "</div>\n",
              "      <button class=\"colab-df-convert\" onclick=\"convertToInteractive('df-b395e0f3-2789-4284-8af4-9eaf02c1946d')\"\n",
              "              title=\"Convert this dataframe to an interactive table.\"\n",
              "              style=\"display:none;\">\n",
              "        \n",
              "  <svg xmlns=\"http://www.w3.org/2000/svg\" height=\"24px\"viewBox=\"0 0 24 24\"\n",
              "       width=\"24px\">\n",
              "    <path d=\"M0 0h24v24H0V0z\" fill=\"none\"/>\n",
              "    <path d=\"M18.56 5.44l.94 2.06.94-2.06 2.06-.94-2.06-.94-.94-2.06-.94 2.06-2.06.94zm-11 1L8.5 8.5l.94-2.06 2.06-.94-2.06-.94L8.5 2.5l-.94 2.06-2.06.94zm10 10l.94 2.06.94-2.06 2.06-.94-2.06-.94-.94-2.06-.94 2.06-2.06.94z\"/><path d=\"M17.41 7.96l-1.37-1.37c-.4-.4-.92-.59-1.43-.59-.52 0-1.04.2-1.43.59L10.3 9.45l-7.72 7.72c-.78.78-.78 2.05 0 2.83L4 21.41c.39.39.9.59 1.41.59.51 0 1.02-.2 1.41-.59l7.78-7.78 2.81-2.81c.8-.78.8-2.07 0-2.86zM5.41 20L4 18.59l7.72-7.72 1.47 1.35L5.41 20z\"/>\n",
              "  </svg>\n",
              "      </button>\n",
              "      \n",
              "  <style>\n",
              "    .colab-df-container {\n",
              "      display:flex;\n",
              "      flex-wrap:wrap;\n",
              "      gap: 12px;\n",
              "    }\n",
              "\n",
              "    .colab-df-convert {\n",
              "      background-color: #E8F0FE;\n",
              "      border: none;\n",
              "      border-radius: 50%;\n",
              "      cursor: pointer;\n",
              "      display: none;\n",
              "      fill: #1967D2;\n",
              "      height: 32px;\n",
              "      padding: 0 0 0 0;\n",
              "      width: 32px;\n",
              "    }\n",
              "\n",
              "    .colab-df-convert:hover {\n",
              "      background-color: #E2EBFA;\n",
              "      box-shadow: 0px 1px 2px rgba(60, 64, 67, 0.3), 0px 1px 3px 1px rgba(60, 64, 67, 0.15);\n",
              "      fill: #174EA6;\n",
              "    }\n",
              "\n",
              "    [theme=dark] .colab-df-convert {\n",
              "      background-color: #3B4455;\n",
              "      fill: #D2E3FC;\n",
              "    }\n",
              "\n",
              "    [theme=dark] .colab-df-convert:hover {\n",
              "      background-color: #434B5C;\n",
              "      box-shadow: 0px 1px 3px 1px rgba(0, 0, 0, 0.15);\n",
              "      filter: drop-shadow(0px 1px 2px rgba(0, 0, 0, 0.3));\n",
              "      fill: #FFFFFF;\n",
              "    }\n",
              "  </style>\n",
              "\n",
              "      <script>\n",
              "        const buttonEl =\n",
              "          document.querySelector('#df-b395e0f3-2789-4284-8af4-9eaf02c1946d button.colab-df-convert');\n",
              "        buttonEl.style.display =\n",
              "          google.colab.kernel.accessAllowed ? 'block' : 'none';\n",
              "\n",
              "        async function convertToInteractive(key) {\n",
              "          const element = document.querySelector('#df-b395e0f3-2789-4284-8af4-9eaf02c1946d');\n",
              "          const dataTable =\n",
              "            await google.colab.kernel.invokeFunction('convertToInteractive',\n",
              "                                                     [key], {});\n",
              "          if (!dataTable) return;\n",
              "\n",
              "          const docLinkHtml = 'Like what you see? Visit the ' +\n",
              "            '<a target=\"_blank\" href=https://colab.research.google.com/notebooks/data_table.ipynb>data table notebook</a>'\n",
              "            + ' to learn more about interactive tables.';\n",
              "          element.innerHTML = '';\n",
              "          dataTable['output_type'] = 'display_data';\n",
              "          await google.colab.output.renderOutput(dataTable, element);\n",
              "          const docLink = document.createElement('div');\n",
              "          docLink.innerHTML = docLinkHtml;\n",
              "          element.appendChild(docLink);\n",
              "        }\n",
              "      </script>\n",
              "    </div>\n",
              "  </div>\n",
              "  "
            ]
          },
          "metadata": {},
          "execution_count": 53
        }
      ]
    },
    {
      "cell_type": "markdown",
      "source": [
        "###Random Forest"
      ],
      "metadata": {
        "id": "-QOKJJXyEU-V"
      }
    },
    {
      "cell_type": "markdown",
      "source": [
        "####Ajuste de parâmetros"
      ],
      "metadata": {
        "id": "dFpi0rQMWRqf"
      }
    },
    {
      "cell_type": "code",
      "source": [
        "# Verificando os parâmetros para uso e seus valores\n",
        "rf = RandomForestClassifier(random_state = 3)\n",
        "\n",
        "print('Parameters currently in use:\\n')\n",
        "pprint(rf.get_params())"
      ],
      "metadata": {
        "colab": {
          "base_uri": "https://localhost:8080/"
        },
        "id": "vHzH0nhfEXEQ",
        "outputId": "57881383-839b-42d4-88bd-2cd37d821ddf"
      },
      "execution_count": 54,
      "outputs": [
        {
          "output_type": "stream",
          "name": "stdout",
          "text": [
            "Parameters currently in use:\n",
            "\n",
            "{'bootstrap': True,\n",
            " 'ccp_alpha': 0.0,\n",
            " 'class_weight': None,\n",
            " 'criterion': 'gini',\n",
            " 'max_depth': None,\n",
            " 'max_features': 'sqrt',\n",
            " 'max_leaf_nodes': None,\n",
            " 'max_samples': None,\n",
            " 'min_impurity_decrease': 0.0,\n",
            " 'min_samples_leaf': 1,\n",
            " 'min_samples_split': 2,\n",
            " 'min_weight_fraction_leaf': 0.0,\n",
            " 'n_estimators': 100,\n",
            " 'n_jobs': None,\n",
            " 'oob_score': False,\n",
            " 'random_state': 3,\n",
            " 'verbose': 0,\n",
            " 'warm_start': False}\n"
          ]
        }
      ]
    },
    {
      "cell_type": "markdown",
      "source": [
        "####Randomized Search Cross Validation"
      ],
      "metadata": {
        "id": "pzlFYviuWWjP"
      }
    },
    {
      "cell_type": "code",
      "source": [
        "bootstrap = [True, False]\n",
        "\n",
        "max_depth = [int(x) for x in np.linspace(20, 100, num = 5)]\n",
        "max_depth.append(None)\n",
        "\n",
        "max_features = ['auto', 'sqrt']\n",
        "\n",
        "min_samples_leaf = [1, 2, 4]\n",
        "min_samples_split = [2, 5, 10]\n",
        "\n",
        "n_estimators = [int(x) for x in np.linspace(start = 200, stop = 1000, num = 5)]\n",
        "\n",
        "random_grid = {'n_estimators': n_estimators,\n",
        "               'max_features': max_features,\n",
        "               'max_depth': max_depth,\n",
        "               'min_samples_split': min_samples_split,\n",
        "               'min_samples_leaf': min_samples_leaf,\n",
        "               'bootstrap': bootstrap}\n",
        "\n",
        "pprint(random_grid)"
      ],
      "metadata": {
        "colab": {
          "base_uri": "https://localhost:8080/"
        },
        "id": "Tg9vpVQJIVbO",
        "outputId": "2da111ba-3c66-45c7-d61e-e71798efdf58"
      },
      "execution_count": 55,
      "outputs": [
        {
          "output_type": "stream",
          "name": "stdout",
          "text": [
            "{'bootstrap': [True, False],\n",
            " 'max_depth': [20, 40, 60, 80, 100, None],\n",
            " 'max_features': ['auto', 'sqrt'],\n",
            " 'min_samples_leaf': [1, 2, 4],\n",
            " 'min_samples_split': [2, 5, 10],\n",
            " 'n_estimators': [200, 400, 600, 800, 1000]}\n"
          ]
        }
      ]
    },
    {
      "cell_type": "code",
      "source": [
        "rfc = RandomForestClassifier(random_state=3)\n",
        "\n",
        "random_search = RandomizedSearchCV(estimator=rfc,\n",
        "                                   param_distributions=random_grid,\n",
        "                                   scoring=score_metrics,\n",
        "                                   refit='F1',\n",
        "                                   cv=3, \n",
        "                                   verbose=1, \n",
        "                                   random_state=3,\n",
        "                                   n_jobs=3)\n",
        "\n",
        "random_search.fit(features_train, labels_train)\n",
        "\n",
        "print(\"Os melhores hiperparâmetros encontrados com o Radom Search são:\")\n",
        "print(random_search.best_params_)\n",
        "print(\"\\nA macro F1 obtida com esses hiperparâmetros é:\")\n",
        "print(random_search.best_score_)"
      ],
      "metadata": {
        "colab": {
          "base_uri": "https://localhost:8080/"
        },
        "id": "HUD4HEDwUl05",
        "outputId": "f94a10da-db7f-4d80-91fe-a6bd42a53d49"
      },
      "execution_count": 56,
      "outputs": [
        {
          "output_type": "stream",
          "name": "stdout",
          "text": [
            "Fitting 3 folds for each of 10 candidates, totalling 30 fits\n",
            "Os melhores hiperparâmetros encontrados com o Radom Search são:\n",
            "{'n_estimators': 800, 'min_samples_split': 5, 'min_samples_leaf': 2, 'max_features': 'sqrt', 'max_depth': 100, 'bootstrap': False}\n",
            "\n",
            "A macro F1 obtida com esses hiperparâmetros é:\n",
            "0.5655194823005107\n"
          ]
        }
      ]
    },
    {
      "cell_type": "code",
      "source": [
        "pd.DataFrame(random_search.cv_results_).T"
      ],
      "metadata": {
        "colab": {
          "base_uri": "https://localhost:8080/",
          "height": 849
        },
        "id": "rH4qRSrMWI7C",
        "outputId": "1a6312fd-f2fd-4dd6-f853-a029c19e32a0"
      },
      "execution_count": 57,
      "outputs": [
        {
          "output_type": "execute_result",
          "data": {
            "text/plain": [
              "                                                                         0  \\\n",
              "mean_fit_time                                                     3.583961   \n",
              "std_fit_time                                                      0.078874   \n",
              "mean_score_time                                                   0.265105   \n",
              "std_score_time                                                    0.021963   \n",
              "param_n_estimators                                                     600   \n",
              "param_min_samples_split                                                  5   \n",
              "param_min_samples_leaf                                                   1   \n",
              "param_max_features                                                    sqrt   \n",
              "param_max_depth                                                        100   \n",
              "param_bootstrap                                                      False   \n",
              "params                   {'n_estimators': 600, 'min_samples_split': 5, ...   \n",
              "split0_test_F1                                                    0.573296   \n",
              "split1_test_F1                                                    0.533563   \n",
              "split2_test_F1                                                    0.529676   \n",
              "mean_test_F1                                                      0.545511   \n",
              "std_test_F1                                                       0.019711   \n",
              "rank_test_F1                                                             7   \n",
              "split0_test_Accuracy                                              0.580645   \n",
              "split1_test_Accuracy                                              0.532258   \n",
              "split2_test_Accuracy                                              0.532258   \n",
              "mean_test_Accuracy                                                0.548387   \n",
              "std_test_Accuracy                                                  0.02281   \n",
              "rank_test_Accuracy                                                       7   \n",
              "\n",
              "                                                                         1  \\\n",
              "mean_fit_time                                                     5.382438   \n",
              "std_fit_time                                                      0.218261   \n",
              "mean_score_time                                                   0.682122   \n",
              "std_score_time                                                    0.150307   \n",
              "param_n_estimators                                                     800   \n",
              "param_min_samples_split                                                  5   \n",
              "param_min_samples_leaf                                                   2   \n",
              "param_max_features                                                    sqrt   \n",
              "param_max_depth                                                        100   \n",
              "param_bootstrap                                                      False   \n",
              "params                   {'n_estimators': 800, 'min_samples_split': 5, ...   \n",
              "split0_test_F1                                                    0.594623   \n",
              "split1_test_F1                                                     0.59722   \n",
              "split2_test_F1                                                    0.504716   \n",
              "mean_test_F1                                                      0.565519   \n",
              "std_test_F1                                                       0.043008   \n",
              "rank_test_F1                                                             1   \n",
              "split0_test_Accuracy                                              0.596774   \n",
              "split1_test_Accuracy                                              0.596774   \n",
              "split2_test_Accuracy                                                   0.5   \n",
              "mean_test_Accuracy                                                0.564516   \n",
              "std_test_Accuracy                                                  0.04562   \n",
              "rank_test_Accuracy                                                       1   \n",
              "\n",
              "                                                                         2  \\\n",
              "mean_fit_time                                                     3.193017   \n",
              "std_fit_time                                                      0.188179   \n",
              "mean_score_time                                                    0.20943   \n",
              "std_score_time                                                     0.04555   \n",
              "param_n_estimators                                                     400   \n",
              "param_min_samples_split                                                  2   \n",
              "param_min_samples_leaf                                                   4   \n",
              "param_max_features                                                    sqrt   \n",
              "param_max_depth                                                         60   \n",
              "param_bootstrap                                                       True   \n",
              "params                   {'n_estimators': 400, 'min_samples_split': 2, ...   \n",
              "split0_test_F1                                                    0.512229   \n",
              "split1_test_F1                                                    0.568597   \n",
              "split2_test_F1                                                    0.452226   \n",
              "mean_test_F1                                                      0.511017   \n",
              "std_test_F1                                                       0.047516   \n",
              "rank_test_F1                                                            10   \n",
              "split0_test_Accuracy                                              0.516129   \n",
              "split1_test_Accuracy                                              0.564516   \n",
              "split2_test_Accuracy                                              0.451613   \n",
              "mean_test_Accuracy                                                0.510753   \n",
              "std_test_Accuracy                                                 0.046249   \n",
              "rank_test_Accuracy                                                      10   \n",
              "\n",
              "                                                                         3  \\\n",
              "mean_fit_time                                                     5.884309   \n",
              "std_fit_time                                                      0.298525   \n",
              "mean_score_time                                                   0.456836   \n",
              "std_score_time                                                    0.074879   \n",
              "param_n_estimators                                                    1000   \n",
              "param_min_samples_split                                                  5   \n",
              "param_min_samples_leaf                                                   2   \n",
              "param_max_features                                                    sqrt   \n",
              "param_max_depth                                                         60   \n",
              "param_bootstrap                                                      False   \n",
              "params                   {'n_estimators': 1000, 'min_samples_split': 5,...   \n",
              "split0_test_F1                                                    0.594623   \n",
              "split1_test_F1                                                    0.581651   \n",
              "split2_test_F1                                                    0.504716   \n",
              "mean_test_F1                                                       0.56033   \n",
              "std_test_F1                                                        0.03968   \n",
              "rank_test_F1                                                             2   \n",
              "split0_test_Accuracy                                              0.596774   \n",
              "split1_test_Accuracy                                              0.580645   \n",
              "split2_test_Accuracy                                                   0.5   \n",
              "mean_test_Accuracy                                                 0.55914   \n",
              "std_test_Accuracy                                                 0.042333   \n",
              "rank_test_Accuracy                                                       2   \n",
              "\n",
              "                                                                         4  \\\n",
              "mean_fit_time                                                     3.145818   \n",
              "std_fit_time                                                      0.297666   \n",
              "mean_score_time                                                   0.332681   \n",
              "std_score_time                                                    0.039281   \n",
              "param_n_estimators                                                     400   \n",
              "param_min_samples_split                                                  2   \n",
              "param_min_samples_leaf                                                   4   \n",
              "param_max_features                                                    auto   \n",
              "param_max_depth                                                       None   \n",
              "param_bootstrap                                                      False   \n",
              "params                   {'n_estimators': 400, 'min_samples_split': 2, ...   \n",
              "split0_test_F1                                                    0.556073   \n",
              "split1_test_F1                                                    0.592718   \n",
              "split2_test_F1                                                    0.385325   \n",
              "mean_test_F1                                                      0.511372   \n",
              "std_test_F1                                                       0.090376   \n",
              "rank_test_F1                                                             9   \n",
              "split0_test_Accuracy                                              0.564516   \n",
              "split1_test_Accuracy                                              0.596774   \n",
              "split2_test_Accuracy                                              0.387097   \n",
              "mean_test_Accuracy                                                0.516129   \n",
              "std_test_Accuracy                                                 0.092185   \n",
              "rank_test_Accuracy                                                       9   \n",
              "\n",
              "                                                                         5  \\\n",
              "mean_fit_time                                                     4.853876   \n",
              "std_fit_time                                                      0.577957   \n",
              "mean_score_time                                                   0.313188   \n",
              "std_score_time                                                     0.07403   \n",
              "param_n_estimators                                                    1000   \n",
              "param_min_samples_split                                                 10   \n",
              "param_min_samples_leaf                                                   2   \n",
              "param_max_features                                                    auto   \n",
              "param_max_depth                                                         40   \n",
              "param_bootstrap                                                      False   \n",
              "params                   {'n_estimators': 1000, 'min_samples_split': 10...   \n",
              "split0_test_F1                                                    0.594623   \n",
              "split1_test_F1                                                    0.581651   \n",
              "split2_test_F1                                                    0.504716   \n",
              "mean_test_F1                                                       0.56033   \n",
              "std_test_F1                                                        0.03968   \n",
              "rank_test_F1                                                             2   \n",
              "split0_test_Accuracy                                              0.596774   \n",
              "split1_test_Accuracy                                              0.580645   \n",
              "split2_test_Accuracy                                                   0.5   \n",
              "mean_test_Accuracy                                                 0.55914   \n",
              "std_test_Accuracy                                                 0.042333   \n",
              "rank_test_Accuracy                                                       2   \n",
              "\n",
              "                                                                         6  \\\n",
              "mean_fit_time                                                      0.60519   \n",
              "std_fit_time                                                      0.044175   \n",
              "mean_score_time                                                   0.051981   \n",
              "std_score_time                                                     0.01556   \n",
              "param_n_estimators                                                     200   \n",
              "param_min_samples_split                                                  5   \n",
              "param_min_samples_leaf                                                   2   \n",
              "param_max_features                                                    sqrt   \n",
              "param_max_depth                                                         80   \n",
              "param_bootstrap                                                      False   \n",
              "params                   {'n_estimators': 200, 'min_samples_split': 5, ...   \n",
              "split0_test_F1                                                    0.606648   \n",
              "split1_test_F1                                                    0.565778   \n",
              "split2_test_F1                                                    0.488691   \n",
              "mean_test_F1                                                      0.553706   \n",
              "std_test_F1                                                       0.048906   \n",
              "rank_test_F1                                                             6   \n",
              "split0_test_Accuracy                                              0.612903   \n",
              "split1_test_Accuracy                                              0.564516   \n",
              "split2_test_Accuracy                                              0.483871   \n",
              "mean_test_Accuracy                                                0.553763   \n",
              "std_test_Accuracy                                                 0.053223   \n",
              "rank_test_Accuracy                                                       5   \n",
              "\n",
              "                                                                         7  \\\n",
              "mean_fit_time                                                     1.794003   \n",
              "std_fit_time                                                      0.030906   \n",
              "mean_score_time                                                   0.146844   \n",
              "std_score_time                                                    0.027969   \n",
              "param_n_estimators                                                     600   \n",
              "param_min_samples_split                                                 10   \n",
              "param_min_samples_leaf                                                   2   \n",
              "param_max_features                                                    auto   \n",
              "param_max_depth                                                       None   \n",
              "param_bootstrap                                                      False   \n",
              "params                   {'n_estimators': 600, 'min_samples_split': 10,...   \n",
              "split0_test_F1                                                    0.594623   \n",
              "split1_test_F1                                                    0.581651   \n",
              "split2_test_F1                                                    0.487876   \n",
              "mean_test_F1                                                      0.554716   \n",
              "std_test_F1                                                       0.047559   \n",
              "rank_test_F1                                                             5   \n",
              "split0_test_Accuracy                                              0.596774   \n",
              "split1_test_Accuracy                                              0.580645   \n",
              "split2_test_Accuracy                                              0.483871   \n",
              "mean_test_Accuracy                                                0.553763   \n",
              "std_test_Accuracy                                                 0.049858   \n",
              "rank_test_Accuracy                                                       5   \n",
              "\n",
              "                                                                         8  \\\n",
              "mean_fit_time                                                     1.949405   \n",
              "std_fit_time                                                      0.094661   \n",
              "mean_score_time                                                   0.161558   \n",
              "std_score_time                                                    0.033955   \n",
              "param_n_estimators                                                     600   \n",
              "param_min_samples_split                                                  2   \n",
              "param_min_samples_leaf                                                   2   \n",
              "param_max_features                                                    auto   \n",
              "param_max_depth                                                        100   \n",
              "param_bootstrap                                                      False   \n",
              "params                   {'n_estimators': 600, 'min_samples_split': 2, ...   \n",
              "split0_test_F1                                                    0.594623   \n",
              "split1_test_F1                                                    0.581651   \n",
              "split2_test_F1                                                     0.50463   \n",
              "mean_test_F1                                                      0.560301   \n",
              "std_test_F1                                                        0.03972   \n",
              "rank_test_F1                                                             4   \n",
              "split0_test_Accuracy                                              0.596774   \n",
              "split1_test_Accuracy                                              0.580645   \n",
              "split2_test_Accuracy                                                   0.5   \n",
              "mean_test_Accuracy                                                 0.55914   \n",
              "std_test_Accuracy                                                 0.042333   \n",
              "rank_test_Accuracy                                                       2   \n",
              "\n",
              "                                                                         9  \n",
              "mean_fit_time                                                     0.597502  \n",
              "std_fit_time                                                      0.186839  \n",
              "mean_score_time                                                   0.048943  \n",
              "std_score_time                                                    0.025087  \n",
              "param_n_estimators                                                     200  \n",
              "param_min_samples_split                                                  2  \n",
              "param_min_samples_leaf                                                   4  \n",
              "param_max_features                                                    auto  \n",
              "param_max_depth                                                       None  \n",
              "param_bootstrap                                                       True  \n",
              "params                   {'n_estimators': 200, 'min_samples_split': 2, ...  \n",
              "split0_test_F1                                                    0.494624  \n",
              "split1_test_F1                                                    0.644742  \n",
              "split2_test_F1                                                    0.417414  \n",
              "mean_test_F1                                                      0.518926  \n",
              "std_test_F1                                                       0.094384  \n",
              "rank_test_F1                                                             8  \n",
              "split0_test_Accuracy                                                   0.5  \n",
              "split1_test_Accuracy                                              0.645161  \n",
              "split2_test_Accuracy                                              0.419355  \n",
              "mean_test_Accuracy                                                0.521505  \n",
              "std_test_Accuracy                                                 0.093431  \n",
              "rank_test_Accuracy                                                       8  "
            ],
            "text/html": [
              "\n",
              "  <div id=\"df-d058f426-b62f-4103-8fbd-f87567486f69\">\n",
              "    <div class=\"colab-df-container\">\n",
              "      <div>\n",
              "<style scoped>\n",
              "    .dataframe tbody tr th:only-of-type {\n",
              "        vertical-align: middle;\n",
              "    }\n",
              "\n",
              "    .dataframe tbody tr th {\n",
              "        vertical-align: top;\n",
              "    }\n",
              "\n",
              "    .dataframe thead th {\n",
              "        text-align: right;\n",
              "    }\n",
              "</style>\n",
              "<table border=\"1\" class=\"dataframe\">\n",
              "  <thead>\n",
              "    <tr style=\"text-align: right;\">\n",
              "      <th></th>\n",
              "      <th>0</th>\n",
              "      <th>1</th>\n",
              "      <th>2</th>\n",
              "      <th>3</th>\n",
              "      <th>4</th>\n",
              "      <th>5</th>\n",
              "      <th>6</th>\n",
              "      <th>7</th>\n",
              "      <th>8</th>\n",
              "      <th>9</th>\n",
              "    </tr>\n",
              "  </thead>\n",
              "  <tbody>\n",
              "    <tr>\n",
              "      <th>mean_fit_time</th>\n",
              "      <td>3.583961</td>\n",
              "      <td>5.382438</td>\n",
              "      <td>3.193017</td>\n",
              "      <td>5.884309</td>\n",
              "      <td>3.145818</td>\n",
              "      <td>4.853876</td>\n",
              "      <td>0.60519</td>\n",
              "      <td>1.794003</td>\n",
              "      <td>1.949405</td>\n",
              "      <td>0.597502</td>\n",
              "    </tr>\n",
              "    <tr>\n",
              "      <th>std_fit_time</th>\n",
              "      <td>0.078874</td>\n",
              "      <td>0.218261</td>\n",
              "      <td>0.188179</td>\n",
              "      <td>0.298525</td>\n",
              "      <td>0.297666</td>\n",
              "      <td>0.577957</td>\n",
              "      <td>0.044175</td>\n",
              "      <td>0.030906</td>\n",
              "      <td>0.094661</td>\n",
              "      <td>0.186839</td>\n",
              "    </tr>\n",
              "    <tr>\n",
              "      <th>mean_score_time</th>\n",
              "      <td>0.265105</td>\n",
              "      <td>0.682122</td>\n",
              "      <td>0.20943</td>\n",
              "      <td>0.456836</td>\n",
              "      <td>0.332681</td>\n",
              "      <td>0.313188</td>\n",
              "      <td>0.051981</td>\n",
              "      <td>0.146844</td>\n",
              "      <td>0.161558</td>\n",
              "      <td>0.048943</td>\n",
              "    </tr>\n",
              "    <tr>\n",
              "      <th>std_score_time</th>\n",
              "      <td>0.021963</td>\n",
              "      <td>0.150307</td>\n",
              "      <td>0.04555</td>\n",
              "      <td>0.074879</td>\n",
              "      <td>0.039281</td>\n",
              "      <td>0.07403</td>\n",
              "      <td>0.01556</td>\n",
              "      <td>0.027969</td>\n",
              "      <td>0.033955</td>\n",
              "      <td>0.025087</td>\n",
              "    </tr>\n",
              "    <tr>\n",
              "      <th>param_n_estimators</th>\n",
              "      <td>600</td>\n",
              "      <td>800</td>\n",
              "      <td>400</td>\n",
              "      <td>1000</td>\n",
              "      <td>400</td>\n",
              "      <td>1000</td>\n",
              "      <td>200</td>\n",
              "      <td>600</td>\n",
              "      <td>600</td>\n",
              "      <td>200</td>\n",
              "    </tr>\n",
              "    <tr>\n",
              "      <th>param_min_samples_split</th>\n",
              "      <td>5</td>\n",
              "      <td>5</td>\n",
              "      <td>2</td>\n",
              "      <td>5</td>\n",
              "      <td>2</td>\n",
              "      <td>10</td>\n",
              "      <td>5</td>\n",
              "      <td>10</td>\n",
              "      <td>2</td>\n",
              "      <td>2</td>\n",
              "    </tr>\n",
              "    <tr>\n",
              "      <th>param_min_samples_leaf</th>\n",
              "      <td>1</td>\n",
              "      <td>2</td>\n",
              "      <td>4</td>\n",
              "      <td>2</td>\n",
              "      <td>4</td>\n",
              "      <td>2</td>\n",
              "      <td>2</td>\n",
              "      <td>2</td>\n",
              "      <td>2</td>\n",
              "      <td>4</td>\n",
              "    </tr>\n",
              "    <tr>\n",
              "      <th>param_max_features</th>\n",
              "      <td>sqrt</td>\n",
              "      <td>sqrt</td>\n",
              "      <td>sqrt</td>\n",
              "      <td>sqrt</td>\n",
              "      <td>auto</td>\n",
              "      <td>auto</td>\n",
              "      <td>sqrt</td>\n",
              "      <td>auto</td>\n",
              "      <td>auto</td>\n",
              "      <td>auto</td>\n",
              "    </tr>\n",
              "    <tr>\n",
              "      <th>param_max_depth</th>\n",
              "      <td>100</td>\n",
              "      <td>100</td>\n",
              "      <td>60</td>\n",
              "      <td>60</td>\n",
              "      <td>None</td>\n",
              "      <td>40</td>\n",
              "      <td>80</td>\n",
              "      <td>None</td>\n",
              "      <td>100</td>\n",
              "      <td>None</td>\n",
              "    </tr>\n",
              "    <tr>\n",
              "      <th>param_bootstrap</th>\n",
              "      <td>False</td>\n",
              "      <td>False</td>\n",
              "      <td>True</td>\n",
              "      <td>False</td>\n",
              "      <td>False</td>\n",
              "      <td>False</td>\n",
              "      <td>False</td>\n",
              "      <td>False</td>\n",
              "      <td>False</td>\n",
              "      <td>True</td>\n",
              "    </tr>\n",
              "    <tr>\n",
              "      <th>params</th>\n",
              "      <td>{'n_estimators': 600, 'min_samples_split': 5, ...</td>\n",
              "      <td>{'n_estimators': 800, 'min_samples_split': 5, ...</td>\n",
              "      <td>{'n_estimators': 400, 'min_samples_split': 2, ...</td>\n",
              "      <td>{'n_estimators': 1000, 'min_samples_split': 5,...</td>\n",
              "      <td>{'n_estimators': 400, 'min_samples_split': 2, ...</td>\n",
              "      <td>{'n_estimators': 1000, 'min_samples_split': 10...</td>\n",
              "      <td>{'n_estimators': 200, 'min_samples_split': 5, ...</td>\n",
              "      <td>{'n_estimators': 600, 'min_samples_split': 10,...</td>\n",
              "      <td>{'n_estimators': 600, 'min_samples_split': 2, ...</td>\n",
              "      <td>{'n_estimators': 200, 'min_samples_split': 2, ...</td>\n",
              "    </tr>\n",
              "    <tr>\n",
              "      <th>split0_test_F1</th>\n",
              "      <td>0.573296</td>\n",
              "      <td>0.594623</td>\n",
              "      <td>0.512229</td>\n",
              "      <td>0.594623</td>\n",
              "      <td>0.556073</td>\n",
              "      <td>0.594623</td>\n",
              "      <td>0.606648</td>\n",
              "      <td>0.594623</td>\n",
              "      <td>0.594623</td>\n",
              "      <td>0.494624</td>\n",
              "    </tr>\n",
              "    <tr>\n",
              "      <th>split1_test_F1</th>\n",
              "      <td>0.533563</td>\n",
              "      <td>0.59722</td>\n",
              "      <td>0.568597</td>\n",
              "      <td>0.581651</td>\n",
              "      <td>0.592718</td>\n",
              "      <td>0.581651</td>\n",
              "      <td>0.565778</td>\n",
              "      <td>0.581651</td>\n",
              "      <td>0.581651</td>\n",
              "      <td>0.644742</td>\n",
              "    </tr>\n",
              "    <tr>\n",
              "      <th>split2_test_F1</th>\n",
              "      <td>0.529676</td>\n",
              "      <td>0.504716</td>\n",
              "      <td>0.452226</td>\n",
              "      <td>0.504716</td>\n",
              "      <td>0.385325</td>\n",
              "      <td>0.504716</td>\n",
              "      <td>0.488691</td>\n",
              "      <td>0.487876</td>\n",
              "      <td>0.50463</td>\n",
              "      <td>0.417414</td>\n",
              "    </tr>\n",
              "    <tr>\n",
              "      <th>mean_test_F1</th>\n",
              "      <td>0.545511</td>\n",
              "      <td>0.565519</td>\n",
              "      <td>0.511017</td>\n",
              "      <td>0.56033</td>\n",
              "      <td>0.511372</td>\n",
              "      <td>0.56033</td>\n",
              "      <td>0.553706</td>\n",
              "      <td>0.554716</td>\n",
              "      <td>0.560301</td>\n",
              "      <td>0.518926</td>\n",
              "    </tr>\n",
              "    <tr>\n",
              "      <th>std_test_F1</th>\n",
              "      <td>0.019711</td>\n",
              "      <td>0.043008</td>\n",
              "      <td>0.047516</td>\n",
              "      <td>0.03968</td>\n",
              "      <td>0.090376</td>\n",
              "      <td>0.03968</td>\n",
              "      <td>0.048906</td>\n",
              "      <td>0.047559</td>\n",
              "      <td>0.03972</td>\n",
              "      <td>0.094384</td>\n",
              "    </tr>\n",
              "    <tr>\n",
              "      <th>rank_test_F1</th>\n",
              "      <td>7</td>\n",
              "      <td>1</td>\n",
              "      <td>10</td>\n",
              "      <td>2</td>\n",
              "      <td>9</td>\n",
              "      <td>2</td>\n",
              "      <td>6</td>\n",
              "      <td>5</td>\n",
              "      <td>4</td>\n",
              "      <td>8</td>\n",
              "    </tr>\n",
              "    <tr>\n",
              "      <th>split0_test_Accuracy</th>\n",
              "      <td>0.580645</td>\n",
              "      <td>0.596774</td>\n",
              "      <td>0.516129</td>\n",
              "      <td>0.596774</td>\n",
              "      <td>0.564516</td>\n",
              "      <td>0.596774</td>\n",
              "      <td>0.612903</td>\n",
              "      <td>0.596774</td>\n",
              "      <td>0.596774</td>\n",
              "      <td>0.5</td>\n",
              "    </tr>\n",
              "    <tr>\n",
              "      <th>split1_test_Accuracy</th>\n",
              "      <td>0.532258</td>\n",
              "      <td>0.596774</td>\n",
              "      <td>0.564516</td>\n",
              "      <td>0.580645</td>\n",
              "      <td>0.596774</td>\n",
              "      <td>0.580645</td>\n",
              "      <td>0.564516</td>\n",
              "      <td>0.580645</td>\n",
              "      <td>0.580645</td>\n",
              "      <td>0.645161</td>\n",
              "    </tr>\n",
              "    <tr>\n",
              "      <th>split2_test_Accuracy</th>\n",
              "      <td>0.532258</td>\n",
              "      <td>0.5</td>\n",
              "      <td>0.451613</td>\n",
              "      <td>0.5</td>\n",
              "      <td>0.387097</td>\n",
              "      <td>0.5</td>\n",
              "      <td>0.483871</td>\n",
              "      <td>0.483871</td>\n",
              "      <td>0.5</td>\n",
              "      <td>0.419355</td>\n",
              "    </tr>\n",
              "    <tr>\n",
              "      <th>mean_test_Accuracy</th>\n",
              "      <td>0.548387</td>\n",
              "      <td>0.564516</td>\n",
              "      <td>0.510753</td>\n",
              "      <td>0.55914</td>\n",
              "      <td>0.516129</td>\n",
              "      <td>0.55914</td>\n",
              "      <td>0.553763</td>\n",
              "      <td>0.553763</td>\n",
              "      <td>0.55914</td>\n",
              "      <td>0.521505</td>\n",
              "    </tr>\n",
              "    <tr>\n",
              "      <th>std_test_Accuracy</th>\n",
              "      <td>0.02281</td>\n",
              "      <td>0.04562</td>\n",
              "      <td>0.046249</td>\n",
              "      <td>0.042333</td>\n",
              "      <td>0.092185</td>\n",
              "      <td>0.042333</td>\n",
              "      <td>0.053223</td>\n",
              "      <td>0.049858</td>\n",
              "      <td>0.042333</td>\n",
              "      <td>0.093431</td>\n",
              "    </tr>\n",
              "    <tr>\n",
              "      <th>rank_test_Accuracy</th>\n",
              "      <td>7</td>\n",
              "      <td>1</td>\n",
              "      <td>10</td>\n",
              "      <td>2</td>\n",
              "      <td>9</td>\n",
              "      <td>2</td>\n",
              "      <td>5</td>\n",
              "      <td>5</td>\n",
              "      <td>2</td>\n",
              "      <td>8</td>\n",
              "    </tr>\n",
              "  </tbody>\n",
              "</table>\n",
              "</div>\n",
              "      <button class=\"colab-df-convert\" onclick=\"convertToInteractive('df-d058f426-b62f-4103-8fbd-f87567486f69')\"\n",
              "              title=\"Convert this dataframe to an interactive table.\"\n",
              "              style=\"display:none;\">\n",
              "        \n",
              "  <svg xmlns=\"http://www.w3.org/2000/svg\" height=\"24px\"viewBox=\"0 0 24 24\"\n",
              "       width=\"24px\">\n",
              "    <path d=\"M0 0h24v24H0V0z\" fill=\"none\"/>\n",
              "    <path d=\"M18.56 5.44l.94 2.06.94-2.06 2.06-.94-2.06-.94-.94-2.06-.94 2.06-2.06.94zm-11 1L8.5 8.5l.94-2.06 2.06-.94-2.06-.94L8.5 2.5l-.94 2.06-2.06.94zm10 10l.94 2.06.94-2.06 2.06-.94-2.06-.94-.94-2.06-.94 2.06-2.06.94z\"/><path d=\"M17.41 7.96l-1.37-1.37c-.4-.4-.92-.59-1.43-.59-.52 0-1.04.2-1.43.59L10.3 9.45l-7.72 7.72c-.78.78-.78 2.05 0 2.83L4 21.41c.39.39.9.59 1.41.59.51 0 1.02-.2 1.41-.59l7.78-7.78 2.81-2.81c.8-.78.8-2.07 0-2.86zM5.41 20L4 18.59l7.72-7.72 1.47 1.35L5.41 20z\"/>\n",
              "  </svg>\n",
              "      </button>\n",
              "      \n",
              "  <style>\n",
              "    .colab-df-container {\n",
              "      display:flex;\n",
              "      flex-wrap:wrap;\n",
              "      gap: 12px;\n",
              "    }\n",
              "\n",
              "    .colab-df-convert {\n",
              "      background-color: #E8F0FE;\n",
              "      border: none;\n",
              "      border-radius: 50%;\n",
              "      cursor: pointer;\n",
              "      display: none;\n",
              "      fill: #1967D2;\n",
              "      height: 32px;\n",
              "      padding: 0 0 0 0;\n",
              "      width: 32px;\n",
              "    }\n",
              "\n",
              "    .colab-df-convert:hover {\n",
              "      background-color: #E2EBFA;\n",
              "      box-shadow: 0px 1px 2px rgba(60, 64, 67, 0.3), 0px 1px 3px 1px rgba(60, 64, 67, 0.15);\n",
              "      fill: #174EA6;\n",
              "    }\n",
              "\n",
              "    [theme=dark] .colab-df-convert {\n",
              "      background-color: #3B4455;\n",
              "      fill: #D2E3FC;\n",
              "    }\n",
              "\n",
              "    [theme=dark] .colab-df-convert:hover {\n",
              "      background-color: #434B5C;\n",
              "      box-shadow: 0px 1px 3px 1px rgba(0, 0, 0, 0.15);\n",
              "      filter: drop-shadow(0px 1px 2px rgba(0, 0, 0, 0.3));\n",
              "      fill: #FFFFFF;\n",
              "    }\n",
              "  </style>\n",
              "\n",
              "      <script>\n",
              "        const buttonEl =\n",
              "          document.querySelector('#df-d058f426-b62f-4103-8fbd-f87567486f69 button.colab-df-convert');\n",
              "        buttonEl.style.display =\n",
              "          google.colab.kernel.accessAllowed ? 'block' : 'none';\n",
              "\n",
              "        async function convertToInteractive(key) {\n",
              "          const element = document.querySelector('#df-d058f426-b62f-4103-8fbd-f87567486f69');\n",
              "          const dataTable =\n",
              "            await google.colab.kernel.invokeFunction('convertToInteractive',\n",
              "                                                     [key], {});\n",
              "          if (!dataTable) return;\n",
              "\n",
              "          const docLinkHtml = 'Like what you see? Visit the ' +\n",
              "            '<a target=\"_blank\" href=https://colab.research.google.com/notebooks/data_table.ipynb>data table notebook</a>'\n",
              "            + ' to learn more about interactive tables.';\n",
              "          element.innerHTML = '';\n",
              "          dataTable['output_type'] = 'display_data';\n",
              "          await google.colab.output.renderOutput(dataTable, element);\n",
              "          const docLink = document.createElement('div');\n",
              "          docLink.innerHTML = docLinkHtml;\n",
              "          element.appendChild(docLink);\n",
              "        }\n",
              "      </script>\n",
              "    </div>\n",
              "  </div>\n",
              "  "
            ]
          },
          "metadata": {},
          "execution_count": 57
        }
      ]
    },
    {
      "cell_type": "markdown",
      "source": [
        "####Grid Search Cross Validation"
      ],
      "metadata": {
        "id": "cOgcnJ5RWal4"
      }
    },
    {
      "cell_type": "code",
      "source": [
        "bootstrap = [False]\n",
        "max_depth = [30, 40, 50]\n",
        "max_features = ['sqrt']\n",
        "min_samples_leaf = [1, 2, 4]\n",
        "min_samples_split = [5, 10, 15]\n",
        "n_estimators = [600]\n",
        "\n",
        "param_grid = {\n",
        "    'bootstrap': bootstrap,\n",
        "    'max_depth': max_depth,\n",
        "    'max_features': max_features,\n",
        "    'min_samples_leaf': min_samples_leaf,\n",
        "    'min_samples_split': min_samples_split,\n",
        "    'n_estimators': n_estimators\n",
        "}\n",
        "\n",
        "rfc = RandomForestClassifier(random_state=3)\n",
        "\n",
        "cv_sets = ShuffleSplit(n_splits = 3, test_size = .3, random_state = 3)\n",
        "\n",
        "grid_search = GridSearchCV(estimator=rfc, \n",
        "                           param_grid=param_grid,\n",
        "                           scoring='accuracy',\n",
        "                           cv=cv_sets,\n",
        "                           verbose=1, n_jobs=3)\n",
        "\n",
        "grid_search.fit(features_train, labels_train)\n",
        "\n",
        "print(\"Os melhores hiperparâmetros encontrados com o Radom Search são:\")\n",
        "print(grid_search.best_params_)\n",
        "print(\"\\nA acurácia média obtida com esses hiperparâmetros é:\")\n",
        "print(grid_search.best_score_)"
      ],
      "metadata": {
        "colab": {
          "base_uri": "https://localhost:8080/"
        },
        "id": "VT-gILI5WccQ",
        "outputId": "c0957dcc-58c7-441d-c237-000cdab16ac2"
      },
      "execution_count": 58,
      "outputs": [
        {
          "output_type": "stream",
          "name": "stdout",
          "text": [
            "Fitting 3 folds for each of 27 candidates, totalling 81 fits\n",
            "Os melhores hiperparâmetros encontrados com o Radom Search são:\n",
            "{'bootstrap': False, 'max_depth': 30, 'max_features': 'sqrt', 'min_samples_leaf': 1, 'min_samples_split': 5, 'n_estimators': 600}\n",
            "\n",
            "A acurácia média obtida com esses hiperparâmetros é:\n",
            "0.5654761904761905\n"
          ]
        }
      ]
    },
    {
      "cell_type": "code",
      "source": [
        "results = random_search.cv_results_"
      ],
      "metadata": {
        "id": "aMRJ69NncAIj"
      },
      "execution_count": 59,
      "outputs": []
    },
    {
      "cell_type": "code",
      "source": [
        "best_rfc = random_search.best_estimator_ \n",
        "best_rfc"
      ],
      "metadata": {
        "colab": {
          "base_uri": "https://localhost:8080/",
          "height": 92
        },
        "id": "WgJVNsEzcBNE",
        "outputId": "069547d6-c2b4-4b85-c27e-b1dc26cda1a0"
      },
      "execution_count": 60,
      "outputs": [
        {
          "output_type": "execute_result",
          "data": {
            "text/plain": [
              "RandomForestClassifier(bootstrap=False, max_depth=100, min_samples_leaf=2,\n",
              "                       min_samples_split=5, n_estimators=800, random_state=3)"
            ],
            "text/html": [
              "<style>#sk-container-id-1 {color: black;background-color: white;}#sk-container-id-1 pre{padding: 0;}#sk-container-id-1 div.sk-toggleable {background-color: white;}#sk-container-id-1 label.sk-toggleable__label {cursor: pointer;display: block;width: 100%;margin-bottom: 0;padding: 0.3em;box-sizing: border-box;text-align: center;}#sk-container-id-1 label.sk-toggleable__label-arrow:before {content: \"▸\";float: left;margin-right: 0.25em;color: #696969;}#sk-container-id-1 label.sk-toggleable__label-arrow:hover:before {color: black;}#sk-container-id-1 div.sk-estimator:hover label.sk-toggleable__label-arrow:before {color: black;}#sk-container-id-1 div.sk-toggleable__content {max-height: 0;max-width: 0;overflow: hidden;text-align: left;background-color: #f0f8ff;}#sk-container-id-1 div.sk-toggleable__content pre {margin: 0.2em;color: black;border-radius: 0.25em;background-color: #f0f8ff;}#sk-container-id-1 input.sk-toggleable__control:checked~div.sk-toggleable__content {max-height: 200px;max-width: 100%;overflow: auto;}#sk-container-id-1 input.sk-toggleable__control:checked~label.sk-toggleable__label-arrow:before {content: \"▾\";}#sk-container-id-1 div.sk-estimator input.sk-toggleable__control:checked~label.sk-toggleable__label {background-color: #d4ebff;}#sk-container-id-1 div.sk-label input.sk-toggleable__control:checked~label.sk-toggleable__label {background-color: #d4ebff;}#sk-container-id-1 input.sk-hidden--visually {border: 0;clip: rect(1px 1px 1px 1px);clip: rect(1px, 1px, 1px, 1px);height: 1px;margin: -1px;overflow: hidden;padding: 0;position: absolute;width: 1px;}#sk-container-id-1 div.sk-estimator {font-family: monospace;background-color: #f0f8ff;border: 1px dotted black;border-radius: 0.25em;box-sizing: border-box;margin-bottom: 0.5em;}#sk-container-id-1 div.sk-estimator:hover {background-color: #d4ebff;}#sk-container-id-1 div.sk-parallel-item::after {content: \"\";width: 100%;border-bottom: 1px solid gray;flex-grow: 1;}#sk-container-id-1 div.sk-label:hover label.sk-toggleable__label {background-color: #d4ebff;}#sk-container-id-1 div.sk-serial::before {content: \"\";position: absolute;border-left: 1px solid gray;box-sizing: border-box;top: 0;bottom: 0;left: 50%;z-index: 0;}#sk-container-id-1 div.sk-serial {display: flex;flex-direction: column;align-items: center;background-color: white;padding-right: 0.2em;padding-left: 0.2em;position: relative;}#sk-container-id-1 div.sk-item {position: relative;z-index: 1;}#sk-container-id-1 div.sk-parallel {display: flex;align-items: stretch;justify-content: center;background-color: white;position: relative;}#sk-container-id-1 div.sk-item::before, #sk-container-id-1 div.sk-parallel-item::before {content: \"\";position: absolute;border-left: 1px solid gray;box-sizing: border-box;top: 0;bottom: 0;left: 50%;z-index: -1;}#sk-container-id-1 div.sk-parallel-item {display: flex;flex-direction: column;z-index: 1;position: relative;background-color: white;}#sk-container-id-1 div.sk-parallel-item:first-child::after {align-self: flex-end;width: 50%;}#sk-container-id-1 div.sk-parallel-item:last-child::after {align-self: flex-start;width: 50%;}#sk-container-id-1 div.sk-parallel-item:only-child::after {width: 0;}#sk-container-id-1 div.sk-dashed-wrapped {border: 1px dashed gray;margin: 0 0.4em 0.5em 0.4em;box-sizing: border-box;padding-bottom: 0.4em;background-color: white;}#sk-container-id-1 div.sk-label label {font-family: monospace;font-weight: bold;display: inline-block;line-height: 1.2em;}#sk-container-id-1 div.sk-label-container {text-align: center;}#sk-container-id-1 div.sk-container {/* jupyter's `normalize.less` sets `[hidden] { display: none; }` but bootstrap.min.css set `[hidden] { display: none !important; }` so we also need the `!important` here to be able to override the default hidden behavior on the sphinx rendered scikit-learn.org. See: https://github.com/scikit-learn/scikit-learn/issues/21755 */display: inline-block !important;position: relative;}#sk-container-id-1 div.sk-text-repr-fallback {display: none;}</style><div id=\"sk-container-id-1\" class=\"sk-top-container\"><div class=\"sk-text-repr-fallback\"><pre>RandomForestClassifier(bootstrap=False, max_depth=100, min_samples_leaf=2,\n",
              "                       min_samples_split=5, n_estimators=800, random_state=3)</pre><b>In a Jupyter environment, please rerun this cell to show the HTML representation or trust the notebook. <br />On GitHub, the HTML representation is unable to render, please try loading this page with nbviewer.org.</b></div><div class=\"sk-container\" hidden><div class=\"sk-item\"><div class=\"sk-estimator sk-toggleable\"><input class=\"sk-toggleable__control sk-hidden--visually\" id=\"sk-estimator-id-1\" type=\"checkbox\" checked><label for=\"sk-estimator-id-1\" class=\"sk-toggleable__label sk-toggleable__label-arrow\">RandomForestClassifier</label><div class=\"sk-toggleable__content\"><pre>RandomForestClassifier(bootstrap=False, max_depth=100, min_samples_leaf=2,\n",
              "                       min_samples_split=5, n_estimators=800, random_state=3)</pre></div></div></div></div></div>"
            ]
          },
          "metadata": {},
          "execution_count": 60
        }
      ]
    },
    {
      "cell_type": "markdown",
      "source": [
        "####Treinamento e avaliação do modelo"
      ],
      "metadata": {
        "id": "5lKKhnkvcCQc"
      }
    },
    {
      "cell_type": "code",
      "source": [
        "best_scorer_index = np.nonzero(results['rank_test_F1'] == 1)[0][0]\n",
        "best_scorer_index"
      ],
      "metadata": {
        "colab": {
          "base_uri": "https://localhost:8080/"
        },
        "id": "S-D5o58ScHXQ",
        "outputId": "f8fe136d-8661-4b9b-8dbc-c665154c123a"
      },
      "execution_count": 61,
      "outputs": [
        {
          "output_type": "execute_result",
          "data": {
            "text/plain": [
              "1"
            ]
          },
          "metadata": {},
          "execution_count": 61
        }
      ]
    },
    {
      "cell_type": "code",
      "source": [
        "best_rfc.fit(features_train, labels_train)\n",
        "rfc_pred = best_rfc.predict(features_test)"
      ],
      "metadata": {
        "id": "Kak0hfKhcJHr"
      },
      "execution_count": 62,
      "outputs": []
    },
    {
      "cell_type": "code",
      "source": [
        "acc = accuracy_score(labels_test, rfc_pred)\n",
        "f1 = f1_score(labels_test, rfc_pred, average='macro')\n",
        "print(classification_report(labels_test,rfc_pred))\n",
        "\n",
        "aux_df = stack_df[['classification', 'category']].drop_duplicates().sort_values('category')\n",
        "conf_matrix = confusion_matrix(labels_test, rfc_pred)\n",
        "plt.figure(figsize=(12.8,6))\n",
        "sns.heatmap(conf_matrix, \n",
        "            annot=True,\n",
        "            xticklabels=aux_df['classification'].values, \n",
        "            yticklabels=aux_df['classification'].values,\n",
        "            cmap=\"Blues\")\n",
        "plt.ylabel('Actual')\n",
        "plt.xlabel('Predicted')\n",
        "plt.title('Confusion matrix')\n",
        "plt.show()"
      ],
      "metadata": {
        "colab": {
          "base_uri": "https://localhost:8080/",
          "height": 578
        },
        "id": "1amL790zcKtE",
        "outputId": "ce97eebb-1bb8-4169-e771-2b0ed35d46ec"
      },
      "execution_count": 63,
      "outputs": [
        {
          "output_type": "stream",
          "name": "stdout",
          "text": [
            "              precision    recall  f1-score   support\n",
            "\n",
            "           0       0.48      0.50      0.49        26\n",
            "           1       0.65      0.34      0.45        32\n",
            "           2       0.36      0.59      0.45        22\n",
            "\n",
            "    accuracy                           0.46        80\n",
            "   macro avg       0.50      0.48      0.46        80\n",
            "weighted avg       0.51      0.46      0.46        80\n",
            "\n"
          ]
        },
        {
          "output_type": "display_data",
          "data": {
            "text/plain": [
              "<Figure size 921.6x432 with 2 Axes>"
            ],
            "image/png": "[encoded data removed]"
          },
          "metadata": {}
        }
      ]
    },
    {
      "cell_type": "code",
      "source": [
        "print(\"Cross-validation scores\")\n",
        "print(\"F1: %.3f - Accuracy: %.3f \" % (results['mean_test_F1'][best_scorer_index], results['mean_test_Accuracy'][best_scorer_index]))\n",
        "print('---------------------------')\n",
        "print(\"Test scores\")\n",
        "print(\"F1: %.3f - Accuracy: %.3f \" % (f1, acc))"
      ],
      "metadata": {
        "colab": {
          "base_uri": "https://localhost:8080/"
        },
        "id": "3qmaTho4cW_m",
        "outputId": "a40b6f80-7dce-4c49-a920-edb830480fa3"
      },
      "execution_count": 64,
      "outputs": [
        {
          "output_type": "stream",
          "name": "stdout",
          "text": [
            "Cross-validation scores\n",
            "F1: 0.566 - Accuracy: 0.565 \n",
            "---------------------------\n",
            "Test scores\n",
            "F1: 0.463 - Accuracy: 0.463 \n"
          ]
        }
      ]
    },
    {
      "cell_type": "code",
      "source": [
        "d = {\n",
        "    'Estimator': 'Random Forest',\n",
        "    'Cross-validation Scores': (round(results['mean_test_F1'][best_scorer_index],3), round(results['mean_test_Accuracy'][best_scorer_index],3)),\n",
        "    'Test Set Scores': (round(f1,3), round(acc,3))\n",
        "}\n",
        "\n",
        "df_estimators_scores = df_estimators_scores.append(d, ignore_index=True)"
      ],
      "metadata": {
        "colab": {
          "base_uri": "https://localhost:8080/"
        },
        "id": "hiJFoz1fcczU",
        "outputId": "6cc82aa9-900a-4489-cf7a-042bafa9e7c0"
      },
      "execution_count": 65,
      "outputs": [
        {
          "output_type": "stream",
          "name": "stderr",
          "text": [
            "<ipython-input-65-cdcd28474192>:7: FutureWarning: The frame.append method is deprecated and will be removed from pandas in a future version. Use pandas.concat instead.\n",
            "  df_estimators_scores = df_estimators_scores.append(d, ignore_index=True)\n"
          ]
        }
      ]
    },
    {
      "cell_type": "code",
      "source": [
        "df_estimators_scores"
      ],
      "metadata": {
        "colab": {
          "base_uri": "https://localhost:8080/",
          "height": 81
        },
        "id": "r6uEV-8rcio0",
        "outputId": "321a279e-8f08-4785-824d-34d323fe7e79"
      },
      "execution_count": 66,
      "outputs": [
        {
          "output_type": "execute_result",
          "data": {
            "text/plain": [
              "       Estimator Cross-validation Scores Test Set Scores\n",
              "0  Random Forest          (0.566, 0.565)  (0.463, 0.462)"
            ],
            "text/html": [
              "\n",
              "  <div id=\"df-4c6d2cee-9912-49e3-9134-ac713fe2393d\">\n",
              "    <div class=\"colab-df-container\">\n",
              "      <div>\n",
              "<style scoped>\n",
              "    .dataframe tbody tr th:only-of-type {\n",
              "        vertical-align: middle;\n",
              "    }\n",
              "\n",
              "    .dataframe tbody tr th {\n",
              "        vertical-align: top;\n",
              "    }\n",
              "\n",
              "    .dataframe thead th {\n",
              "        text-align: right;\n",
              "    }\n",
              "</style>\n",
              "<table border=\"1\" class=\"dataframe\">\n",
              "  <thead>\n",
              "    <tr style=\"text-align: right;\">\n",
              "      <th></th>\n",
              "      <th>Estimator</th>\n",
              "      <th>Cross-validation Scores</th>\n",
              "      <th>Test Set Scores</th>\n",
              "    </tr>\n",
              "  </thead>\n",
              "  <tbody>\n",
              "    <tr>\n",
              "      <th>0</th>\n",
              "      <td>Random Forest</td>\n",
              "      <td>(0.566, 0.565)</td>\n",
              "      <td>(0.463, 0.462)</td>\n",
              "    </tr>\n",
              "  </tbody>\n",
              "</table>\n",
              "</div>\n",
              "      <button class=\"colab-df-convert\" onclick=\"convertToInteractive('df-4c6d2cee-9912-49e3-9134-ac713fe2393d')\"\n",
              "              title=\"Convert this dataframe to an interactive table.\"\n",
              "              style=\"display:none;\">\n",
              "        \n",
              "  <svg xmlns=\"http://www.w3.org/2000/svg\" height=\"24px\"viewBox=\"0 0 24 24\"\n",
              "       width=\"24px\">\n",
              "    <path d=\"M0 0h24v24H0V0z\" fill=\"none\"/>\n",
              "    <path d=\"M18.56 5.44l.94 2.06.94-2.06 2.06-.94-2.06-.94-.94-2.06-.94 2.06-2.06.94zm-11 1L8.5 8.5l.94-2.06 2.06-.94-2.06-.94L8.5 2.5l-.94 2.06-2.06.94zm10 10l.94 2.06.94-2.06 2.06-.94-2.06-.94-.94-2.06-.94 2.06-2.06.94z\"/><path d=\"M17.41 7.96l-1.37-1.37c-.4-.4-.92-.59-1.43-.59-.52 0-1.04.2-1.43.59L10.3 9.45l-7.72 7.72c-.78.78-.78 2.05 0 2.83L4 21.41c.39.39.9.59 1.41.59.51 0 1.02-.2 1.41-.59l7.78-7.78 2.81-2.81c.8-.78.8-2.07 0-2.86zM5.41 20L4 18.59l7.72-7.72 1.47 1.35L5.41 20z\"/>\n",
              "  </svg>\n",
              "      </button>\n",
              "      \n",
              "  <style>\n",
              "    .colab-df-container {\n",
              "      display:flex;\n",
              "      flex-wrap:wrap;\n",
              "      gap: 12px;\n",
              "    }\n",
              "\n",
              "    .colab-df-convert {\n",
              "      background-color: #E8F0FE;\n",
              "      border: none;\n",
              "      border-radius: 50%;\n",
              "      cursor: pointer;\n",
              "      display: none;\n",
              "      fill: #1967D2;\n",
              "      height: 32px;\n",
              "      padding: 0 0 0 0;\n",
              "      width: 32px;\n",
              "    }\n",
              "\n",
              "    .colab-df-convert:hover {\n",
              "      background-color: #E2EBFA;\n",
              "      box-shadow: 0px 1px 2px rgba(60, 64, 67, 0.3), 0px 1px 3px 1px rgba(60, 64, 67, 0.15);\n",
              "      fill: #174EA6;\n",
              "    }\n",
              "\n",
              "    [theme=dark] .colab-df-convert {\n",
              "      background-color: #3B4455;\n",
              "      fill: #D2E3FC;\n",
              "    }\n",
              "\n",
              "    [theme=dark] .colab-df-convert:hover {\n",
              "      background-color: #434B5C;\n",
              "      box-shadow: 0px 1px 3px 1px rgba(0, 0, 0, 0.15);\n",
              "      filter: drop-shadow(0px 1px 2px rgba(0, 0, 0, 0.3));\n",
              "      fill: #FFFFFF;\n",
              "    }\n",
              "  </style>\n",
              "\n",
              "      <script>\n",
              "        const buttonEl =\n",
              "          document.querySelector('#df-4c6d2cee-9912-49e3-9134-ac713fe2393d button.colab-df-convert');\n",
              "        buttonEl.style.display =\n",
              "          google.colab.kernel.accessAllowed ? 'block' : 'none';\n",
              "\n",
              "        async function convertToInteractive(key) {\n",
              "          const element = document.querySelector('#df-4c6d2cee-9912-49e3-9134-ac713fe2393d');\n",
              "          const dataTable =\n",
              "            await google.colab.kernel.invokeFunction('convertToInteractive',\n",
              "                                                     [key], {});\n",
              "          if (!dataTable) return;\n",
              "\n",
              "          const docLinkHtml = 'Like what you see? Visit the ' +\n",
              "            '<a target=\"_blank\" href=https://colab.research.google.com/notebooks/data_table.ipynb>data table notebook</a>'\n",
              "            + ' to learn more about interactive tables.';\n",
              "          element.innerHTML = '';\n",
              "          dataTable['output_type'] = 'display_data';\n",
              "          await google.colab.output.renderOutput(dataTable, element);\n",
              "          const docLink = document.createElement('div');\n",
              "          docLink.innerHTML = docLinkHtml;\n",
              "          element.appendChild(docLink);\n",
              "        }\n",
              "      </script>\n",
              "    </div>\n",
              "  </div>\n",
              "  "
            ]
          },
          "metadata": {},
          "execution_count": 66
        }
      ]
    },
    {
      "cell_type": "markdown",
      "source": [
        "###Support Vector Machine"
      ],
      "metadata": {
        "id": "KUIX5YczcmmW"
      }
    },
    {
      "cell_type": "markdown",
      "source": [
        "####Ajuste de parâmetros"
      ],
      "metadata": {
        "id": "HcyRHUd8fERy"
      }
    },
    {
      "cell_type": "code",
      "source": [
        "vector_machine = svm.SVC(random_state=3)\n",
        "\n",
        "print('Parameters currently in use:\\n')\n",
        "pprint(vector_machine.get_params())"
      ],
      "metadata": {
        "colab": {
          "base_uri": "https://localhost:8080/"
        },
        "id": "saf8P05jcikg",
        "outputId": "565b064a-9104-4244-e8ae-0d47b0ce09c1"
      },
      "execution_count": 67,
      "outputs": [
        {
          "output_type": "stream",
          "name": "stdout",
          "text": [
            "Parameters currently in use:\n",
            "\n",
            "{'C': 1.0,\n",
            " 'break_ties': False,\n",
            " 'cache_size': 200,\n",
            " 'class_weight': None,\n",
            " 'coef0': 0.0,\n",
            " 'decision_function_shape': 'ovr',\n",
            " 'degree': 3,\n",
            " 'gamma': 'scale',\n",
            " 'kernel': 'rbf',\n",
            " 'max_iter': -1,\n",
            " 'probability': False,\n",
            " 'random_state': 3,\n",
            " 'shrinking': True,\n",
            " 'tol': 0.001,\n",
            " 'verbose': False}\n"
          ]
        }
      ]
    },
    {
      "cell_type": "code",
      "source": [
        "C = [.0001, .001, .01]\n",
        "\n",
        "gamma = [.0001, .001, .01, .1, 1, 10, 100]\n",
        "\n",
        "degree = [1, 2, 3, 4, 5]\n",
        "\n",
        "kernel = ['linear', 'rbf', 'poly']\n",
        "\n",
        "probability = [True]\n",
        "\n",
        "random_grid = {'C': C,\n",
        "              'kernel': kernel,\n",
        "              'gamma': gamma,\n",
        "              'degree': degree,\n",
        "              'probability': probability\n",
        "             }\n",
        "\n",
        "pprint(random_grid)"
      ],
      "metadata": {
        "colab": {
          "base_uri": "https://localhost:8080/"
        },
        "id": "abe_aRKLdX_W",
        "outputId": "ddf2b383-f0f2-447b-e94f-24bd04d11aea"
      },
      "execution_count": 68,
      "outputs": [
        {
          "output_type": "stream",
          "name": "stdout",
          "text": [
            "{'C': [0.0001, 0.001, 0.01],\n",
            " 'degree': [1, 2, 3, 4, 5],\n",
            " 'gamma': [0.0001, 0.001, 0.01, 0.1, 1, 10, 100],\n",
            " 'kernel': ['linear', 'rbf', 'poly'],\n",
            " 'probability': [True]}\n"
          ]
        }
      ]
    },
    {
      "cell_type": "markdown",
      "source": [
        "####Randomized Search Cross Validation"
      ],
      "metadata": {
        "id": "z5xlS1nJdeYM"
      }
    },
    {
      "cell_type": "code",
      "source": [
        "vector_machine = svm.SVC(random_state=3)\n",
        "\n",
        "random_search = RandomizedSearchCV(estimator=vector_machine,\n",
        "                                   param_distributions=random_grid,\n",
        "                                   scoring=score_metrics,\n",
        "                                   refit='F1',\n",
        "                                   cv=3, \n",
        "                                   verbose=1, \n",
        "                                   random_state=3,\n",
        "                                   n_jobs=3)\n",
        "\n",
        "random_search.fit(features_train, labels_train)\n",
        "\n",
        "print(\"Os melhores hiperparâmetros encontrados com o Radom Search são:\")\n",
        "print(random_search.best_params_)\n",
        "print(\"\")\n",
        "print(\"A macro F1 obtida com esses hiperparâmetros é:\")\n",
        "print(random_search.best_score_)"
      ],
      "metadata": {
        "colab": {
          "base_uri": "https://localhost:8080/"
        },
        "id": "JFWOfKqPdgd6",
        "outputId": "b6eb5e06-9e21-4fb2-afb1-28a0b9b60a04"
      },
      "execution_count": 69,
      "outputs": [
        {
          "output_type": "stream",
          "name": "stdout",
          "text": [
            "Fitting 3 folds for each of 10 candidates, totalling 30 fits\n",
            "Os melhores hiperparâmetros encontrados com o Radom Search são:\n",
            "{'probability': True, 'kernel': 'linear', 'gamma': 0.001, 'degree': 4, 'C': 0.0001}\n",
            "\n",
            "A macro F1 obtida com esses hiperparâmetros é:\n",
            "0.17653283535636477\n"
          ]
        }
      ]
    },
    {
      "cell_type": "code",
      "source": [
        "results = random_search.cv_results_\n",
        "\n",
        "best_svm = random_search.best_estimator_ \n",
        "best_svm"
      ],
      "metadata": {
        "colab": {
          "base_uri": "https://localhost:8080/",
          "height": 92
        },
        "id": "cA3uEh30dvfN",
        "outputId": "19ddac59-589c-4658-8869-579ce6e34e17"
      },
      "execution_count": 70,
      "outputs": [
        {
          "output_type": "execute_result",
          "data": {
            "text/plain": [
              "SVC(C=0.0001, degree=4, gamma=0.001, kernel='linear', probability=True,\n",
              "    random_state=3)"
            ],
            "text/html": [
              "<style>#sk-container-id-2 {color: black;background-color: white;}#sk-container-id-2 pre{padding: 0;}#sk-container-id-2 div.sk-toggleable {background-color: white;}#sk-container-id-2 label.sk-toggleable__label {cursor: pointer;display: block;width: 100%;margin-bottom: 0;padding: 0.3em;box-sizing: border-box;text-align: center;}#sk-container-id-2 label.sk-toggleable__label-arrow:before {content: \"▸\";float: left;margin-right: 0.25em;color: #696969;}#sk-container-id-2 label.sk-toggleable__label-arrow:hover:before {color: black;}#sk-container-id-2 div.sk-estimator:hover label.sk-toggleable__label-arrow:before {color: black;}#sk-container-id-2 div.sk-toggleable__content {max-height: 0;max-width: 0;overflow: hidden;text-align: left;background-color: #f0f8ff;}#sk-container-id-2 div.sk-toggleable__content pre {margin: 0.2em;color: black;border-radius: 0.25em;background-color: #f0f8ff;}#sk-container-id-2 input.sk-toggleable__control:checked~div.sk-toggleable__content {max-height: 200px;max-width: 100%;overflow: auto;}#sk-container-id-2 input.sk-toggleable__control:checked~label.sk-toggleable__label-arrow:before {content: \"▾\";}#sk-container-id-2 div.sk-estimator input.sk-toggleable__control:checked~label.sk-toggleable__label {background-color: #d4ebff;}#sk-container-id-2 div.sk-label input.sk-toggleable__control:checked~label.sk-toggleable__label {background-color: #d4ebff;}#sk-container-id-2 input.sk-hidden--visually {border: 0;clip: rect(1px 1px 1px 1px);clip: rect(1px, 1px, 1px, 1px);height: 1px;margin: -1px;overflow: hidden;padding: 0;position: absolute;width: 1px;}#sk-container-id-2 div.sk-estimator {font-family: monospace;background-color: #f0f8ff;border: 1px dotted black;border-radius: 0.25em;box-sizing: border-box;margin-bottom: 0.5em;}#sk-container-id-2 div.sk-estimator:hover {background-color: #d4ebff;}#sk-container-id-2 div.sk-parallel-item::after {content: \"\";width: 100%;border-bottom: 1px solid gray;flex-grow: 1;}#sk-container-id-2 div.sk-label:hover label.sk-toggleable__label {background-color: #d4ebff;}#sk-container-id-2 div.sk-serial::before {content: \"\";position: absolute;border-left: 1px solid gray;box-sizing: border-box;top: 0;bottom: 0;left: 50%;z-index: 0;}#sk-container-id-2 div.sk-serial {display: flex;flex-direction: column;align-items: center;background-color: white;padding-right: 0.2em;padding-left: 0.2em;position: relative;}#sk-container-id-2 div.sk-item {position: relative;z-index: 1;}#sk-container-id-2 div.sk-parallel {display: flex;align-items: stretch;justify-content: center;background-color: white;position: relative;}#sk-container-id-2 div.sk-item::before, #sk-container-id-2 div.sk-parallel-item::before {content: \"\";position: absolute;border-left: 1px solid gray;box-sizing: border-box;top: 0;bottom: 0;left: 50%;z-index: -1;}#sk-container-id-2 div.sk-parallel-item {display: flex;flex-direction: column;z-index: 1;position: relative;background-color: white;}#sk-container-id-2 div.sk-parallel-item:first-child::after {align-self: flex-end;width: 50%;}#sk-container-id-2 div.sk-parallel-item:last-child::after {align-self: flex-start;width: 50%;}#sk-container-id-2 div.sk-parallel-item:only-child::after {width: 0;}#sk-container-id-2 div.sk-dashed-wrapped {border: 1px dashed gray;margin: 0 0.4em 0.5em 0.4em;box-sizing: border-box;padding-bottom: 0.4em;background-color: white;}#sk-container-id-2 div.sk-label label {font-family: monospace;font-weight: bold;display: inline-block;line-height: 1.2em;}#sk-container-id-2 div.sk-label-container {text-align: center;}#sk-container-id-2 div.sk-container {/* jupyter's `normalize.less` sets `[hidden] { display: none; }` but bootstrap.min.css set `[hidden] { display: none !important; }` so we also need the `!important` here to be able to override the default hidden behavior on the sphinx rendered scikit-learn.org. See: https://github.com/scikit-learn/scikit-learn/issues/21755 */display: inline-block !important;position: relative;}#sk-container-id-2 div.sk-text-repr-fallback {display: none;}</style><div id=\"sk-container-id-2\" class=\"sk-top-container\"><div class=\"sk-text-repr-fallback\"><pre>SVC(C=0.0001, degree=4, gamma=0.001, kernel=&#x27;linear&#x27;, probability=True,\n",
              "    random_state=3)</pre><b>In a Jupyter environment, please rerun this cell to show the HTML representation or trust the notebook. <br />On GitHub, the HTML representation is unable to render, please try loading this page with nbviewer.org.</b></div><div class=\"sk-container\" hidden><div class=\"sk-item\"><div class=\"sk-estimator sk-toggleable\"><input class=\"sk-toggleable__control sk-hidden--visually\" id=\"sk-estimator-id-2\" type=\"checkbox\" checked><label for=\"sk-estimator-id-2\" class=\"sk-toggleable__label sk-toggleable__label-arrow\">SVC</label><div class=\"sk-toggleable__content\"><pre>SVC(C=0.0001, degree=4, gamma=0.001, kernel=&#x27;linear&#x27;, probability=True,\n",
              "    random_state=3)</pre></div></div></div></div></div>"
            ]
          },
          "metadata": {},
          "execution_count": 70
        }
      ]
    },
    {
      "cell_type": "code",
      "source": [
        "pd.DataFrame(results).T"
      ],
      "metadata": {
        "colab": {
          "base_uri": "https://localhost:8080/",
          "height": 801
        },
        "id": "XIqPnJBld3Im",
        "outputId": "2ad29e38-528b-4b9c-d979-ea02eae36a92"
      },
      "execution_count": 71,
      "outputs": [
        {
          "output_type": "execute_result",
          "data": {
            "text/plain": [
              "                                                                      0  \\\n",
              "mean_fit_time                                                  0.020718   \n",
              "std_fit_time                                                   0.002606   \n",
              "mean_score_time                                                0.006763   \n",
              "std_score_time                                                 0.003468   \n",
              "param_probability                                                  True   \n",
              "param_kernel                                                     linear   \n",
              "param_gamma                                                       0.001   \n",
              "param_degree                                                          4   \n",
              "param_C                                                          0.0001   \n",
              "params                {'probability': True, 'kernel': 'linear', 'gam...   \n",
              "split0_test_F1                                                 0.180392   \n",
              "split1_test_F1                                                 0.174603   \n",
              "split2_test_F1                                                 0.174603   \n",
              "mean_test_F1                                                   0.176533   \n",
              "std_test_F1                                                    0.002729   \n",
              "rank_test_F1                                                          1   \n",
              "split0_test_Accuracy                                           0.370968   \n",
              "split1_test_Accuracy                                           0.354839   \n",
              "split2_test_Accuracy                                           0.354839   \n",
              "mean_test_Accuracy                                             0.360215   \n",
              "std_test_Accuracy                                              0.007603   \n",
              "rank_test_Accuracy                                                    1   \n",
              "\n",
              "                                                                      1  \\\n",
              "mean_fit_time                                                  0.019974   \n",
              "std_fit_time                                                   0.001967   \n",
              "mean_score_time                                                0.008052   \n",
              "std_score_time                                                 0.002882   \n",
              "param_probability                                                  True   \n",
              "param_kernel                                                       poly   \n",
              "param_gamma                                                         0.1   \n",
              "param_degree                                                          5   \n",
              "param_C                                                           0.001   \n",
              "params                {'probability': True, 'kernel': 'poly', 'gamma...   \n",
              "split0_test_F1                                                 0.180392   \n",
              "split1_test_F1                                                 0.174603   \n",
              "split2_test_F1                                                 0.174603   \n",
              "mean_test_F1                                                   0.176533   \n",
              "std_test_F1                                                    0.002729   \n",
              "rank_test_F1                                                          1   \n",
              "split0_test_Accuracy                                           0.370968   \n",
              "split1_test_Accuracy                                           0.354839   \n",
              "split2_test_Accuracy                                           0.354839   \n",
              "mean_test_Accuracy                                             0.360215   \n",
              "std_test_Accuracy                                              0.007603   \n",
              "rank_test_Accuracy                                                    1   \n",
              "\n",
              "                                                                      2  \\\n",
              "mean_fit_time                                                  0.022487   \n",
              "std_fit_time                                                   0.007879   \n",
              "mean_score_time                                                0.007072   \n",
              "std_score_time                                                 0.002872   \n",
              "param_probability                                                  True   \n",
              "param_kernel                                                        rbf   \n",
              "param_gamma                                                          10   \n",
              "param_degree                                                          2   \n",
              "param_C                                                           0.001   \n",
              "params                {'probability': True, 'kernel': 'rbf', 'gamma'...   \n",
              "split0_test_F1                                                 0.180392   \n",
              "split1_test_F1                                                 0.174603   \n",
              "split2_test_F1                                                 0.174603   \n",
              "mean_test_F1                                                   0.176533   \n",
              "std_test_F1                                                    0.002729   \n",
              "rank_test_F1                                                          1   \n",
              "split0_test_Accuracy                                           0.370968   \n",
              "split1_test_Accuracy                                           0.354839   \n",
              "split2_test_Accuracy                                           0.354839   \n",
              "mean_test_Accuracy                                             0.360215   \n",
              "std_test_Accuracy                                              0.007603   \n",
              "rank_test_Accuracy                                                    1   \n",
              "\n",
              "                                                                      3  \\\n",
              "mean_fit_time                                                  0.027315   \n",
              "std_fit_time                                                   0.004179   \n",
              "mean_score_time                                                0.010379   \n",
              "std_score_time                                                 0.003958   \n",
              "param_probability                                                  True   \n",
              "param_kernel                                                        rbf   \n",
              "param_gamma                                                      0.0001   \n",
              "param_degree                                                          2   \n",
              "param_C                                                           0.001   \n",
              "params                {'probability': True, 'kernel': 'rbf', 'gamma'...   \n",
              "split0_test_F1                                                 0.180392   \n",
              "split1_test_F1                                                 0.174603   \n",
              "split2_test_F1                                                 0.174603   \n",
              "mean_test_F1                                                   0.176533   \n",
              "std_test_F1                                                    0.002729   \n",
              "rank_test_F1                                                          1   \n",
              "split0_test_Accuracy                                           0.370968   \n",
              "split1_test_Accuracy                                           0.354839   \n",
              "split2_test_Accuracy                                           0.354839   \n",
              "mean_test_Accuracy                                             0.360215   \n",
              "std_test_Accuracy                                              0.007603   \n",
              "rank_test_Accuracy                                                    1   \n",
              "\n",
              "                                                                      4  \\\n",
              "mean_fit_time                                                  0.019543   \n",
              "std_fit_time                                                   0.006606   \n",
              "mean_score_time                                                0.010437   \n",
              "std_score_time                                                 0.005731   \n",
              "param_probability                                                  True   \n",
              "param_kernel                                                        rbf   \n",
              "param_gamma                                                        0.01   \n",
              "param_degree                                                          4   \n",
              "param_C                                                           0.001   \n",
              "params                {'probability': True, 'kernel': 'rbf', 'gamma'...   \n",
              "split0_test_F1                                                 0.180392   \n",
              "split1_test_F1                                                 0.174603   \n",
              "split2_test_F1                                                 0.174603   \n",
              "mean_test_F1                                                   0.176533   \n",
              "std_test_F1                                                    0.002729   \n",
              "rank_test_F1                                                          1   \n",
              "split0_test_Accuracy                                           0.370968   \n",
              "split1_test_Accuracy                                           0.354839   \n",
              "split2_test_Accuracy                                           0.354839   \n",
              "mean_test_Accuracy                                             0.360215   \n",
              "std_test_Accuracy                                              0.007603   \n",
              "rank_test_Accuracy                                                    1   \n",
              "\n",
              "                                                                      5  \\\n",
              "mean_fit_time                                                  0.015945   \n",
              "std_fit_time                                                   0.007492   \n",
              "mean_score_time                                                0.004161   \n",
              "std_score_time                                                  0.00006   \n",
              "param_probability                                                  True   \n",
              "param_kernel                                                       poly   \n",
              "param_gamma                                                      0.0001   \n",
              "param_degree                                                          3   \n",
              "param_C                                                           0.001   \n",
              "params                {'probability': True, 'kernel': 'poly', 'gamma...   \n",
              "split0_test_F1                                                 0.180392   \n",
              "split1_test_F1                                                 0.174603   \n",
              "split2_test_F1                                                 0.174603   \n",
              "mean_test_F1                                                   0.176533   \n",
              "std_test_F1                                                    0.002729   \n",
              "rank_test_F1                                                          1   \n",
              "split0_test_Accuracy                                           0.370968   \n",
              "split1_test_Accuracy                                           0.354839   \n",
              "split2_test_Accuracy                                           0.354839   \n",
              "mean_test_Accuracy                                             0.360215   \n",
              "std_test_Accuracy                                              0.007603   \n",
              "rank_test_Accuracy                                                    1   \n",
              "\n",
              "                                                                      6  \\\n",
              "mean_fit_time                                                  0.025787   \n",
              "std_fit_time                                                   0.006646   \n",
              "mean_score_time                                                0.010559   \n",
              "std_score_time                                                 0.003907   \n",
              "param_probability                                                  True   \n",
              "param_kernel                                                        rbf   \n",
              "param_gamma                                                       0.001   \n",
              "param_degree                                                          4   \n",
              "param_C                                                          0.0001   \n",
              "params                {'probability': True, 'kernel': 'rbf', 'gamma'...   \n",
              "split0_test_F1                                                 0.180392   \n",
              "split1_test_F1                                                 0.174603   \n",
              "split2_test_F1                                                 0.174603   \n",
              "mean_test_F1                                                   0.176533   \n",
              "std_test_F1                                                    0.002729   \n",
              "rank_test_F1                                                          1   \n",
              "split0_test_Accuracy                                           0.370968   \n",
              "split1_test_Accuracy                                           0.354839   \n",
              "split2_test_Accuracy                                           0.354839   \n",
              "mean_test_Accuracy                                             0.360215   \n",
              "std_test_Accuracy                                              0.007603   \n",
              "rank_test_Accuracy                                                    1   \n",
              "\n",
              "                                                                      7  \\\n",
              "mean_fit_time                                                  0.010362   \n",
              "std_fit_time                                                   0.000506   \n",
              "mean_score_time                                                0.003898   \n",
              "std_score_time                                                 0.000057   \n",
              "param_probability                                                  True   \n",
              "param_kernel                                                     linear   \n",
              "param_gamma                                                         100   \n",
              "param_degree                                                          5   \n",
              "param_C                                                            0.01   \n",
              "params                {'probability': True, 'kernel': 'linear', 'gam...   \n",
              "split0_test_F1                                                 0.180392   \n",
              "split1_test_F1                                                 0.174603   \n",
              "split2_test_F1                                                 0.174603   \n",
              "mean_test_F1                                                   0.176533   \n",
              "std_test_F1                                                    0.002729   \n",
              "rank_test_F1                                                          1   \n",
              "split0_test_Accuracy                                           0.370968   \n",
              "split1_test_Accuracy                                           0.354839   \n",
              "split2_test_Accuracy                                           0.354839   \n",
              "mean_test_Accuracy                                             0.360215   \n",
              "std_test_Accuracy                                              0.007603   \n",
              "rank_test_Accuracy                                                    1   \n",
              "\n",
              "                                                                      8  \\\n",
              "mean_fit_time                                                  0.016607   \n",
              "std_fit_time                                                   0.003871   \n",
              "mean_score_time                                                0.005009   \n",
              "std_score_time                                                 0.000093   \n",
              "param_probability                                                  True   \n",
              "param_kernel                                                        rbf   \n",
              "param_gamma                                                         0.1   \n",
              "param_degree                                                          3   \n",
              "param_C                                                            0.01   \n",
              "params                {'probability': True, 'kernel': 'rbf', 'gamma'...   \n",
              "split0_test_F1                                                 0.180392   \n",
              "split1_test_F1                                                 0.174603   \n",
              "split2_test_F1                                                 0.174603   \n",
              "mean_test_F1                                                   0.176533   \n",
              "std_test_F1                                                    0.002729   \n",
              "rank_test_F1                                                          1   \n",
              "split0_test_Accuracy                                           0.370968   \n",
              "split1_test_Accuracy                                           0.354839   \n",
              "split2_test_Accuracy                                           0.354839   \n",
              "mean_test_Accuracy                                             0.360215   \n",
              "std_test_Accuracy                                              0.007603   \n",
              "rank_test_Accuracy                                                    1   \n",
              "\n",
              "                                                                      9  \n",
              "mean_fit_time                                                  0.011104  \n",
              "std_fit_time                                                   0.002492  \n",
              "mean_score_time                                                0.003628  \n",
              "std_score_time                                                 0.001004  \n",
              "param_probability                                                  True  \n",
              "param_kernel                                                        rbf  \n",
              "param_gamma                                                         100  \n",
              "param_degree                                                          3  \n",
              "param_C                                                          0.0001  \n",
              "params                {'probability': True, 'kernel': 'rbf', 'gamma'...  \n",
              "split0_test_F1                                                 0.180392  \n",
              "split1_test_F1                                                 0.174603  \n",
              "split2_test_F1                                                 0.174603  \n",
              "mean_test_F1                                                   0.176533  \n",
              "std_test_F1                                                    0.002729  \n",
              "rank_test_F1                                                          1  \n",
              "split0_test_Accuracy                                           0.370968  \n",
              "split1_test_Accuracy                                           0.354839  \n",
              "split2_test_Accuracy                                           0.354839  \n",
              "mean_test_Accuracy                                             0.360215  \n",
              "std_test_Accuracy                                              0.007603  \n",
              "rank_test_Accuracy                                                    1  "
            ],
            "text/html": [
              "\n",
              "  <div id=\"df-8019bbd6-781a-4320-907b-c5351223d472\">\n",
              "    <div class=\"colab-df-container\">\n",
              "      <div>\n",
              "<style scoped>\n",
              "    .dataframe tbody tr th:only-of-type {\n",
              "        vertical-align: middle;\n",
              "    }\n",
              "\n",
              "    .dataframe tbody tr th {\n",
              "        vertical-align: top;\n",
              "    }\n",
              "\n",
              "    .dataframe thead th {\n",
              "        text-align: right;\n",
              "    }\n",
              "</style>\n",
              "<table border=\"1\" class=\"dataframe\">\n",
              "  <thead>\n",
              "    <tr style=\"text-align: right;\">\n",
              "      <th></th>\n",
              "      <th>0</th>\n",
              "      <th>1</th>\n",
              "      <th>2</th>\n",
              "      <th>3</th>\n",
              "      <th>4</th>\n",
              "      <th>5</th>\n",
              "      <th>6</th>\n",
              "      <th>7</th>\n",
              "      <th>8</th>\n",
              "      <th>9</th>\n",
              "    </tr>\n",
              "  </thead>\n",
              "  <tbody>\n",
              "    <tr>\n",
              "      <th>mean_fit_time</th>\n",
              "      <td>0.020718</td>\n",
              "      <td>0.019974</td>\n",
              "      <td>0.022487</td>\n",
              "      <td>0.027315</td>\n",
              "      <td>0.019543</td>\n",
              "      <td>0.015945</td>\n",
              "      <td>0.025787</td>\n",
              "      <td>0.010362</td>\n",
              "      <td>0.016607</td>\n",
              "      <td>0.011104</td>\n",
              "    </tr>\n",
              "    <tr>\n",
              "      <th>std_fit_time</th>\n",
              "      <td>0.002606</td>\n",
              "      <td>0.001967</td>\n",
              "      <td>0.007879</td>\n",
              "      <td>0.004179</td>\n",
              "      <td>0.006606</td>\n",
              "      <td>0.007492</td>\n",
              "      <td>0.006646</td>\n",
              "      <td>0.000506</td>\n",
              "      <td>0.003871</td>\n",
              "      <td>0.002492</td>\n",
              "    </tr>\n",
              "    <tr>\n",
              "      <th>mean_score_time</th>\n",
              "      <td>0.006763</td>\n",
              "      <td>0.008052</td>\n",
              "      <td>0.007072</td>\n",
              "      <td>0.010379</td>\n",
              "      <td>0.010437</td>\n",
              "      <td>0.004161</td>\n",
              "      <td>0.010559</td>\n",
              "      <td>0.003898</td>\n",
              "      <td>0.005009</td>\n",
              "      <td>0.003628</td>\n",
              "    </tr>\n",
              "    <tr>\n",
              "      <th>std_score_time</th>\n",
              "      <td>0.003468</td>\n",
              "      <td>0.002882</td>\n",
              "      <td>0.002872</td>\n",
              "      <td>0.003958</td>\n",
              "      <td>0.005731</td>\n",
              "      <td>0.00006</td>\n",
              "      <td>0.003907</td>\n",
              "      <td>0.000057</td>\n",
              "      <td>0.000093</td>\n",
              "      <td>0.001004</td>\n",
              "    </tr>\n",
              "    <tr>\n",
              "      <th>param_probability</th>\n",
              "      <td>True</td>\n",
              "      <td>True</td>\n",
              "      <td>True</td>\n",
              "      <td>True</td>\n",
              "      <td>True</td>\n",
              "      <td>True</td>\n",
              "      <td>True</td>\n",
              "      <td>True</td>\n",
              "      <td>True</td>\n",
              "      <td>True</td>\n",
              "    </tr>\n",
              "    <tr>\n",
              "      <th>param_kernel</th>\n",
              "      <td>linear</td>\n",
              "      <td>poly</td>\n",
              "      <td>rbf</td>\n",
              "      <td>rbf</td>\n",
              "      <td>rbf</td>\n",
              "      <td>poly</td>\n",
              "      <td>rbf</td>\n",
              "      <td>linear</td>\n",
              "      <td>rbf</td>\n",
              "      <td>rbf</td>\n",
              "    </tr>\n",
              "    <tr>\n",
              "      <th>param_gamma</th>\n",
              "      <td>0.001</td>\n",
              "      <td>0.1</td>\n",
              "      <td>10</td>\n",
              "      <td>0.0001</td>\n",
              "      <td>0.01</td>\n",
              "      <td>0.0001</td>\n",
              "      <td>0.001</td>\n",
              "      <td>100</td>\n",
              "      <td>0.1</td>\n",
              "      <td>100</td>\n",
              "    </tr>\n",
              "    <tr>\n",
              "      <th>param_degree</th>\n",
              "      <td>4</td>\n",
              "      <td>5</td>\n",
              "      <td>2</td>\n",
              "      <td>2</td>\n",
              "      <td>4</td>\n",
              "      <td>3</td>\n",
              "      <td>4</td>\n",
              "      <td>5</td>\n",
              "      <td>3</td>\n",
              "      <td>3</td>\n",
              "    </tr>\n",
              "    <tr>\n",
              "      <th>param_C</th>\n",
              "      <td>0.0001</td>\n",
              "      <td>0.001</td>\n",
              "      <td>0.001</td>\n",
              "      <td>0.001</td>\n",
              "      <td>0.001</td>\n",
              "      <td>0.001</td>\n",
              "      <td>0.0001</td>\n",
              "      <td>0.01</td>\n",
              "      <td>0.01</td>\n",
              "      <td>0.0001</td>\n",
              "    </tr>\n",
              "    <tr>\n",
              "      <th>params</th>\n",
              "      <td>{'probability': True, 'kernel': 'linear', 'gam...</td>\n",
              "      <td>{'probability': True, 'kernel': 'poly', 'gamma...</td>\n",
              "      <td>{'probability': True, 'kernel': 'rbf', 'gamma'...</td>\n",
              "      <td>{'probability': True, 'kernel': 'rbf', 'gamma'...</td>\n",
              "      <td>{'probability': True, 'kernel': 'rbf', 'gamma'...</td>\n",
              "      <td>{'probability': True, 'kernel': 'poly', 'gamma...</td>\n",
              "      <td>{'probability': True, 'kernel': 'rbf', 'gamma'...</td>\n",
              "      <td>{'probability': True, 'kernel': 'linear', 'gam...</td>\n",
              "      <td>{'probability': True, 'kernel': 'rbf', 'gamma'...</td>\n",
              "      <td>{'probability': True, 'kernel': 'rbf', 'gamma'...</td>\n",
              "    </tr>\n",
              "    <tr>\n",
              "      <th>split0_test_F1</th>\n",
              "      <td>0.180392</td>\n",
              "      <td>0.180392</td>\n",
              "      <td>0.180392</td>\n",
              "      <td>0.180392</td>\n",
              "      <td>0.180392</td>\n",
              "      <td>0.180392</td>\n",
              "      <td>0.180392</td>\n",
              "      <td>0.180392</td>\n",
              "      <td>0.180392</td>\n",
              "      <td>0.180392</td>\n",
              "    </tr>\n",
              "    <tr>\n",
              "      <th>split1_test_F1</th>\n",
              "      <td>0.174603</td>\n",
              "      <td>0.174603</td>\n",
              "      <td>0.174603</td>\n",
              "      <td>0.174603</td>\n",
              "      <td>0.174603</td>\n",
              "      <td>0.174603</td>\n",
              "      <td>0.174603</td>\n",
              "      <td>0.174603</td>\n",
              "      <td>0.174603</td>\n",
              "      <td>0.174603</td>\n",
              "    </tr>\n",
              "    <tr>\n",
              "      <th>split2_test_F1</th>\n",
              "      <td>0.174603</td>\n",
              "      <td>0.174603</td>\n",
              "      <td>0.174603</td>\n",
              "      <td>0.174603</td>\n",
              "      <td>0.174603</td>\n",
              "      <td>0.174603</td>\n",
              "      <td>0.174603</td>\n",
              "      <td>0.174603</td>\n",
              "      <td>0.174603</td>\n",
              "      <td>0.174603</td>\n",
              "    </tr>\n",
              "    <tr>\n",
              "      <th>mean_test_F1</th>\n",
              "      <td>0.176533</td>\n",
              "      <td>0.176533</td>\n",
              "      <td>0.176533</td>\n",
              "      <td>0.176533</td>\n",
              "      <td>0.176533</td>\n",
              "      <td>0.176533</td>\n",
              "      <td>0.176533</td>\n",
              "      <td>0.176533</td>\n",
              "      <td>0.176533</td>\n",
              "      <td>0.176533</td>\n",
              "    </tr>\n",
              "    <tr>\n",
              "      <th>std_test_F1</th>\n",
              "      <td>0.002729</td>\n",
              "      <td>0.002729</td>\n",
              "      <td>0.002729</td>\n",
              "      <td>0.002729</td>\n",
              "      <td>0.002729</td>\n",
              "      <td>0.002729</td>\n",
              "      <td>0.002729</td>\n",
              "      <td>0.002729</td>\n",
              "      <td>0.002729</td>\n",
              "      <td>0.002729</td>\n",
              "    </tr>\n",
              "    <tr>\n",
              "      <th>rank_test_F1</th>\n",
              "      <td>1</td>\n",
              "      <td>1</td>\n",
              "      <td>1</td>\n",
              "      <td>1</td>\n",
              "      <td>1</td>\n",
              "      <td>1</td>\n",
              "      <td>1</td>\n",
              "      <td>1</td>\n",
              "      <td>1</td>\n",
              "      <td>1</td>\n",
              "    </tr>\n",
              "    <tr>\n",
              "      <th>split0_test_Accuracy</th>\n",
              "      <td>0.370968</td>\n",
              "      <td>0.370968</td>\n",
              "      <td>0.370968</td>\n",
              "      <td>0.370968</td>\n",
              "      <td>0.370968</td>\n",
              "      <td>0.370968</td>\n",
              "      <td>0.370968</td>\n",
              "      <td>0.370968</td>\n",
              "      <td>0.370968</td>\n",
              "      <td>0.370968</td>\n",
              "    </tr>\n",
              "    <tr>\n",
              "      <th>split1_test_Accuracy</th>\n",
              "      <td>0.354839</td>\n",
              "      <td>0.354839</td>\n",
              "      <td>0.354839</td>\n",
              "      <td>0.354839</td>\n",
              "      <td>0.354839</td>\n",
              "      <td>0.354839</td>\n",
              "      <td>0.354839</td>\n",
              "      <td>0.354839</td>\n",
              "      <td>0.354839</td>\n",
              "      <td>0.354839</td>\n",
              "    </tr>\n",
              "    <tr>\n",
              "      <th>split2_test_Accuracy</th>\n",
              "      <td>0.354839</td>\n",
              "      <td>0.354839</td>\n",
              "      <td>0.354839</td>\n",
              "      <td>0.354839</td>\n",
              "      <td>0.354839</td>\n",
              "      <td>0.354839</td>\n",
              "      <td>0.354839</td>\n",
              "      <td>0.354839</td>\n",
              "      <td>0.354839</td>\n",
              "      <td>0.354839</td>\n",
              "    </tr>\n",
              "    <tr>\n",
              "      <th>mean_test_Accuracy</th>\n",
              "      <td>0.360215</td>\n",
              "      <td>0.360215</td>\n",
              "      <td>0.360215</td>\n",
              "      <td>0.360215</td>\n",
              "      <td>0.360215</td>\n",
              "      <td>0.360215</td>\n",
              "      <td>0.360215</td>\n",
              "      <td>0.360215</td>\n",
              "      <td>0.360215</td>\n",
              "      <td>0.360215</td>\n",
              "    </tr>\n",
              "    <tr>\n",
              "      <th>std_test_Accuracy</th>\n",
              "      <td>0.007603</td>\n",
              "      <td>0.007603</td>\n",
              "      <td>0.007603</td>\n",
              "      <td>0.007603</td>\n",
              "      <td>0.007603</td>\n",
              "      <td>0.007603</td>\n",
              "      <td>0.007603</td>\n",
              "      <td>0.007603</td>\n",
              "      <td>0.007603</td>\n",
              "      <td>0.007603</td>\n",
              "    </tr>\n",
              "    <tr>\n",
              "      <th>rank_test_Accuracy</th>\n",
              "      <td>1</td>\n",
              "      <td>1</td>\n",
              "      <td>1</td>\n",
              "      <td>1</td>\n",
              "      <td>1</td>\n",
              "      <td>1</td>\n",
              "      <td>1</td>\n",
              "      <td>1</td>\n",
              "      <td>1</td>\n",
              "      <td>1</td>\n",
              "    </tr>\n",
              "  </tbody>\n",
              "</table>\n",
              "</div>\n",
              "      <button class=\"colab-df-convert\" onclick=\"convertToInteractive('df-8019bbd6-781a-4320-907b-c5351223d472')\"\n",
              "              title=\"Convert this dataframe to an interactive table.\"\n",
              "              style=\"display:none;\">\n",
              "        \n",
              "  <svg xmlns=\"http://www.w3.org/2000/svg\" height=\"24px\"viewBox=\"0 0 24 24\"\n",
              "       width=\"24px\">\n",
              "    <path d=\"M0 0h24v24H0V0z\" fill=\"none\"/>\n",
              "    <path d=\"M18.56 5.44l.94 2.06.94-2.06 2.06-.94-2.06-.94-.94-2.06-.94 2.06-2.06.94zm-11 1L8.5 8.5l.94-2.06 2.06-.94-2.06-.94L8.5 2.5l-.94 2.06-2.06.94zm10 10l.94 2.06.94-2.06 2.06-.94-2.06-.94-.94-2.06-.94 2.06-2.06.94z\"/><path d=\"M17.41 7.96l-1.37-1.37c-.4-.4-.92-.59-1.43-.59-.52 0-1.04.2-1.43.59L10.3 9.45l-7.72 7.72c-.78.78-.78 2.05 0 2.83L4 21.41c.39.39.9.59 1.41.59.51 0 1.02-.2 1.41-.59l7.78-7.78 2.81-2.81c.8-.78.8-2.07 0-2.86zM5.41 20L4 18.59l7.72-7.72 1.47 1.35L5.41 20z\"/>\n",
              "  </svg>\n",
              "      </button>\n",
              "      \n",
              "  <style>\n",
              "    .colab-df-container {\n",
              "      display:flex;\n",
              "      flex-wrap:wrap;\n",
              "      gap: 12px;\n",
              "    }\n",
              "\n",
              "    .colab-df-convert {\n",
              "      background-color: #E8F0FE;\n",
              "      border: none;\n",
              "      border-radius: 50%;\n",
              "      cursor: pointer;\n",
              "      display: none;\n",
              "      fill: #1967D2;\n",
              "      height: 32px;\n",
              "      padding: 0 0 0 0;\n",
              "      width: 32px;\n",
              "    }\n",
              "\n",
              "    .colab-df-convert:hover {\n",
              "      background-color: #E2EBFA;\n",
              "      box-shadow: 0px 1px 2px rgba(60, 64, 67, 0.3), 0px 1px 3px 1px rgba(60, 64, 67, 0.15);\n",
              "      fill: #174EA6;\n",
              "    }\n",
              "\n",
              "    [theme=dark] .colab-df-convert {\n",
              "      background-color: #3B4455;\n",
              "      fill: #D2E3FC;\n",
              "    }\n",
              "\n",
              "    [theme=dark] .colab-df-convert:hover {\n",
              "      background-color: #434B5C;\n",
              "      box-shadow: 0px 1px 3px 1px rgba(0, 0, 0, 0.15);\n",
              "      filter: drop-shadow(0px 1px 2px rgba(0, 0, 0, 0.3));\n",
              "      fill: #FFFFFF;\n",
              "    }\n",
              "  </style>\n",
              "\n",
              "      <script>\n",
              "        const buttonEl =\n",
              "          document.querySelector('#df-8019bbd6-781a-4320-907b-c5351223d472 button.colab-df-convert');\n",
              "        buttonEl.style.display =\n",
              "          google.colab.kernel.accessAllowed ? 'block' : 'none';\n",
              "\n",
              "        async function convertToInteractive(key) {\n",
              "          const element = document.querySelector('#df-8019bbd6-781a-4320-907b-c5351223d472');\n",
              "          const dataTable =\n",
              "            await google.colab.kernel.invokeFunction('convertToInteractive',\n",
              "                                                     [key], {});\n",
              "          if (!dataTable) return;\n",
              "\n",
              "          const docLinkHtml = 'Like what you see? Visit the ' +\n",
              "            '<a target=\"_blank\" href=https://colab.research.google.com/notebooks/data_table.ipynb>data table notebook</a>'\n",
              "            + ' to learn more about interactive tables.';\n",
              "          element.innerHTML = '';\n",
              "          dataTable['output_type'] = 'display_data';\n",
              "          await google.colab.output.renderOutput(dataTable, element);\n",
              "          const docLink = document.createElement('div');\n",
              "          docLink.innerHTML = docLinkHtml;\n",
              "          element.appendChild(docLink);\n",
              "        }\n",
              "      </script>\n",
              "    </div>\n",
              "  </div>\n",
              "  "
            ]
          },
          "metadata": {},
          "execution_count": 71
        }
      ]
    },
    {
      "cell_type": "markdown",
      "source": [
        "####Treinamento e avaliação do modelo"
      ],
      "metadata": {
        "id": "4V5ljYDgeG3v"
      }
    },
    {
      "cell_type": "code",
      "source": [
        "best_scorer_index = np.nonzero(results['rank_test_F1'] == 1)[0][0]\n",
        "best_scorer_index"
      ],
      "metadata": {
        "colab": {
          "base_uri": "https://localhost:8080/"
        },
        "id": "ktorcCJ5eI0L",
        "outputId": "2857116b-525c-4c55-fd52-f3327a26fae0"
      },
      "execution_count": 72,
      "outputs": [
        {
          "output_type": "execute_result",
          "data": {
            "text/plain": [
              "0"
            ]
          },
          "metadata": {},
          "execution_count": 72
        }
      ]
    },
    {
      "cell_type": "code",
      "source": [
        "best_svm.fit(features_train, labels_train)\n",
        "svm_pred = best_svm.predict(features_test)"
      ],
      "metadata": {
        "id": "mGiaNBAheJ29"
      },
      "execution_count": 73,
      "outputs": []
    },
    {
      "cell_type": "code",
      "source": [
        "acc = accuracy_score(labels_test, svm_pred)\n",
        "f1 = f1_score(labels_test, svm_pred, average='macro')\n",
        "print(classification_report(labels_test,svm_pred))"
      ],
      "metadata": {
        "colab": {
          "base_uri": "https://localhost:8080/"
        },
        "id": "DtRIn5QbeK_B",
        "outputId": "5b80078e-e6b1-4055-96ae-d41a9180a319"
      },
      "execution_count": 74,
      "outputs": [
        {
          "output_type": "stream",
          "name": "stdout",
          "text": [
            "              precision    recall  f1-score   support\n",
            "\n",
            "           0       0.00      0.00      0.00        26\n",
            "           1       0.00      0.00      0.00        32\n",
            "           2       0.28      1.00      0.43        22\n",
            "\n",
            "    accuracy                           0.28        80\n",
            "   macro avg       0.09      0.33      0.14        80\n",
            "weighted avg       0.08      0.28      0.12        80\n",
            "\n"
          ]
        },
        {
          "output_type": "stream",
          "name": "stderr",
          "text": [
            "/usr/local/lib/python3.9/dist-packages/sklearn/metrics/_classification.py:1344: UndefinedMetricWarning: Precision and F-score are ill-defined and being set to 0.0 in labels with no predicted samples. Use `zero_division` parameter to control this behavior.\n",
            "  _warn_prf(average, modifier, msg_start, len(result))\n",
            "/usr/local/lib/python3.9/dist-packages/sklearn/metrics/_classification.py:1344: UndefinedMetricWarning: Precision and F-score are ill-defined and being set to 0.0 in labels with no predicted samples. Use `zero_division` parameter to control this behavior.\n",
            "  _warn_prf(average, modifier, msg_start, len(result))\n",
            "/usr/local/lib/python3.9/dist-packages/sklearn/metrics/_classification.py:1344: UndefinedMetricWarning: Precision and F-score are ill-defined and being set to 0.0 in labels with no predicted samples. Use `zero_division` parameter to control this behavior.\n",
            "  _warn_prf(average, modifier, msg_start, len(result))\n"
          ]
        }
      ]
    },
    {
      "cell_type": "code",
      "source": [
        "aux_df = stack_df[['classification', 'category']].drop_duplicates().sort_values('category')\n",
        "conf_matrix = confusion_matrix(labels_test, svm_pred)\n",
        "plt.figure(figsize=(12.8,6))\n",
        "sns.heatmap(conf_matrix, \n",
        "            annot=True,\n",
        "            xticklabels=aux_df['classification'].values, \n",
        "            yticklabels=aux_df['classification'].values,\n",
        "            cmap=\"Blues\")\n",
        "plt.ylabel('Actual')\n",
        "plt.xlabel('Predicted')\n",
        "plt.title('Confusion matrix')\n",
        "plt.show()"
      ],
      "metadata": {
        "colab": {
          "base_uri": "https://localhost:8080/",
          "height": 404
        },
        "id": "3q3qaxFpeNIS",
        "outputId": "ae4a873c-7767-4b51-b119-1c9ad271f85d"
      },
      "execution_count": 75,
      "outputs": [
        {
          "output_type": "display_data",
          "data": {
            "text/plain": [
              "<Figure size 921.6x432 with 2 Axes>"
            ],
            "image/png": "[encoded data removed]"
          },
          "metadata": {}
        }
      ]
    },
    {
      "cell_type": "code",
      "source": [
        "labels_test.value_counts()"
      ],
      "metadata": {
        "colab": {
          "base_uri": "https://localhost:8080/"
        },
        "id": "ZZOafSOReTlC",
        "outputId": "25376d36-c064-40ec-fac3-b7ca683fa279"
      },
      "execution_count": 76,
      "outputs": [
        {
          "output_type": "execute_result",
          "data": {
            "text/plain": [
              "1    32\n",
              "0    26\n",
              "2    22\n",
              "Name: classification, dtype: int64"
            ]
          },
          "metadata": {},
          "execution_count": 76
        }
      ]
    },
    {
      "cell_type": "code",
      "source": [
        "aux_df['category']"
      ],
      "metadata": {
        "colab": {
          "base_uri": "https://localhost:8080/"
        },
        "id": "y06jJPPieWYZ",
        "outputId": "3b7208fc-1c37-41de-c5bf-383191fedf2a"
      },
      "execution_count": 77,
      "outputs": [
        {
          "output_type": "execute_result",
          "data": {
            "text/plain": [
              "2                Ferramentas\n",
              "3    Linguagens e Frameworks\n",
              "0                Plataformas\n",
              "Name: category, dtype: object"
            ]
          },
          "metadata": {},
          "execution_count": 77
        }
      ]
    },
    {
      "cell_type": "code",
      "source": [
        "print(\"Cross-validation scores\")\n",
        "print(\"F1: %.3f - Accuracy: %.3f \" % (results['mean_test_F1'][best_scorer_index], results['mean_test_Accuracy'][best_scorer_index]))\n",
        "print('---------------------------')\n",
        "print(\"Test scores\")\n",
        "print(\"F1: %.3f - Accuracy: %.3f \" % (f1, acc))"
      ],
      "metadata": {
        "colab": {
          "base_uri": "https://localhost:8080/"
        },
        "id": "wWe0Vfr7eZn6",
        "outputId": "92b911e8-100c-4bd9-fd09-81b5dac9c530"
      },
      "execution_count": 78,
      "outputs": [
        {
          "output_type": "stream",
          "name": "stdout",
          "text": [
            "Cross-validation scores\n",
            "F1: 0.177 - Accuracy: 0.360 \n",
            "---------------------------\n",
            "Test scores\n",
            "F1: 0.144 - Accuracy: 0.275 \n"
          ]
        }
      ]
    },
    {
      "cell_type": "code",
      "source": [
        "['Estimator', 'Cross-validation Scores', 'Test Set Scores']\n",
        "\n",
        "d = {\n",
        "     'Estimator': 'SVM',\n",
        "     'Cross-validation Scores': (round(results['mean_test_F1'][best_scorer_index],3), round(results['mean_test_Accuracy'][best_scorer_index],3)),\n",
        "     'Test Set Scores': (round(f1,3), round(acc,3))\n",
        "}\n",
        "\n",
        "df_estimators_scores = df_estimators_scores.append(d, ignore_index=True)\n",
        "\n",
        "df_estimators_scores"
      ],
      "metadata": {
        "colab": {
          "base_uri": "https://localhost:8080/",
          "height": 147
        },
        "id": "u3keYWnQebWi",
        "outputId": "7846065f-aead-428b-b1e2-648516776543"
      },
      "execution_count": 79,
      "outputs": [
        {
          "output_type": "stream",
          "name": "stderr",
          "text": [
            "<ipython-input-79-66e2beedfcbf>:9: FutureWarning: The frame.append method is deprecated and will be removed from pandas in a future version. Use pandas.concat instead.\n",
            "  df_estimators_scores = df_estimators_scores.append(d, ignore_index=True)\n"
          ]
        },
        {
          "output_type": "execute_result",
          "data": {
            "text/plain": [
              "       Estimator Cross-validation Scores Test Set Scores\n",
              "0  Random Forest          (0.566, 0.565)  (0.463, 0.462)\n",
              "1            SVM           (0.177, 0.36)  (0.144, 0.275)"
            ],
            "text/html": [
              "\n",
              "  <div id=\"df-fe29bb67-8050-42e8-af38-ddc47e8018ce\">\n",
              "    <div class=\"colab-df-container\">\n",
              "      <div>\n",
              "<style scoped>\n",
              "    .dataframe tbody tr th:only-of-type {\n",
              "        vertical-align: middle;\n",
              "    }\n",
              "\n",
              "    .dataframe tbody tr th {\n",
              "        vertical-align: top;\n",
              "    }\n",
              "\n",
              "    .dataframe thead th {\n",
              "        text-align: right;\n",
              "    }\n",
              "</style>\n",
              "<table border=\"1\" class=\"dataframe\">\n",
              "  <thead>\n",
              "    <tr style=\"text-align: right;\">\n",
              "      <th></th>\n",
              "      <th>Estimator</th>\n",
              "      <th>Cross-validation Scores</th>\n",
              "      <th>Test Set Scores</th>\n",
              "    </tr>\n",
              "  </thead>\n",
              "  <tbody>\n",
              "    <tr>\n",
              "      <th>0</th>\n",
              "      <td>Random Forest</td>\n",
              "      <td>(0.566, 0.565)</td>\n",
              "      <td>(0.463, 0.462)</td>\n",
              "    </tr>\n",
              "    <tr>\n",
              "      <th>1</th>\n",
              "      <td>SVM</td>\n",
              "      <td>(0.177, 0.36)</td>\n",
              "      <td>(0.144, 0.275)</td>\n",
              "    </tr>\n",
              "  </tbody>\n",
              "</table>\n",
              "</div>\n",
              "      <button class=\"colab-df-convert\" onclick=\"convertToInteractive('df-fe29bb67-8050-42e8-af38-ddc47e8018ce')\"\n",
              "              title=\"Convert this dataframe to an interactive table.\"\n",
              "              style=\"display:none;\">\n",
              "        \n",
              "  <svg xmlns=\"http://www.w3.org/2000/svg\" height=\"24px\"viewBox=\"0 0 24 24\"\n",
              "       width=\"24px\">\n",
              "    <path d=\"M0 0h24v24H0V0z\" fill=\"none\"/>\n",
              "    <path d=\"M18.56 5.44l.94 2.06.94-2.06 2.06-.94-2.06-.94-.94-2.06-.94 2.06-2.06.94zm-11 1L8.5 8.5l.94-2.06 2.06-.94-2.06-.94L8.5 2.5l-.94 2.06-2.06.94zm10 10l.94 2.06.94-2.06 2.06-.94-2.06-.94-.94-2.06-.94 2.06-2.06.94z\"/><path d=\"M17.41 7.96l-1.37-1.37c-.4-.4-.92-.59-1.43-.59-.52 0-1.04.2-1.43.59L10.3 9.45l-7.72 7.72c-.78.78-.78 2.05 0 2.83L4 21.41c.39.39.9.59 1.41.59.51 0 1.02-.2 1.41-.59l7.78-7.78 2.81-2.81c.8-.78.8-2.07 0-2.86zM5.41 20L4 18.59l7.72-7.72 1.47 1.35L5.41 20z\"/>\n",
              "  </svg>\n",
              "      </button>\n",
              "      \n",
              "  <style>\n",
              "    .colab-df-container {\n",
              "      display:flex;\n",
              "      flex-wrap:wrap;\n",
              "      gap: 12px;\n",
              "    }\n",
              "\n",
              "    .colab-df-convert {\n",
              "      background-color: #E8F0FE;\n",
              "      border: none;\n",
              "      border-radius: 50%;\n",
              "      cursor: pointer;\n",
              "      display: none;\n",
              "      fill: #1967D2;\n",
              "      height: 32px;\n",
              "      padding: 0 0 0 0;\n",
              "      width: 32px;\n",
              "    }\n",
              "\n",
              "    .colab-df-convert:hover {\n",
              "      background-color: #E2EBFA;\n",
              "      box-shadow: 0px 1px 2px rgba(60, 64, 67, 0.3), 0px 1px 3px 1px rgba(60, 64, 67, 0.15);\n",
              "      fill: #174EA6;\n",
              "    }\n",
              "\n",
              "    [theme=dark] .colab-df-convert {\n",
              "      background-color: #3B4455;\n",
              "      fill: #D2E3FC;\n",
              "    }\n",
              "\n",
              "    [theme=dark] .colab-df-convert:hover {\n",
              "      background-color: #434B5C;\n",
              "      box-shadow: 0px 1px 3px 1px rgba(0, 0, 0, 0.15);\n",
              "      filter: drop-shadow(0px 1px 2px rgba(0, 0, 0, 0.3));\n",
              "      fill: #FFFFFF;\n",
              "    }\n",
              "  </style>\n",
              "\n",
              "      <script>\n",
              "        const buttonEl =\n",
              "          document.querySelector('#df-fe29bb67-8050-42e8-af38-ddc47e8018ce button.colab-df-convert');\n",
              "        buttonEl.style.display =\n",
              "          google.colab.kernel.accessAllowed ? 'block' : 'none';\n",
              "\n",
              "        async function convertToInteractive(key) {\n",
              "          const element = document.querySelector('#df-fe29bb67-8050-42e8-af38-ddc47e8018ce');\n",
              "          const dataTable =\n",
              "            await google.colab.kernel.invokeFunction('convertToInteractive',\n",
              "                                                     [key], {});\n",
              "          if (!dataTable) return;\n",
              "\n",
              "          const docLinkHtml = 'Like what you see? Visit the ' +\n",
              "            '<a target=\"_blank\" href=https://colab.research.google.com/notebooks/data_table.ipynb>data table notebook</a>'\n",
              "            + ' to learn more about interactive tables.';\n",
              "          element.innerHTML = '';\n",
              "          dataTable['output_type'] = 'display_data';\n",
              "          await google.colab.output.renderOutput(dataTable, element);\n",
              "          const docLink = document.createElement('div');\n",
              "          docLink.innerHTML = docLinkHtml;\n",
              "          element.appendChild(docLink);\n",
              "        }\n",
              "      </script>\n",
              "    </div>\n",
              "  </div>\n",
              "  "
            ]
          },
          "metadata": {},
          "execution_count": 79
        }
      ]
    },
    {
      "cell_type": "markdown",
      "source": [
        "###Multinomial Naïve Bayes"
      ],
      "metadata": {
        "id": "mdNeDnUBexjV"
      }
    },
    {
      "cell_type": "markdown",
      "source": [
        "####Ajuste de parâmetros"
      ],
      "metadata": {
        "id": "2zKtCKFme7z0"
      }
    },
    {
      "cell_type": "code",
      "source": [
        "mnbc = MultinomialNB()\n",
        "mnbc"
      ],
      "metadata": {
        "colab": {
          "base_uri": "https://localhost:8080/",
          "height": 75
        },
        "id": "UroD0nVYe032",
        "outputId": "35b8a26a-a882-470b-b5a9-8732249d403e"
      },
      "execution_count": 80,
      "outputs": [
        {
          "output_type": "execute_result",
          "data": {
            "text/plain": [
              "MultinomialNB()"
            ],
            "text/html": [
              "<style>#sk-container-id-3 {color: black;background-color: white;}#sk-container-id-3 pre{padding: 0;}#sk-container-id-3 div.sk-toggleable {background-color: white;}#sk-container-id-3 label.sk-toggleable__label {cursor: pointer;display: block;width: 100%;margin-bottom: 0;padding: 0.3em;box-sizing: border-box;text-align: center;}#sk-container-id-3 label.sk-toggleable__label-arrow:before {content: \"▸\";float: left;margin-right: 0.25em;color: #696969;}#sk-container-id-3 label.sk-toggleable__label-arrow:hover:before {color: black;}#sk-container-id-3 div.sk-estimator:hover label.sk-toggleable__label-arrow:before {color: black;}#sk-container-id-3 div.sk-toggleable__content {max-height: 0;max-width: 0;overflow: hidden;text-align: left;background-color: #f0f8ff;}#sk-container-id-3 div.sk-toggleable__content pre {margin: 0.2em;color: black;border-radius: 0.25em;background-color: #f0f8ff;}#sk-container-id-3 input.sk-toggleable__control:checked~div.sk-toggleable__content {max-height: 200px;max-width: 100%;overflow: auto;}#sk-container-id-3 input.sk-toggleable__control:checked~label.sk-toggleable__label-arrow:before {content: \"▾\";}#sk-container-id-3 div.sk-estimator input.sk-toggleable__control:checked~label.sk-toggleable__label {background-color: #d4ebff;}#sk-container-id-3 div.sk-label input.sk-toggleable__control:checked~label.sk-toggleable__label {background-color: #d4ebff;}#sk-container-id-3 input.sk-hidden--visually {border: 0;clip: rect(1px 1px 1px 1px);clip: rect(1px, 1px, 1px, 1px);height: 1px;margin: -1px;overflow: hidden;padding: 0;position: absolute;width: 1px;}#sk-container-id-3 div.sk-estimator {font-family: monospace;background-color: #f0f8ff;border: 1px dotted black;border-radius: 0.25em;box-sizing: border-box;margin-bottom: 0.5em;}#sk-container-id-3 div.sk-estimator:hover {background-color: #d4ebff;}#sk-container-id-3 div.sk-parallel-item::after {content: \"\";width: 100%;border-bottom: 1px solid gray;flex-grow: 1;}#sk-container-id-3 div.sk-label:hover label.sk-toggleable__label {background-color: #d4ebff;}#sk-container-id-3 div.sk-serial::before {content: \"\";position: absolute;border-left: 1px solid gray;box-sizing: border-box;top: 0;bottom: 0;left: 50%;z-index: 0;}#sk-container-id-3 div.sk-serial {display: flex;flex-direction: column;align-items: center;background-color: white;padding-right: 0.2em;padding-left: 0.2em;position: relative;}#sk-container-id-3 div.sk-item {position: relative;z-index: 1;}#sk-container-id-3 div.sk-parallel {display: flex;align-items: stretch;justify-content: center;background-color: white;position: relative;}#sk-container-id-3 div.sk-item::before, #sk-container-id-3 div.sk-parallel-item::before {content: \"\";position: absolute;border-left: 1px solid gray;box-sizing: border-box;top: 0;bottom: 0;left: 50%;z-index: -1;}#sk-container-id-3 div.sk-parallel-item {display: flex;flex-direction: column;z-index: 1;position: relative;background-color: white;}#sk-container-id-3 div.sk-parallel-item:first-child::after {align-self: flex-end;width: 50%;}#sk-container-id-3 div.sk-parallel-item:last-child::after {align-self: flex-start;width: 50%;}#sk-container-id-3 div.sk-parallel-item:only-child::after {width: 0;}#sk-container-id-3 div.sk-dashed-wrapped {border: 1px dashed gray;margin: 0 0.4em 0.5em 0.4em;box-sizing: border-box;padding-bottom: 0.4em;background-color: white;}#sk-container-id-3 div.sk-label label {font-family: monospace;font-weight: bold;display: inline-block;line-height: 1.2em;}#sk-container-id-3 div.sk-label-container {text-align: center;}#sk-container-id-3 div.sk-container {/* jupyter's `normalize.less` sets `[hidden] { display: none; }` but bootstrap.min.css set `[hidden] { display: none !important; }` so we also need the `!important` here to be able to override the default hidden behavior on the sphinx rendered scikit-learn.org. See: https://github.com/scikit-learn/scikit-learn/issues/21755 */display: inline-block !important;position: relative;}#sk-container-id-3 div.sk-text-repr-fallback {display: none;}</style><div id=\"sk-container-id-3\" class=\"sk-top-container\"><div class=\"sk-text-repr-fallback\"><pre>MultinomialNB()</pre><b>In a Jupyter environment, please rerun this cell to show the HTML representation or trust the notebook. <br />On GitHub, the HTML representation is unable to render, please try loading this page with nbviewer.org.</b></div><div class=\"sk-container\" hidden><div class=\"sk-item\"><div class=\"sk-estimator sk-toggleable\"><input class=\"sk-toggleable__control sk-hidden--visually\" id=\"sk-estimator-id-3\" type=\"checkbox\" checked><label for=\"sk-estimator-id-3\" class=\"sk-toggleable__label sk-toggleable__label-arrow\">MultinomialNB</label><div class=\"sk-toggleable__content\"><pre>MultinomialNB()</pre></div></div></div></div></div>"
            ]
          },
          "metadata": {},
          "execution_count": 80
        }
      ]
    },
    {
      "cell_type": "markdown",
      "source": [
        "####Treinamento e avaliação do modelo"
      ],
      "metadata": {
        "id": "HIeSi7zqe4fL"
      }
    },
    {
      "cell_type": "code",
      "source": [
        "scores = cross_validate(mnbc,\n",
        "                        features_train,\n",
        "                        labels_train,\n",
        "                        scoring=score_metrics,\n",
        "                        cv=3,\n",
        "                        return_train_score=True)"
      ],
      "metadata": {
        "id": "MJLL3pH2fZVQ"
      },
      "execution_count": 81,
      "outputs": []
    },
    {
      "cell_type": "code",
      "source": [
        "print(scores.keys())\n",
        "print(scores['test_F1'])"
      ],
      "metadata": {
        "colab": {
          "base_uri": "https://localhost:8080/"
        },
        "id": "pRjORv7iffiX",
        "outputId": "06be0f19-a643-4055-e0cf-ac48ffca1751"
      },
      "execution_count": 82,
      "outputs": [
        {
          "output_type": "stream",
          "name": "stdout",
          "text": [
            "dict_keys(['fit_time', 'score_time', 'test_F1', 'train_F1', 'test_Accuracy', 'train_Accuracy'])\n",
            "[0.6596128  0.66673421 0.56084656]\n"
          ]
        }
      ]
    },
    {
      "cell_type": "code",
      "source": [
        "mnbc.fit(features_train, labels_train)\n",
        "mnbc_pred = mnbc.predict(features_test)\n",
        "\n",
        "acc = accuracy_score(labels_test, mnbc_pred)\n",
        "f1 = f1_score(labels_test, mnbc_pred, average='macro')\n",
        "print(classification_report(labels_test,mnbc_pred))\n",
        "\n",
        "aux_df = stack_df[['classification', 'category']].drop_duplicates().sort_values('category')\n",
        "conf_matrix = confusion_matrix(labels_test, mnbc_pred)\n",
        "plt.figure(figsize=(12.8,6))\n",
        "sns.heatmap(conf_matrix, \n",
        "            annot=True,\n",
        "            xticklabels=aux_df['classification'].values, \n",
        "            yticklabels=aux_df['classification'].values,\n",
        "            cmap=\"Blues\")\n",
        "plt.ylabel('Actual')\n",
        "plt.xlabel('Predicted')\n",
        "plt.title('Confusion matrix')\n",
        "plt.show()"
      ],
      "metadata": {
        "colab": {
          "base_uri": "https://localhost:8080/",
          "height": 578
        },
        "id": "CtWONRIwfhXJ",
        "outputId": "93b7937e-2901-4720-e39e-b8377605959c"
      },
      "execution_count": 83,
      "outputs": [
        {
          "output_type": "stream",
          "name": "stdout",
          "text": [
            "              precision    recall  f1-score   support\n",
            "\n",
            "           0       0.69      0.77      0.73        26\n",
            "           1       0.79      0.47      0.59        32\n",
            "           2       0.44      0.64      0.52        22\n",
            "\n",
            "    accuracy                           0.61        80\n",
            "   macro avg       0.64      0.62      0.61        80\n",
            "weighted avg       0.66      0.61      0.61        80\n",
            "\n"
          ]
        },
        {
          "output_type": "display_data",
          "data": {
            "text/plain": [
              "<Figure size 921.6x432 with 2 Axes>"
            ],
            "image/png": "[encoded data removed]"
          },
          "metadata": {}
        }
      ]
    },
    {
      "cell_type": "code",
      "source": [
        "print(\"Cross-validation scores\")\n",
        "print(\"F1: %.3f - Accuracy: %.3f \" % (round(np.mean(scores['test_F1']),3), round(np.mean(scores['test_Accuracy']),3)))\n",
        "print('---------------------------')\n",
        "print(\"Test scores\")\n",
        "print(\"F1: %.3f - Accuracy: %.3f \" % (f1, acc))"
      ],
      "metadata": {
        "colab": {
          "base_uri": "https://localhost:8080/"
        },
        "id": "NzjXibOhfrFW",
        "outputId": "ec99460e-68b7-481f-8a95-f4865fa5234d"
      },
      "execution_count": 84,
      "outputs": [
        {
          "output_type": "stream",
          "name": "stdout",
          "text": [
            "Cross-validation scores\n",
            "F1: 0.629 - Accuracy: 0.634 \n",
            "---------------------------\n",
            "Test scores\n",
            "F1: 0.611 - Accuracy: 0.613 \n"
          ]
        }
      ]
    },
    {
      "cell_type": "code",
      "source": [
        "d = {\n",
        "     'Estimator': 'MultinomialNB',\n",
        "     'Cross-validation Scores': (round(np.mean(scores['test_F1']),3), round(np.mean(scores['test_Accuracy']),3)),\n",
        "     'Test Set Scores': (round(f1,3), round(acc,3))\n",
        "}\n",
        "\n",
        "df_estimators_scores = df_estimators_scores.append(d, ignore_index=True)"
      ],
      "metadata": {
        "colab": {
          "base_uri": "https://localhost:8080/"
        },
        "id": "dm_xIh8vfs4I",
        "outputId": "d71cbe2d-09b8-492e-d0a6-a61b541a8088"
      },
      "execution_count": 85,
      "outputs": [
        {
          "output_type": "stream",
          "name": "stderr",
          "text": [
            "<ipython-input-85-b23c7c4cd720>:7: FutureWarning: The frame.append method is deprecated and will be removed from pandas in a future version. Use pandas.concat instead.\n",
            "  df_estimators_scores = df_estimators_scores.append(d, ignore_index=True)\n"
          ]
        }
      ]
    },
    {
      "cell_type": "code",
      "source": [
        "df_estimators_scores"
      ],
      "metadata": {
        "colab": {
          "base_uri": "https://localhost:8080/",
          "height": 143
        },
        "id": "oXrEY-5hfubg",
        "outputId": "73685e6f-d616-4fdc-cead-5b65b9d868e7"
      },
      "execution_count": 86,
      "outputs": [
        {
          "output_type": "execute_result",
          "data": {
            "text/plain": [
              "       Estimator Cross-validation Scores Test Set Scores\n",
              "0  Random Forest          (0.566, 0.565)  (0.463, 0.462)\n",
              "1            SVM           (0.177, 0.36)  (0.144, 0.275)\n",
              "2  MultinomialNB          (0.629, 0.634)  (0.611, 0.612)"
            ],
            "text/html": [
              "\n",
              "  <div id=\"df-4b4bc870-ff5c-490a-9835-37a22a0ea60f\">\n",
              "    <div class=\"colab-df-container\">\n",
              "      <div>\n",
              "<style scoped>\n",
              "    .dataframe tbody tr th:only-of-type {\n",
              "        vertical-align: middle;\n",
              "    }\n",
              "\n",
              "    .dataframe tbody tr th {\n",
              "        vertical-align: top;\n",
              "    }\n",
              "\n",
              "    .dataframe thead th {\n",
              "        text-align: right;\n",
              "    }\n",
              "</style>\n",
              "<table border=\"1\" class=\"dataframe\">\n",
              "  <thead>\n",
              "    <tr style=\"text-align: right;\">\n",
              "      <th></th>\n",
              "      <th>Estimator</th>\n",
              "      <th>Cross-validation Scores</th>\n",
              "      <th>Test Set Scores</th>\n",
              "    </tr>\n",
              "  </thead>\n",
              "  <tbody>\n",
              "    <tr>\n",
              "      <th>0</th>\n",
              "      <td>Random Forest</td>\n",
              "      <td>(0.566, 0.565)</td>\n",
              "      <td>(0.463, 0.462)</td>\n",
              "    </tr>\n",
              "    <tr>\n",
              "      <th>1</th>\n",
              "      <td>SVM</td>\n",
              "      <td>(0.177, 0.36)</td>\n",
              "      <td>(0.144, 0.275)</td>\n",
              "    </tr>\n",
              "    <tr>\n",
              "      <th>2</th>\n",
              "      <td>MultinomialNB</td>\n",
              "      <td>(0.629, 0.634)</td>\n",
              "      <td>(0.611, 0.612)</td>\n",
              "    </tr>\n",
              "  </tbody>\n",
              "</table>\n",
              "</div>\n",
              "      <button class=\"colab-df-convert\" onclick=\"convertToInteractive('df-4b4bc870-ff5c-490a-9835-37a22a0ea60f')\"\n",
              "              title=\"Convert this dataframe to an interactive table.\"\n",
              "              style=\"display:none;\">\n",
              "        \n",
              "  <svg xmlns=\"http://www.w3.org/2000/svg\" height=\"24px\"viewBox=\"0 0 24 24\"\n",
              "       width=\"24px\">\n",
              "    <path d=\"M0 0h24v24H0V0z\" fill=\"none\"/>\n",
              "    <path d=\"M18.56 5.44l.94 2.06.94-2.06 2.06-.94-2.06-.94-.94-2.06-.94 2.06-2.06.94zm-11 1L8.5 8.5l.94-2.06 2.06-.94-2.06-.94L8.5 2.5l-.94 2.06-2.06.94zm10 10l.94 2.06.94-2.06 2.06-.94-2.06-.94-.94-2.06-.94 2.06-2.06.94z\"/><path d=\"M17.41 7.96l-1.37-1.37c-.4-.4-.92-.59-1.43-.59-.52 0-1.04.2-1.43.59L10.3 9.45l-7.72 7.72c-.78.78-.78 2.05 0 2.83L4 21.41c.39.39.9.59 1.41.59.51 0 1.02-.2 1.41-.59l7.78-7.78 2.81-2.81c.8-.78.8-2.07 0-2.86zM5.41 20L4 18.59l7.72-7.72 1.47 1.35L5.41 20z\"/>\n",
              "  </svg>\n",
              "      </button>\n",
              "      \n",
              "  <style>\n",
              "    .colab-df-container {\n",
              "      display:flex;\n",
              "      flex-wrap:wrap;\n",
              "      gap: 12px;\n",
              "    }\n",
              "\n",
              "    .colab-df-convert {\n",
              "      background-color: #E8F0FE;\n",
              "      border: none;\n",
              "      border-radius: 50%;\n",
              "      cursor: pointer;\n",
              "      display: none;\n",
              "      fill: #1967D2;\n",
              "      height: 32px;\n",
              "      padding: 0 0 0 0;\n",
              "      width: 32px;\n",
              "    }\n",
              "\n",
              "    .colab-df-convert:hover {\n",
              "      background-color: #E2EBFA;\n",
              "      box-shadow: 0px 1px 2px rgba(60, 64, 67, 0.3), 0px 1px 3px 1px rgba(60, 64, 67, 0.15);\n",
              "      fill: #174EA6;\n",
              "    }\n",
              "\n",
              "    [theme=dark] .colab-df-convert {\n",
              "      background-color: #3B4455;\n",
              "      fill: #D2E3FC;\n",
              "    }\n",
              "\n",
              "    [theme=dark] .colab-df-convert:hover {\n",
              "      background-color: #434B5C;\n",
              "      box-shadow: 0px 1px 3px 1px rgba(0, 0, 0, 0.15);\n",
              "      filter: drop-shadow(0px 1px 2px rgba(0, 0, 0, 0.3));\n",
              "      fill: #FFFFFF;\n",
              "    }\n",
              "  </style>\n",
              "\n",
              "      <script>\n",
              "        const buttonEl =\n",
              "          document.querySelector('#df-4b4bc870-ff5c-490a-9835-37a22a0ea60f button.colab-df-convert');\n",
              "        buttonEl.style.display =\n",
              "          google.colab.kernel.accessAllowed ? 'block' : 'none';\n",
              "\n",
              "        async function convertToInteractive(key) {\n",
              "          const element = document.querySelector('#df-4b4bc870-ff5c-490a-9835-37a22a0ea60f');\n",
              "          const dataTable =\n",
              "            await google.colab.kernel.invokeFunction('convertToInteractive',\n",
              "                                                     [key], {});\n",
              "          if (!dataTable) return;\n",
              "\n",
              "          const docLinkHtml = 'Like what you see? Visit the ' +\n",
              "            '<a target=\"_blank\" href=https://colab.research.google.com/notebooks/data_table.ipynb>data table notebook</a>'\n",
              "            + ' to learn more about interactive tables.';\n",
              "          element.innerHTML = '';\n",
              "          dataTable['output_type'] = 'display_data';\n",
              "          await google.colab.output.renderOutput(dataTable, element);\n",
              "          const docLink = document.createElement('div');\n",
              "          docLink.innerHTML = docLinkHtml;\n",
              "          element.appendChild(docLink);\n",
              "        }\n",
              "      </script>\n",
              "    </div>\n",
              "  </div>\n",
              "  "
            ]
          },
          "metadata": {},
          "execution_count": 86
        }
      ]
    },
    {
      "cell_type": "markdown",
      "source": [
        "##Análise do modelo"
      ],
      "metadata": {
        "id": "FU_bO5KYgyIK"
      }
    },
    {
      "cell_type": "code",
      "source": [
        "predictions = mnbc.predict(features_test)"
      ],
      "metadata": {
        "id": "Giq0qDnChDW7"
      },
      "execution_count": 87,
      "outputs": []
    },
    {
      "cell_type": "markdown",
      "source": [
        "###Criando um novo dataset com a categoria prevista"
      ],
      "metadata": {
        "id": "7smAaxVnSijc"
      }
    },
    {
      "cell_type": "code",
      "source": [
        "category_names = {\n",
        "    0: 'Ferramentas',\n",
        "    1: 'Plataformas',\n",
        "    2: 'Linguagens e Frameworks'\n",
        "}\n",
        "\n",
        "index_X_test = X_test.index\n",
        "\n",
        "df_test = stack_df.loc[index_X_test]\n",
        "\n",
        "df_test['Prediction'] = predictions\n",
        "\n",
        "df_test = df_test[['excerpt', 'classification', 'category', 'Prediction']]\n",
        "\n",
        "df_test['Category_Predicted'] = df_test['Prediction']\n",
        "df_test = df_test.replace({'Category_Predicted':category_names})\n",
        "\n",
        "df_test = df_test[['excerpt', 'category', 'Category_Predicted']]"
      ],
      "metadata": {
        "id": "1EuJ-b_DSb6H"
      },
      "execution_count": 88,
      "outputs": []
    },
    {
      "cell_type": "markdown",
      "source": [
        "###Visualização do novo dataset gerado"
      ],
      "metadata": {
        "id": "avYBsd6_Yp0q"
      }
    },
    {
      "cell_type": "code",
      "source": [
        "df_test"
      ],
      "metadata": {
        "colab": {
          "base_uri": "https://localhost:8080/",
          "height": 424
        },
        "id": "9UeHDQCsSnGB",
        "outputId": "fdd076f3-fec1-4366-f306-c27a9deb13a8"
      },
      "execution_count": 90,
      "outputs": [
        {
          "output_type": "execute_result",
          "data": {
            "text/plain": [
              "                                               excerpt  \\\n",
              "95   oauth open authorization specification client ...   \n",
              "12   nashorn open source jvm base javascript engine...   \n",
              "192  digitalocean cloud host provider deploy ssd cl...   \n",
              "138  knockoutjs open source javascript library dyna...   \n",
              "51   http strict transport security hst web securit...   \n",
              "..                                                 ...   \n",
              "211  rest client chrome browser tagpostman twpostma...   \n",
              "40   new relic web application performance monitori...   \n",
              "106  wolfram language knowledge base multi paradigm...   \n",
              "149  html hyper text markup language standard marku...   \n",
              "69   swagger specification framework implementation...   \n",
              "\n",
              "                    category       Category_Predicted  \n",
              "95               Plataformas              Ferramentas  \n",
              "12               Ferramentas              Ferramentas  \n",
              "192              Plataformas              Plataformas  \n",
              "138              Ferramentas              Ferramentas  \n",
              "51               Plataformas  Linguagens e Frameworks  \n",
              "..                       ...                      ...  \n",
              "211  Linguagens e Frameworks              Ferramentas  \n",
              "40   Linguagens e Frameworks              Ferramentas  \n",
              "106              Ferramentas              Ferramentas  \n",
              "149              Ferramentas              Ferramentas  \n",
              "69   Linguagens e Frameworks              Plataformas  \n",
              "\n",
              "[80 rows x 3 columns]"
            ],
            "text/html": [
              "\n",
              "  <div id=\"df-2994dc3b-f08d-4865-99a5-c824ca5ecbd5\">\n",
              "    <div class=\"colab-df-container\">\n",
              "      <div>\n",
              "<style scoped>\n",
              "    .dataframe tbody tr th:only-of-type {\n",
              "        vertical-align: middle;\n",
              "    }\n",
              "\n",
              "    .dataframe tbody tr th {\n",
              "        vertical-align: top;\n",
              "    }\n",
              "\n",
              "    .dataframe thead th {\n",
              "        text-align: right;\n",
              "    }\n",
              "</style>\n",
              "<table border=\"1\" class=\"dataframe\">\n",
              "  <thead>\n",
              "    <tr style=\"text-align: right;\">\n",
              "      <th></th>\n",
              "      <th>excerpt</th>\n",
              "      <th>category</th>\n",
              "      <th>Category_Predicted</th>\n",
              "    </tr>\n",
              "  </thead>\n",
              "  <tbody>\n",
              "    <tr>\n",
              "      <th>95</th>\n",
              "      <td>oauth open authorization specification client ...</td>\n",
              "      <td>Plataformas</td>\n",
              "      <td>Ferramentas</td>\n",
              "    </tr>\n",
              "    <tr>\n",
              "      <th>12</th>\n",
              "      <td>nashorn open source jvm base javascript engine...</td>\n",
              "      <td>Ferramentas</td>\n",
              "      <td>Ferramentas</td>\n",
              "    </tr>\n",
              "    <tr>\n",
              "      <th>192</th>\n",
              "      <td>digitalocean cloud host provider deploy ssd cl...</td>\n",
              "      <td>Plataformas</td>\n",
              "      <td>Plataformas</td>\n",
              "    </tr>\n",
              "    <tr>\n",
              "      <th>138</th>\n",
              "      <td>knockoutjs open source javascript library dyna...</td>\n",
              "      <td>Ferramentas</td>\n",
              "      <td>Ferramentas</td>\n",
              "    </tr>\n",
              "    <tr>\n",
              "      <th>51</th>\n",
              "      <td>http strict transport security hst web securit...</td>\n",
              "      <td>Plataformas</td>\n",
              "      <td>Linguagens e Frameworks</td>\n",
              "    </tr>\n",
              "    <tr>\n",
              "      <th>...</th>\n",
              "      <td>...</td>\n",
              "      <td>...</td>\n",
              "      <td>...</td>\n",
              "    </tr>\n",
              "    <tr>\n",
              "      <th>211</th>\n",
              "      <td>rest client chrome browser tagpostman twpostma...</td>\n",
              "      <td>Linguagens e Frameworks</td>\n",
              "      <td>Ferramentas</td>\n",
              "    </tr>\n",
              "    <tr>\n",
              "      <th>40</th>\n",
              "      <td>new relic web application performance monitori...</td>\n",
              "      <td>Linguagens e Frameworks</td>\n",
              "      <td>Ferramentas</td>\n",
              "    </tr>\n",
              "    <tr>\n",
              "      <th>106</th>\n",
              "      <td>wolfram language knowledge base multi paradigm...</td>\n",
              "      <td>Ferramentas</td>\n",
              "      <td>Ferramentas</td>\n",
              "    </tr>\n",
              "    <tr>\n",
              "      <th>149</th>\n",
              "      <td>html hyper text markup language standard marku...</td>\n",
              "      <td>Ferramentas</td>\n",
              "      <td>Ferramentas</td>\n",
              "    </tr>\n",
              "    <tr>\n",
              "      <th>69</th>\n",
              "      <td>swagger specification framework implementation...</td>\n",
              "      <td>Linguagens e Frameworks</td>\n",
              "      <td>Plataformas</td>\n",
              "    </tr>\n",
              "  </tbody>\n",
              "</table>\n",
              "<p>80 rows × 3 columns</p>\n",
              "</div>\n",
              "      <button class=\"colab-df-convert\" onclick=\"convertToInteractive('df-2994dc3b-f08d-4865-99a5-c824ca5ecbd5')\"\n",
              "              title=\"Convert this dataframe to an interactive table.\"\n",
              "              style=\"display:none;\">\n",
              "        \n",
              "  <svg xmlns=\"http://www.w3.org/2000/svg\" height=\"24px\"viewBox=\"0 0 24 24\"\n",
              "       width=\"24px\">\n",
              "    <path d=\"M0 0h24v24H0V0z\" fill=\"none\"/>\n",
              "    <path d=\"M18.56 5.44l.94 2.06.94-2.06 2.06-.94-2.06-.94-.94-2.06-.94 2.06-2.06.94zm-11 1L8.5 8.5l.94-2.06 2.06-.94-2.06-.94L8.5 2.5l-.94 2.06-2.06.94zm10 10l.94 2.06.94-2.06 2.06-.94-2.06-.94-.94-2.06-.94 2.06-2.06.94z\"/><path d=\"M17.41 7.96l-1.37-1.37c-.4-.4-.92-.59-1.43-.59-.52 0-1.04.2-1.43.59L10.3 9.45l-7.72 7.72c-.78.78-.78 2.05 0 2.83L4 21.41c.39.39.9.59 1.41.59.51 0 1.02-.2 1.41-.59l7.78-7.78 2.81-2.81c.8-.78.8-2.07 0-2.86zM5.41 20L4 18.59l7.72-7.72 1.47 1.35L5.41 20z\"/>\n",
              "  </svg>\n",
              "      </button>\n",
              "      \n",
              "  <style>\n",
              "    .colab-df-container {\n",
              "      display:flex;\n",
              "      flex-wrap:wrap;\n",
              "      gap: 12px;\n",
              "    }\n",
              "\n",
              "    .colab-df-convert {\n",
              "      background-color: #E8F0FE;\n",
              "      border: none;\n",
              "      border-radius: 50%;\n",
              "      cursor: pointer;\n",
              "      display: none;\n",
              "      fill: #1967D2;\n",
              "      height: 32px;\n",
              "      padding: 0 0 0 0;\n",
              "      width: 32px;\n",
              "    }\n",
              "\n",
              "    .colab-df-convert:hover {\n",
              "      background-color: #E2EBFA;\n",
              "      box-shadow: 0px 1px 2px rgba(60, 64, 67, 0.3), 0px 1px 3px 1px rgba(60, 64, 67, 0.15);\n",
              "      fill: #174EA6;\n",
              "    }\n",
              "\n",
              "    [theme=dark] .colab-df-convert {\n",
              "      background-color: #3B4455;\n",
              "      fill: #D2E3FC;\n",
              "    }\n",
              "\n",
              "    [theme=dark] .colab-df-convert:hover {\n",
              "      background-color: #434B5C;\n",
              "      box-shadow: 0px 1px 3px 1px rgba(0, 0, 0, 0.15);\n",
              "      filter: drop-shadow(0px 1px 2px rgba(0, 0, 0, 0.3));\n",
              "      fill: #FFFFFF;\n",
              "    }\n",
              "  </style>\n",
              "\n",
              "      <script>\n",
              "        const buttonEl =\n",
              "          document.querySelector('#df-2994dc3b-f08d-4865-99a5-c824ca5ecbd5 button.colab-df-convert');\n",
              "        buttonEl.style.display =\n",
              "          google.colab.kernel.accessAllowed ? 'block' : 'none';\n",
              "\n",
              "        async function convertToInteractive(key) {\n",
              "          const element = document.querySelector('#df-2994dc3b-f08d-4865-99a5-c824ca5ecbd5');\n",
              "          const dataTable =\n",
              "            await google.colab.kernel.invokeFunction('convertToInteractive',\n",
              "                                                     [key], {});\n",
              "          if (!dataTable) return;\n",
              "\n",
              "          const docLinkHtml = 'Like what you see? Visit the ' +\n",
              "            '<a target=\"_blank\" href=https://colab.research.google.com/notebooks/data_table.ipynb>data table notebook</a>'\n",
              "            + ' to learn more about interactive tables.';\n",
              "          element.innerHTML = '';\n",
              "          dataTable['output_type'] = 'display_data';\n",
              "          await google.colab.output.renderOutput(dataTable, element);\n",
              "          const docLink = document.createElement('div');\n",
              "          docLink.innerHTML = docLinkHtml;\n",
              "          element.appendChild(docLink);\n",
              "        }\n",
              "      </script>\n",
              "    </div>\n",
              "  </div>\n",
              "  "
            ]
          },
          "metadata": {},
          "execution_count": 90
        }
      ]
    },
    {
      "cell_type": "markdown",
      "source": [
        "###Separação de textos classificados de forma incorreta"
      ],
      "metadata": {
        "id": "5MmUJFLDYtPu"
      }
    },
    {
      "cell_type": "code",
      "source": [
        "condition = (df_test['category'] != df_test['Category_Predicted'])\n",
        "\n",
        "df_misclassified = df_test[condition]\n",
        "\n",
        "df_misclassified.head(5)"
      ],
      "metadata": {
        "colab": {
          "base_uri": "https://localhost:8080/",
          "height": 206
        },
        "id": "aj_9f03vYvpK",
        "outputId": "db1ddb75-40f9-4149-8fc9-86ca656f99ab"
      },
      "execution_count": 91,
      "outputs": [
        {
          "output_type": "execute_result",
          "data": {
            "text/plain": [
              "                                               excerpt     category  \\\n",
              "95   oauth open authorization specification client ...  Plataformas   \n",
              "51   http strict transport security hst web securit...  Plataformas   \n",
              "227  openam open source access management entitleme...  Plataformas   \n",
              "78   graphql datum query language describe complex ...  Ferramentas   \n",
              "4    kubernete open source implementation container...  Plataformas   \n",
              "\n",
              "          Category_Predicted  \n",
              "95               Ferramentas  \n",
              "51   Linguagens e Frameworks  \n",
              "227  Linguagens e Frameworks  \n",
              "78   Linguagens e Frameworks  \n",
              "4    Linguagens e Frameworks  "
            ],
            "text/html": [
              "\n",
              "  <div id=\"df-150ffb41-6ee7-4fb8-82c8-182a4fc0c102\">\n",
              "    <div class=\"colab-df-container\">\n",
              "      <div>\n",
              "<style scoped>\n",
              "    .dataframe tbody tr th:only-of-type {\n",
              "        vertical-align: middle;\n",
              "    }\n",
              "\n",
              "    .dataframe tbody tr th {\n",
              "        vertical-align: top;\n",
              "    }\n",
              "\n",
              "    .dataframe thead th {\n",
              "        text-align: right;\n",
              "    }\n",
              "</style>\n",
              "<table border=\"1\" class=\"dataframe\">\n",
              "  <thead>\n",
              "    <tr style=\"text-align: right;\">\n",
              "      <th></th>\n",
              "      <th>excerpt</th>\n",
              "      <th>category</th>\n",
              "      <th>Category_Predicted</th>\n",
              "    </tr>\n",
              "  </thead>\n",
              "  <tbody>\n",
              "    <tr>\n",
              "      <th>95</th>\n",
              "      <td>oauth open authorization specification client ...</td>\n",
              "      <td>Plataformas</td>\n",
              "      <td>Ferramentas</td>\n",
              "    </tr>\n",
              "    <tr>\n",
              "      <th>51</th>\n",
              "      <td>http strict transport security hst web securit...</td>\n",
              "      <td>Plataformas</td>\n",
              "      <td>Linguagens e Frameworks</td>\n",
              "    </tr>\n",
              "    <tr>\n",
              "      <th>227</th>\n",
              "      <td>openam open source access management entitleme...</td>\n",
              "      <td>Plataformas</td>\n",
              "      <td>Linguagens e Frameworks</td>\n",
              "    </tr>\n",
              "    <tr>\n",
              "      <th>78</th>\n",
              "      <td>graphql datum query language describe complex ...</td>\n",
              "      <td>Ferramentas</td>\n",
              "      <td>Linguagens e Frameworks</td>\n",
              "    </tr>\n",
              "    <tr>\n",
              "      <th>4</th>\n",
              "      <td>kubernete open source implementation container...</td>\n",
              "      <td>Plataformas</td>\n",
              "      <td>Linguagens e Frameworks</td>\n",
              "    </tr>\n",
              "  </tbody>\n",
              "</table>\n",
              "</div>\n",
              "      <button class=\"colab-df-convert\" onclick=\"convertToInteractive('df-150ffb41-6ee7-4fb8-82c8-182a4fc0c102')\"\n",
              "              title=\"Convert this dataframe to an interactive table.\"\n",
              "              style=\"display:none;\">\n",
              "        \n",
              "  <svg xmlns=\"http://www.w3.org/2000/svg\" height=\"24px\"viewBox=\"0 0 24 24\"\n",
              "       width=\"24px\">\n",
              "    <path d=\"M0 0h24v24H0V0z\" fill=\"none\"/>\n",
              "    <path d=\"M18.56 5.44l.94 2.06.94-2.06 2.06-.94-2.06-.94-.94-2.06-.94 2.06-2.06.94zm-11 1L8.5 8.5l.94-2.06 2.06-.94-2.06-.94L8.5 2.5l-.94 2.06-2.06.94zm10 10l.94 2.06.94-2.06 2.06-.94-2.06-.94-.94-2.06-.94 2.06-2.06.94z\"/><path d=\"M17.41 7.96l-1.37-1.37c-.4-.4-.92-.59-1.43-.59-.52 0-1.04.2-1.43.59L10.3 9.45l-7.72 7.72c-.78.78-.78 2.05 0 2.83L4 21.41c.39.39.9.59 1.41.59.51 0 1.02-.2 1.41-.59l7.78-7.78 2.81-2.81c.8-.78.8-2.07 0-2.86zM5.41 20L4 18.59l7.72-7.72 1.47 1.35L5.41 20z\"/>\n",
              "  </svg>\n",
              "      </button>\n",
              "      \n",
              "  <style>\n",
              "    .colab-df-container {\n",
              "      display:flex;\n",
              "      flex-wrap:wrap;\n",
              "      gap: 12px;\n",
              "    }\n",
              "\n",
              "    .colab-df-convert {\n",
              "      background-color: #E8F0FE;\n",
              "      border: none;\n",
              "      border-radius: 50%;\n",
              "      cursor: pointer;\n",
              "      display: none;\n",
              "      fill: #1967D2;\n",
              "      height: 32px;\n",
              "      padding: 0 0 0 0;\n",
              "      width: 32px;\n",
              "    }\n",
              "\n",
              "    .colab-df-convert:hover {\n",
              "      background-color: #E2EBFA;\n",
              "      box-shadow: 0px 1px 2px rgba(60, 64, 67, 0.3), 0px 1px 3px 1px rgba(60, 64, 67, 0.15);\n",
              "      fill: #174EA6;\n",
              "    }\n",
              "\n",
              "    [theme=dark] .colab-df-convert {\n",
              "      background-color: #3B4455;\n",
              "      fill: #D2E3FC;\n",
              "    }\n",
              "\n",
              "    [theme=dark] .colab-df-convert:hover {\n",
              "      background-color: #434B5C;\n",
              "      box-shadow: 0px 1px 3px 1px rgba(0, 0, 0, 0.15);\n",
              "      filter: drop-shadow(0px 1px 2px rgba(0, 0, 0, 0.3));\n",
              "      fill: #FFFFFF;\n",
              "    }\n",
              "  </style>\n",
              "\n",
              "      <script>\n",
              "        const buttonEl =\n",
              "          document.querySelector('#df-150ffb41-6ee7-4fb8-82c8-182a4fc0c102 button.colab-df-convert');\n",
              "        buttonEl.style.display =\n",
              "          google.colab.kernel.accessAllowed ? 'block' : 'none';\n",
              "\n",
              "        async function convertToInteractive(key) {\n",
              "          const element = document.querySelector('#df-150ffb41-6ee7-4fb8-82c8-182a4fc0c102');\n",
              "          const dataTable =\n",
              "            await google.colab.kernel.invokeFunction('convertToInteractive',\n",
              "                                                     [key], {});\n",
              "          if (!dataTable) return;\n",
              "\n",
              "          const docLinkHtml = 'Like what you see? Visit the ' +\n",
              "            '<a target=\"_blank\" href=https://colab.research.google.com/notebooks/data_table.ipynb>data table notebook</a>'\n",
              "            + ' to learn more about interactive tables.';\n",
              "          element.innerHTML = '';\n",
              "          dataTable['output_type'] = 'display_data';\n",
              "          await google.colab.output.renderOutput(dataTable, element);\n",
              "          const docLink = document.createElement('div');\n",
              "          docLink.innerHTML = docLinkHtml;\n",
              "          element.appendChild(docLink);\n",
              "        }\n",
              "      </script>\n",
              "    </div>\n",
              "  </div>\n",
              "  "
            ]
          },
          "metadata": {},
          "execution_count": 91
        }
      ]
    },
    {
      "cell_type": "code",
      "source": [
        "df_misclassified.info()"
      ],
      "metadata": {
        "colab": {
          "base_uri": "https://localhost:8080/"
        },
        "id": "HRt-qYo0YxvD",
        "outputId": "27d91761-fb9f-4769-f79f-a6eafefab9e3"
      },
      "execution_count": 92,
      "outputs": [
        {
          "output_type": "stream",
          "name": "stdout",
          "text": [
            "<class 'pandas.core.frame.DataFrame'>\n",
            "Int64Index: 31 entries, 95 to 69\n",
            "Data columns (total 3 columns):\n",
            " #   Column              Non-Null Count  Dtype \n",
            "---  ------              --------------  ----- \n",
            " 0   excerpt             31 non-null     object\n",
            " 1   category            31 non-null     object\n",
            " 2   Category_Predicted  31 non-null     object\n",
            "dtypes: object(3)\n",
            "memory usage: 992.0+ bytes\n"
          ]
        }
      ]
    },
    {
      "cell_type": "code",
      "source": [
        "df_misclassified.Category_Predicted.value_counts()"
      ],
      "metadata": {
        "colab": {
          "base_uri": "https://localhost:8080/"
        },
        "id": "QwG_lsckYy_X",
        "outputId": "967f66b9-6e9d-49d9-ea31-a7df0c575e37"
      },
      "execution_count": 93,
      "outputs": [
        {
          "output_type": "execute_result",
          "data": {
            "text/plain": [
              "Linguagens e Frameworks    18\n",
              "Ferramentas                 9\n",
              "Plataformas                 4\n",
              "Name: Category_Predicted, dtype: int64"
            ]
          },
          "metadata": {},
          "execution_count": 93
        }
      ]
    },
    {
      "cell_type": "markdown",
      "source": [
        "###Textos classificados de forma incorreta"
      ],
      "metadata": {
        "id": "fyRx1xg8Y1A_"
      }
    },
    {
      "cell_type": "code",
      "source": [
        "def output_article(df: pd.DataFrame, qtd: int):\n",
        "  list_samples = random_sample(df_misclassified, qtd)\n",
        "  \n",
        "  for i in range(qtd):\n",
        "    texto = i + 1\n",
        "    print('\\n\\n\\033[1m' , 'Texto %i' %(texto),  '\\033[0m')\n",
        "    print('          ')\n",
        "    print('Actual Category: %s' %(df['category'].loc[list_samples[i]]))\n",
        "    print('Predicted Category: %s' %(df['Category_Predicted'].loc[list_samples[i]]))\n",
        "    print('Text: ')\n",
        "    print('%s' %(df['excerpt'].loc[list_samples[i]]))\n",
        "    print('------------------------------------------------------------------------------------------------------------')"
      ],
      "metadata": {
        "id": "4qD5rfZOY876"
      },
      "execution_count": 116,
      "outputs": []
    },
    {
      "cell_type": "code",
      "source": [
        "output_article(df_misclassified, 4)"
      ],
      "metadata": {
        "colab": {
          "base_uri": "https://localhost:8080/"
        },
        "id": "aS4xIjhGZEBI",
        "outputId": "25f0d2c2-90c2-42bb-8e54-ef7f3bce8818"
      },
      "execution_count": 118,
      "outputs": [
        {
          "output_type": "stream",
          "name": "stdout",
          "text": [
            "stack_df.loc[51]['excerpt']\n",
            "stack_df.loc[264]['excerpt']\n",
            "stack_df.loc[40]['excerpt']\n",
            "stack_df.loc[263]['excerpt']\n",
            "\n",
            "\n",
            "\u001b[1m Texto 1 \u001b[0m\n",
            "          \n",
            "Actual Category: Plataformas\n",
            "Predicted Category: Linguagens e Frameworks\n",
            "Text: \n",
            "http strict transport security hst web security policy mechanism whereby web server declare comply user agent interact use secure https connection\n",
            "------------------------------------------------------------------------------------------------------------\n",
            "\n",
            "\n",
            "\u001b[1m Texto 2 \u001b[0m\n",
            "          \n",
            "Actual Category: Ferramentas\n",
            "Predicted Category: Linguagens e Frameworks\n",
            "Text: \n",
            "html hyper text markup language version umbrella term recent web technology also late iteration html become wc recommendation october introduce new element apis\n",
            "------------------------------------------------------------------------------------------------------------\n",
            "\n",
            "\n",
            "\u001b[1m Texto 3 \u001b[0m\n",
            "          \n",
            "Actual Category: Linguagens e Frameworks\n",
            "Predicted Category: Ferramentas\n",
            "Text: \n",
            "new relic web application performance monitoring service ruby java net php python nodejs android ios app\n",
            "------------------------------------------------------------------------------------------------------------\n",
            "\n",
            "\n",
            "\u001b[1m Texto 4 \u001b[0m\n",
            "          \n",
            "Actual Category: Ferramentas\n",
            "Predicted Category: Linguagens e Frameworks\n",
            "Text: \n",
            "axon java application framework implement software use cqrs principle\n",
            "------------------------------------------------------------------------------------------------------------\n"
          ]
        }
      ]
    }
  ]
}