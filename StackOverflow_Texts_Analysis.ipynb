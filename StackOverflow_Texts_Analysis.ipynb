{
  "nbformat": 4,
  "nbformat_minor": 0,
  "metadata": {
    "colab": {
      "provenance": [],
      "toc_visible": true,
      "authorship_tag": "ABX9TyORDc8iLoZ/D65D5VWJJQvN",
      "include_colab_link": true
    },
    "kernelspec": {
      "name": "python3",
      "display_name": "Python 3"
    },
    "language_info": {
      "name": "python"
    }
  },
  "cells": [
    {
      "cell_type": "markdown",
      "metadata": {
        "id": "view-in-github",
        "colab_type": "text"
      },
      "source": [
        "<a href=\"https://colab.research.google.com/github/GabrielCdev/StackOverflow_Texts_Analysis/blob/main/StackOverflow_Texts_Analysis.ipynb\" target=\"_parent\"><img src=\"https://colab.research.google.com/assets/colab-badge.svg\" alt=\"Open In Colab\"/></a>"
      ]
    },
    {
      "cell_type": "markdown",
      "source": [
        "#Desafio 01 - Classificação de tecnologias do Stack Overflow\n",
        "\n",
        "##....:::: Membros ::::....\n",
        "Gabriel Calheiros\n",
        "\n",
        "Izadora Paim\n",
        "\n",
        "Laianne Protasio"
      ],
      "metadata": {
        "id": "Advnaepegyfi"
      }
    },
    {
      "cell_type": "markdown",
      "source": [
        "#Objetivo\n",
        "\n",
        "A partir da análise de uma base de textos do Stack Overflow, gerar e avaliar um modelo preditivo que seja capaz de, a partir de um breve texto descritivo sobre uma tecnologia, classificá-la entre os rótulos existentes na base de treinamento."
      ],
      "metadata": {
        "id": "2JetdGOVhOHm"
      }
    },
    {
      "cell_type": "markdown",
      "source": [
        "##Rótulos:\n",
        "\n",
        "Linguagens e Frameworks\n",
        "\n",
        "Plataformas\n",
        "\n",
        "Ferramentas"
      ],
      "metadata": {
        "id": "0WEhAwngkedX"
      }
    },
    {
      "cell_type": "markdown",
      "source": [
        "#Importação das bibliotecas necessárias"
      ],
      "metadata": {
        "id": "K-s4x1U9hyra"
      }
    },
    {
      "cell_type": "code",
      "source": [
        "# Bibliotecas principais\n",
        "import numpy as np\n",
        "import pandas as pd\n",
        "\n",
        "# Bibliotecas para visualização\n",
        "import seaborn as sns\n",
        "import matplotlib.pyplot as plt\n",
        "\n",
        "# Bibliotecas para manipulação de textos\n",
        "import re\n",
        "import string\n",
        "\n",
        "# Bibliotecas de linguagem natural\n",
        "import nltk\n",
        "import spacy\n",
        "from nltk.corpus import stopwords\n",
        "from nltk.stem import WordNetLemmatizer\n",
        "\n",
        "# Bibliotecas de aprenizado de máquina\n",
        "from sklearn.feature_selection import chi2\n",
        "from sklearn.model_selection import train_test_split\n",
        "from sklearn.feature_extraction.text import TfidfVectorizer"
      ],
      "metadata": {
        "colab": {
          "base_uri": "https://localhost:8080/"
        },
        "id": "wHFeG2YBg8Mt",
        "outputId": "567e47c5-f66b-406b-8dd8-063dcc91faa9"
      },
      "execution_count": 1,
      "outputs": [
        {
          "output_type": "stream",
          "name": "stderr",
          "text": [
            "/usr/local/lib/python3.9/dist-packages/torch/cuda/__init__.py:497: UserWarning: Can't initialize NVML\n",
            "  warnings.warn(\"Can't initialize NVML\")\n"
          ]
        }
      ]
    },
    {
      "cell_type": "markdown",
      "source": [
        "#Download de bibliotecas externas"
      ],
      "metadata": {
        "id": "Z3hrKdBQUzdu"
      }
    },
    {
      "cell_type": "code",
      "source": [
        "# Lista de stopwords\n",
        "nltk.download('stopwords')\n",
        "\n",
        "#Módulos para tokenização, campos semânticos e léxicos, etiquetagem...\n",
        "nltk.download('punkt')\n",
        "nltk.download('wordnet')\n",
        "nltk.download('averaged_perceptron_tagger')\n",
        "nltk.download('omw-1.4')"
      ],
      "metadata": {
        "colab": {
          "base_uri": "https://localhost:8080/"
        },
        "id": "mBci80cxU1AS",
        "outputId": "dbc54b48-844c-43ee-bc58-ad3fe46024c5"
      },
      "execution_count": 2,
      "outputs": [
        {
          "output_type": "stream",
          "name": "stderr",
          "text": [
            "[nltk_data] Downloading package stopwords to /root/nltk_data...\n",
            "[nltk_data]   Package stopwords is already up-to-date!\n",
            "[nltk_data] Downloading package punkt to /root/nltk_data...\n",
            "[nltk_data]   Package punkt is already up-to-date!\n",
            "[nltk_data] Downloading package wordnet to /root/nltk_data...\n",
            "[nltk_data]   Package wordnet is already up-to-date!\n",
            "[nltk_data] Downloading package averaged_perceptron_tagger to\n",
            "[nltk_data]     /root/nltk_data...\n",
            "[nltk_data]   Package averaged_perceptron_tagger is already up-to-\n",
            "[nltk_data]       date!\n",
            "[nltk_data] Downloading package omw-1.4 to /root/nltk_data...\n",
            "[nltk_data]   Package omw-1.4 is already up-to-date!\n"
          ]
        },
        {
          "output_type": "execute_result",
          "data": {
            "text/plain": [
              "True"
            ]
          },
          "metadata": {},
          "execution_count": 2
        }
      ]
    },
    {
      "cell_type": "markdown",
      "source": [
        "# Ajustes visuais (gráficos)"
      ],
      "metadata": {
        "id": "3BEFWW4cV7ZM"
      }
    },
    {
      "cell_type": "code",
      "source": [
        "sns.set_style(\"whitegrid\")"
      ],
      "metadata": {
        "id": "a7oL2MkaV8sX"
      },
      "execution_count": 3,
      "outputs": []
    },
    {
      "cell_type": "markdown",
      "source": [
        "#Carga de dados"
      ],
      "metadata": {
        "id": "ZEVskzJvU1YU"
      }
    },
    {
      "cell_type": "code",
      "execution_count": 4,
      "metadata": {
        "id": "4CuOU7UlgbAU"
      },
      "outputs": [],
      "source": [
        "stack_df = pd.read_csv('base_textos_stack.csv')"
      ]
    },
    {
      "cell_type": "markdown",
      "source": [
        "#Análise Exploratória"
      ],
      "metadata": {
        "id": "TSJLrkduiqx9"
      }
    },
    {
      "cell_type": "markdown",
      "source": [
        "##Visualização dos dados"
      ],
      "metadata": {
        "id": "SCjnglLEiwlt"
      }
    },
    {
      "cell_type": "code",
      "source": [
        "stack_df.head()"
      ],
      "metadata": {
        "colab": {
          "base_uri": "https://localhost:8080/",
          "height": 206
        },
        "id": "SZUkCEMoipRk",
        "outputId": "600bdd08-6465-4ac6-9cfc-502647e9e320"
      },
      "execution_count": 5,
      "outputs": [
        {
          "output_type": "execute_result",
          "data": {
            "text/plain": [
              "                                             excerpt  classification\n",
              "0                  Software-defined networking (SDN)               1\n",
              "1  SPDY is an experimental protocol for multiplex...               1\n",
              "2  ASP.NET SignalR is a library for ASP.NET devel...               0\n",
              "3  Apache Kafka is a publish-subscribe messaging ...               2\n",
              "4  Kubernetes is an open source implementation of...               1"
            ],
            "text/html": [
              "\n",
              "  <div id=\"df-b666c625-2077-4243-9fe5-4a934dfb144d\">\n",
              "    <div class=\"colab-df-container\">\n",
              "      <div>\n",
              "<style scoped>\n",
              "    .dataframe tbody tr th:only-of-type {\n",
              "        vertical-align: middle;\n",
              "    }\n",
              "\n",
              "    .dataframe tbody tr th {\n",
              "        vertical-align: top;\n",
              "    }\n",
              "\n",
              "    .dataframe thead th {\n",
              "        text-align: right;\n",
              "    }\n",
              "</style>\n",
              "<table border=\"1\" class=\"dataframe\">\n",
              "  <thead>\n",
              "    <tr style=\"text-align: right;\">\n",
              "      <th></th>\n",
              "      <th>excerpt</th>\n",
              "      <th>classification</th>\n",
              "    </tr>\n",
              "  </thead>\n",
              "  <tbody>\n",
              "    <tr>\n",
              "      <th>0</th>\n",
              "      <td>Software-defined networking (SDN)</td>\n",
              "      <td>1</td>\n",
              "    </tr>\n",
              "    <tr>\n",
              "      <th>1</th>\n",
              "      <td>SPDY is an experimental protocol for multiplex...</td>\n",
              "      <td>1</td>\n",
              "    </tr>\n",
              "    <tr>\n",
              "      <th>2</th>\n",
              "      <td>ASP.NET SignalR is a library for ASP.NET devel...</td>\n",
              "      <td>0</td>\n",
              "    </tr>\n",
              "    <tr>\n",
              "      <th>3</th>\n",
              "      <td>Apache Kafka is a publish-subscribe messaging ...</td>\n",
              "      <td>2</td>\n",
              "    </tr>\n",
              "    <tr>\n",
              "      <th>4</th>\n",
              "      <td>Kubernetes is an open source implementation of...</td>\n",
              "      <td>1</td>\n",
              "    </tr>\n",
              "  </tbody>\n",
              "</table>\n",
              "</div>\n",
              "      <button class=\"colab-df-convert\" onclick=\"convertToInteractive('df-b666c625-2077-4243-9fe5-4a934dfb144d')\"\n",
              "              title=\"Convert this dataframe to an interactive table.\"\n",
              "              style=\"display:none;\">\n",
              "        \n",
              "  <svg xmlns=\"http://www.w3.org/2000/svg\" height=\"24px\"viewBox=\"0 0 24 24\"\n",
              "       width=\"24px\">\n",
              "    <path d=\"M0 0h24v24H0V0z\" fill=\"none\"/>\n",
              "    <path d=\"M18.56 5.44l.94 2.06.94-2.06 2.06-.94-2.06-.94-.94-2.06-.94 2.06-2.06.94zm-11 1L8.5 8.5l.94-2.06 2.06-.94-2.06-.94L8.5 2.5l-.94 2.06-2.06.94zm10 10l.94 2.06.94-2.06 2.06-.94-2.06-.94-.94-2.06-.94 2.06-2.06.94z\"/><path d=\"M17.41 7.96l-1.37-1.37c-.4-.4-.92-.59-1.43-.59-.52 0-1.04.2-1.43.59L10.3 9.45l-7.72 7.72c-.78.78-.78 2.05 0 2.83L4 21.41c.39.39.9.59 1.41.59.51 0 1.02-.2 1.41-.59l7.78-7.78 2.81-2.81c.8-.78.8-2.07 0-2.86zM5.41 20L4 18.59l7.72-7.72 1.47 1.35L5.41 20z\"/>\n",
              "  </svg>\n",
              "      </button>\n",
              "      \n",
              "  <style>\n",
              "    .colab-df-container {\n",
              "      display:flex;\n",
              "      flex-wrap:wrap;\n",
              "      gap: 12px;\n",
              "    }\n",
              "\n",
              "    .colab-df-convert {\n",
              "      background-color: #E8F0FE;\n",
              "      border: none;\n",
              "      border-radius: 50%;\n",
              "      cursor: pointer;\n",
              "      display: none;\n",
              "      fill: #1967D2;\n",
              "      height: 32px;\n",
              "      padding: 0 0 0 0;\n",
              "      width: 32px;\n",
              "    }\n",
              "\n",
              "    .colab-df-convert:hover {\n",
              "      background-color: #E2EBFA;\n",
              "      box-shadow: 0px 1px 2px rgba(60, 64, 67, 0.3), 0px 1px 3px 1px rgba(60, 64, 67, 0.15);\n",
              "      fill: #174EA6;\n",
              "    }\n",
              "\n",
              "    [theme=dark] .colab-df-convert {\n",
              "      background-color: #3B4455;\n",
              "      fill: #D2E3FC;\n",
              "    }\n",
              "\n",
              "    [theme=dark] .colab-df-convert:hover {\n",
              "      background-color: #434B5C;\n",
              "      box-shadow: 0px 1px 3px 1px rgba(0, 0, 0, 0.15);\n",
              "      filter: drop-shadow(0px 1px 2px rgba(0, 0, 0, 0.3));\n",
              "      fill: #FFFFFF;\n",
              "    }\n",
              "  </style>\n",
              "\n",
              "      <script>\n",
              "        const buttonEl =\n",
              "          document.querySelector('#df-b666c625-2077-4243-9fe5-4a934dfb144d button.colab-df-convert');\n",
              "        buttonEl.style.display =\n",
              "          google.colab.kernel.accessAllowed ? 'block' : 'none';\n",
              "\n",
              "        async function convertToInteractive(key) {\n",
              "          const element = document.querySelector('#df-b666c625-2077-4243-9fe5-4a934dfb144d');\n",
              "          const dataTable =\n",
              "            await google.colab.kernel.invokeFunction('convertToInteractive',\n",
              "                                                     [key], {});\n",
              "          if (!dataTable) return;\n",
              "\n",
              "          const docLinkHtml = 'Like what you see? Visit the ' +\n",
              "            '<a target=\"_blank\" href=https://colab.research.google.com/notebooks/data_table.ipynb>data table notebook</a>'\n",
              "            + ' to learn more about interactive tables.';\n",
              "          element.innerHTML = '';\n",
              "          dataTable['output_type'] = 'display_data';\n",
              "          await google.colab.output.renderOutput(dataTable, element);\n",
              "          const docLink = document.createElement('div');\n",
              "          docLink.innerHTML = docLinkHtml;\n",
              "          element.appendChild(docLink);\n",
              "        }\n",
              "      </script>\n",
              "    </div>\n",
              "  </div>\n",
              "  "
            ]
          },
          "metadata": {},
          "execution_count": 5
        }
      ]
    },
    {
      "cell_type": "code",
      "source": [
        "stack_df.tail()"
      ],
      "metadata": {
        "colab": {
          "base_uri": "https://localhost:8080/",
          "height": 206
        },
        "id": "W0PF3eq3iz0E",
        "outputId": "d922a06c-e445-44cd-cdb1-048bd4922440"
      },
      "execution_count": 6,
      "outputs": [
        {
          "output_type": "execute_result",
          "data": {
            "text/plain": [
              "                                               excerpt  classification\n",
              "262  Docker provides a high-level API to containeri...               2\n",
              "263  Axon is a Java application framework for imple...               0\n",
              "264  HTML5 (Hyper Text Markup Language, version 5) ...               0\n",
              "265  C# 4.0 introduced features like dynamic object...               0\n",
              "266  Nancy is a lightweight web framework for the ....               0"
            ],
            "text/html": [
              "\n",
              "  <div id=\"df-c6e49b3c-f399-49fe-aa2c-209f995479af\">\n",
              "    <div class=\"colab-df-container\">\n",
              "      <div>\n",
              "<style scoped>\n",
              "    .dataframe tbody tr th:only-of-type {\n",
              "        vertical-align: middle;\n",
              "    }\n",
              "\n",
              "    .dataframe tbody tr th {\n",
              "        vertical-align: top;\n",
              "    }\n",
              "\n",
              "    .dataframe thead th {\n",
              "        text-align: right;\n",
              "    }\n",
              "</style>\n",
              "<table border=\"1\" class=\"dataframe\">\n",
              "  <thead>\n",
              "    <tr style=\"text-align: right;\">\n",
              "      <th></th>\n",
              "      <th>excerpt</th>\n",
              "      <th>classification</th>\n",
              "    </tr>\n",
              "  </thead>\n",
              "  <tbody>\n",
              "    <tr>\n",
              "      <th>262</th>\n",
              "      <td>Docker provides a high-level API to containeri...</td>\n",
              "      <td>2</td>\n",
              "    </tr>\n",
              "    <tr>\n",
              "      <th>263</th>\n",
              "      <td>Axon is a Java application framework for imple...</td>\n",
              "      <td>0</td>\n",
              "    </tr>\n",
              "    <tr>\n",
              "      <th>264</th>\n",
              "      <td>HTML5 (Hyper Text Markup Language, version 5) ...</td>\n",
              "      <td>0</td>\n",
              "    </tr>\n",
              "    <tr>\n",
              "      <th>265</th>\n",
              "      <td>C# 4.0 introduced features like dynamic object...</td>\n",
              "      <td>0</td>\n",
              "    </tr>\n",
              "    <tr>\n",
              "      <th>266</th>\n",
              "      <td>Nancy is a lightweight web framework for the ....</td>\n",
              "      <td>0</td>\n",
              "    </tr>\n",
              "  </tbody>\n",
              "</table>\n",
              "</div>\n",
              "      <button class=\"colab-df-convert\" onclick=\"convertToInteractive('df-c6e49b3c-f399-49fe-aa2c-209f995479af')\"\n",
              "              title=\"Convert this dataframe to an interactive table.\"\n",
              "              style=\"display:none;\">\n",
              "        \n",
              "  <svg xmlns=\"http://www.w3.org/2000/svg\" height=\"24px\"viewBox=\"0 0 24 24\"\n",
              "       width=\"24px\">\n",
              "    <path d=\"M0 0h24v24H0V0z\" fill=\"none\"/>\n",
              "    <path d=\"M18.56 5.44l.94 2.06.94-2.06 2.06-.94-2.06-.94-.94-2.06-.94 2.06-2.06.94zm-11 1L8.5 8.5l.94-2.06 2.06-.94-2.06-.94L8.5 2.5l-.94 2.06-2.06.94zm10 10l.94 2.06.94-2.06 2.06-.94-2.06-.94-.94-2.06-.94 2.06-2.06.94z\"/><path d=\"M17.41 7.96l-1.37-1.37c-.4-.4-.92-.59-1.43-.59-.52 0-1.04.2-1.43.59L10.3 9.45l-7.72 7.72c-.78.78-.78 2.05 0 2.83L4 21.41c.39.39.9.59 1.41.59.51 0 1.02-.2 1.41-.59l7.78-7.78 2.81-2.81c.8-.78.8-2.07 0-2.86zM5.41 20L4 18.59l7.72-7.72 1.47 1.35L5.41 20z\"/>\n",
              "  </svg>\n",
              "      </button>\n",
              "      \n",
              "  <style>\n",
              "    .colab-df-container {\n",
              "      display:flex;\n",
              "      flex-wrap:wrap;\n",
              "      gap: 12px;\n",
              "    }\n",
              "\n",
              "    .colab-df-convert {\n",
              "      background-color: #E8F0FE;\n",
              "      border: none;\n",
              "      border-radius: 50%;\n",
              "      cursor: pointer;\n",
              "      display: none;\n",
              "      fill: #1967D2;\n",
              "      height: 32px;\n",
              "      padding: 0 0 0 0;\n",
              "      width: 32px;\n",
              "    }\n",
              "\n",
              "    .colab-df-convert:hover {\n",
              "      background-color: #E2EBFA;\n",
              "      box-shadow: 0px 1px 2px rgba(60, 64, 67, 0.3), 0px 1px 3px 1px rgba(60, 64, 67, 0.15);\n",
              "      fill: #174EA6;\n",
              "    }\n",
              "\n",
              "    [theme=dark] .colab-df-convert {\n",
              "      background-color: #3B4455;\n",
              "      fill: #D2E3FC;\n",
              "    }\n",
              "\n",
              "    [theme=dark] .colab-df-convert:hover {\n",
              "      background-color: #434B5C;\n",
              "      box-shadow: 0px 1px 3px 1px rgba(0, 0, 0, 0.15);\n",
              "      filter: drop-shadow(0px 1px 2px rgba(0, 0, 0, 0.3));\n",
              "      fill: #FFFFFF;\n",
              "    }\n",
              "  </style>\n",
              "\n",
              "      <script>\n",
              "        const buttonEl =\n",
              "          document.querySelector('#df-c6e49b3c-f399-49fe-aa2c-209f995479af button.colab-df-convert');\n",
              "        buttonEl.style.display =\n",
              "          google.colab.kernel.accessAllowed ? 'block' : 'none';\n",
              "\n",
              "        async function convertToInteractive(key) {\n",
              "          const element = document.querySelector('#df-c6e49b3c-f399-49fe-aa2c-209f995479af');\n",
              "          const dataTable =\n",
              "            await google.colab.kernel.invokeFunction('convertToInteractive',\n",
              "                                                     [key], {});\n",
              "          if (!dataTable) return;\n",
              "\n",
              "          const docLinkHtml = 'Like what you see? Visit the ' +\n",
              "            '<a target=\"_blank\" href=https://colab.research.google.com/notebooks/data_table.ipynb>data table notebook</a>'\n",
              "            + ' to learn more about interactive tables.';\n",
              "          element.innerHTML = '';\n",
              "          dataTable['output_type'] = 'display_data';\n",
              "          await google.colab.output.renderOutput(dataTable, element);\n",
              "          const docLink = document.createElement('div');\n",
              "          docLink.innerHTML = docLinkHtml;\n",
              "          element.appendChild(docLink);\n",
              "        }\n",
              "      </script>\n",
              "    </div>\n",
              "  </div>\n",
              "  "
            ]
          },
          "metadata": {},
          "execution_count": 6
        }
      ]
    },
    {
      "cell_type": "code",
      "source": [
        "stack_df.info()"
      ],
      "metadata": {
        "colab": {
          "base_uri": "https://localhost:8080/"
        },
        "id": "9K8Dh7Y_i43D",
        "outputId": "832a3ff2-a52b-46c5-9f06-ff0e9db8428f"
      },
      "execution_count": 7,
      "outputs": [
        {
          "output_type": "stream",
          "name": "stdout",
          "text": [
            "<class 'pandas.core.frame.DataFrame'>\n",
            "RangeIndex: 267 entries, 0 to 266\n",
            "Data columns (total 2 columns):\n",
            " #   Column          Non-Null Count  Dtype \n",
            "---  ------          --------------  ----- \n",
            " 0   excerpt         267 non-null    object\n",
            " 1   classification  267 non-null    int64 \n",
            "dtypes: int64(1), object(1)\n",
            "memory usage: 4.3+ KB\n"
          ]
        }
      ]
    },
    {
      "cell_type": "markdown",
      "source": [
        "##Transformação do tipo de dados"
      ],
      "metadata": {
        "id": "aAt7OC1VzxEr"
      }
    },
    {
      "cell_type": "code",
      "source": [
        "stack_df['classification'] = stack_df['classification'].astype(object)"
      ],
      "metadata": {
        "id": "vbM2ynYwzq60"
      },
      "execution_count": 8,
      "outputs": []
    },
    {
      "cell_type": "code",
      "source": [
        "stack_df.info()"
      ],
      "metadata": {
        "colab": {
          "base_uri": "https://localhost:8080/"
        },
        "id": "NZ82cIw30uBn",
        "outputId": "7060b684-0788-4db7-bdb5-b3d94b9d248b"
      },
      "execution_count": 9,
      "outputs": [
        {
          "output_type": "stream",
          "name": "stdout",
          "text": [
            "<class 'pandas.core.frame.DataFrame'>\n",
            "RangeIndex: 267 entries, 0 to 266\n",
            "Data columns (total 2 columns):\n",
            " #   Column          Non-Null Count  Dtype \n",
            "---  ------          --------------  ----- \n",
            " 0   excerpt         267 non-null    object\n",
            " 1   classification  267 non-null    object\n",
            "dtypes: object(2)\n",
            "memory usage: 4.3+ KB\n"
          ]
        }
      ]
    },
    {
      "cell_type": "markdown",
      "source": [
        "##Verificação de duplicados"
      ],
      "metadata": {
        "id": "y1YMS4EmOfl-"
      }
    },
    {
      "cell_type": "code",
      "source": [
        "stack_df[stack_df.duplicated()]"
      ],
      "metadata": {
        "colab": {
          "base_uri": "https://localhost:8080/",
          "height": 81
        },
        "id": "j2NrYmsuJTyx",
        "outputId": "66333cf4-c28d-4f52-ee77-bc983fa7e6fb"
      },
      "execution_count": 10,
      "outputs": [
        {
          "output_type": "execute_result",
          "data": {
            "text/plain": [
              "                                               excerpt classification\n",
              "139  F# is a succinct, expressive and efficient fun...              0"
            ],
            "text/html": [
              "\n",
              "  <div id=\"df-4b59ea4d-2e1f-473a-8806-15442ceb5195\">\n",
              "    <div class=\"colab-df-container\">\n",
              "      <div>\n",
              "<style scoped>\n",
              "    .dataframe tbody tr th:only-of-type {\n",
              "        vertical-align: middle;\n",
              "    }\n",
              "\n",
              "    .dataframe tbody tr th {\n",
              "        vertical-align: top;\n",
              "    }\n",
              "\n",
              "    .dataframe thead th {\n",
              "        text-align: right;\n",
              "    }\n",
              "</style>\n",
              "<table border=\"1\" class=\"dataframe\">\n",
              "  <thead>\n",
              "    <tr style=\"text-align: right;\">\n",
              "      <th></th>\n",
              "      <th>excerpt</th>\n",
              "      <th>classification</th>\n",
              "    </tr>\n",
              "  </thead>\n",
              "  <tbody>\n",
              "    <tr>\n",
              "      <th>139</th>\n",
              "      <td>F# is a succinct, expressive and efficient fun...</td>\n",
              "      <td>0</td>\n",
              "    </tr>\n",
              "  </tbody>\n",
              "</table>\n",
              "</div>\n",
              "      <button class=\"colab-df-convert\" onclick=\"convertToInteractive('df-4b59ea4d-2e1f-473a-8806-15442ceb5195')\"\n",
              "              title=\"Convert this dataframe to an interactive table.\"\n",
              "              style=\"display:none;\">\n",
              "        \n",
              "  <svg xmlns=\"http://www.w3.org/2000/svg\" height=\"24px\"viewBox=\"0 0 24 24\"\n",
              "       width=\"24px\">\n",
              "    <path d=\"M0 0h24v24H0V0z\" fill=\"none\"/>\n",
              "    <path d=\"M18.56 5.44l.94 2.06.94-2.06 2.06-.94-2.06-.94-.94-2.06-.94 2.06-2.06.94zm-11 1L8.5 8.5l.94-2.06 2.06-.94-2.06-.94L8.5 2.5l-.94 2.06-2.06.94zm10 10l.94 2.06.94-2.06 2.06-.94-2.06-.94-.94-2.06-.94 2.06-2.06.94z\"/><path d=\"M17.41 7.96l-1.37-1.37c-.4-.4-.92-.59-1.43-.59-.52 0-1.04.2-1.43.59L10.3 9.45l-7.72 7.72c-.78.78-.78 2.05 0 2.83L4 21.41c.39.39.9.59 1.41.59.51 0 1.02-.2 1.41-.59l7.78-7.78 2.81-2.81c.8-.78.8-2.07 0-2.86zM5.41 20L4 18.59l7.72-7.72 1.47 1.35L5.41 20z\"/>\n",
              "  </svg>\n",
              "      </button>\n",
              "      \n",
              "  <style>\n",
              "    .colab-df-container {\n",
              "      display:flex;\n",
              "      flex-wrap:wrap;\n",
              "      gap: 12px;\n",
              "    }\n",
              "\n",
              "    .colab-df-convert {\n",
              "      background-color: #E8F0FE;\n",
              "      border: none;\n",
              "      border-radius: 50%;\n",
              "      cursor: pointer;\n",
              "      display: none;\n",
              "      fill: #1967D2;\n",
              "      height: 32px;\n",
              "      padding: 0 0 0 0;\n",
              "      width: 32px;\n",
              "    }\n",
              "\n",
              "    .colab-df-convert:hover {\n",
              "      background-color: #E2EBFA;\n",
              "      box-shadow: 0px 1px 2px rgba(60, 64, 67, 0.3), 0px 1px 3px 1px rgba(60, 64, 67, 0.15);\n",
              "      fill: #174EA6;\n",
              "    }\n",
              "\n",
              "    [theme=dark] .colab-df-convert {\n",
              "      background-color: #3B4455;\n",
              "      fill: #D2E3FC;\n",
              "    }\n",
              "\n",
              "    [theme=dark] .colab-df-convert:hover {\n",
              "      background-color: #434B5C;\n",
              "      box-shadow: 0px 1px 3px 1px rgba(0, 0, 0, 0.15);\n",
              "      filter: drop-shadow(0px 1px 2px rgba(0, 0, 0, 0.3));\n",
              "      fill: #FFFFFF;\n",
              "    }\n",
              "  </style>\n",
              "\n",
              "      <script>\n",
              "        const buttonEl =\n",
              "          document.querySelector('#df-4b59ea4d-2e1f-473a-8806-15442ceb5195 button.colab-df-convert');\n",
              "        buttonEl.style.display =\n",
              "          google.colab.kernel.accessAllowed ? 'block' : 'none';\n",
              "\n",
              "        async function convertToInteractive(key) {\n",
              "          const element = document.querySelector('#df-4b59ea4d-2e1f-473a-8806-15442ceb5195');\n",
              "          const dataTable =\n",
              "            await google.colab.kernel.invokeFunction('convertToInteractive',\n",
              "                                                     [key], {});\n",
              "          if (!dataTable) return;\n",
              "\n",
              "          const docLinkHtml = 'Like what you see? Visit the ' +\n",
              "            '<a target=\"_blank\" href=https://colab.research.google.com/notebooks/data_table.ipynb>data table notebook</a>'\n",
              "            + ' to learn more about interactive tables.';\n",
              "          element.innerHTML = '';\n",
              "          dataTable['output_type'] = 'display_data';\n",
              "          await google.colab.output.renderOutput(dataTable, element);\n",
              "          const docLink = document.createElement('div');\n",
              "          docLink.innerHTML = docLinkHtml;\n",
              "          element.appendChild(docLink);\n",
              "        }\n",
              "      </script>\n",
              "    </div>\n",
              "  </div>\n",
              "  "
            ]
          },
          "metadata": {},
          "execution_count": 10
        }
      ]
    },
    {
      "cell_type": "markdown",
      "source": [
        "##Balanço de dados"
      ],
      "metadata": {
        "id": "_XkbTYJUs6EG"
      }
    },
    {
      "cell_type": "code",
      "source": [
        "# Visualização da quantidade de textos atribuídos a cada classificação\n",
        "stack_df.groupby('classification').count()"
      ],
      "metadata": {
        "colab": {
          "base_uri": "https://localhost:8080/",
          "height": 175
        },
        "id": "2UerP2iMtSiS",
        "outputId": "b8fb4091-b132-4d93-c0d0-d65fba491276"
      },
      "execution_count": 11,
      "outputs": [
        {
          "output_type": "execute_result",
          "data": {
            "text/plain": [
              "                excerpt\n",
              "classification         \n",
              "0                    89\n",
              "1                    89\n",
              "2                    89"
            ],
            "text/html": [
              "\n",
              "  <div id=\"df-192755b5-e147-46e5-98de-161d4c32548b\">\n",
              "    <div class=\"colab-df-container\">\n",
              "      <div>\n",
              "<style scoped>\n",
              "    .dataframe tbody tr th:only-of-type {\n",
              "        vertical-align: middle;\n",
              "    }\n",
              "\n",
              "    .dataframe tbody tr th {\n",
              "        vertical-align: top;\n",
              "    }\n",
              "\n",
              "    .dataframe thead th {\n",
              "        text-align: right;\n",
              "    }\n",
              "</style>\n",
              "<table border=\"1\" class=\"dataframe\">\n",
              "  <thead>\n",
              "    <tr style=\"text-align: right;\">\n",
              "      <th></th>\n",
              "      <th>excerpt</th>\n",
              "    </tr>\n",
              "    <tr>\n",
              "      <th>classification</th>\n",
              "      <th></th>\n",
              "    </tr>\n",
              "  </thead>\n",
              "  <tbody>\n",
              "    <tr>\n",
              "      <th>0</th>\n",
              "      <td>89</td>\n",
              "    </tr>\n",
              "    <tr>\n",
              "      <th>1</th>\n",
              "      <td>89</td>\n",
              "    </tr>\n",
              "    <tr>\n",
              "      <th>2</th>\n",
              "      <td>89</td>\n",
              "    </tr>\n",
              "  </tbody>\n",
              "</table>\n",
              "</div>\n",
              "      <button class=\"colab-df-convert\" onclick=\"convertToInteractive('df-192755b5-e147-46e5-98de-161d4c32548b')\"\n",
              "              title=\"Convert this dataframe to an interactive table.\"\n",
              "              style=\"display:none;\">\n",
              "        \n",
              "  <svg xmlns=\"http://www.w3.org/2000/svg\" height=\"24px\"viewBox=\"0 0 24 24\"\n",
              "       width=\"24px\">\n",
              "    <path d=\"M0 0h24v24H0V0z\" fill=\"none\"/>\n",
              "    <path d=\"M18.56 5.44l.94 2.06.94-2.06 2.06-.94-2.06-.94-.94-2.06-.94 2.06-2.06.94zm-11 1L8.5 8.5l.94-2.06 2.06-.94-2.06-.94L8.5 2.5l-.94 2.06-2.06.94zm10 10l.94 2.06.94-2.06 2.06-.94-2.06-.94-.94-2.06-.94 2.06-2.06.94z\"/><path d=\"M17.41 7.96l-1.37-1.37c-.4-.4-.92-.59-1.43-.59-.52 0-1.04.2-1.43.59L10.3 9.45l-7.72 7.72c-.78.78-.78 2.05 0 2.83L4 21.41c.39.39.9.59 1.41.59.51 0 1.02-.2 1.41-.59l7.78-7.78 2.81-2.81c.8-.78.8-2.07 0-2.86zM5.41 20L4 18.59l7.72-7.72 1.47 1.35L5.41 20z\"/>\n",
              "  </svg>\n",
              "      </button>\n",
              "      \n",
              "  <style>\n",
              "    .colab-df-container {\n",
              "      display:flex;\n",
              "      flex-wrap:wrap;\n",
              "      gap: 12px;\n",
              "    }\n",
              "\n",
              "    .colab-df-convert {\n",
              "      background-color: #E8F0FE;\n",
              "      border: none;\n",
              "      border-radius: 50%;\n",
              "      cursor: pointer;\n",
              "      display: none;\n",
              "      fill: #1967D2;\n",
              "      height: 32px;\n",
              "      padding: 0 0 0 0;\n",
              "      width: 32px;\n",
              "    }\n",
              "\n",
              "    .colab-df-convert:hover {\n",
              "      background-color: #E2EBFA;\n",
              "      box-shadow: 0px 1px 2px rgba(60, 64, 67, 0.3), 0px 1px 3px 1px rgba(60, 64, 67, 0.15);\n",
              "      fill: #174EA6;\n",
              "    }\n",
              "\n",
              "    [theme=dark] .colab-df-convert {\n",
              "      background-color: #3B4455;\n",
              "      fill: #D2E3FC;\n",
              "    }\n",
              "\n",
              "    [theme=dark] .colab-df-convert:hover {\n",
              "      background-color: #434B5C;\n",
              "      box-shadow: 0px 1px 3px 1px rgba(0, 0, 0, 0.15);\n",
              "      filter: drop-shadow(0px 1px 2px rgba(0, 0, 0, 0.3));\n",
              "      fill: #FFFFFF;\n",
              "    }\n",
              "  </style>\n",
              "\n",
              "      <script>\n",
              "        const buttonEl =\n",
              "          document.querySelector('#df-192755b5-e147-46e5-98de-161d4c32548b button.colab-df-convert');\n",
              "        buttonEl.style.display =\n",
              "          google.colab.kernel.accessAllowed ? 'block' : 'none';\n",
              "\n",
              "        async function convertToInteractive(key) {\n",
              "          const element = document.querySelector('#df-192755b5-e147-46e5-98de-161d4c32548b');\n",
              "          const dataTable =\n",
              "            await google.colab.kernel.invokeFunction('convertToInteractive',\n",
              "                                                     [key], {});\n",
              "          if (!dataTable) return;\n",
              "\n",
              "          const docLinkHtml = 'Like what you see? Visit the ' +\n",
              "            '<a target=\"_blank\" href=https://colab.research.google.com/notebooks/data_table.ipynb>data table notebook</a>'\n",
              "            + ' to learn more about interactive tables.';\n",
              "          element.innerHTML = '';\n",
              "          dataTable['output_type'] = 'display_data';\n",
              "          await google.colab.output.renderOutput(dataTable, element);\n",
              "          const docLink = document.createElement('div');\n",
              "          docLink.innerHTML = docLinkHtml;\n",
              "          element.appendChild(docLink);\n",
              "        }\n",
              "      </script>\n",
              "    </div>\n",
              "  </div>\n",
              "  "
            ]
          },
          "metadata": {},
          "execution_count": 11
        }
      ]
    },
    {
      "cell_type": "markdown",
      "source": [
        "A partir da tabela acima, pode-se inferir que o dataset encontra-se bem balanceado, com a **mesma** quantidade de dados para cada classificação."
      ],
      "metadata": {
        "id": "6qF7ZNNk09Zl"
      }
    },
    {
      "cell_type": "markdown",
      "source": [
        "##Tamanho dos excertos (fragmentos de texto) do dataset"
      ],
      "metadata": {
        "id": "Rl9p3jTz3iud"
      }
    },
    {
      "cell_type": "code",
      "source": [
        "sns.histplot([len(sentence.split()) for sentence in stack_df['excerpt']], \n",
        "             kde=True, stat='density').set_title('Excerpt length distribution');"
      ],
      "metadata": {
        "colab": {
          "base_uri": "https://localhost:8080/",
          "height": 281
        },
        "id": "Eb3Jr4H8T1vd",
        "outputId": "efd7a2a3-6da6-4161-f479-b8aeef46ca6e"
      },
      "execution_count": 12,
      "outputs": [
        {
          "output_type": "display_data",
          "data": {
            "text/plain": [
              "<Figure size 432x288 with 1 Axes>"
            ],
            "image/png": "[encoded data removed]"
          },
          "metadata": {}
        }
      ]
    },
    {
      "cell_type": "markdown",
      "source": [
        "Conforme o gráfico pode-se observar que a maioria dos excertos possuem de 10 a 40 palavras."
      ],
      "metadata": {
        "id": "eo5zA7nm6kM8"
      }
    },
    {
      "cell_type": "markdown",
      "source": [
        "##Limpeza de dados"
      ],
      "metadata": {
        "id": "qvvsF1gO73to"
      }
    },
    {
      "cell_type": "code",
      "source": [
        "# Verificando os sinais de pontuação que existem no dataset\n",
        "def find_punctuation_chars(dataset: pd.DataFrame, column: str) -> None:\n",
        "  punctuation_chars = set(string.punctuation) # Conjunto de caracteres de pontuação advindos da biblioteca string\n",
        "  punctuation_found = set() # Conjunto vazio que receberá os caracteres de pontuação encontrados\n",
        "\n",
        "  for excerpt in dataset[column]:\n",
        "    for char in excerpt:\n",
        "      if char in punctuation_chars:\n",
        "        punctuation_found.add(char)\n",
        "\n",
        "  if punctuation_found == set():\n",
        "    print('Não foram econtrados caracteres de pontuação!')\n",
        "  else:\n",
        "    print(\"Os caracteres encontrados foram: \", punctuation_found)"
      ],
      "metadata": {
        "id": "oYJnOR7E9ZSX"
      },
      "execution_count": 13,
      "outputs": []
    },
    {
      "cell_type": "code",
      "source": [
        "find_punctuation_chars(stack_df, 'excerpt')"
      ],
      "metadata": {
        "colab": {
          "base_uri": "https://localhost:8080/"
        },
        "id": "LzRsW7acA2f_",
        "outputId": "5e32df6a-f7c0-4752-aa17-2bcf88d5b3bd"
      },
      "execution_count": 14,
      "outputs": [
        {
          "output_type": "stream",
          "name": "stdout",
          "text": [
            "Os caracteres encontrados foram:  {'=', ')', '~', ':', '#', '!', '*', '\"', '(', '+', ';', '/', '.', '$', ']', '[', '`', '-', '&', '?', \"'\", ',', '|'}\n"
          ]
        }
      ]
    },
    {
      "cell_type": "markdown",
      "source": [
        "###Caracteres especiais:\n",
        "\n",
        "*   \\r = *Carriage return*\n",
        "*   \\n = Quebra de linha\n",
        "*   Pronomes possessivos  \\ 's (government's = government\\'s)\n"
      ],
      "metadata": {
        "id": "HR5ON-9_8EjT"
      }
    },
    {
      "cell_type": "code",
      "source": [
        "stack_df['excerpt'] = stack_df['excerpt'].str.replace(\"\\r\", \" \")\n",
        "stack_df['excerpt'] = stack_df['excerpt'].str.replace(\"\\'s\", \"\")\n",
        "stack_df['excerpt'] = stack_df['excerpt'].str.replace(\"\\n\", \" \")\n",
        "\n",
        "# Linha adicionada pois houve a junção incorreta de nomes no texto\n",
        "stack_df['excerpt'] = stack_df['excerpt'].str.replace(\"-\", \" \")"
      ],
      "metadata": {
        "id": "dFGGjlJn9CTG"
      },
      "execution_count": 15,
      "outputs": []
    },
    {
      "cell_type": "markdown",
      "source": [
        "###Sinais de pontuação\n",
        "*   Sinais (? , ! . -)"
      ],
      "metadata": {
        "id": "3zHLOOBH_gek"
      }
    },
    {
      "cell_type": "code",
      "source": [
        "punctuation = re.compile(r'[^A-Za-z0-9]+') # Qualquer caractere que não seja uma letra ou um dígito"
      ],
      "metadata": {
        "id": "ZbFbnvPP_0pH"
      },
      "execution_count": 16,
      "outputs": []
    },
    {
      "cell_type": "code",
      "source": [
        "# Substituir os caracteres de pontuação e dígitos por '', a partir do mapeamento da função punctuation\n",
        "stack_df['excerpt'] = [content.translate(str.maketrans('','', string.punctuation)) for content in stack_df['excerpt']]\n",
        "stack_df['excerpt'] = [content.translate(str.maketrans('','', string.digits)) for content in stack_df['excerpt']]"
      ],
      "metadata": {
        "id": "_3EXTbB6ADa4"
      },
      "execution_count": 17,
      "outputs": []
    },
    {
      "cell_type": "code",
      "source": [
        "# Confirmar limpezas\n",
        "find_punctuation_chars(stack_df, 'excerpt')"
      ],
      "metadata": {
        "colab": {
          "base_uri": "https://localhost:8080/"
        },
        "id": "1IbUcVovAG4D",
        "outputId": "140d9c75-9f77-4d43-f989-a5b6b961c8dc"
      },
      "execution_count": 18,
      "outputs": [
        {
          "output_type": "stream",
          "name": "stdout",
          "text": [
            "Não foram econtrados caracteres de pontuação!\n"
          ]
        }
      ]
    },
    {
      "cell_type": "markdown",
      "source": [
        "###Stopwords"
      ],
      "metadata": {
        "id": "DbEgczZIRLg2"
      }
    },
    {
      "cell_type": "code",
      "source": [
        "# Carregando as stopwords\n",
        "stop_words = list(stopwords.words('english'))"
      ],
      "metadata": {
        "id": "wSNHvNggR4RB"
      },
      "execution_count": 19,
      "outputs": []
    },
    {
      "cell_type": "code",
      "metadata": {
        "id": "9sNdfRq8YCum",
        "colab": {
          "base_uri": "https://localhost:8080/"
        },
        "outputId": "18b7215c-e87b-4119-de07-911987cc9371"
      },
      "source": [
        "for stop_word in stop_words:\n",
        "  regex_stopword = r\"\\b\" + stop_word + r\"\\b\"\n",
        "  stack_df['excerpt'] = stack_df['excerpt'].str.replace(regex_stopword, '')"
      ],
      "execution_count": 20,
      "outputs": [
        {
          "output_type": "stream",
          "name": "stderr",
          "text": [
            "<ipython-input-20-d88b1945f4f8>:3: FutureWarning: The default value of regex will change from True to False in a future version.\n",
            "  stack_df['excerpt'] = stack_df['excerpt'].str.replace(regex_stopword, '')\n"
          ]
        }
      ]
    },
    {
      "cell_type": "markdown",
      "source": [
        "###Múltiplos espaços em branco"
      ],
      "metadata": {
        "id": "rmsNPtI5Conj"
      }
    },
    {
      "cell_type": "code",
      "source": [
        "# Função para encontrar múltiplos espaços em branco consecutivos no dataframe\n",
        "def check_multiple_whitespaces(dataset: pd.DataFrame, column: str):\n",
        "  for text in dataset[column]:\n",
        "    match = re.search(r'\\s{2,}', text) # Procura por 2 ou mais espaços consecutivos\n",
        "    \n",
        "    if match:\n",
        "      print(f\"Múltiplos espaços em branco encontrados em: {text}\")"
      ],
      "metadata": {
        "id": "fodpSaZNC3g9"
      },
      "execution_count": 21,
      "outputs": []
    },
    {
      "cell_type": "code",
      "source": [
        "check_multiple_whitespaces(stack_df, 'excerpt')"
      ],
      "metadata": {
        "colab": {
          "base_uri": "https://localhost:8080/"
        },
        "id": "iHW12ewxC5n-",
        "outputId": "7335cdbd-5abb-40ce-e39d-3846bf583ca8"
      },
      "execution_count": 22,
      "outputs": [
        {
          "output_type": "stream",
          "name": "stdout",
          "text": [
            "Múltiplos espaços em branco encontrados em: SPDY   experimental protocol  multiplexing multiple concurrent streams typically HTTP requestresponse streams   single TCP connection\n",
            "Múltiplos espaços em branco encontrados em: ASPNET SignalR   library  ASPNET developers  makes  incredibly simple  add real time web functionality   applications What  real time web functionality It  ability    server side code push content   connected clients   happens  real time\n",
            "Múltiplos espaços em branco encontrados em: Apache Kafka   publish subscribe messaging framework  Java designed  distributed high throughput systems\n",
            "Múltiplos espaços em branco encontrados em: Kubernetes   open source implementation  container cluster management\n",
            "Múltiplos espaços em branco encontrados em: Apache Camel   powerful open source integration framework based  known Enterprise Integration Patterns  powerful Bean Integration\n",
            "Múltiplos espaços em branco encontrados em: Graphite   highly scalable real time graphing system specifically built  visualize numeric time series data The data   visualized  graphite web interfaces Graphite  Apache  Licensed  written  Python httpgraphitewikidotcom\n",
            "Múltiplos espaços em branco encontrados em: Open Web Interface  NET  describes  components   HTTP pipeline  communicate\n",
            "Múltiplos espaços em branco encontrados em: Zipkin   open source distributed tracing system created  Twitter\n",
            "Múltiplos espaços em branco encontrados em: A triplestore   purpose built database   storage  retrieval  Resource Description Framework RDF metadata    httpenwikipediaorgwikiTriplestore RDF stores simple statements   three elements subject predicate  object   hence triple\n",
            "Múltiplos espaços em branco encontrados em: AWS Lambda allows users  run code  response  events  also managing  infrastructure necessary  execute  code within milliseconds   event\n",
            "Múltiplos espaços em branco encontrados em: Nashorn   open source JVM based JavaScript engine It replaced  Rhino JavaScript engine starting  Java \n",
            "Múltiplos espaços em branco encontrados em: KVM  Kernel based Virtual Machine   full virtualization solution  Linux  x hardware containing virtualization extensions Intel VT  AMD V\n",
            "Múltiplos espaços em branco encontrados em: Bluebird   fully featured promise library  client  server JavaScript  focus  innovative features  performance\n",
            "Múltiplos espaços em branco encontrados em: Google App Engine   cloud computing technology  hosting web applications  Google managed data centers Google App Engine   Platform   Service PaaS offering  Java Python Go  PHP\n",
            "Múltiplos espaços em branco encontrados em: Swift   application  systems programming language developed  Apple  distributed  open source Use  tag   questions   specific  Swift language features    require code   language\n",
            "Múltiplos espaços em branco encontrados em: MariaDB   open source database server  offers drop  replacement functionality  MySQL\n",
            "Múltiplos espaços em branco encontrados em: OpenID Connect   REST friendly protocol   possibly cross domain exchange  user identity built  top   OAuth   JWT specifications\n",
            "Múltiplos espaços em branco encontrados em: Akka   open source toolkit  runtime simplifying  construction  concurrent  distributed applications   JVM It implements  actor model known  Erlang\n",
            "Múltiplos espaços em branco encontrados em: Ceph   distributed object store  file system designed  provide excellent performance reliability  scalability\n",
            "Múltiplos espaços em branco encontrados em: A web service   software system designed  support interoperable machine  machine interaction   World Wide Web\n",
            "Múltiplos espaços em branco encontrados em: The ASPNET MVC Framework   open source web application framework  tooling  implements  version   model view controller MVC pattern tailored towards web applications  built upon  ASPNET technology foundation\n",
            "Múltiplos espaços em branco encontrados em: The Rackspace Cloud   set  cloud computing products  services billed   utility computing basis   US based company Rackspace Offerings include web application hosting  platform   service Cloud Sites Cloud Storage Cloud Files virtual private server Cloud Servers load balancers databases backup  monitoring\n",
            "Múltiplos espaços em branco encontrados em: Internet Explorer  IE   old version  Internet Explorer It  shipped  Windows XP  Windows Server  Internet Explorer    longer supported  Microsoft\n",
            "Múltiplos espaços em branco encontrados em: SonarQube formerly Sonar   quality management platform focusing  continuous analysis  source code quality It provides source code quality metrics   duplicated code coding standards unit tests code coverage complex code potential bugs comments  design  architecture\n",
            "Múltiplos espaços em branco encontrados em: An open source BSD licensed  memory data structure store used  database cache  message broker Supports data structures   strings hashes lists sets sorted sets  range queries bitmaps hyperloglogs  geospatial indexes  radius queries Has built  replication Lua scripting LRU eviction transactions  different levels   disk persistence high availability via Redis Sentinel  automatic partitioning  Redis Cluster\n",
            "Múltiplos espaços em branco encontrados em: Data visualization   study   visual representation  data Maps  charts    common types  data visualization    many \n",
            "Múltiplos espaços em branco encontrados em: The Java Virtual Machine JVM enables  set  computer software programs  data structures  use  virtual machine model   execution   computer programs  scripts Use  tag  questions dealing  tools provided   JVM    works   specific scenario\n",
            "Múltiplos espaços em branco encontrados em: Meteor   modular platform  developing web  mobile applications  JavaScript based   NodeJS platform\n",
            "Múltiplos espaços em branco encontrados em: A next generation JavaScript client framework  leverages simple conventions  empower  creativity\n",
            "Múltiplos espaços em branco encontrados em: Enlive   Clojure library  HTMLXML extraction transformation  templating\n",
            "Múltiplos espaços em branco encontrados em: Retrofit   type safe REST client  Android  Java  Square Inc\n",
            "Múltiplos espaços em branco encontrados em: A ClojureScript interface  Facebook React\n",
            "Múltiplos espaços em branco encontrados em: NoSQL sometimes expanded    SQL   broad class  database management systems  differ   classic model   relational database management system RDBMS   significant ways\n",
            "Múltiplos espaços em branco encontrados em: In  distributed environment failure   given service  inevitable Hystrix   library designed  control  interactions   distributed services providing greater latency  fault tolerance\n",
            "Múltiplos espaços em branco encontrados em: Mercurial   fast open source DVCS Distributed Version Control System\n",
            "Múltiplos espaços em branco encontrados em: F   succinct expressive  efficient functional  object oriented language  NET  helps  write simple code  solve complex problems\n",
            "Múltiplos espaços em branco encontrados em: The Qjs JavaScript promise library Q catches errors  uses   technique  handle JavaScript callbacks  exceptions Do  use  Angular q use angular promise instead\n",
            "Múltiplos espaços em branco encontrados em: Mapbox   mapping platform  includes custom base maps directions geocoding  mobile SDKs\n",
            "Múltiplos espaços em branco encontrados em: New Relic   web application performance monitoring service  Ruby Java NET PHP Python Nodejs Android  iOS apps\n",
            "Múltiplos espaços em branco encontrados em: Alamofire   HTTP networking library written  Swift\n",
            "Múltiplos espaços em branco encontrados em: Clientserver side PDF printing  pure JavaScript\n",
            "Múltiplos espaços em branco encontrados em: GPGPU   acronym   field  computer science known  General Purpose computing   Graphics Processing Unit GPU\n",
            "Múltiplos espaços em branco encontrados em: Google BigQuery   web service  lets   interactive analysis  massive datasets—  billions  rows Scalable  easy  use BigQuery lets developers  businesses tap  powerful data analytics  demand\n",
            "Múltiplos espaços em branco encontrados em: Play Framework    major revision  Play  Ruby  Rails like framework   Java platform Version  introduces features    use  Scala language Akka actors Scala templates   build system SBT\n",
            "Múltiplos espaços em branco encontrados em: Lua   powerful fast lightweight embeddable scripting language It dynamically typed runs  interpreting bytecode   automatic garbage collection Its speed  one   main reasons It  widely used   machine learning community It  often referred    extensible extension language\n",
            "Múltiplos espaços em branco encontrados em: Emberjs   MVC application framework written  JavaScript\n",
            "Múltiplos espaços em branco encontrados em: Neoj   open source transactional graph database well suited  connected data You  use    variety  use cases directly   JVM languages  via  language drivers via  HTTP APIs\n",
            "Múltiplos espaços em branco encontrados em: PIT   fast bytecode based mutation testing system  Java\n",
            "Múltiplos espaços em branco encontrados em: Nodejs   event based non blocking asynchronous IO framework  uses Google V JavaScript engine  libuv library It  used  developing applications  make heavy use   ability  run JavaScript    client  well   server side  therefore benefit    usability  code   lack  context switching\n",
            "Múltiplos espaços em branco encontrados em: HTTP Strict Transport Security HSTS   web security policy mechanism whereby  web server declares  complying user agents   interact   using  secure HTTPS connections\n",
            "Múltiplos espaços em branco encontrados em: GitHub   web based hosting service  software development projects  use Git  version control\n",
            "Múltiplos espaços em branco encontrados em: spray   open source toolkit  building RESTHTTP based integration layers  top  Scala  Akka\n",
            "Múltiplos espaços em branco encontrados em: Frege   Haskell   JVM Like  Haskell   purely functional enjoys  strong static type system  global type inference  non strict   also known  lazy   evaluation\n",
            "Múltiplos espaços em branco encontrados em: Yeoman   command line tool  frontend web development As  web application boilerplate  main features include project scaffolding  build process based  part  Gruntjs  package management  updating project dependencies\n",
            "Múltiplos espaços em branco encontrados em: A powerful  flexible toolkit  building Web APIs Django   high level Python Web framework  encourages rapid development  clean pragmatic design Built  experienced developers  takes care  much   hassle  Web development    focus  writing  app without needing  reinvent  wheel It’ free  open source\n",
            "Múltiplos espaços em branco encontrados em: Elixir   open source dynamic compiled general purpose functional programming language It  designed   fully compatible   Erlang platform   well suited  writing fault tolerant distributed applications  soft real time guarantees   ability  hot code swapping\n",
            "Múltiplos espaços em branco encontrados em: RequireJS   JavaScript file  module loader It  optimized   browser use     used   JavaScript environments like Rhino  Node If   using  require call  comes bundled  Nodejs    NOT using RequireJS Please   use  tag   cases Use  require tag instead\n",
            "Múltiplos espaços em branco encontrados em: A Sinatra based framework  building dashboards  simple way  uses premade widgets  fully create    scss html  coffeescript\n",
            "Múltiplos espaços em branco encontrados em: Fastly   CDN provider\n",
            "Múltiplos espaços em branco encontrados em: NuGet   free open source developer focused package management system   NET platform\n",
            "Múltiplos espaços em branco encontrados em: Microsoft Azure formerly Windows Azure   Platform   Service PaaS  Infrastructure   Service IaaS cloud computing platform  Microsoft Users   platform  deploy  applications onto cloud hosting benefiting   demand service elastic scale   highly managed environment   pay   go basis\n",
            "Múltiplos espaços em branco encontrados em: Backbonejs   JavaScript framework   RESTful JSON interface   based   model–view–presenter MVP application design paradigm\n",
            "Múltiplos espaços em branco encontrados em: Hadoop  represents  second generation    popular open source distributed platform Apache Hadoop\n",
            "Múltiplos espaços em branco encontrados em: Elasticsearch   Open Source Apache  Distributed RESTful Search Engine built  top  Lucene\n",
            "Múltiplos espaços em branco encontrados em: Cloudera Impala   open source Massively Parallel Processing MPP query engine  runs natively  Apache Hadoop\n",
            "Múltiplos espaços em branco encontrados em: CoffeeScript   language  compiles  JavaScript Underneath    embarrassing braces  semicolons JavaScript  always   gorgeous object model   heart CoffeeScript   attempt  expose  good parts  JavaScript   simple way\n",
            "Múltiplos espaços em branco encontrados em: Ansible   model driven configuration management multi node deploymentorchestration  remote task execution system Uses SSH  default     special software   installed   nodes  manage Ansible   extended   language\n",
            "Múltiplos espaços em branco encontrados em: Swagger   specification  framework implementation  describing producing consuming  visualizing RESTful web services\n",
            "Múltiplos espaços em branco encontrados em: Cucumber   Behavior Driven Development BDD tool  executes functional descriptions written  plain text structured   simple Gherkin language  automated tests\n",
            "Múltiplos espaços em branco encontrados em: Heroku   cloud platform  Ruby Nodejs Python Go PHP  JVM based applications It features Git based GitHub  API deployment strategies  large number  services offered  add ons   full API\n",
            "Múltiplos espaços em branco encontrados em: Zucchini   visual iOS testing framework built  Ruby CoffeeScript  JavaScript\n",
            "Múltiplos espaços em branco encontrados em: Frank allows   write structured text testacceptance testsrequirements using Cucumber    execute   iOS application\n",
            "Múltiplos espaços em branco encontrados em: Use  programming  development questions related  Android Google OS  digital devices Phones Tablets Autos TVs Wear Glass Please use Android specific tags   android intent  intent For questions  general use  development  programming use httpandroidstackexchangecom\n",
            "Múltiplos espaços em branco encontrados em: Locust   python load testing framework\n",
            "Múltiplos espaços em branco encontrados em: Immutablejs provides Persistent Immutable List Stack Map OrderedMap Set OrderedSet  Record They  highly efficient  modern JavaScript VMs browser  nodejs  using structural sharing via hash maps tries  vector tries  popularized  Clojure  Scala minimizing  need  copy  cache data\n",
            "Múltiplos espaços em branco encontrados em: RDFa Resource Description Framework  Attributes   technique  allows  express structured data  markup languages It provides  set  attributes  augment  visual information   Web  machine readable hints\n",
            "Múltiplos espaços em branco encontrados em: GraphQL   data querying language  describe  complex nested data dependencies  modern web applications It   created  Facebook\n",
            "Múltiplos espaços em branco encontrados em: GWT formerly  Google Web Toolkit   development toolkit  building  optimizing complex browser based applications Its goal   enable productive development  high performance web applications without requiring  developer    expert  browser quirks XMLHttpRequest  JavaScript GWT  used  many products  Google including  new versions  AdWords  Groups It open source  completely free Apache  licensed\n",
            "Múltiplos espaços em branco encontrados em: Sass Syntactically Awesome Style Sheets   extension  CSS adding features like nested rules variables mixins  class extensions This enables developers  write structured manageable  reusable CSS Sass  compiled  standard CSS\n",
            "Múltiplos espaços em branco encontrados em: React Native enables   build mobile apps using JavaScript  React based declarative UI components  get translated  platform native views The focus  React Native   developer efficiency across   platforms  care    learn  write anywhere \n",
            "Múltiplos espaços em branco encontrados em: Java  refers  version  internal number    Java platform released   March \n",
            "Múltiplos espaços em branco encontrados em: TypeScript   typed superset  JavaScript created  Microsoft  adds optional types classes interfaces  modules  compiles  plain JavaScript TypeScript includes advanced features   generic types type inference lambda functions string templates interpolation destructuring   \n",
            "Múltiplos espaços em branco encontrados em: Composer   tool  dependency management  PHP It allows   declare  project dependencies   install     See httpgetcomposerorg\n",
            "Múltiplos espaços em branco encontrados em: AngularJS   open source JavaScript framework Its goal   augment browser based applications  Model–View–WhateverMV capability  reduce  amount  JavaScript needed  make web applications functional These types  apps  also frequently known  Single Page Applications\n",
            "Múltiplos espaços em branco encontrados em: Redux   predictable state container  JavaScript applications based   Flux design pattern\n",
            "Múltiplos espaços em branco encontrados em: You  get Apigee product related answers  support   Apigee Community  httpcommunityapigeecom Apigee   company  produces  sells  API Management Platform Products include  API communications gateway  backend   service App Services  REST accessible JSON store Use  tag  questions  Apigee products  also indicate  Apigee product   API Dashboard  Edge\n",
            "Múltiplos espaços em branco encontrados em: JavaServer Faces JSF   model view presenter framework typically used  create HTML form based web applications Using  standard components  render kit stateful HTML views   defined using Facelets  JSP tags  wired  model data  application logic via backing beans\n",
            "Múltiplos espaços em branco encontrados em: Apache Spark   open source cluster computing system  large scale data analytics computing\n",
            "Múltiplos espaços em branco encontrados em: Julia   high level high performance dynamic programming language  technical computing  syntax   familiar  users   technical computing environments\n",
            "Múltiplos espaços em branco encontrados em: In HTML hardware agnostic events  devices like  mouse pen  touchscreen In CSS  property specifying   particular graphic element  become  target  mouse events\n",
            "Múltiplos espaços em branco encontrados em: Sensu   open source monitoring framework written  ruby\n",
            "Múltiplos espaços em branco encontrados em: Google Chrome   web browser available  mobile TV  desktop platforms Developed  Google  uses  Blink layout engine  application framework  V JavaScript engine \n",
            "Múltiplos espaços em branco encontrados em: Mashery   commercial API management service  deploying documenting  monitoring API services   cloud   premise \n",
            "Múltiplos espaços em branco encontrados em: OAuth Open Authorization   specification  client applications  access protected resources  behalf   user It  developed   alternative  users handing   login credentials  third party applications\n",
            "Múltiplos espaços em branco encontrados em: Mobile Website refers   design  implementation  web content aimed  clients using mobile devices   phones  tablets\n",
            "Múltiplos espaços em branco encontrados em: Go   Continuous Delivery server  automating  build test release cycle It  open source\n",
            "Múltiplos espaços em branco encontrados em: Scratch   graphical drag  drop language developed  MIT\n",
            "Múltiplos espaços em branco encontrados em: HAML   markup language ’ used  cleanly  simply describe  HTML   web document without  use  inline code It   used   standalone HTML generation tool    template rendering engine   web framework   Ruby  Rails  Ramaze\n",
            "Múltiplos espaços em branco encontrados em: Couchbase Server   distributed database engineered  performance scalability availability  flexible query It enables developers  build applications easier  faster  leveraging  power  SQL   flexibility  JSON Couchbase  built  three core principles Simple Fast Elastic\n",
            "Múltiplos espaços em branco encontrados em: Riak   keyvalue data store written  Erlang It implements principles  Amazon Dynamo paper \n",
            "Múltiplos espaços em branco encontrados em: Cloud Foundry   open platform   service providing  choice  clouds developer frameworks  application services It   open source project   available   variety  private cloud distributions  public cloud instances including CloudFoundrycom\n",
            "Múltiplos espaços em branco encontrados em: Storm   distributed realtime computation system Similar   Hadoop provides  set  general primitives   batch processing Storm provides  set  general primitives   realtime computation Storm  simple   used   programming language \n",
            "Múltiplos espaços em branco encontrados em: ALTNET describes  coalescing community  like minded individuals within  larger world   Microsoft NET Framework  felt  growing frustration  Microsoft tooling guidance  NET culture  large   reflect  support  important set  core values One   common topics   ALT NET event  closing gaps  requirements testing  code\n",
            "Múltiplos espaços em branco encontrados em: Wolfram Language   knowledge based multi paradigm programming language In  first approximation  Wolfram Language  Mathematica  WolframAlpha  Cloud   It compatible  Mathematica    significant evolution including knowledge deployment  many new ideas\n",
            "Múltiplos espaços em branco encontrados em: Groovy   object oriented programming language   Java platform It   dynamic language  features similar    Python Ruby Perl  Smalltalk It   used   scripting language   Java platform\n",
            "Múltiplos espaços em branco encontrados em: BIRT Business Intelligence Reporting Tool   open source Eclipse based reporting system  integrates   JavaJava EE application  produce compelling reports\n",
            "Múltiplos espaços em branco encontrados em: Amazon S simple storage service   online storage service  Amazon Web Services \n",
            "Múltiplos espaços em branco encontrados em: Realm   mobile database replacement  SQLite  Core Data It  available  Xamarin Java Objective C React Native  Swift\n",
            "Múltiplos espaços em branco encontrados em: ReactiveCocoa RAC   Objective C framework  Functional Reactive Programming It provides APIs  composing  transforming streams  values\n",
            "Múltiplos espaços em branco encontrados em: Domain Specific Language   programming language intended   particular application domain \n",
            "Múltiplos espaços em branco encontrados em: HO    memory platform  machine learning based  Java  Apache technologies like Hadoop It aims  parallelized processing  provides interfaces  many languages like R  Python It   open source project maintained  xdata\n",
            "Múltiplos espaços em branco encontrados em: Java   general purpose object oriented programming language designed   used  conjunction   Java Virtual Machine JVM Java platform   name   computing system   installed tools  developing  running Java programs Use  tag  questions referring  Java programming language  Java platform tools Note  Java     confused  JavaScript \n",
            "Múltiplos espaços em branco encontrados em: Windows Phone  Microsoft mobile operating system  software development platform Use  tag  questions specific  Version x \n",
            "Múltiplos espaços em branco encontrados em: Spring Boot makes  easy  create Spring powered production grade applications  services  absolute minimum fuss It takes  opinionated view   Spring platform   new  existing users  quickly get   bits  need\n",
            "Múltiplos espaços em branco encontrados em: An open source project  gives system administrators  power  easily automate repetitive tasks quickly deploy applications  proactively manage servers  premises    cloud\n",
            "Múltiplos espaços em branco encontrados em: PostgreSQL   open source object relational database management system ORDBMS available   major platforms including Linux UNIX Windows  OS X Please mention  exact version  Postgres  asking questions Questions concerning administration  advanced features  best directed  dbastackexchangecom\n",
            "Múltiplos espaços em branco encontrados em: Leaflet   open source JavaScript library  displaying interactive maps\n",
            "Múltiplos espaços em branco encontrados em: Gradle   project build automation tool  uses  Groovy DSL Gradle build scripts support Maven  Ivy repositories  well  plain file system  dependency management\n",
            "Múltiplos espaços em branco encontrados em: CoreOS provides  new server operating system  running thousands  servers \n",
            "Múltiplos espaços em branco encontrados em: A Time series   sequence  data points  values measured  successive times either  continuous time   discrete time periods Time series analysis exploits  natural temporal ordering  extract meaning  trends   underlying data\n",
            "Múltiplos espaços em branco encontrados em: Ionic   front end framework  developing native feeling hybrid mobile apps  HTML using Sass  AngularJS By default  runs  top  Cordova though   also choose  use PhoneGap\n",
            "Múltiplos espaços em branco encontrados em: Origami   prototyping tool  designing user interfaces It  developed  Facebook  released  December  Related questions    tool  andor  use  Quartz Composer  visual programming language developed  Apple Inc\n",
            "Múltiplos espaços em branco encontrados em: The Apache Jackrabbit™ content repository   fully conforming implementation   Content Repository  Java Technology API JCR specified  JSR    A content repository   hierarchical content store  support  structured  unstructured content full text search versioning transactions observation  \n",
            "Múltiplos espaços em branco encontrados em: TotallyLazy   functional library  Java  tries    lazy  possible  like Clojure collection library \n",
            "Múltiplos espaços em branco encontrados em: Packer   tool  creating identical machine images  multiple platforms   single source configuration \n",
            "Múltiplos espaços em branco encontrados em: Bootstrap   front end framework designed  kick start development  Web apps  sites For questions related   version  Bootstrap also use  specific version tag  twitter bootstrap  twitter bootstrap   twitter bootstrap  tags\n",
            "Múltiplos espaços em branco encontrados em: Elm   functional programming language  writing web applications   fully replace  interoperate  HTMLCSSJavaScript \n",
            "Múltiplos espaços em branco encontrados em: OpenStack httpopenstackorg   collection  open source projects  enables  open scalable cloud infrastructure The core  OpenStack  meant  provide consistent APIs  interfaces   variety  potential back ends\n",
            "Múltiplos espaços em branco encontrados em: The WCF Web API project allows WCF developers  expose  APIs via HTTP Under ASPNET MVC WCF Web API  become ASPNET Web API\n",
            "Múltiplos espaços em branco encontrados em: AppArmor   Linux Security Module LSM  Linux kernels It implements Mandatory Access Control  confine programs within  limited set  resources\n",
            "Múltiplos espaços em branco encontrados em: RSpec   behavior driven development BDD framework   Ruby programming language inspired  JBehave It contains   fully integrated mocking framework based upon JMock The framework   considered  domain specific language DSL  resembles  natural language specification \n",
            "Múltiplos espaços em branco encontrados em: Linux containers LXC   operating system–level virtualization method  running multiple isolated Linux systems containers   single control host\n",
            "Múltiplos espaços em branco encontrados em: Ruby   multi platform open source dynamic object oriented interpreted language created  Yukihiro Matsumoto Matz  \n",
            "Múltiplos espaços em branco encontrados em: CoreCLR  new NET Core runtime It   execution engine  NET apps performing functions   IL byte code loading compilation  machine code  garbage collection \n",
            "Múltiplos espaços em branco encontrados em: Flight   lightweight component based JavaScript framework  maps behavior  DOM nodes Twitter uses    web applications\n",
            "Múltiplos espaços em branco encontrados em: Knockoutjs   open source JavaScript library  dynamic HTML UIs using  Model View View Model MVVM pattern\n",
            "Múltiplos espaços em branco encontrados em: F   succinct expressive  efficient functional  object oriented language  NET  helps  write simple code  solve complex problems\n",
            "Múltiplos espaços em branco encontrados em: Dropwizard   Java framework  developing ops friendly high performance RESTful web services\n",
            "Múltiplos espaços em branco encontrados em: Splunk   tool  collecting monitoring visualizing  analyzing machine data   source You may receive faster responses  answerssplunkcom   actively monitored  Splunk employees\n",
            "Múltiplos espaços em branco encontrados em: Alice   innovative D programming environment  makes  easy  create  animation  telling  story playing  interactive game   video  share   web\n",
            "Múltiplos espaços em branco encontrados em: paas  short  Platform   service  category  cloud centric services\n",
            "Múltiplos espaços em branco encontrados em: TLA   language  toolchain  specifications based  TLA  Temporal Logic  Actions The TLA Toolbox includes  translator  PlusCal  TLA  TLC model checker   IDE\n",
            "Múltiplos espaços em branco encontrados em: Djs   small open source JavaScript data visualization library  manipulating HTML SVG  CSS documents based  data\n",
            "Múltiplos espaços em branco encontrados em: Packetbeat   Open Source solution  monitoring Distributed Applications Think   like  distributed real time Wireshark   lot  analytics features Packetbeat agents sniff  traffic   application processes parse   fly protocols like HTTP MySQL Postgresql Redis  Thrift  correlate  messages  transactions Tagpacketbeat TWPacketbeat StASSESS\n",
            "Múltiplos espaços em branco encontrados em: Squid   open source HTTP caching proxy server\n",
            "Múltiplos espaços em branco encontrados em: Robolectric   unit test framework  allows  test driven development  Android apps Tests run inside  JVM   workstation \n",
            "Múltiplos espaços em branco encontrados em: HTML Hyper Text Markup Language   standard markup language used  structuring web pages  formatting content HTML describes  structure   website semantically along  cues  presentation making   markup language rather   programming language The  recent revision   HTML specification  HTML\n",
            "Múltiplos espaços em branco encontrados em: Flyway  Boxfuse   open source database migration tool It strongly favors simplicity  convention  configuration It  simple focused  powerful\n",
            "Múltiplos espaços em branco encontrados em: AppCode   IDE  JetBrains  building apps  iOSOSX \n",
            "Múltiplos espaços em branco encontrados em: Vagrant   command line tool  provisioning virtualized environments  top  various providers including VirtualBox VMWare  AWS \n",
            "Múltiplos espaços em branco encontrados em: An open source Platform   Service inspired  Heroku  built  CoreOS  Docker\n",
            "Múltiplos espaços em branco encontrados em: Windows Internet Explorer    web browser developed  Microsoft released   March   Windows XP Windows Server  Windows Vista Windows Server   Windows  \n",
            "Múltiplos espaços em branco encontrados em: Dagger   dependency injection library  Java  Android\n",
            "Múltiplos espaços em branco encontrados em: An automated acceptance testing framework  Android  iOS Calabash enables   write  execute automated acceptance tests  mobile apps Calabash  cross platform supporting Android  iOS native apps\n",
            "Múltiplos espaços em branco encontrados em: Java based data integration framework   used  transformmapmanipulate data  various formats CSVFIXLENXMLXBASECOBOLLOTUS etc   used standalone  embeddedas  library Connects  RDBMSJMSSOAPLDAPSHTTPFTPZIPTAR\n",
            "Múltiplos espaços em branco encontrados em: CoAP   application protocol designed  constrained devices designed  easily translate  HTTP\n",
            "Múltiplos espaços em branco encontrados em: Go   open source programming language initially developed  Google It   statically typed language  syntax loosely derived  C adding automatic memory management type safety  dynamic typing capabilities additional built  types   variable length arrays  key value maps   large standard library Tag go TWGo language StADOPT\n",
            "Múltiplos espaços em branco encontrados em: Atom   XML based news feed format\n",
            "Múltiplos espaços em branco encontrados em: Amazon EC stands  Amazon Elastic Compute Cloud It   part  Amazon Web Services AWS  allows users  rent virtual machine instances   hour You  create instances launch  manage    central interface   web API    console\n",
            "Múltiplos espaços em branco encontrados em: Apache Ant formerly Jakarta Ant   declarative XML based build tool created originally  Java projects It provides  rich set  standard tasks  performing  common build operations   compiling Java source building archives  running tests Ant functionality   extended  custom tasks  macros\n",
            "Múltiplos espaços em branco encontrados em: REST Assured   Java based test library  REST services\n",
            "Múltiplos espaços em branco encontrados em: Highcharts   Javascript charting library  uses HTML SVG  VML The editor offers  open sourcenonprofit  commercial editions   product\n",
            "Múltiplos espaços em branco encontrados em: The Rackspace Cloud   set  cloud computing products  services billed   utility computing basis   US based company Rackspace Offerings include web application hosting  platform   service Cloud Sites Cloud Storage Cloud Files virtual private server Cloud Servers load balancers databases backup  monitoring \n",
            "Múltiplos espaços em branco encontrados em: Apache Mesos   cluster manager  provides efficient resource isolation  sharing across distributed applications  frameworks \n",
            "Múltiplos espaços em branco encontrados em: Carthage   decentralized dependency manager  Cocoa projects\n",
            "Múltiplos espaços em branco encontrados em: psake pronounced sah kay   Japanese rice wine   build automation tool implemented  Windows PowerShell\n",
            "Múltiplos espaços em branco encontrados em: An open source distributed Analytical Engine  eBay  provide SQL interface  multi dimensional analysis OLAP  Hadoop  support TB  PB size analysis\n",
            "Múltiplos espaços em branco encontrados em: Genymotion   relatively fast Android emulator  comes  pre configured Android x  OpenGL hardware acceleration images suitable  application testing The project  evolved   old BuildDroid project  AndroVM  comes   new player design installer  \n",
            "Múltiplos espaços em branco encontrados em: OpenSocial   public specification  defines  component hosting environment container   set  common APIs  web based applications\n",
            "Múltiplos espaços em branco encontrados em: Related   browser sync Nodejs module used  synchronize URLs interactions  code changes across multiple devices \n",
            "Múltiplos espaços em branco encontrados em: Open Source tool  Java  draw UML Diagrams \n",
            "Múltiplos espaços em branco encontrados em: webpack   module bundler webpack takes modules  dependencies  generates static assets representing  modules \n",
            "Múltiplos espaços em branco encontrados em: Amazon Web Services AWS   collection  commercial services centered around virtualized commodity  clustered computing networking database  storage  well  supporting tools   offered  infrastructure   service IaaS\n",
            "Múltiplos espaços em branco encontrados em: jQuery Mobile   touch optimized web framework  smartphones  tablets It provides  unified user interface system across  popular mobile device platforms built  jQuery \n",
            "Múltiplos espaços em branco encontrados em: FIDO Universal nd Factor UF  rapidly growing open authentication standard allows greater user account login security \n",
            "Múltiplos espaços em branco encontrados em: Apache Maven   software project management  comprehension tool This tag   questions  dont relate   specific Maven version Use  gradle tag instead  questions relating  Gradle \n",
            "Múltiplos espaços em branco encontrados em: Haskell   advanced functional programming language featuring strong static typing lazy evaluation extensive parallelism  concurrency support  unique abstraction capabilities\n",
            "Múltiplos espaços em branco encontrados em: React Components  Implement Google Material Design httpmaterial uicom \n",
            "Múltiplos espaços em branco encontrados em: TensorFlow   open source library  machine learning  machine intelligence It  developed  Google  became open source  Nov  \n",
            "Múltiplos espaços em branco encontrados em: Datomic   database  flexible time based facts supporting queries  joins  elastic scalability  ACID transactions \n",
            "Múltiplos espaços em branco encontrados em: Team Foundation Server   complete Application Lifecycle Management ALM suite offered  Microsoft\n",
            "Múltiplos espaços em branco encontrados em: Google Wave   open source real time collaboration web application provided  Google extensible  developers via robots  gadgets\n",
            "Múltiplos espaços em branco encontrados em: indexedDB provides  way  store data   browser using Javascript Unlike relational databases indexedDB uses  key value store   conceptually similar  HTML local storage However indexedDB  better  local storage  storing large amounts  data   querying data  quickly indexedDB  supported  IE Chrome  Firefox although support  specific features varies\n",
            "Múltiplos espaços em branco encontrados em: Jaspersoft Studio   free open source eclipse based report designer  JasperReports  JasperReports Server Create  sophisticated layouts containing charts images subreports crosstabs  much  Access  data  JDBC TableModels JavaBeans XML Hibernate CSV  custom sources Then publish  reports  PDF RTF XML XLS CSV HTML XHTML text DOCX  OpenOffice\n",
            "Múltiplos espaços em branco encontrados em: This refers  tablet personal computers These  mobile computing devices characterised  touchscreen interfaces\n",
            "Múltiplos espaços em branco encontrados em: Visual Studio   integrated development environment IDE  Microsoft Do  use  tag unless    specific question  Visual Studio       coding issue \n",
            "Múltiplos espaços em branco encontrados em: Firefox   free open source  cross platform web browser created  Mozilla \n",
            "Múltiplos espaços em branco encontrados em: Polly   NET       PCL Profile  library  allows developers  express transient exception handling policies   Retry Retry Forever Wait  Retry  Circuit Breaker   fluent manner\n",
            "Múltiplos espaços em branco encontrados em: DigitalOcean   cloud hosting provider  deploying  SSD cloud server\n",
            "Múltiplos espaços em branco encontrados em: CloudStack  open source cloud computing software  creating managing  deploying infrastructure cloud services It uses existing hypervisors   Oracle VM KVM vSphere  XenServer  virtualization In addition    API CloudStack  also implementing  Amazon EC  S APIs  well   vCloud API \n",
            "Múltiplos espaços em branco encontrados em: SpagoBI   Open Source Business Intelligence suite covering analytical areas  Business Intelligence projects like reporting multidimensional analysis OLAP interactive cockpits data mining network analysis \n",
            "Múltiplos espaços em branco encontrados em: Xamarin   software company acquired  Microsoft  February    created   engineers behind Mono XamariniOS formerly called MonoTouch XamarinAndroid formerly called Mono  Android XamarinMac   open source MonoMac  Xamarin Studio   open source MonoDevelop\n",
            "Múltiplos espaços em branco encontrados em: React   JavaScript library  building user interfaces It uses  declarative paradigm  aims    efficient  flexible\n",
            "Múltiplos espaços em branco encontrados em: bootdocker   lightweight Linux distribution based  Tiny Core Linux made specifically  run Docker containers It runs completely  RAM weighs MB  boots   YMMV\n",
            "Múltiplos espaços em branco encontrados em: RubyMotion   commercial system  building native iOS  Android apps using Ruby \n",
            "Múltiplos espaços em branco encontrados em: Hive   data warehouse system  Hadoop  facilitates easy data summarization ad hoc queries   analysis  large datasets stored  Hadoop compatible file systems Hive provides  mechanism  project structure onto  data  query  data using  SQL like language called HiveQL \n",
            "Múltiplos espaços em branco encontrados em: Scala   general purpose programming language principally targeting  Java Virtual Machine Designed  express common programming patterns   concise elegant  type safe way  fuses  imperative  functional programming styles Its key features areadvanced static type system  type inference function types pattern matching implicit parameters  conversions operator overloading full interoperability  Java concurrency \n",
            "Múltiplos espaços em branco encontrados em: Ruby build utility similar  make  build commands defined  pure Ruby\n",
            "Múltiplos espaços em branco encontrados em: Docker provides  high level API  containerize unix processes  applications   degree  isolation  repeatability across servers \n",
            "Múltiplos espaços em branco encontrados em: Python   dynamic  strongly typed programming language designed  emphasize usability Two similar  incompatible versions  Python   widespread use    If    version specific Python question consider using  python   python x tags  addition   python tag \n",
            "Múltiplos espaços em branco encontrados em: iBeacons  Bluetooth Low Energy BLE also known  Bluetooth Smart transmitters  notify nearby receivers    smart phone   presence   purposes  proximity sensing A unique identifier allows   receiver  take specific action   displaying  notification message  configuring   use  smart device    lamp smart switch   sensor \n",
            "Múltiplos espaços em branco encontrados em: NaCl pronounced salt   high speed software library  network communication encryption decryption signatures   Not   confused  google nativeclient\n",
            "Múltiplos espaços em branco encontrados em: Presto   open source distributed SQL query engine  running interactive analytic queries  data sources   sizes ranging  gigabytes  petabytes\n",
            "Múltiplos espaços em branco encontrados em: Vertx   event driven application framework  runs   JVM allowing  development  asynchronous web applications  Java Javascript CoffeeScript Ruby Python Clojure Ceylon  Groovy \n",
            "Múltiplos espaços em branco encontrados em: Jekyll   blog aware static site generator written  Ruby\n",
            "Múltiplos espaços em branco encontrados em: Cordova formerly PhoneGap   open source cross device mobile development platform  allows developers  create mobile applications using standard web technologies like HTML JavaScript  CSS    deployed   device rather  programming   device native language\n",
            "Múltiplos espaços em branco encontrados em: REST Client  Chrome Browser Tagpostman TWPostman StTRIAL\n",
            "Múltiplos espaços em branco encontrados em: The OSGi framework   module system  service platform   Java programming language  implements  complete  dynamic component model Tag osgi TW OSGi St HOLD\n",
            "Múltiplos espaços em branco encontrados em: Apache Pig   platform  analyzing large data sets  consists   high level language  expressing data analysis programs coupled  infrastructure  evaluating  programs The salient property  Pig programs    structure  amenable  substantial parallelization  enables   handle  large data setsTagapache pig TWApache Pig StTRIAL\n",
            "Múltiplos espaços em branco encontrados em: Espresso   library   used  write Android UI tests Known also  Google Testing Tools For Android\n",
            "Múltiplos espaços em branco encontrados em: Less   open source stylesheet preprocessor  extends CSS  dynamic behavior   variables mixins operations  functions It also  unix command  display  file \n",
            "Múltiplos espaços em branco encontrados em: Selenium   popular open source tool  automating web browsers When using  tag also include  tags   specific components   using eg selenium webdriver   language bindings selenium ide selenium grid etc\n",
            "Múltiplos espaços em branco encontrados em: An icon font   font containing glyphs   used  icons   web page  application Use  tag  questions involving fonts used specifically   way including various methods  practices  using glyphs  icons   creating fonts  contain  glyphs \n",
            "Múltiplos espaços em branco encontrados em: An HTTPSPDYProguard client  Android  Java applications\n",
            "Múltiplos espaços em branco encontrados em: Cursive   plug   IntelliJ  writing Clojure  ClojureScript code\n",
            "Múltiplos espaços em branco encontrados em: Sinatra   Domain Specific Language DSL  quickly creating web applications  Ruby  minimal effort It   alternative   Ruby web application frameworks   Ruby  Rails Nitro Camping  Rango\n",
            "Múltiplos espaços em branco encontrados em: GitLab   Open Source Git repository manager  issue tracking  wiki  well  continuous integration features \n",
            "Múltiplos espaços em branco encontrados em: Talend   open source integration vendor  provides software  data integration data quality master data management big data business process management  service oriented architecture \n",
            "Múltiplos espaços em branco encontrados em: MemSQL   high performance distributed relational database  uses  MySQL protocol \n",
            "Múltiplos espaços em branco encontrados em: Clojure   modern Lisp dialect   Java Virtual Machine  versions   CLR  JavaScript More  merely  implementation  Lisp  Java Clojure provides access  Java classes  ecosystem\n",
            "Múltiplos espaços em branco encontrados em: Gremlin   graph traversal language  Apache TinkerPop \n",
            "Múltiplos espaços em branco encontrados em: Dapper   micro ORM  NET developed  used   Stack Overflow team focusing  raw performance   primary aim\n",
            "Múltiplos espaços em branco encontrados em: OpenAM   open source access management entitlements  federation server platform \n",
            "Múltiplos espaços em branco encontrados em: DO NOT use  tag unless   addressing Apple iPhone andor iPod touch specifically For questions  dependent  hardware use  tag iOS Another tag  consider  cocoa touch   cocoa Please refrain  questions regarding  iTunes App Store   iTunes Connect If using C tag  mono \n",
            "Múltiplos espaços em branco encontrados em: An annotation based Android view injection framework aimed  reducing boilerplate \n",
            "Múltiplos espaços em branco encontrados em: Cloud computing   hardware based services involving computing network  storage capacities These services  provided  demand hosted   cloud provider   easily scale   \n",
            "Múltiplos espaços em branco encontrados em: PowerShell   component  Microsoft Windows   command line shell   scripting environment Many Windows components  Microsoft products expose management interfaces  PowerShell making  particularly suited  system administration  automation tasks It   modern day successor  VBScript  batch files\n",
            "Múltiplos espaços em branco encontrados em: A version   C  VB compilers   written  managed code \n",
            "Múltiplos espaços em branco encontrados em: Serverspec provides ruby RSpec tests  checking  servers  configured correctly It tests  servers actual state  executing commands locally via SSH WinRM  Docker API \n",
            "Múltiplos espaços em branco encontrados em: An enterprise service bus ESB   software architecture construct  provides fundamental services  complex architectures via  event driven  standards based messaging engine  bus Developers typically implement  ESB using technologies found   category  middleware infrastructure products usually based  recognized standards \n",
            "Múltiplos espaços em branco encontrados em: npm   official package manager  Nodejs  non blocking asynchronous IO framework  uses Google V JavaScript engine It   used  install  publish CommonJS modules jQuery plugins reusable javascript code libraries  JavaScript based CLI programs\n",
            "Múltiplos espaços em branco encontrados em: Cylonjs   JavaScript framework  robotics physical computing   Internet  Things It makes  incredibly easy  command robots  devices\n",
            "Múltiplos espaços em branco encontrados em: ASPNET Web API   framework  building HTTP services  clients like browsers  mobile devices It  based   Microsoft NET Framework  ideal choice  building RESTful services\n",
            "Múltiplos espaços em branco encontrados em: Consul   tool  discovering  configuring services   infrastructure\n",
            "Múltiplos espaços em branco encontrados em: Facebook Platform lets developers integrate  apps directly   Facebook social networking service Use  tag  questions  may arise  developing FOR Facebook This tag  NOT  support questions  using  Facebook website   official Facebook app It  also NOT  questions    I want  implement  feature similar   Facebook   variety \n",
            "Múltiplos espaços em branco encontrados em: Zeptojs   minimalist JavaScript framework  modern browsers   jQuery compatible syntax\n",
            "Múltiplos espaços em branco encontrados em: Gulp   JavaScript build system nodejs based task runner like Grunt Gulp uses streams  code  configuration   simpler   intuitive build process \n",
            "Múltiplos espaços em branco encontrados em: NEventStore aka JOliver EventStore  disambiguate   geteventstorecom  launched later   persistence library used  abstract different storage implementations  using event sourcing   storage mechanism Event sourcing   closely associated   concept known  CQRS \n",
            "Múltiplos espaços em branco encontrados em: ECMAScript   name   Ecma International Standard  It  based   scripting language JavaScript   delivered  Netscape  Ecma  standardization The th Edition   update   rd edition specification   cancellation   th edition It adds new features including strict mode getters  setters  JSON object  new methods  Object Array Date  Function prototypes \n",
            "Múltiplos espaços em branco encontrados em: Grunt   task based command line build tool  task runner  JavaScript projects \n",
            "Múltiplos espaços em branco encontrados em: LambdaJ   library  manipulate  collections without  iterations\n",
            "Múltiplos espaços em branco encontrados em: Rancher   open source project  provides  complete platform  operating Docker  production \n",
            "Múltiplos espaços em branco encontrados em: A clojureclojurescript library  asynchronous programming \n",
            "Múltiplos espaços em branco encontrados em: Puppet   ruby based Configuration Management system incorporating  model driven DSL Its purpose   provide configuration file enforcement service state monitoring package installation   server side management \n",
            "Múltiplos espaços em branco encontrados em: ESP   highly integrated chip designed   needs   increasingly connected world It offers  complete  self contained Wi Fi networking solution allowing   either host applications  offload  Wi Fi networking functions  another application processor The  important aspect   price   chip \n",
            "Múltiplos espaços em branco encontrados em: R   free open source programming language  software environment  statistical computing bioinformatics  graphics Please supplement  question   minimal reproducible example For statistical questions please use httpstatsstackexchangecom\n",
            "Múltiplos espaços em branco encontrados em: JavaScript    confused  Java   dynamic weakly typed language used  client side  well  server side scripting Use  tag  questions regarding ECMAScript   various dialectsimplementations excluding ActionScript  Google Apps Script Unless another tag   frameworklibrary  also included  pure JavaScript answer  expected \n",
            "Múltiplos espaços em branco encontrados em: The Pentaho BI Suite   open source Business Intelligence suite  integrated reporting dashboard data mining workflow  ETL capabilities It  primarily written  Java\n",
            "Múltiplos espaços em branco encontrados em: Functional Java    open source library  learn  implement functional programming concepts  Java \n",
            "Múltiplos espaços em branco encontrados em: Dart   class based optionally typed programming language  building web  command line applications Dart compiles  modern JavaScript  run   client  runs natively   Dart VM  server side apps \n",
            "Múltiplos espaços em branco encontrados em: Git   open source distributed version control system DVCS \n",
            "Múltiplos espaços em branco encontrados em: MongoDB   scalable high performance open source document oriented NOSQL database It supports  large number  languages  application development platforms Questions  server administration   asked  httpdbastackexchangecom\n",
            "Múltiplos espaços em branco encontrados em: A rich Internet application RIA   Web application   many   characteristics  desktop application software typically delivered  way   site specific browser  browser plug   independent sandbox extensive use  JavaScript   virtual machine\n",
            "Múltiplos espaços em branco encontrados em: Chef   open source systems integration framework  Chef formerly Opscode  allows   describe  configuration  systems  infrastructure  code It brings  benefits  configuration management   entire infrastructure \n",
            "Múltiplos espaços em branco encontrados em: AppHarbor   cloud application platform  NET Applications   deployed  AppHarbor using Git Mercurial Subversion  TFS A large number  services relational   sql databases email error logging  offered  add ons \n",
            "Múltiplos espaços em branco encontrados em: JRuby   open source Java implementation   Ruby programming language It  Ruby   JVM Using idiomatic Ruby syntax JRuby  consume Java classes  libraries  ease\n",
            "Múltiplos espaços em branco encontrados em: Rust   systems programming language focused  three goalssafety speed  concurrency It maintains  goals without needing  garbage collector making   useful language   number  use cases  languages arent good atembedding   languages programs  specific space  time requirements  writing low level code like device drivers  operating systems \n",
            "Múltiplos espaços em branco encontrados em: Docker provides  high level API  containerize unix processes  applications   degree  isolation  repeatability across servers \n",
            "Múltiplos espaços em branco encontrados em: Axon   Java application framework  implementing software using  CQRS principles \n",
            "Múltiplos espaços em branco encontrados em: HTML Hyper Text Markup Language version    umbrella term  recent web technologies It  also  latest iteration  HTML It became  WC Recommendation  October  introducing new elements  APIs  \n",
            "Múltiplos espaços em branco encontrados em: C  introduced features like dynamic objects COM interoperability improvements generic co   contra variance optional  named parameters \n",
            "Múltiplos espaços em branco encontrados em: Nancy   lightweight web framework   Net platform inspired  Sinatra Nancy aims  deliver  low ceremony approach  building light fast web applications\n"
          ]
        }
      ]
    },
    {
      "cell_type": "code",
      "source": [
        "# Remove os espaços consecutivos\n",
        "stack_df['excerpt'] = stack_df['excerpt'].apply(lambda x: re.sub(r'\\s{2,}', ' ', x))"
      ],
      "metadata": {
        "id": "rh032nUFEIwD"
      },
      "execution_count": 23,
      "outputs": []
    },
    {
      "cell_type": "code",
      "source": [
        "check_multiple_whitespaces(stack_df, 'excerpt')"
      ],
      "metadata": {
        "id": "yIY205HMEjSC"
      },
      "execution_count": 24,
      "outputs": []
    },
    {
      "cell_type": "markdown",
      "source": [
        "##Padronizar os textos em letras minúsculas"
      ],
      "metadata": {
        "id": "o1KeGv2cHjks"
      }
    },
    {
      "cell_type": "code",
      "source": [
        "stack_df['excerpt'] = stack_df['excerpt'].str.lower()"
      ],
      "metadata": {
        "id": "pfuHemI4IS9h"
      },
      "execution_count": 25,
      "outputs": []
    },
    {
      "cell_type": "code",
      "source": [
        "stack_df"
      ],
      "metadata": {
        "colab": {
          "base_uri": "https://localhost:8080/",
          "height": 424
        },
        "id": "F-pJYI_wSz8Y",
        "outputId": "94ef5fd8-37fa-439f-c876-3cf1f1ea60e5"
      },
      "execution_count": 26,
      "outputs": [
        {
          "output_type": "execute_result",
          "data": {
            "text/plain": [
              "                                               excerpt classification\n",
              "0                      software defined networking sdn              1\n",
              "1    spdy experimental protocol multiplexing multip...              1\n",
              "2    aspnet signalr library aspnet developers makes...              0\n",
              "3    apache kafka publish subscribe messaging frame...              2\n",
              "4    kubernetes open source implementation containe...              1\n",
              "..                                                 ...            ...\n",
              "262  docker provides high level api containerize un...              2\n",
              "263  axon java application framework implementing s...              0\n",
              "264  html hyper text markup language version umbrel...              0\n",
              "265  c introduced features like dynamic objects com...              0\n",
              "266  nancy lightweight web framework net platform i...              0\n",
              "\n",
              "[267 rows x 2 columns]"
            ],
            "text/html": [
              "\n",
              "  <div id=\"df-b29154ec-1e0e-431d-8d39-a3d79d643981\">\n",
              "    <div class=\"colab-df-container\">\n",
              "      <div>\n",
              "<style scoped>\n",
              "    .dataframe tbody tr th:only-of-type {\n",
              "        vertical-align: middle;\n",
              "    }\n",
              "\n",
              "    .dataframe tbody tr th {\n",
              "        vertical-align: top;\n",
              "    }\n",
              "\n",
              "    .dataframe thead th {\n",
              "        text-align: right;\n",
              "    }\n",
              "</style>\n",
              "<table border=\"1\" class=\"dataframe\">\n",
              "  <thead>\n",
              "    <tr style=\"text-align: right;\">\n",
              "      <th></th>\n",
              "      <th>excerpt</th>\n",
              "      <th>classification</th>\n",
              "    </tr>\n",
              "  </thead>\n",
              "  <tbody>\n",
              "    <tr>\n",
              "      <th>0</th>\n",
              "      <td>software defined networking sdn</td>\n",
              "      <td>1</td>\n",
              "    </tr>\n",
              "    <tr>\n",
              "      <th>1</th>\n",
              "      <td>spdy experimental protocol multiplexing multip...</td>\n",
              "      <td>1</td>\n",
              "    </tr>\n",
              "    <tr>\n",
              "      <th>2</th>\n",
              "      <td>aspnet signalr library aspnet developers makes...</td>\n",
              "      <td>0</td>\n",
              "    </tr>\n",
              "    <tr>\n",
              "      <th>3</th>\n",
              "      <td>apache kafka publish subscribe messaging frame...</td>\n",
              "      <td>2</td>\n",
              "    </tr>\n",
              "    <tr>\n",
              "      <th>4</th>\n",
              "      <td>kubernetes open source implementation containe...</td>\n",
              "      <td>1</td>\n",
              "    </tr>\n",
              "    <tr>\n",
              "      <th>...</th>\n",
              "      <td>...</td>\n",
              "      <td>...</td>\n",
              "    </tr>\n",
              "    <tr>\n",
              "      <th>262</th>\n",
              "      <td>docker provides high level api containerize un...</td>\n",
              "      <td>2</td>\n",
              "    </tr>\n",
              "    <tr>\n",
              "      <th>263</th>\n",
              "      <td>axon java application framework implementing s...</td>\n",
              "      <td>0</td>\n",
              "    </tr>\n",
              "    <tr>\n",
              "      <th>264</th>\n",
              "      <td>html hyper text markup language version umbrel...</td>\n",
              "      <td>0</td>\n",
              "    </tr>\n",
              "    <tr>\n",
              "      <th>265</th>\n",
              "      <td>c introduced features like dynamic objects com...</td>\n",
              "      <td>0</td>\n",
              "    </tr>\n",
              "    <tr>\n",
              "      <th>266</th>\n",
              "      <td>nancy lightweight web framework net platform i...</td>\n",
              "      <td>0</td>\n",
              "    </tr>\n",
              "  </tbody>\n",
              "</table>\n",
              "<p>267 rows × 2 columns</p>\n",
              "</div>\n",
              "      <button class=\"colab-df-convert\" onclick=\"convertToInteractive('df-b29154ec-1e0e-431d-8d39-a3d79d643981')\"\n",
              "              title=\"Convert this dataframe to an interactive table.\"\n",
              "              style=\"display:none;\">\n",
              "        \n",
              "  <svg xmlns=\"http://www.w3.org/2000/svg\" height=\"24px\"viewBox=\"0 0 24 24\"\n",
              "       width=\"24px\">\n",
              "    <path d=\"M0 0h24v24H0V0z\" fill=\"none\"/>\n",
              "    <path d=\"M18.56 5.44l.94 2.06.94-2.06 2.06-.94-2.06-.94-.94-2.06-.94 2.06-2.06.94zm-11 1L8.5 8.5l.94-2.06 2.06-.94-2.06-.94L8.5 2.5l-.94 2.06-2.06.94zm10 10l.94 2.06.94-2.06 2.06-.94-2.06-.94-.94-2.06-.94 2.06-2.06.94z\"/><path d=\"M17.41 7.96l-1.37-1.37c-.4-.4-.92-.59-1.43-.59-.52 0-1.04.2-1.43.59L10.3 9.45l-7.72 7.72c-.78.78-.78 2.05 0 2.83L4 21.41c.39.39.9.59 1.41.59.51 0 1.02-.2 1.41-.59l7.78-7.78 2.81-2.81c.8-.78.8-2.07 0-2.86zM5.41 20L4 18.59l7.72-7.72 1.47 1.35L5.41 20z\"/>\n",
              "  </svg>\n",
              "      </button>\n",
              "      \n",
              "  <style>\n",
              "    .colab-df-container {\n",
              "      display:flex;\n",
              "      flex-wrap:wrap;\n",
              "      gap: 12px;\n",
              "    }\n",
              "\n",
              "    .colab-df-convert {\n",
              "      background-color: #E8F0FE;\n",
              "      border: none;\n",
              "      border-radius: 50%;\n",
              "      cursor: pointer;\n",
              "      display: none;\n",
              "      fill: #1967D2;\n",
              "      height: 32px;\n",
              "      padding: 0 0 0 0;\n",
              "      width: 32px;\n",
              "    }\n",
              "\n",
              "    .colab-df-convert:hover {\n",
              "      background-color: #E2EBFA;\n",
              "      box-shadow: 0px 1px 2px rgba(60, 64, 67, 0.3), 0px 1px 3px 1px rgba(60, 64, 67, 0.15);\n",
              "      fill: #174EA6;\n",
              "    }\n",
              "\n",
              "    [theme=dark] .colab-df-convert {\n",
              "      background-color: #3B4455;\n",
              "      fill: #D2E3FC;\n",
              "    }\n",
              "\n",
              "    [theme=dark] .colab-df-convert:hover {\n",
              "      background-color: #434B5C;\n",
              "      box-shadow: 0px 1px 3px 1px rgba(0, 0, 0, 0.15);\n",
              "      filter: drop-shadow(0px 1px 2px rgba(0, 0, 0, 0.3));\n",
              "      fill: #FFFFFF;\n",
              "    }\n",
              "  </style>\n",
              "\n",
              "      <script>\n",
              "        const buttonEl =\n",
              "          document.querySelector('#df-b29154ec-1e0e-431d-8d39-a3d79d643981 button.colab-df-convert');\n",
              "        buttonEl.style.display =\n",
              "          google.colab.kernel.accessAllowed ? 'block' : 'none';\n",
              "\n",
              "        async function convertToInteractive(key) {\n",
              "          const element = document.querySelector('#df-b29154ec-1e0e-431d-8d39-a3d79d643981');\n",
              "          const dataTable =\n",
              "            await google.colab.kernel.invokeFunction('convertToInteractive',\n",
              "                                                     [key], {});\n",
              "          if (!dataTable) return;\n",
              "\n",
              "          const docLinkHtml = 'Like what you see? Visit the ' +\n",
              "            '<a target=\"_blank\" href=https://colab.research.google.com/notebooks/data_table.ipynb>data table notebook</a>'\n",
              "            + ' to learn more about interactive tables.';\n",
              "          element.innerHTML = '';\n",
              "          dataTable['output_type'] = 'display_data';\n",
              "          await google.colab.output.renderOutput(dataTable, element);\n",
              "          const docLink = document.createElement('div');\n",
              "          docLink.innerHTML = docLinkHtml;\n",
              "          element.appendChild(docLink);\n",
              "        }\n",
              "      </script>\n",
              "    </div>\n",
              "  </div>\n",
              "  "
            ]
          },
          "metadata": {},
          "execution_count": 26
        }
      ]
    },
    {
      "cell_type": "markdown",
      "source": [
        "##Lematização"
      ],
      "metadata": {
        "id": "bF8gITyEUqrL"
      }
    },
    {
      "cell_type": "code",
      "source": [
        "wnl = WordNetLemmatizer()\n",
        "nlp = spacy.load(\"en_core_web_sm\")"
      ],
      "metadata": {
        "id": "UnMM-CrEYQZR"
      },
      "execution_count": 27,
      "outputs": []
    },
    {
      "cell_type": "code",
      "source": [
        "stack_df['excerpt'] = stack_df['excerpt'].apply(lambda x: \" \".join([w.lemma_ for w in nlp(x) if w.lemma_ not in stop_words]))"
      ],
      "metadata": {
        "id": "_wfu-RZnVik-"
      },
      "execution_count": 28,
      "outputs": []
    },
    {
      "cell_type": "code",
      "source": [
        "stack_df"
      ],
      "metadata": {
        "colab": {
          "base_uri": "https://localhost:8080/",
          "height": 424
        },
        "id": "hBCvUSK4YufQ",
        "outputId": "6306a658-9b05-477d-f112-7b877c3bece5"
      },
      "execution_count": 29,
      "outputs": [
        {
          "output_type": "execute_result",
          "data": {
            "text/plain": [
              "                                               excerpt classification\n",
              "0                       software define networking sdn              1\n",
              "1    spdy experimental protocol multiplexe multiple...              1\n",
              "2    aspnet signalr library aspnet developer make i...              0\n",
              "3    apache kafka publish subscribe message framewo...              2\n",
              "4    kubernete open source implementation container...              1\n",
              "..                                                 ...            ...\n",
              "262  docker provide high level api containerize uni...              2\n",
              "263  axon java application framework implement soft...              0\n",
              "264  html hyper text markup language version umbrel...              0\n",
              "265  c introduce feature like dynamic object com in...              0\n",
              "266  nancy lightweight web framework net platform i...              0\n",
              "\n",
              "[267 rows x 2 columns]"
            ],
            "text/html": [
              "\n",
              "  <div id=\"df-8f0bc04e-a68d-496b-9cc8-4946ed82e54c\">\n",
              "    <div class=\"colab-df-container\">\n",
              "      <div>\n",
              "<style scoped>\n",
              "    .dataframe tbody tr th:only-of-type {\n",
              "        vertical-align: middle;\n",
              "    }\n",
              "\n",
              "    .dataframe tbody tr th {\n",
              "        vertical-align: top;\n",
              "    }\n",
              "\n",
              "    .dataframe thead th {\n",
              "        text-align: right;\n",
              "    }\n",
              "</style>\n",
              "<table border=\"1\" class=\"dataframe\">\n",
              "  <thead>\n",
              "    <tr style=\"text-align: right;\">\n",
              "      <th></th>\n",
              "      <th>excerpt</th>\n",
              "      <th>classification</th>\n",
              "    </tr>\n",
              "  </thead>\n",
              "  <tbody>\n",
              "    <tr>\n",
              "      <th>0</th>\n",
              "      <td>software define networking sdn</td>\n",
              "      <td>1</td>\n",
              "    </tr>\n",
              "    <tr>\n",
              "      <th>1</th>\n",
              "      <td>spdy experimental protocol multiplexe multiple...</td>\n",
              "      <td>1</td>\n",
              "    </tr>\n",
              "    <tr>\n",
              "      <th>2</th>\n",
              "      <td>aspnet signalr library aspnet developer make i...</td>\n",
              "      <td>0</td>\n",
              "    </tr>\n",
              "    <tr>\n",
              "      <th>3</th>\n",
              "      <td>apache kafka publish subscribe message framewo...</td>\n",
              "      <td>2</td>\n",
              "    </tr>\n",
              "    <tr>\n",
              "      <th>4</th>\n",
              "      <td>kubernete open source implementation container...</td>\n",
              "      <td>1</td>\n",
              "    </tr>\n",
              "    <tr>\n",
              "      <th>...</th>\n",
              "      <td>...</td>\n",
              "      <td>...</td>\n",
              "    </tr>\n",
              "    <tr>\n",
              "      <th>262</th>\n",
              "      <td>docker provide high level api containerize uni...</td>\n",
              "      <td>2</td>\n",
              "    </tr>\n",
              "    <tr>\n",
              "      <th>263</th>\n",
              "      <td>axon java application framework implement soft...</td>\n",
              "      <td>0</td>\n",
              "    </tr>\n",
              "    <tr>\n",
              "      <th>264</th>\n",
              "      <td>html hyper text markup language version umbrel...</td>\n",
              "      <td>0</td>\n",
              "    </tr>\n",
              "    <tr>\n",
              "      <th>265</th>\n",
              "      <td>c introduce feature like dynamic object com in...</td>\n",
              "      <td>0</td>\n",
              "    </tr>\n",
              "    <tr>\n",
              "      <th>266</th>\n",
              "      <td>nancy lightweight web framework net platform i...</td>\n",
              "      <td>0</td>\n",
              "    </tr>\n",
              "  </tbody>\n",
              "</table>\n",
              "<p>267 rows × 2 columns</p>\n",
              "</div>\n",
              "      <button class=\"colab-df-convert\" onclick=\"convertToInteractive('df-8f0bc04e-a68d-496b-9cc8-4946ed82e54c')\"\n",
              "              title=\"Convert this dataframe to an interactive table.\"\n",
              "              style=\"display:none;\">\n",
              "        \n",
              "  <svg xmlns=\"http://www.w3.org/2000/svg\" height=\"24px\"viewBox=\"0 0 24 24\"\n",
              "       width=\"24px\">\n",
              "    <path d=\"M0 0h24v24H0V0z\" fill=\"none\"/>\n",
              "    <path d=\"M18.56 5.44l.94 2.06.94-2.06 2.06-.94-2.06-.94-.94-2.06-.94 2.06-2.06.94zm-11 1L8.5 8.5l.94-2.06 2.06-.94-2.06-.94L8.5 2.5l-.94 2.06-2.06.94zm10 10l.94 2.06.94-2.06 2.06-.94-2.06-.94-.94-2.06-.94 2.06-2.06.94z\"/><path d=\"M17.41 7.96l-1.37-1.37c-.4-.4-.92-.59-1.43-.59-.52 0-1.04.2-1.43.59L10.3 9.45l-7.72 7.72c-.78.78-.78 2.05 0 2.83L4 21.41c.39.39.9.59 1.41.59.51 0 1.02-.2 1.41-.59l7.78-7.78 2.81-2.81c.8-.78.8-2.07 0-2.86zM5.41 20L4 18.59l7.72-7.72 1.47 1.35L5.41 20z\"/>\n",
              "  </svg>\n",
              "      </button>\n",
              "      \n",
              "  <style>\n",
              "    .colab-df-container {\n",
              "      display:flex;\n",
              "      flex-wrap:wrap;\n",
              "      gap: 12px;\n",
              "    }\n",
              "\n",
              "    .colab-df-convert {\n",
              "      background-color: #E8F0FE;\n",
              "      border: none;\n",
              "      border-radius: 50%;\n",
              "      cursor: pointer;\n",
              "      display: none;\n",
              "      fill: #1967D2;\n",
              "      height: 32px;\n",
              "      padding: 0 0 0 0;\n",
              "      width: 32px;\n",
              "    }\n",
              "\n",
              "    .colab-df-convert:hover {\n",
              "      background-color: #E2EBFA;\n",
              "      box-shadow: 0px 1px 2px rgba(60, 64, 67, 0.3), 0px 1px 3px 1px rgba(60, 64, 67, 0.15);\n",
              "      fill: #174EA6;\n",
              "    }\n",
              "\n",
              "    [theme=dark] .colab-df-convert {\n",
              "      background-color: #3B4455;\n",
              "      fill: #D2E3FC;\n",
              "    }\n",
              "\n",
              "    [theme=dark] .colab-df-convert:hover {\n",
              "      background-color: #434B5C;\n",
              "      box-shadow: 0px 1px 3px 1px rgba(0, 0, 0, 0.15);\n",
              "      filter: drop-shadow(0px 1px 2px rgba(0, 0, 0, 0.3));\n",
              "      fill: #FFFFFF;\n",
              "    }\n",
              "  </style>\n",
              "\n",
              "      <script>\n",
              "        const buttonEl =\n",
              "          document.querySelector('#df-8f0bc04e-a68d-496b-9cc8-4946ed82e54c button.colab-df-convert');\n",
              "        buttonEl.style.display =\n",
              "          google.colab.kernel.accessAllowed ? 'block' : 'none';\n",
              "\n",
              "        async function convertToInteractive(key) {\n",
              "          const element = document.querySelector('#df-8f0bc04e-a68d-496b-9cc8-4946ed82e54c');\n",
              "          const dataTable =\n",
              "            await google.colab.kernel.invokeFunction('convertToInteractive',\n",
              "                                                     [key], {});\n",
              "          if (!dataTable) return;\n",
              "\n",
              "          const docLinkHtml = 'Like what you see? Visit the ' +\n",
              "            '<a target=\"_blank\" href=https://colab.research.google.com/notebooks/data_table.ipynb>data table notebook</a>'\n",
              "            + ' to learn more about interactive tables.';\n",
              "          element.innerHTML = '';\n",
              "          dataTable['output_type'] = 'display_data';\n",
              "          await google.colab.output.renderOutput(dataTable, element);\n",
              "          const docLink = document.createElement('div');\n",
              "          docLink.innerHTML = docLinkHtml;\n",
              "          element.appendChild(docLink);\n",
              "        }\n",
              "      </script>\n",
              "    </div>\n",
              "  </div>\n",
              "  "
            ]
          },
          "metadata": {},
          "execution_count": 29
        }
      ]
    },
    {
      "cell_type": "markdown",
      "source": [
        "##Classificação do dataset"
      ],
      "metadata": {
        "id": "Tdgc824xkGAq"
      }
    },
    {
      "cell_type": "markdown",
      "source": [
        "###Aplicação dos rótulos"
      ],
      "metadata": {
        "id": "spjX44IUZBXt"
      }
    },
    {
      "cell_type": "code",
      "source": [
        "stack_df.loc[3]['excerpt']"
      ],
      "metadata": {
        "colab": {
          "base_uri": "https://localhost:8080/",
          "height": 35
        },
        "id": "3hxQ_OASrbFT",
        "outputId": "58b614e2-3986-4d75-8b34-722d1d61719f"
      },
      "execution_count": 30,
      "outputs": [
        {
          "output_type": "execute_result",
          "data": {
            "text/plain": [
              "'apache kafka publish subscribe message framework java design distribute high throughput system'"
            ],
            "application/vnd.google.colaboratory.intrinsic+json": {
              "type": "string"
            }
          },
          "metadata": {},
          "execution_count": 30
        }
      ]
    },
    {
      "cell_type": "code",
      "source": [
        "stack_df.loc[3]['classification']"
      ],
      "metadata": {
        "colab": {
          "base_uri": "https://localhost:8080/"
        },
        "id": "OjC_EwKmreQo",
        "outputId": "21554be2-f501-48cc-b1e1-e0f7b01a3937"
      },
      "execution_count": 31,
      "outputs": [
        {
          "output_type": "execute_result",
          "data": {
            "text/plain": [
              "2"
            ]
          },
          "metadata": {},
          "execution_count": 31
        }
      ]
    },
    {
      "cell_type": "code",
      "source": [
        "# Primeiro entender o assunto tratado em cada texto e classificá-los de acordo com os rótulos\n",
        "stack_df.loc[16]['excerpt']"
      ],
      "metadata": {
        "colab": {
          "base_uri": "https://localhost:8080/",
          "height": 35
        },
        "id": "_Q2p0jMDkPJ_",
        "outputId": "e6e73117-4cf2-4ac2-d19d-222b36e8120e"
      },
      "execution_count": 32,
      "outputs": [
        {
          "output_type": "execute_result",
          "data": {
            "text/plain": [
              "'swift application system programming language develop apple distribute open source use tag question specific swift language feature require code language'"
            ],
            "application/vnd.google.colaboratory.intrinsic+json": {
              "type": "string"
            }
          },
          "metadata": {},
          "execution_count": 32
        }
      ]
    },
    {
      "cell_type": "code",
      "source": [
        "stack_df.loc[16]['classification']"
      ],
      "metadata": {
        "colab": {
          "base_uri": "https://localhost:8080/"
        },
        "id": "SyH9KEeQk6yV",
        "outputId": "28d0ef6d-b4c4-466e-f752-b0e885b21168"
      },
      "execution_count": 33,
      "outputs": [
        {
          "output_type": "execute_result",
          "data": {
            "text/plain": [
              "0"
            ]
          },
          "metadata": {},
          "execution_count": 33
        }
      ]
    },
    {
      "cell_type": "code",
      "source": [
        "stack_df.loc[263]['excerpt']"
      ],
      "metadata": {
        "colab": {
          "base_uri": "https://localhost:8080/",
          "height": 35
        },
        "id": "7acEV0JVkveM",
        "outputId": "3a57d498-2a68-400d-a207-7add486298a5"
      },
      "execution_count": 34,
      "outputs": [
        {
          "output_type": "execute_result",
          "data": {
            "text/plain": [
              "'axon java application framework implement software use cqrs principle'"
            ],
            "application/vnd.google.colaboratory.intrinsic+json": {
              "type": "string"
            }
          },
          "metadata": {},
          "execution_count": 34
        }
      ]
    },
    {
      "cell_type": "code",
      "source": [
        "stack_df.loc[263]['classification']"
      ],
      "metadata": {
        "colab": {
          "base_uri": "https://localhost:8080/"
        },
        "id": "adt56R6UlbL8",
        "outputId": "4da69d4c-3f36-4e67-8ffb-8d4637f7bcff"
      },
      "execution_count": 35,
      "outputs": [
        {
          "output_type": "execute_result",
          "data": {
            "text/plain": [
              "0"
            ]
          },
          "metadata": {},
          "execution_count": 35
        }
      ]
    },
    {
      "cell_type": "code",
      "source": [
        "stack_df.loc[157]['excerpt']"
      ],
      "metadata": {
        "colab": {
          "base_uri": "https://localhost:8080/",
          "height": 35
        },
        "id": "W_yoejVokx7R",
        "outputId": "1e7b6615-32b3-43e3-b96e-e29d6131ac36"
      },
      "execution_count": 36,
      "outputs": [
        {
          "output_type": "execute_result",
          "data": {
            "text/plain": [
              "'java base datum integration framework use transformmapmanipulate datum various format csvfixlenxmlxbasecobollotus etc use standalone embeddedas library connect rdbmsjmssoapldapshttpftpziptar'"
            ],
            "application/vnd.google.colaboratory.intrinsic+json": {
              "type": "string"
            }
          },
          "metadata": {},
          "execution_count": 36
        }
      ]
    },
    {
      "cell_type": "code",
      "source": [
        "stack_df.loc[157]['classification']"
      ],
      "metadata": {
        "colab": {
          "base_uri": "https://localhost:8080/"
        },
        "id": "X791C15Hlgr2",
        "outputId": "3f555273-3062-486f-c1ff-fd5453ffb0bf"
      },
      "execution_count": 37,
      "outputs": [
        {
          "output_type": "execute_result",
          "data": {
            "text/plain": [
              "2"
            ]
          },
          "metadata": {},
          "execution_count": 37
        }
      ]
    },
    {
      "cell_type": "code",
      "source": [
        "stack_df.loc[200]['excerpt']"
      ],
      "metadata": {
        "colab": {
          "base_uri": "https://localhost:8080/",
          "height": 53
        },
        "id": "wqDGGrqZkxpl",
        "outputId": "d33ecd8d-3a6f-4804-b416-a7bfa22bc199"
      },
      "execution_count": 38,
      "outputs": [
        {
          "output_type": "execute_result",
          "data": {
            "text/plain": [
              "'hive data warehouse system hadoop facilitate easy datum summarization ad hoc query analysis large dataset store hadoop compatible file system hive provide mechanism project structure onto datum query datum use sql like language call hiveql'"
            ],
            "application/vnd.google.colaboratory.intrinsic+json": {
              "type": "string"
            }
          },
          "metadata": {},
          "execution_count": 38
        }
      ]
    },
    {
      "cell_type": "markdown",
      "source": [
        "###Divisão do conjunto em treino e teste"
      ],
      "metadata": {
        "id": "nEJjQGOMZGH4"
      }
    },
    {
      "cell_type": "code",
      "source": [
        "X_train, X_test, y_train, y_test = train_test_split(stack_df['excerpt'], \n",
        "                                                    stack_df['classification'], \n",
        "                                                    test_size=0.7, \n",
        "                                                    random_state=1)"
      ],
      "metadata": {
        "id": "hE4A0ZhtZWl-"
      },
      "execution_count": 39,
      "outputs": []
    }
  ]
}